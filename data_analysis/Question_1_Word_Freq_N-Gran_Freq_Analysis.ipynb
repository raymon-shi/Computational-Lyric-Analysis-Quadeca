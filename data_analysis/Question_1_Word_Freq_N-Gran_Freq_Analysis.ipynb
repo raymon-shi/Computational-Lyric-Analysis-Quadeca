{
 "cells": [
  {
   "cell_type": "markdown",
   "metadata": {},
   "source": [
    "# Question 1: Did Quadeca's Musical Themes and Musical Style Change From the Period Before Insecure Compared to the Period After Insecure?"
   ]
  },
  {
   "cell_type": "markdown",
   "metadata": {},
   "source": [
    "## Setup"
   ]
  },
  {
   "cell_type": "code",
   "execution_count": 1,
   "metadata": {},
   "outputs": [],
   "source": [
    "from collections import Counter\n",
    "import nltk\n",
    "from nltk.corpus import stopwords"
   ]
  },
  {
   "cell_type": "code",
   "execution_count": 2,
   "metadata": {},
   "outputs": [],
   "source": [
    "# other notebooks to be ran\n",
    "%run /Commjhub/jupyterhub/comm318_fall2019/raymon-shi/comm313_S21/comm313_S21_Final_Project/data/functions.ipynb"
   ]
  },
  {
   "cell_type": "code",
   "execution_count": 3,
   "metadata": {},
   "outputs": [],
   "source": [
    "# imported important variables\n",
    "%store -r before_insecure_final\n",
    "%store -r after_insecure_final\n",
    "%store -r chart_2018_final\n",
    "%store -r chart_2019_final\n",
    "%store -r chart_2020_final"
   ]
  },
  {
   "cell_type": "code",
   "execution_count": 77,
   "metadata": {},
   "outputs": [],
   "source": [
    "# important global variables\n",
    "characters_to_strip = '?().[]!,\"-’' + \"/'\"\n"
   ]
  },
  {
   "cell_type": "markdown",
   "metadata": {},
   "source": [
    "## Word Frequency and N-Gram Frequency Lists"
   ]
  },
  {
   "cell_type": "markdown",
   "metadata": {},
   "source": [
    "### Albums Before the Insecure Diss Track"
   ]
  },
  {
   "cell_type": "markdown",
   "metadata": {},
   "source": [
    "#### Work in Progress (2015)"
   ]
  },
  {
   "cell_type": "code",
   "execution_count": 78,
   "metadata": {},
   "outputs": [],
   "source": [
    "# load all lyrics for album #1: Work in Progress (2015)\n",
    "b_album_one_lyrics = list()\n",
    "\n",
    "for song_dict in before_insecure_final[0]:\n",
    "    song_lyrics = song_dict['lyrics']\n",
    "    b_album_one_lyrics.append(song_lyrics)"
   ]
  },
  {
   "cell_type": "code",
   "execution_count": 79,
   "metadata": {},
   "outputs": [],
   "source": [
    "b_aone_ctr = Counter()\n",
    "b_aone_sfreq_ctr = Counter()\n",
    "b_aone_cleaned_one = get_cleaned_album_all(b_album_one_lyrics, b_aone_ctr, b_aone_sfreq_ctr, 1)"
   ]
  },
  {
   "cell_type": "code",
   "execution_count": 80,
   "metadata": {},
   "outputs": [
    {
     "name": "stdout",
     "output_type": "stream",
     "text": [
      "('im', 299)\n",
      "('know', 92)\n",
      "('dont', 77)\n",
      "('like', 64)\n",
      "('get', 59)\n",
      "('got', 54)\n",
      "('time', 50)\n",
      "('life', 47)\n",
      "('shit', 47)\n",
      "('make', 43)\n",
      "('people', 43)\n",
      "('oh', 41)\n",
      "('yeah', 38)\n",
      "('said', 37)\n",
      "('tryna', 36)\n",
      "('livin', 35)\n",
      "('go', 35)\n",
      "('man', 33)\n",
      "('way', 31)\n",
      "('much', 30)\n",
      "('say', 30)\n",
      "('never', 29)\n",
      "('feelin', 28)\n",
      "('cause', 27)\n",
      "('ive', 26)\n",
      "('see', 25)\n",
      "('really', 25)\n",
      "('sometimes', 24)\n",
      "('okay', 22)\n",
      "('game', 21)\n",
      "('think', 20)\n",
      "('youre', 20)\n",
      "('back', 20)\n",
      "('lookin', 20)\n",
      "('somethin', 19)\n",
      "('aint', 19)\n",
      "('keep', 19)\n",
      "('better', 18)\n",
      "('want', 18)\n",
      "('makin', 18)\n",
      "('ill', 18)\n",
      "('thats', 17)\n",
      "('even', 17)\n",
      "('ever', 16)\n",
      "('cant', 16)\n",
      "('gotta', 16)\n",
      "('big', 16)\n",
      "('gettin', 15)\n",
      "('one', 15)\n",
      "('new', 15)\n"
     ]
    }
   ],
   "source": [
    "# show the most common 1-grams without stopwords\n",
    "b_aone_clean_list = counter_without_stopwords_list(b_aone_ctr)\n",
    "\n",
    "for word in b_aone_clean_list[0:50]:\n",
    "    print(word)"
   ]
  },
  {
   "cell_type": "code",
   "execution_count": 81,
   "metadata": {},
   "outputs": [
    {
     "name": "stdout",
     "output_type": "stream",
     "text": [
      "('im', 15)\n",
      "('know', 15)\n",
      "('dont', 14)\n",
      "('life', 14)\n",
      "('go', 14)\n",
      "('like', 14)\n",
      "('yeah', 13)\n",
      "('people', 13)\n",
      "('get', 13)\n",
      "('got', 13)\n",
      "('shit', 13)\n",
      "('livin', 12)\n",
      "('somethin', 12)\n",
      "('said', 12)\n",
      "('aint', 11)\n",
      "('tryna', 11)\n",
      "('time', 11)\n",
      "('make', 11)\n",
      "('really', 11)\n",
      "('man', 11)\n",
      "('keep', 11)\n",
      "('never', 10)\n",
      "('cause', 10)\n",
      "('ive', 10)\n",
      "('youre', 10)\n",
      "('much', 10)\n",
      "('ill', 10)\n",
      "('lyrics', 9)\n",
      "('feelin', 9)\n",
      "('better', 9)\n",
      "('find', 9)\n",
      "('thats', 9)\n",
      "('show', 9)\n",
      "('cant', 9)\n",
      "('see', 9)\n",
      "('want', 9)\n",
      "('makin', 9)\n",
      "('say', 9)\n",
      "('gettin', 8)\n",
      "('even', 8)\n",
      "('sometimes', 8)\n",
      "('one', 8)\n",
      "('ever', 8)\n",
      "('mind', 8)\n",
      "('feel', 8)\n",
      "('lookin', 8)\n",
      "('new', 8)\n",
      "('move', 8)\n",
      "('look', 8)\n",
      "('fuck', 8)\n"
     ]
    }
   ],
   "source": [
    "# show the 1-grams that appear the most often in the album without stopwords\n",
    "b_aone_sfreq_clean_list = counter_without_stopwords_list(b_aone_sfreq_ctr)\n",
    "\n",
    "for word in b_aone_sfreq_clean_list[0:50]:\n",
    "    print(word)"
   ]
  },
  {
   "cell_type": "code",
   "execution_count": 82,
   "metadata": {},
   "outputs": [],
   "source": [
    "b_aone_ctr_two = Counter()\n",
    "b_aone_sfreq_ctr_two = Counter()\n",
    "b_aone_cleaned_two = get_cleaned_album_all(b_album_one_lyrics, b_aone_ctr_two, b_aone_sfreq_ctr_two, 2)"
   ]
  },
  {
   "cell_type": "code",
   "execution_count": 83,
   "metadata": {},
   "outputs": [
    {
     "data": {
      "text/plain": [
       "[('and i', 49),\n",
       " ('and im', 49),\n",
       " ('i dont', 44),\n",
       " ('in the', 34),\n",
       " ('on the', 33),\n",
       " ('dont know', 28),\n",
       " ('to be', 28),\n",
       " ('all of', 27),\n",
       " ('i know', 25),\n",
       " ('make it', 24),\n",
       " ('in my', 23),\n",
       " ('that im', 23),\n",
       " ('i am', 23),\n",
       " ('of the', 23),\n",
       " ('to the', 23),\n",
       " ('so much', 22),\n",
       " ('im just', 22),\n",
       " ('but i', 21),\n",
       " ('my own', 21),\n",
       " ('i got', 21),\n",
       " ('no way', 20),\n",
       " ('sometimes i', 19),\n",
       " ('oh oh', 19),\n",
       " ('i said', 17),\n",
       " ('on my', 17),\n",
       " ('i can', 17),\n",
       " ('know what', 16),\n",
       " ('what i', 16),\n",
       " ('to get', 16),\n",
       " ('but im', 16),\n",
       " ('much time', 16),\n",
       " ('of these', 16),\n",
       " ('in a', 15),\n",
       " ('know that', 15),\n",
       " ('at the', 15),\n",
       " ('i just', 15),\n",
       " ('this shit', 15),\n",
       " ('that i', 15),\n",
       " ('im on', 15),\n",
       " ('is the', 14),\n",
       " ('that is', 14),\n",
       " ('when im', 14),\n",
       " ('im like', 14),\n",
       " ('ive been', 13),\n",
       " ('you know', 13),\n",
       " ('im livin', 13),\n",
       " ('that you', 13),\n",
       " ('what to', 12),\n",
       " ('up and', 12),\n",
       " ('but you', 12)]"
      ]
     },
     "execution_count": 83,
     "metadata": {},
     "output_type": "execute_result"
    }
   ],
   "source": [
    "# show the most common 2-grams\n",
    "b_aone_ctr_two.most_common(50)"
   ]
  },
  {
   "cell_type": "code",
   "execution_count": 84,
   "metadata": {},
   "outputs": [
    {
     "data": {
      "text/plain": [
       "[('and i', 14),\n",
       " ('in the', 13),\n",
       " ('i am', 12),\n",
       " ('i know', 12),\n",
       " ('i dont', 12),\n",
       " ('and im', 12),\n",
       " ('but i', 11),\n",
       " ('all of', 11),\n",
       " ('that im', 11),\n",
       " ('i got', 11),\n",
       " ('on the', 10),\n",
       " ('to be', 10),\n",
       " ('that i', 10),\n",
       " ('but im', 10),\n",
       " ('it is', 9),\n",
       " ('in a', 9),\n",
       " ('what i', 9),\n",
       " ('is the', 9),\n",
       " ('make it', 9),\n",
       " ('that is', 9),\n",
       " ('of the', 9),\n",
       " ('in my', 8),\n",
       " ('i just', 8),\n",
       " ('this shit', 8),\n",
       " ('i can', 8),\n",
       " ('to the', 8),\n",
       " ('ive been', 7),\n",
       " ('my own', 7),\n",
       " ('but you', 7),\n",
       " ('im a', 7),\n",
       " ('to go', 7),\n",
       " ('to get', 7),\n",
       " ('dont know', 7),\n",
       " ('im not', 7),\n",
       " ('and you', 7),\n",
       " ('at the', 7),\n",
       " ('got so', 7),\n",
       " ('is a', 7),\n",
       " ('like a', 7),\n",
       " ('when im', 7),\n",
       " ('i have', 7),\n",
       " ('with the', 7),\n",
       " ('im just', 7),\n",
       " ('of this', 6),\n",
       " ('my life', 6),\n",
       " ('i aint', 6),\n",
       " ('life is', 6),\n",
       " ('this is', 6),\n",
       " ('to me', 6),\n",
       " ('all the', 6)]"
      ]
     },
     "execution_count": 84,
     "metadata": {},
     "output_type": "execute_result"
    }
   ],
   "source": [
    "# show the 2-grams that appear the most often in the album\n",
    "b_aone_sfreq_ctr_two.most_common(50)"
   ]
  },
  {
   "cell_type": "code",
   "execution_count": 85,
   "metadata": {},
   "outputs": [],
   "source": [
    "b_aone_ctr_three = Counter()\n",
    "b_aone_sfreq_ctr_three = Counter()\n",
    "b_aone_cleaned_three = get_cleaned_album_all(b_album_one_lyrics, b_aone_ctr_three, b_aone_sfreq_ctr_three, 3)"
   ]
  },
  {
   "cell_type": "code",
   "execution_count": 86,
   "metadata": {},
   "outputs": [
    {
     "data": {
      "text/plain": [
       "[('i dont know', 21),\n",
       " ('sometimes i dont', 16),\n",
       " ('so much time', 16),\n",
       " ('dont know what', 14),\n",
       " ('oh oh oh', 14),\n",
       " ('all of these', 14),\n",
       " ('know what to', 12),\n",
       " ('im on the', 12),\n",
       " ('all on my', 11),\n",
       " ('on the incline', 11),\n",
       " ('make it okay', 10),\n",
       " ('on my own', 10),\n",
       " ('and i dont', 10),\n",
       " ('and im like', 9),\n",
       " ('im like no', 9),\n",
       " ('married to the', 9),\n",
       " ('to the game', 9),\n",
       " ('it has to', 8),\n",
       " ('has to be', 8),\n",
       " ('to be done', 8),\n",
       " ('like no way', 8),\n",
       " ('im married to', 8),\n",
       " ('no way no', 7),\n",
       " ('way no way', 7),\n",
       " ('and i know', 7),\n",
       " ('no no no', 7),\n",
       " ('much time so', 7),\n",
       " ('time so much', 7),\n",
       " ('that i am', 6),\n",
       " ('we just livin', 6),\n",
       " ('sittin in my', 6),\n",
       " ('in my room', 6),\n",
       " ('im just lookin', 6),\n",
       " ('of these people', 6),\n",
       " ('we about to', 6),\n",
       " ('said we swimmin', 6),\n",
       " ('life that im', 6),\n",
       " ('that im livin', 6),\n",
       " ('said im married', 6),\n",
       " ('what to think', 5),\n",
       " ('to think sometimes', 5),\n",
       " ('think sometimes i', 5),\n",
       " ('what to sing', 5),\n",
       " ('to sing sometimes', 5),\n",
       " ('sing sometimes i', 5),\n",
       " ('dont know whatll', 5),\n",
       " ('know whatll make', 5),\n",
       " ('whatll make it', 5),\n",
       " ('it okay make', 5),\n",
       " ('okay make it', 5)]"
      ]
     },
     "execution_count": 86,
     "metadata": {},
     "output_type": "execute_result"
    }
   ],
   "source": [
    "# show the most common 3-grams\n",
    "b_aone_ctr_three.most_common(50)"
   ]
  },
  {
   "cell_type": "code",
   "execution_count": 87,
   "metadata": {},
   "outputs": [
    {
     "data": {
      "text/plain": [
       "[('all of these', 5),\n",
       " ('i dont know', 4),\n",
       " ('dont know what', 4),\n",
       " ('but you know', 4),\n",
       " ('i got so', 4),\n",
       " ('that i am', 4),\n",
       " ('got so much', 4),\n",
       " ('to make it', 4),\n",
       " ('and i dont', 4),\n",
       " ('im on the', 4),\n",
       " ('of these people', 4),\n",
       " ('this shit is', 4),\n",
       " ('you know that', 3),\n",
       " ('let it go', 3),\n",
       " ('all of this', 3),\n",
       " ('know that im', 3),\n",
       " ('is just a', 3),\n",
       " ('way too much', 3),\n",
       " ('get your head', 3),\n",
       " ('lost in my', 3),\n",
       " ('when im playin', 3),\n",
       " ('my thoughts and', 3),\n",
       " ('the reason that', 3),\n",
       " ('in my thoughts', 3),\n",
       " ('that is the', 3),\n",
       " ('to make the', 3),\n",
       " ('we just livin', 3),\n",
       " ('the fact that', 3),\n",
       " ('the world is', 3),\n",
       " ('what i can', 3),\n",
       " ('the top of', 3),\n",
       " ('all of the', 3),\n",
       " ('got so many', 3),\n",
       " ('i just keep', 3),\n",
       " ('you and im', 3),\n",
       " ('yeah and i', 3),\n",
       " ('im just tryna', 3),\n",
       " ('but im just', 3),\n",
       " ('i can do', 3),\n",
       " ('i keep on', 3),\n",
       " ('i try to', 3),\n",
       " ('to get better', 3),\n",
       " ('a lot of', 3),\n",
       " ('and i know', 3),\n",
       " ('on the inside', 2),\n",
       " ('it is just', 2),\n",
       " ('know what to', 2),\n",
       " ('me in a', 2),\n",
       " ('but all i', 2),\n",
       " ('what i do', 2)]"
      ]
     },
     "execution_count": 87,
     "metadata": {},
     "output_type": "execute_result"
    }
   ],
   "source": [
    "# show the 3-grams that appear the most often in the album\n",
    "b_aone_sfreq_ctr_three.most_common(50)"
   ]
  },
  {
   "cell_type": "markdown",
   "metadata": {},
   "source": [
    "#### Analysis for Work in Progress"
   ]
  },
  {
   "cell_type": "markdown",
   "metadata": {},
   "source": [
    "Here are some of the notable n-grams that I found while looking through all the lists:\n",
    "* 1-Grams: time, life, people, livin, feelin, sometimes, game, lookin, keep, want, somethin, makin, gettin, said\n",
    "* 2-Grams: dont know, my own, my life, tryna find\n",
    "* 3-Grams: i dont know, lost in my, my thoughts and, im just tryna, to get better\n",
    "\n",
    "It appears that on the Work in Progress (2015) album, Quadeca has songs that talk about how he feels lost in his life and has a lot of clouded thoughts. It seems like he is searching for something, yet he doesn't know what he wants in his life. Additionally, there are references to him wanting to get better. This can either be interpretted as wanting to get mentally and get rid of these thoughts or to get better at his craft, which would be his rapping ability."
   ]
  },
  {
   "cell_type": "markdown",
   "metadata": {},
   "source": [
    "#### Nostalgia for the Now (2016)"
   ]
  },
  {
   "cell_type": "code",
   "execution_count": 88,
   "metadata": {},
   "outputs": [],
   "source": [
    "# load all lyrics for album #2: Nostalgia for the Now (2016)\n",
    "b_album_two_lyrics = list()\n",
    "\n",
    "for song_dict in before_insecure_final[1]:\n",
    "    song_lyrics = song_dict['lyrics']\n",
    "    b_album_two_lyrics.append(song_lyrics)"
   ]
  },
  {
   "cell_type": "code",
   "execution_count": 89,
   "metadata": {},
   "outputs": [],
   "source": [
    "b_atwo_ctr = Counter()\n",
    "b_atwo_sfreq_ctr = Counter()\n",
    "b_atwo_cleaned_one = get_cleaned_album_all(b_album_two_lyrics, b_atwo_ctr, b_atwo_sfreq_ctr, 1)"
   ]
  },
  {
   "cell_type": "code",
   "execution_count": 90,
   "metadata": {},
   "outputs": [
    {
     "name": "stdout",
     "output_type": "stream",
     "text": [
      "('im', 183)\n",
      "('know', 88)\n",
      "('like', 68)\n",
      "('ive', 58)\n",
      "('got', 50)\n",
      "('yeah', 49)\n",
      "('shit', 47)\n",
      "('dont', 43)\n",
      "('need', 40)\n",
      "('man', 39)\n",
      "('aint', 37)\n",
      "('feeling', 34)\n",
      "('time', 29)\n",
      "('see', 29)\n",
      "('people', 28)\n",
      "('get', 27)\n",
      "('gotta', 26)\n",
      "('never', 26)\n",
      "('find', 26)\n",
      "('say', 23)\n",
      "('go', 22)\n",
      "('day', 21)\n",
      "('one', 21)\n",
      "('life', 19)\n",
      "('back', 19)\n",
      "('even', 19)\n",
      "('right', 19)\n",
      "('cant', 19)\n",
      "('tryna', 18)\n",
      "('every', 17)\n",
      "('fuckin', 17)\n",
      "('make', 17)\n",
      "('really', 16)\n",
      "('wanna', 16)\n",
      "('game', 16)\n",
      "('change', 16)\n",
      "('way', 16)\n",
      "('put', 15)\n",
      "('living', 15)\n",
      "('civil', 15)\n",
      "('war', 15)\n",
      "('mind', 14)\n",
      "('livin', 14)\n",
      "('damn', 13)\n",
      "('let', 13)\n",
      "('ill', 13)\n",
      "('thats', 13)\n",
      "('new', 13)\n",
      "('well', 13)\n",
      "('around', 12)\n"
     ]
    }
   ],
   "source": [
    "# show the most common 1-grams without stopwords\n",
    "b_atwo_clean_list = counter_without_stopwords_list(b_atwo_ctr)\n",
    "\n",
    "for word in b_atwo_clean_list[0:50]:\n",
    "    print(word)"
   ]
  },
  {
   "cell_type": "code",
   "execution_count": 91,
   "metadata": {},
   "outputs": [
    {
     "name": "stdout",
     "output_type": "stream",
     "text": [
      "('yeah', 15)\n",
      "('got', 15)\n",
      "('know', 15)\n",
      "('im', 14)\n",
      "('shit', 13)\n",
      "('see', 13)\n",
      "('like', 13)\n",
      "('get', 13)\n",
      "('dont', 12)\n",
      "('aint', 12)\n",
      "('never', 11)\n",
      "('ive', 11)\n",
      "('time', 11)\n",
      "('thats', 11)\n",
      "('say', 10)\n",
      "('people', 10)\n",
      "('take', 10)\n",
      "('go', 10)\n",
      "('man', 10)\n",
      "('one', 10)\n",
      "('need', 10)\n",
      "('cant', 10)\n",
      "('life', 9)\n",
      "('day', 8)\n",
      "('gotta', 8)\n",
      "('really', 8)\n",
      "('every', 8)\n",
      "('make', 8)\n",
      "('even', 8)\n",
      "('ill', 8)\n",
      "('livin', 8)\n",
      "('game', 8)\n",
      "('cause', 8)\n",
      "('find', 7)\n",
      "('damn', 7)\n",
      "('stop', 7)\n",
      "('back', 7)\n",
      "('fuck', 7)\n",
      "('right', 7)\n",
      "('love', 7)\n",
      "('could', 7)\n",
      "('way', 7)\n",
      "('look', 6)\n",
      "('bitch', 6)\n",
      "('fuckin', 6)\n",
      "('wanna', 6)\n",
      "('things', 6)\n",
      "('give', 6)\n",
      "('please', 6)\n",
      "('keep', 6)\n"
     ]
    }
   ],
   "source": [
    "# show the 1-grams that appear the most often in the album without stopwords\n",
    "b_atwo_sfreq_clean_list = counter_without_stopwords_list(b_atwo_sfreq_ctr)\n",
    "\n",
    "for word in b_atwo_sfreq_clean_list[0:50]:\n",
    "    print(word)"
   ]
  },
  {
   "cell_type": "code",
   "execution_count": 92,
   "metadata": {},
   "outputs": [],
   "source": [
    "b_atwo_ctr_two = Counter()\n",
    "b_atwo_sfreq_ctr_two = Counter()\n",
    "b_atwo_cleaned_two = get_cleaned_album_all(b_album_two_lyrics, b_atwo_ctr_two, b_atwo_sfreq_ctr_two, 2)"
   ]
  },
  {
   "cell_type": "code",
   "execution_count": 93,
   "metadata": {},
   "outputs": [
    {
     "data": {
      "text/plain": [
       "[('ive been', 49),\n",
       " ('that i', 36),\n",
       " ('in the', 36),\n",
       " ('know that', 32),\n",
       " ('and i', 27),\n",
       " ('you know', 27),\n",
       " ('i aint', 23),\n",
       " ('i am', 23),\n",
       " ('like a', 22),\n",
       " ('i know', 22),\n",
       " ('in my', 21),\n",
       " ('and im', 20),\n",
       " ('on the', 19),\n",
       " ('need to', 19),\n",
       " ('been feeling', 19),\n",
       " ('the same', 18),\n",
       " ('i got', 18),\n",
       " ('i need', 18),\n",
       " ('feeling like', 18),\n",
       " ('that im', 17),\n",
       " ('i gotta', 16),\n",
       " ('but i', 16),\n",
       " ('what i', 15),\n",
       " ('man i', 15),\n",
       " ('all of', 15),\n",
       " ('at the', 15),\n",
       " ('im not', 15),\n",
       " ('i dont', 15),\n",
       " ('while i', 15),\n",
       " ('civil war', 15),\n",
       " ('i can', 14),\n",
       " ('need a', 14),\n",
       " ('that shit', 13),\n",
       " ('of the', 13),\n",
       " ('i been', 13),\n",
       " ('a change', 13),\n",
       " ('i just', 12),\n",
       " ('i will', 12),\n",
       " ('been living', 12),\n",
       " ('shit is', 12),\n",
       " ('my minds', 12),\n",
       " ('minds eye', 12),\n",
       " ('my mind', 11),\n",
       " ('the game', 11),\n",
       " ('know im', 11),\n",
       " ('this shit', 11),\n",
       " ('look at', 10),\n",
       " ('to be', 10),\n",
       " ('they all', 10),\n",
       " ('to the', 10)]"
      ]
     },
     "execution_count": 93,
     "metadata": {},
     "output_type": "execute_result"
    }
   ],
   "source": [
    "# show the most common 2-grams\n",
    "b_atwo_ctr_two.most_common(50)"
   ]
  },
  {
   "cell_type": "code",
   "execution_count": 94,
   "metadata": {},
   "outputs": [
    {
     "data": {
      "text/plain": [
       "[('that i', 13),\n",
       " ('in the', 13),\n",
       " ('know that', 12),\n",
       " ('and i', 11),\n",
       " ('ive been', 11),\n",
       " ('you know', 11),\n",
       " ('but i', 10),\n",
       " ('to me', 9),\n",
       " ('i aint', 9),\n",
       " ('on the', 9),\n",
       " ('know i', 9),\n",
       " ('i got', 9),\n",
       " ('to be', 8),\n",
       " ('all of', 8),\n",
       " ('know im', 8),\n",
       " ('im not', 8),\n",
       " ('like a', 8),\n",
       " ('i am', 8),\n",
       " ('need to', 8),\n",
       " ('i dont', 8),\n",
       " ('that shit', 7),\n",
       " ('man i', 7),\n",
       " ('in my', 7),\n",
       " ('i know', 7),\n",
       " ('i can', 7),\n",
       " ('i need', 7),\n",
       " ('of these', 6),\n",
       " ('i gotta', 6),\n",
       " ('its time', 6),\n",
       " ('they all', 6),\n",
       " ('it in', 6),\n",
       " ('and you', 6),\n",
       " ('i just', 6),\n",
       " ('to go', 6),\n",
       " ('the same', 6),\n",
       " ('with the', 6),\n",
       " ('that im', 6),\n",
       " ('i will', 6),\n",
       " ('it all', 6),\n",
       " ('me but', 6),\n",
       " ('it but', 6),\n",
       " ('on a', 6),\n",
       " ('dont know', 6),\n",
       " ('got a', 6),\n",
       " ('it i', 6),\n",
       " ('shit is', 6),\n",
       " ('take a', 5),\n",
       " ('make it', 5),\n",
       " ('in a', 5),\n",
       " ('look at', 5)]"
      ]
     },
     "execution_count": 94,
     "metadata": {},
     "output_type": "execute_result"
    }
   ],
   "source": [
    "# show the 2-grams that appear the most often in the album\n",
    "b_atwo_sfreq_ctr_two.most_common(50)"
   ]
  },
  {
   "cell_type": "code",
   "execution_count": 95,
   "metadata": {},
   "outputs": [],
   "source": [
    "b_atwo_ctr_three = Counter()\n",
    "b_atwo_sfreq_ctr_three = Counter()\n",
    "b_atwo_cleaned_three = get_cleaned_album_all(b_album_two_lyrics, b_atwo_ctr_three, b_atwo_sfreq_ctr_three, 3)"
   ]
  },
  {
   "cell_type": "code",
   "execution_count": 96,
   "metadata": {},
   "outputs": [
    {
     "data": {
      "text/plain": [
       "[('been feeling like', 18),\n",
       " ('i need to', 13),\n",
       " ('ive been feeling', 13),\n",
       " ('i know that', 12),\n",
       " ('ive been living', 12),\n",
       " ('need a change', 12),\n",
       " ('in my minds', 12),\n",
       " ('my minds eye', 12),\n",
       " ('you know that', 10),\n",
       " ('and i know', 9),\n",
       " ('know that im', 9),\n",
       " ('know that i', 9),\n",
       " ('what i gotta', 8),\n",
       " ('i gotta put', 8),\n",
       " ('gotta put my', 8),\n",
       " ('put my mind', 8),\n",
       " ('my mind to', 8),\n",
       " ('you know im', 8),\n",
       " ('all of these', 7),\n",
       " ('now ive been', 7),\n",
       " ('the great escape', 7),\n",
       " ('i dont know', 7),\n",
       " ('that shit is', 7),\n",
       " ('but i aint', 6),\n",
       " ('or in the', 6),\n",
       " ('were just tryna', 6),\n",
       " ('just tryna find', 6),\n",
       " ('tryna find the', 6),\n",
       " ('find the great', 6),\n",
       " ('feeling like i', 6),\n",
       " ('like i run', 6),\n",
       " ('i run the', 6),\n",
       " ('run the game', 6),\n",
       " ('the game now', 6),\n",
       " ('game now ive', 6),\n",
       " ('feeling like its', 6),\n",
       " ('like its not', 6),\n",
       " ('its not the', 6),\n",
       " ('not the same', 6),\n",
       " ('the same how', 6),\n",
       " ('same how everybody', 6),\n",
       " ('how everybody tryna', 6),\n",
       " ('everybody tryna say', 6),\n",
       " ('tryna say my', 6),\n",
       " ('say my name', 6),\n",
       " ('my name while', 6),\n",
       " ('name while i', 6),\n",
       " ('while i been', 6),\n",
       " ('i been feeling', 6),\n",
       " ('feeling like a', 6)]"
      ]
     },
     "execution_count": 96,
     "metadata": {},
     "output_type": "execute_result"
    }
   ],
   "source": [
    "# show the most common 3-grams\n",
    "b_atwo_ctr_three.most_common(50)"
   ]
  },
  {
   "cell_type": "code",
   "execution_count": 97,
   "metadata": {},
   "outputs": [
    {
     "data": {
      "text/plain": [
       "[('all of these', 6),\n",
       " ('you know im', 6),\n",
       " ('i need to', 6),\n",
       " ('you know that', 5),\n",
       " ('i know that', 5),\n",
       " ('know that im', 5),\n",
       " ('i dont know', 5),\n",
       " ('know that i', 5),\n",
       " ('you know i', 4),\n",
       " ('all of the', 4),\n",
       " ('that shit is', 4),\n",
       " ('every day i', 3),\n",
       " ('and i know', 3),\n",
       " ('but im not', 3),\n",
       " ('its time that', 3),\n",
       " ('but i aint', 3),\n",
       " ('a lot of', 3),\n",
       " ('yes i am', 3),\n",
       " ('think its time', 3),\n",
       " ('it in the', 2),\n",
       " ('and i aint', 2),\n",
       " ('but they all', 2),\n",
       " ('they all wanna', 2),\n",
       " ('its time for', 2),\n",
       " ('and i swear', 2),\n",
       " ('i swear that', 2),\n",
       " ('same time i', 2),\n",
       " ('im not gonna', 2),\n",
       " ('up in my', 2),\n",
       " ('at the same', 2),\n",
       " ('life and you', 2),\n",
       " ('know that its', 2),\n",
       " ('and you know', 2),\n",
       " ('people they all', 2),\n",
       " ('lookin at me', 2),\n",
       " ('i can get', 2),\n",
       " ('no i aint', 2),\n",
       " ('i just live', 2),\n",
       " ('the same time', 2),\n",
       " ('like a king', 2),\n",
       " ('me but im', 2),\n",
       " ('i am so', 2),\n",
       " ('and im feeling', 2),\n",
       " ('a thing now', 2),\n",
       " ('i am not', 2),\n",
       " ('im not sure', 2),\n",
       " ('talking to me', 2),\n",
       " ('that i am', 2),\n",
       " ('feeling the vibe', 2),\n",
       " ('ive been living', 2)]"
      ]
     },
     "execution_count": 97,
     "metadata": {},
     "output_type": "execute_result"
    }
   ],
   "source": [
    "# show the 3-grams that appear the most often in the album\n",
    "b_atwo_sfreq_ctr_three.most_common(50)"
   ]
  },
  {
   "cell_type": "markdown",
   "metadata": {},
   "source": [
    "#### Analysis for Nostalgia for the Now"
   ]
  },
  {
   "cell_type": "markdown",
   "metadata": {},
   "source": [
    "Here are the notable n-grams that I found while looking through all the lists:\n",
    "* 1-Grams: people, say, time, life, game, livin, love, fuckin, please, give\n",
    "* 2-Grams: ive been, been feeling, feeling like, civil war, my mind, the game, the same, dont know\n",
    "* 3-Grams: been feeling like, need a change, were just tryna, find the great, the great escape, i dont know, people they all, lookin at me\n",
    "\n",
    "It appears that on the Nostalgia for the Now (2016) album, Quadeca has songs that talk about similar topics to his first project. Once again, we see words like: time, life, game, people. Quadeca seems to feel stuck in limbo and does not like his current situation/state of mind. There appears to be some internal conflict with the frequent occurences of the words like 'my mind' and 'civil war'. It seems like Quadeca wants a change in his life and wants to escape to somewhere happier than his current situation.\n",
    "\n",
    "Something different in this album is the usage of the word 'love' across 7 different songs. This usage could be interpreted as Quadeca talking about a personal relationship with a significant other, Quadeca expressing his love for \"the game\", or Quadeca expressing the love from his fans. "
   ]
  },
  {
   "cell_type": "markdown",
   "metadata": {},
   "source": [
    "#### Bad Internet Rapper (2017)"
   ]
  },
  {
   "cell_type": "code",
   "execution_count": 98,
   "metadata": {},
   "outputs": [],
   "source": [
    "# load all lyrics for album #3: Bad Internet Rapper (2017)\n",
    "b_album_three_lyrics = list()\n",
    "\n",
    "for song_dict in before_insecure_final[2]:\n",
    "    song_lyrics = song_dict['lyrics']\n",
    "    b_album_three_lyrics.append(song_lyrics)"
   ]
  },
  {
   "cell_type": "code",
   "execution_count": 99,
   "metadata": {},
   "outputs": [],
   "source": [
    "b_athree_ctr = Counter()\n",
    "b_athree_sfreq_ctr = Counter()\n",
    "b_athree_cleaned_one = get_cleaned_album_all(b_album_three_lyrics, b_athree_ctr, b_athree_sfreq_ctr, 1)"
   ]
  },
  {
   "cell_type": "code",
   "execution_count": 100,
   "metadata": {},
   "outputs": [
    {
     "name": "stdout",
     "output_type": "stream",
     "text": [
      "('im', 114)\n",
      "('yeah', 84)\n",
      "('like', 69)\n",
      "('shit', 42)\n",
      "('got', 34)\n",
      "('really', 33)\n",
      "('get', 30)\n",
      "('aint', 30)\n",
      "('man', 30)\n",
      "('dont', 27)\n",
      "('thats', 24)\n",
      "('cause', 21)\n",
      "('ive', 21)\n",
      "('make', 21)\n",
      "('way', 20)\n",
      "('ill', 19)\n",
      "('oh', 18)\n",
      "('tryna', 18)\n",
      "('ima', 18)\n",
      "('need', 18)\n",
      "('know', 17)\n",
      "('see', 17)\n",
      "('guess', 16)\n",
      "('love', 16)\n",
      "('cant', 16)\n",
      "('let', 15)\n",
      "('want', 15)\n",
      "('pray', 15)\n",
      "('go', 14)\n",
      "('bad', 14)\n",
      "('many', 14)\n",
      "('gotta', 14)\n",
      "('people', 13)\n",
      "('damn', 13)\n",
      "('away', 13)\n",
      "('blow', 13)\n",
      "('year', 13)\n",
      "('wont', 12)\n",
      "('gonna', 12)\n",
      "('never', 12)\n",
      "('2020', 12)\n",
      "('even', 11)\n",
      "('wind', 10)\n",
      "('time', 10)\n",
      "('fucking', 10)\n",
      "('wanna', 10)\n",
      "('money', 10)\n",
      "('woo', 10)\n",
      "('one', 9)\n",
      "('new', 9)\n"
     ]
    }
   ],
   "source": [
    "# show the most common 1-grams without stopwords\n",
    "b_athree_clean_list = counter_without_stopwords_list(b_athree_ctr)\n",
    "\n",
    "for word in b_athree_clean_list[0:50]:\n",
    "    print(word)"
   ]
  },
  {
   "cell_type": "code",
   "execution_count": 101,
   "metadata": {},
   "outputs": [
    {
     "name": "stdout",
     "output_type": "stream",
     "text": [
      "('im', 12)\n",
      "('yeah', 12)\n",
      "('like', 12)\n",
      "('dont', 11)\n",
      "('shit', 11)\n",
      "('really', 10)\n",
      "('get', 10)\n",
      "('got', 10)\n",
      "('cause', 9)\n",
      "('thats', 9)\n",
      "('man', 9)\n",
      "('need', 9)\n",
      "('aint', 8)\n",
      "('way', 8)\n",
      "('know', 8)\n",
      "('tryna', 8)\n",
      "('ive', 8)\n",
      "('damn', 8)\n",
      "('gotta', 8)\n",
      "('see', 8)\n",
      "('people', 7)\n",
      "('many', 7)\n",
      "('ima', 7)\n",
      "('make', 7)\n",
      "('play', 7)\n",
      "('cant', 7)\n",
      "('oh', 6)\n",
      "('one', 6)\n",
      "('new', 6)\n",
      "('guess', 6)\n",
      "('want', 6)\n",
      "('wont', 6)\n",
      "('say', 6)\n",
      "('ill', 6)\n",
      "('keep', 5)\n",
      "('even', 5)\n",
      "('till', 5)\n",
      "('seen', 5)\n",
      "('away', 5)\n",
      "('theyre', 5)\n",
      "('happens', 5)\n",
      "('please', 5)\n",
      "('put', 5)\n",
      "('take', 5)\n",
      "('time', 5)\n",
      "('love', 5)\n",
      "('back', 5)\n",
      "('lot', 5)\n",
      "('never', 5)\n",
      "('change', 5)\n"
     ]
    }
   ],
   "source": [
    "# show the 1-grams that appear the most often in the album without stopwords\n",
    "b_athree_sfreq_clean_list = counter_without_stopwords_list(b_athree_sfreq_ctr)\n",
    "\n",
    "for word in b_athree_sfreq_clean_list[0:50]:\n",
    "    print(word)"
   ]
  },
  {
   "cell_type": "code",
   "execution_count": 102,
   "metadata": {},
   "outputs": [],
   "source": [
    "b_athree_ctr_two = Counter()\n",
    "b_athree_sfreq_ctr_two = Counter()\n",
    "b_athree_cleaned_two = get_cleaned_album_all(b_album_three_lyrics, b_athree_ctr_two, b_athree_sfreq_ctr_two, 2)"
   ]
  },
  {
   "cell_type": "code",
   "execution_count": 103,
   "metadata": {},
   "outputs": [
    {
     "data": {
      "text/plain": [
       "[('in the', 27),\n",
       " ('but i', 20),\n",
       " ('and i', 18),\n",
       " ('this shit', 17),\n",
       " ('that i', 15),\n",
       " ('on the', 15),\n",
       " ('to be', 14),\n",
       " ('for a', 14),\n",
       " ('i guess', 14),\n",
       " ('the way', 14),\n",
       " ('i got', 14),\n",
       " ('so many', 13),\n",
       " ('i just', 13),\n",
       " ('but im', 13),\n",
       " ('ill pray', 13),\n",
       " ('i dont', 12),\n",
       " ('ive been', 11),\n",
       " ('want to', 11),\n",
       " ('in a', 11),\n",
       " ('was a', 11),\n",
       " ('i am', 11),\n",
       " ('let the', 10),\n",
       " ('the wind', 10),\n",
       " ('wind blow', 10),\n",
       " ('when i', 9),\n",
       " ('got a', 9),\n",
       " ('i aint', 9),\n",
       " ('i cant', 9),\n",
       " ('pray ill', 9),\n",
       " ('bad year', 9),\n",
       " ('like a', 8),\n",
       " ('all i', 8),\n",
       " ('i know', 8),\n",
       " ('just let', 8),\n",
       " ('with the', 8),\n",
       " ('shit is', 8),\n",
       " ('on a', 8),\n",
       " ('yeah yeah', 8),\n",
       " ('i gotta', 7),\n",
       " ('i wont', 7),\n",
       " ('with a', 7),\n",
       " ('it to', 7),\n",
       " ('like im', 7),\n",
       " ('the same', 7),\n",
       " ('a lot', 7),\n",
       " ('way im', 7),\n",
       " ('a bad', 7),\n",
       " ('get the', 7),\n",
       " ('im like', 6),\n",
       " ('if you', 6)]"
      ]
     },
     "execution_count": 103,
     "metadata": {},
     "output_type": "execute_result"
    }
   ],
   "source": [
    "# show the most common 2-grams\n",
    "b_athree_ctr_two.most_common(50)"
   ]
  },
  {
   "cell_type": "code",
   "execution_count": 104,
   "metadata": {},
   "outputs": [
    {
     "data": {
      "text/plain": [
       "[('and i', 10),\n",
       " ('in the', 9),\n",
       " ('to be', 8),\n",
       " ('this shit', 8),\n",
       " ('that i', 8),\n",
       " ('but i', 7),\n",
       " ('like a', 7),\n",
       " ('i dont', 7),\n",
       " ('i got', 7),\n",
       " ('on the', 7),\n",
       " ('when i', 6),\n",
       " ('i guess', 6),\n",
       " ('got a', 6),\n",
       " ('in a', 6),\n",
       " ('with a', 6),\n",
       " ('with the', 6),\n",
       " ('so many', 6),\n",
       " ('want to', 5),\n",
       " ('ive been', 5),\n",
       " ('the way', 5),\n",
       " ('to the', 5),\n",
       " ('i really', 5),\n",
       " ('i gotta', 5),\n",
       " ('to get', 5),\n",
       " ('shit is', 5),\n",
       " ('i just', 5),\n",
       " ('i aint', 5),\n",
       " ('a lot', 5),\n",
       " ('like the', 5),\n",
       " ('but im', 5),\n",
       " ('i am', 5),\n",
       " ('if you', 4),\n",
       " ('from the', 4),\n",
       " ('for a', 4),\n",
       " ('what happens', 4),\n",
       " ('im like', 4),\n",
       " ('of the', 4),\n",
       " ('happens when', 4),\n",
       " ('i know', 4),\n",
       " ('that is', 4),\n",
       " ('know that', 4),\n",
       " ('man i', 4),\n",
       " ('i wont', 4),\n",
       " ('me and', 4),\n",
       " ('lot of', 4),\n",
       " ('like im', 4),\n",
       " ('and they', 4),\n",
       " ('on a', 4),\n",
       " ('trying to', 4),\n",
       " ('i cant', 4)]"
      ]
     },
     "execution_count": 104,
     "metadata": {},
     "output_type": "execute_result"
    }
   ],
   "source": [
    "# show the 2-grams that appear the most often in the album\n",
    "b_athree_sfreq_ctr_two.most_common(50)"
   ]
  },
  {
   "cell_type": "code",
   "execution_count": 105,
   "metadata": {},
   "outputs": [],
   "source": [
    "b_athree_ctr_three = Counter()\n",
    "b_athree_sfreq_ctr_three = Counter()\n",
    "b_athree_cleaned_three = get_cleaned_album_all(b_album_three_lyrics, b_athree_ctr_three, b_athree_sfreq_ctr_three, 3)"
   ]
  },
  {
   "cell_type": "code",
   "execution_count": 106,
   "metadata": {},
   "outputs": [
    {
     "data": {
      "text/plain": [
       "[('let the wind', 10),\n",
       " ('the wind blow', 10),\n",
       " ('pray ill pray', 9),\n",
       " ('just let the', 8),\n",
       " ('ill pray ill', 8),\n",
       " ('the way im', 7),\n",
       " ('yeah just let', 6),\n",
       " ('a lot of', 6),\n",
       " ('way im growin', 6),\n",
       " ('i am off', 6),\n",
       " ('am off the', 6),\n",
       " ('off the script', 6),\n",
       " ('2016 was a', 6),\n",
       " ('was a bad', 6),\n",
       " ('a bad year', 6),\n",
       " ('bad year yeah', 6),\n",
       " ('i got so', 5),\n",
       " ('got so many', 5),\n",
       " ('this shit is', 5),\n",
       " ('gonna sell my', 5),\n",
       " ('sell my soul', 5),\n",
       " ('do this shit', 5),\n",
       " ('but i cant', 5),\n",
       " ('all of the', 4),\n",
       " ('i know that', 4),\n",
       " ('i guess i', 4),\n",
       " ('wind blow oohooh', 4),\n",
       " ('wind blow ooh', 4),\n",
       " ('open the window', 4),\n",
       " ('what happens when', 4),\n",
       " ('got a lot', 4),\n",
       " ('a cremated love', 4),\n",
       " ('cremated love aint', 4),\n",
       " ('love aint no', 4),\n",
       " ('aint no need', 4),\n",
       " ('no need for', 4),\n",
       " ('need for a', 4),\n",
       " ('for a casket', 4),\n",
       " ('me cause you', 4),\n",
       " ('cause you probably', 4),\n",
       " ('ima do this', 4),\n",
       " ('in the ends', 4),\n",
       " ('the ends im', 4),\n",
       " ('ends im just', 4),\n",
       " ('im just chillin', 4),\n",
       " ('just chillin over', 4),\n",
       " ('chillin over on', 4),\n",
       " ('over on the', 4),\n",
       " ('on the side', 4),\n",
       " ('the side with', 4)]"
      ]
     },
     "execution_count": 106,
     "metadata": {},
     "output_type": "execute_result"
    }
   ],
   "source": [
    "# show the most common 3-grams\n",
    "b_athree_ctr_three.most_common(50)"
   ]
  },
  {
   "cell_type": "code",
   "execution_count": 107,
   "metadata": {},
   "outputs": [
    {
     "data": {
      "text/plain": [
       "[('what happens when', 4),\n",
       " ('this shit is', 4),\n",
       " ('a lot of', 4),\n",
       " ('i guess i', 3),\n",
       " ('thats what happens', 3),\n",
       " ('all of the', 3),\n",
       " ('shit is so', 3),\n",
       " ('got a lot', 3),\n",
       " ('do this shit', 3),\n",
       " ('and i dont', 3),\n",
       " ('i know that', 2),\n",
       " ('want to be', 2),\n",
       " ('if ignorance is', 2),\n",
       " ('all i know', 2),\n",
       " ('to me and', 2),\n",
       " ('i got so', 2),\n",
       " ('im in a', 2),\n",
       " ('people with the', 2),\n",
       " ('got so many', 2),\n",
       " ('make a change', 2),\n",
       " ('im not gonna', 2),\n",
       " ('never be the', 2),\n",
       " ('i just need', 2),\n",
       " ('to make a', 2),\n",
       " ('drop all this', 2),\n",
       " ('trying to make', 2),\n",
       " ('i drop all', 2),\n",
       " ('the same yeah', 2),\n",
       " ('and i know', 2),\n",
       " ('for some reason', 2),\n",
       " ('but i gotta', 2),\n",
       " ('the way im', 2),\n",
       " ('they be saying', 2),\n",
       " ('i dont want', 2),\n",
       " ('i dont wanna', 2),\n",
       " ('dont want to', 2),\n",
       " ('give a fuck', 2),\n",
       " ('dont give a', 2),\n",
       " ('the shit that', 2),\n",
       " ('play this shit', 2),\n",
       " ('i dont give', 2),\n",
       " ('the way i', 2),\n",
       " ('shit that they', 2),\n",
       " ('i am on', 2),\n",
       " ('i control my', 2),\n",
       " ('im the only', 2),\n",
       " ('ima do this', 2),\n",
       " ('really need to', 2),\n",
       " ('i really need', 2),\n",
       " ('ill pray ill', 2)]"
      ]
     },
     "execution_count": 107,
     "metadata": {},
     "output_type": "execute_result"
    }
   ],
   "source": [
    "# show the 3-grams that appear the most often in the album\n",
    "b_athree_sfreq_ctr_three.most_common(50)"
   ]
  },
  {
   "cell_type": "markdown",
   "metadata": {},
   "source": [
    "#### Analysis for Bad Internet Rapper\n"
   ]
  },
  {
   "cell_type": "markdown",
   "metadata": {},
   "source": [
    "Here are the notable n-grams that I found while going through all the lists:\n",
    "* 1-Grams: love, want, pray, play, guess, seen, away, happens, please, time, never, change\n",
    "* 2-Grams: ill pray, let the, the wind, wind blow, bad year, what happens, trying to\n",
    "* 3-Grams: let the wind, the wind blow, 2016 was a, a bad year, sell my soul, what happens when, do this shit, way im growin, i am off, am off the, off the script\n",
    "\n",
    "It appears that on the Bad Internet Rapper (2017) album, Quadeca has songs that talk about similar topics to his previous two projects. Like with his previous projects, it seems like Quadeca is once again reflecting and wanting change. Other commonly used phrases suggest that Quadeca may have finally accepted who he is, not care as much about the opinions of others, and focus more on himself and his music. "
   ]
  },
  {
   "cell_type": "markdown",
   "metadata": {},
   "source": [
    "#### Out of Order (2017)"
   ]
  },
  {
   "cell_type": "code",
   "execution_count": 108,
   "metadata": {},
   "outputs": [],
   "source": [
    "# load all lyrics for album #4: Out of Order (2017)\n",
    "b_album_four_lyrics = list()\n",
    "\n",
    "for song_dict in before_insecure_final[3]:\n",
    "    song_lyrics = song_dict['lyrics']\n",
    "    b_album_four_lyrics.append(song_lyrics)"
   ]
  },
  {
   "cell_type": "code",
   "execution_count": 109,
   "metadata": {},
   "outputs": [],
   "source": [
    "b_afour_ctr = Counter()\n",
    "b_afour_sfreq_ctr = Counter()\n",
    "b_afour_cleaned_one = get_cleaned_album_all(b_album_four_lyrics, b_afour_ctr, b_afour_sfreq_ctr, 1)"
   ]
  },
  {
   "cell_type": "code",
   "execution_count": 110,
   "metadata": {},
   "outputs": [
    {
     "name": "stdout",
     "output_type": "stream",
     "text": [
      "('im', 118)\n",
      "('like', 100)\n",
      "('yeah', 65)\n",
      "('dont', 64)\n",
      "('got', 47)\n",
      "('shit', 45)\n",
      "('man', 38)\n",
      "('know', 35)\n",
      "('see', 33)\n",
      "('aint', 30)\n",
      "('woulda', 28)\n",
      "('damn', 27)\n",
      "('thats', 27)\n",
      "('thought', 27)\n",
      "('never', 25)\n",
      "('really', 25)\n",
      "('ive', 25)\n",
      "('wanna', 25)\n",
      "('get', 24)\n",
      "('hold', 23)\n",
      "('fuck', 20)\n",
      "('feel', 20)\n",
      "('tell', 19)\n",
      "('make', 19)\n",
      "('ayy', 19)\n",
      "('think', 18)\n",
      "('cant', 18)\n",
      "('would', 18)\n",
      "('cause', 18)\n",
      "('gonna', 17)\n",
      "('say', 17)\n",
      "('ever', 15)\n",
      "('much', 15)\n",
      "('need', 13)\n",
      "('life', 13)\n",
      "('id', 13)\n",
      "('take', 13)\n",
      "('back', 13)\n",
      "('wait', 13)\n",
      "('ill', 12)\n",
      "('hear', 12)\n",
      "('bitch', 12)\n",
      "('new', 12)\n",
      "('rappers', 12)\n",
      "('go', 11)\n",
      "('tryna', 11)\n",
      "('look', 11)\n",
      "('better', 11)\n",
      "('formula', 11)\n",
      "('speak', 11)\n"
     ]
    }
   ],
   "source": [
    "# show the most common 1-grams without stopwords\n",
    "b_afour_clean_list = counter_without_stopwords_list(b_afour_ctr)\n",
    "\n",
    "for word in b_afour_clean_list[0:50]:\n",
    "    print(word)"
   ]
  },
  {
   "cell_type": "code",
   "execution_count": 111,
   "metadata": {},
   "outputs": [
    {
     "name": "stdout",
     "output_type": "stream",
     "text": [
      "('im', 12)\n",
      "('yeah', 12)\n",
      "('like', 12)\n",
      "('dont', 11)\n",
      "('shit', 11)\n",
      "('aint', 10)\n",
      "('got', 10)\n",
      "('say', 10)\n",
      "('man', 10)\n",
      "('never', 9)\n",
      "('know', 9)\n",
      "('take', 9)\n",
      "('really', 9)\n",
      "('think', 9)\n",
      "('thats', 9)\n",
      "('see', 9)\n",
      "('wanna', 9)\n",
      "('make', 9)\n",
      "('damn', 9)\n",
      "('ive', 8)\n",
      "('tell', 8)\n",
      "('get', 8)\n",
      "('fuck', 8)\n",
      "('tryna', 8)\n",
      "('go', 8)\n",
      "('life', 7)\n",
      "('need', 7)\n",
      "('back', 7)\n",
      "('cause', 7)\n",
      "('feel', 7)\n",
      "('would', 7)\n",
      "('thought', 7)\n",
      "('much', 7)\n",
      "('look', 7)\n",
      "('better', 7)\n",
      "('way', 6)\n",
      "('ill', 6)\n",
      "('let', 6)\n",
      "('id', 6)\n",
      "('stop', 6)\n",
      "('gonna', 6)\n",
      "('guess', 6)\n",
      "('love', 6)\n",
      "('hear', 6)\n",
      "('uh', 6)\n",
      "('want', 6)\n",
      "('cant', 6)\n",
      "('youre', 6)\n",
      "('rappers', 6)\n",
      "('well', 6)\n"
     ]
    }
   ],
   "source": [
    "# show the 1-grams that appear the most often in the album without stopwords\n",
    "b_afour_sfreq_clean_list = counter_without_stopwords_list(b_afour_sfreq_ctr)\n",
    "\n",
    "for word in b_afour_sfreq_clean_list[0:50]:\n",
    "    print(word)"
   ]
  },
  {
   "cell_type": "code",
   "execution_count": 112,
   "metadata": {},
   "outputs": [],
   "source": [
    "b_afour_ctr_two = Counter()\n",
    "b_afour_sfreq_ctr_two = Counter()\n",
    "b_afour_cleaned_two = get_cleaned_album_all(b_album_four_lyrics, b_afour_ctr_two, b_afour_sfreq_ctr_two, 2)"
   ]
  },
  {
   "cell_type": "code",
   "execution_count": 113,
   "metadata": {},
   "outputs": [
    {
     "data": {
      "text/plain": [
       "[('i dont', 37),\n",
       " ('in the', 31),\n",
       " ('i got', 28),\n",
       " ('that i', 26),\n",
       " ('who woulda', 26),\n",
       " ('i aint', 21),\n",
       " ('like a', 21),\n",
       " ('hold up', 21),\n",
       " ('this shit', 20),\n",
       " ('im a', 17),\n",
       " ('on the', 16),\n",
       " ('i do', 15),\n",
       " ('woulda thought', 15),\n",
       " ('so much', 14),\n",
       " ('ive been', 13),\n",
       " ('i can', 13),\n",
       " ('damn i', 12),\n",
       " ('yeah i', 12),\n",
       " ('and i', 12),\n",
       " ('i would', 12),\n",
       " ('when i', 12),\n",
       " ('i never', 12),\n",
       " ('to the', 12),\n",
       " ('got the', 12),\n",
       " ('now im', 11),\n",
       " ('thought that', 11),\n",
       " ('and now', 11),\n",
       " ('up wait', 11),\n",
       " ('wanna speak', 11),\n",
       " ('speak again', 11),\n",
       " ('i just', 10),\n",
       " ('dont wanna', 10),\n",
       " ('these rappers', 10),\n",
       " ('i guess', 9),\n",
       " ('as a', 9),\n",
       " ('never thought', 9),\n",
       " ('all these', 9),\n",
       " ('see the', 9),\n",
       " ('like its', 9),\n",
       " ('in a', 9),\n",
       " ('i am', 9),\n",
       " ('i feel', 9),\n",
       " ('woulda who', 9),\n",
       " ('need to', 8),\n",
       " ('give a', 8),\n",
       " ('see me', 8),\n",
       " ('it all', 8),\n",
       " ('i know', 8),\n",
       " ('have to', 8),\n",
       " ('like you', 8)]"
      ]
     },
     "execution_count": 113,
     "metadata": {},
     "output_type": "execute_result"
    }
   ],
   "source": [
    "# show the most common 2-grams\n",
    "b_afour_ctr_two.most_common(50)"
   ]
  },
  {
   "cell_type": "code",
   "execution_count": 114,
   "metadata": {},
   "outputs": [
    {
     "data": {
      "text/plain": [
       "[('in the', 11),\n",
       " ('i dont', 10),\n",
       " ('i aint', 9),\n",
       " ('yeah i', 9),\n",
       " ('this shit', 9),\n",
       " ('that i', 9),\n",
       " ('like a', 8),\n",
       " ('i got', 8),\n",
       " ('im a', 7),\n",
       " ('and i', 7),\n",
       " ('when i', 7),\n",
       " ('i can', 7),\n",
       " ('to the', 7),\n",
       " ('i just', 6),\n",
       " ('ive been', 6),\n",
       " ('now im', 6),\n",
       " ('damn i', 6),\n",
       " ('i do', 6),\n",
       " ('on the', 6),\n",
       " ('dont wanna', 6),\n",
       " ('all this', 6),\n",
       " ('so i', 6),\n",
       " ('it all', 6),\n",
       " ('and now', 6),\n",
       " ('all these', 6),\n",
       " ('i never', 6),\n",
       " ('so much', 6),\n",
       " ('i am', 6),\n",
       " ('man i', 6),\n",
       " ('for a', 5),\n",
       " ('in my', 5),\n",
       " ('me i', 5),\n",
       " ('for the', 5),\n",
       " ('need to', 5),\n",
       " ('trying to', 5),\n",
       " ('i guess', 5),\n",
       " ('im just', 5),\n",
       " ('on my', 5),\n",
       " ('i cant', 5),\n",
       " ('see the', 5),\n",
       " ('how i', 5),\n",
       " ('in a', 5),\n",
       " ('like its', 5),\n",
       " ('these rappers', 5),\n",
       " ('of my', 4),\n",
       " ('got a', 4),\n",
       " ('do i', 4),\n",
       " ('my life', 4),\n",
       " ('all of', 4),\n",
       " ('of the', 4)]"
      ]
     },
     "execution_count": 114,
     "metadata": {},
     "output_type": "execute_result"
    }
   ],
   "source": [
    "# show the 2-grams that appear the most often in the album\n",
    "b_afour_sfreq_ctr_two.most_common(50)"
   ]
  },
  {
   "cell_type": "code",
   "execution_count": 115,
   "metadata": {},
   "outputs": [],
   "source": [
    "b_afour_ctr_three = Counter()\n",
    "b_afour_sfreq_ctr_three = Counter()\n",
    "b_afour_cleaned_three = get_cleaned_album_all(b_album_four_lyrics, b_afour_ctr_three, b_afour_sfreq_ctr_three, 3)"
   ]
  },
  {
   "cell_type": "code",
   "execution_count": 116,
   "metadata": {},
   "outputs": [
    {
     "data": {
      "text/plain": [
       "[('who woulda thought', 15),\n",
       " ('hold up wait', 11),\n",
       " ('wanna speak again', 11),\n",
       " ('i got the', 9),\n",
       " ('who woulda who', 9),\n",
       " ('i dont wanna', 8),\n",
       " ('got the formula', 8),\n",
       " ('i dont ever', 8),\n",
       " ('dont ever wanna', 8),\n",
       " ('ever wanna speak', 8),\n",
       " ('i never thought', 7),\n",
       " ('hold up hold', 7),\n",
       " ('up hold up', 7),\n",
       " ('woulda who woulda', 7),\n",
       " ('tell her i', 7),\n",
       " ('her i dont', 7),\n",
       " ('never thought that', 6),\n",
       " ('thought that i', 6),\n",
       " ('that i would', 6),\n",
       " ('i need to', 5),\n",
       " ('like hold up', 5),\n",
       " ('and now im', 5),\n",
       " ('im gonna make', 5),\n",
       " ('this shit aint', 5),\n",
       " ('woulda thought that', 5),\n",
       " ('where we began', 5),\n",
       " ('i do i', 4),\n",
       " ('i guess i', 4),\n",
       " ('i give a', 4),\n",
       " ('give a damn', 4),\n",
       " ('i would ever', 4),\n",
       " ('like a migraine', 4),\n",
       " ('and i aint', 4),\n",
       " ('ive been in', 4),\n",
       " ('been in a', 4),\n",
       " ('in a whole', 4),\n",
       " ('a whole new', 4),\n",
       " ('whole new place', 4),\n",
       " ('more at stake', 4),\n",
       " ('i know that', 4),\n",
       " ('they dont know', 4),\n",
       " ('what i do', 4),\n",
       " ('dont like you', 4),\n",
       " ('the formula ayy', 4),\n",
       " ('thirteen reasons im', 4),\n",
       " ('reasons im gonna', 4),\n",
       " ('gonna make these', 4),\n",
       " ('make these rappers', 4),\n",
       " ('these rappers kill', 4),\n",
       " ('rappers kill themselves', 4)]"
      ]
     },
     "execution_count": 116,
     "metadata": {},
     "output_type": "execute_result"
    }
   ],
   "source": [
    "# show the most common 3-grams\n",
    "b_afour_ctr_three.most_common(50)"
   ]
  },
  {
   "cell_type": "code",
   "execution_count": 117,
   "metadata": {},
   "outputs": [
    {
     "data": {
      "text/plain": [
       "[('i dont wanna', 4),\n",
       " ('i got a', 3),\n",
       " ('i guess i', 3),\n",
       " ('i need to', 3),\n",
       " ('all of this', 3),\n",
       " ('and i aint', 3),\n",
       " ('i never thought', 3),\n",
       " ('and now im', 3),\n",
       " ('who woulda thought', 3),\n",
       " ('but i aint', 3),\n",
       " ('of shit that', 2),\n",
       " ('me on the', 2),\n",
       " ('dont wanna hear', 2),\n",
       " ('of my life', 2),\n",
       " ('it it just', 2),\n",
       " ('way that you', 2),\n",
       " ('i do i', 2),\n",
       " ('need to know', 2),\n",
       " ('in the sea', 2),\n",
       " ('all of the', 2),\n",
       " ('i aint no', 2),\n",
       " ('you dont understand', 2),\n",
       " ('me im just', 2),\n",
       " ('no way that', 2),\n",
       " ('about this shit', 2),\n",
       " ('when it all', 2),\n",
       " ('wanna see me', 2),\n",
       " ('you were like', 2),\n",
       " ('i had to', 2),\n",
       " ('im just tryna', 2),\n",
       " ('were like a', 2),\n",
       " ('to do this', 2),\n",
       " ('back on the', 2),\n",
       " ('that i dont', 2),\n",
       " ('i got so', 2),\n",
       " ('got so much', 2),\n",
       " ('i dont know', 2),\n",
       " ('in the past', 2),\n",
       " ('used to be', 2),\n",
       " ('all this shit', 2),\n",
       " ('shot like its', 2),\n",
       " ('me tell you', 2),\n",
       " ('let me tell', 2),\n",
       " ('i hear a', 2),\n",
       " ('yeah they dont', 2),\n",
       " ('the type to', 2),\n",
       " ('i got the', 2),\n",
       " ('i aint even', 2),\n",
       " ('out with a', 2),\n",
       " ('up with all', 2)]"
      ]
     },
     "execution_count": 117,
     "metadata": {},
     "output_type": "execute_result"
    }
   ],
   "source": [
    "# show the 3-grams that appear the most often in the album\n",
    "b_afour_sfreq_ctr_three.most_common(50)"
   ]
  },
  {
   "cell_type": "markdown",
   "metadata": {},
   "source": [
    "#### Analysis for Out of Order"
   ]
  },
  {
   "cell_type": "markdown",
   "metadata": {},
   "source": [
    "Here are the notable n-grams that I found while going through all the lists:\n",
    "* 1-Grams: life, rappers, speak, never, wanna, love, youre\n",
    "* 2-Grams: i dont, dont wanna, these rappers\n",
    "* 3-Grams: i dont wanna, wanna speak again, dont wanna hear, who woulda thought, about this shit, you dont understand, make these rappers, these rappers kill, rappers kill themselves, more at stake\n",
    "\n",
    "It appears in the Out of Order (2017) album, Quadeca seems to be more aggressive than he has been in his previous projects. It seems like Quadeca has reached a new level of skill, confidence, and popularity that he always dreamed of. Additionally, as he gets better and more popular, he realizes that there is more pressure on him to maintain and improve his skills. Quadeca also seems to be targeting other rappers, making the claim that he’s going to make them want to commit suicide. \n",
    "\n",
    "There also seems to be songs talking about love, a personal relationship, or a potential breakup. ‘Love’ was mentioned in 6 songs on the album, and judging from the common phrases, it seems like something happened to Quadeca and his significant other, where he does not want to speak or hear from her ever again. Language this strong would suggest that the relationship ended on a sour note and that maybe his ex-girlfriend cheated on him."
   ]
  },
  {
   "cell_type": "markdown",
   "metadata": {},
   "source": [
    "#### Observations for all Albums Before the Insecure Diss Track"
   ]
  },
  {
   "cell_type": "code",
   "execution_count": 45,
   "metadata": {},
   "outputs": [],
   "source": [
    "#insert some text here"
   ]
  },
  {
   "cell_type": "markdown",
   "metadata": {},
   "source": [
    "### Albums After the Insecure Diss Track"
   ]
  },
  {
   "cell_type": "markdown",
   "metadata": {},
   "source": [
    "#### Voice Memos (2018)"
   ]
  },
  {
   "cell_type": "code",
   "execution_count": 118,
   "metadata": {},
   "outputs": [],
   "source": [
    "# load all lyrics for album #1: Voice Memos (2018)\n",
    "a_album_one_lyrics = list()\n",
    "\n",
    "for song_dict in after_insecure_final[0]:\n",
    "    song_lyrics = song_dict['lyrics']\n",
    "    a_album_one_lyrics.append(song_lyrics)"
   ]
  },
  {
   "cell_type": "code",
   "execution_count": 119,
   "metadata": {},
   "outputs": [],
   "source": [
    "a_aone_ctr = Counter()\n",
    "a_aone_sfreq_ctr = Counter()\n",
    "a_aone_cleaned_one = get_cleaned_album_all(a_album_one_lyrics, a_aone_ctr, a_aone_sfreq_ctr, 1)"
   ]
  },
  {
   "cell_type": "code",
   "execution_count": 120,
   "metadata": {},
   "outputs": [
    {
     "name": "stdout",
     "output_type": "stream",
     "text": [
      "('yeah', 227)\n",
      "('huh', 152)\n",
      "('im', 127)\n",
      "('like', 109)\n",
      "('uh', 59)\n",
      "('shit', 44)\n",
      "('dont', 38)\n",
      "('aint', 38)\n",
      "('got', 37)\n",
      "('thats', 37)\n",
      "('know', 35)\n",
      "('think', 31)\n",
      "('real', 31)\n",
      "('new', 31)\n",
      "('one', 29)\n",
      "('never', 29)\n",
      "('life', 29)\n",
      "('bitch', 27)\n",
      "('ooh', 26)\n",
      "('want', 26)\n",
      "('make', 24)\n",
      "('cant', 24)\n",
      "('get', 24)\n",
      "('nothing', 24)\n",
      "('feel', 23)\n",
      "('wanna', 22)\n",
      "('back', 21)\n",
      "('said', 21)\n",
      "('take', 20)\n",
      "('ayy', 19)\n",
      "('look', 19)\n",
      "('go', 18)\n",
      "('need', 18)\n",
      "('man', 18)\n",
      "('tryna', 18)\n",
      "('usual', 18)\n",
      "('fuck', 17)\n",
      "('gon', 17)\n",
      "('ill', 17)\n",
      "('days', 17)\n",
      "('bout', 16)\n",
      "('better', 16)\n",
      "('let', 15)\n",
      "('nothin', 15)\n",
      "('love', 15)\n",
      "('still', 15)\n",
      "('oh', 15)\n",
      "('looking', 15)\n",
      "('see', 14)\n",
      "('even', 14)\n"
     ]
    }
   ],
   "source": [
    "# show the most common 1-grams without stopwords\n",
    "a_aone_clean_list = counter_without_stopwords_list(a_aone_ctr)\n",
    "\n",
    "for word in a_aone_clean_list[0:50]:\n",
    "    print(word)"
   ]
  },
  {
   "cell_type": "code",
   "execution_count": 121,
   "metadata": {},
   "outputs": [
    {
     "name": "stdout",
     "output_type": "stream",
     "text": [
      "('im', 12)\n",
      "('yeah', 12)\n",
      "('thats', 12)\n",
      "('like', 12)\n",
      "('never', 11)\n",
      "('got', 11)\n",
      "('shit', 11)\n",
      "('dont', 10)\n",
      "('know', 10)\n",
      "('huh', 10)\n",
      "('feel', 10)\n",
      "('want', 10)\n",
      "('cause', 9)\n",
      "('need', 9)\n",
      "('real', 9)\n",
      "('think', 9)\n",
      "('one', 9)\n",
      "('uh', 9)\n",
      "('back', 9)\n",
      "('even', 8)\n",
      "('say', 8)\n",
      "('tell', 8)\n",
      "('everything', 8)\n",
      "('cant', 8)\n",
      "('wanna', 8)\n",
      "('make', 8)\n",
      "('said', 8)\n",
      "('get', 8)\n",
      "('life', 8)\n",
      "('aint', 8)\n",
      "('way', 7)\n",
      "('ayy', 7)\n",
      "('gon', 7)\n",
      "('ive', 7)\n",
      "('take', 7)\n",
      "('could', 7)\n",
      "('see', 7)\n",
      "('man', 7)\n",
      "('fuck', 7)\n",
      "('still', 7)\n",
      "('better', 7)\n",
      "('oh', 7)\n",
      "('look', 7)\n",
      "('ill', 7)\n",
      "('made', 6)\n",
      "('gotta', 6)\n",
      "('really', 6)\n",
      "('em', 6)\n",
      "('okay', 6)\n",
      "('go', 6)\n"
     ]
    }
   ],
   "source": [
    "# show the 1-grams that appear the most often in the album without stopwords\n",
    "a_aone_sfreq_clean_list = counter_without_stopwords_list(a_aone_sfreq_ctr)\n",
    "\n",
    "for word in a_aone_sfreq_clean_list[0:50]:\n",
    "    print(word)"
   ]
  },
  {
   "cell_type": "code",
   "execution_count": 122,
   "metadata": {},
   "outputs": [],
   "source": [
    "a_aone_ctr_two = Counter()\n",
    "a_aone_sfreq_ctr_two = Counter()\n",
    "a_aone_cleaned_two = get_cleaned_album_all(a_album_one_lyrics, a_aone_ctr_two, a_aone_sfreq_ctr_two, 2)"
   ]
  },
  {
   "cell_type": "code",
   "execution_count": 123,
   "metadata": {},
   "outputs": [
    {
     "data": {
      "text/plain": [
       "[('on my', 39),\n",
       " ('yeah yeah', 39),\n",
       " ('but i', 34),\n",
       " ('in the', 34),\n",
       " ('yeah i', 33),\n",
       " ('i just', 28),\n",
       " ('in my', 27),\n",
       " ('huh i', 26),\n",
       " ('i got', 24),\n",
       " ('i was', 24),\n",
       " ('like a', 21),\n",
       " ('i had', 20),\n",
       " ('when i', 20),\n",
       " ('i dont', 19),\n",
       " ('huh yeah', 19),\n",
       " ('that i', 18),\n",
       " ('yeah huh', 16),\n",
       " ('what i', 16),\n",
       " ('aint nothing', 16),\n",
       " ('nothing usual', 16),\n",
       " ('had to', 15),\n",
       " ('for real', 15),\n",
       " ('to the', 15),\n",
       " ('think i', 15),\n",
       " ('in a', 14),\n",
       " ('i think', 14),\n",
       " ('do not', 14),\n",
       " ('on the', 14),\n",
       " ('if you', 14),\n",
       " ('i cant', 14),\n",
       " ('i did', 14),\n",
       " ('im the', 14),\n",
       " ('ooh ooh', 14),\n",
       " ('a new', 14),\n",
       " ('i do', 13),\n",
       " ('huh huh', 13),\n",
       " ('uh yeah', 13),\n",
       " ('they dont', 13),\n",
       " ('they all', 13),\n",
       " ('you know', 13),\n",
       " ('im not', 13),\n",
       " ('for a', 13),\n",
       " ('look at', 13),\n",
       " ('got a', 12),\n",
       " ('yeah im', 12),\n",
       " ('i need', 12),\n",
       " ('used to', 11),\n",
       " ('i been', 11),\n",
       " ('i hope', 11),\n",
       " ('these days', 11)]"
      ]
     },
     "execution_count": 123,
     "metadata": {},
     "output_type": "execute_result"
    }
   ],
   "source": [
    "# show the most common 2-grams\n",
    "a_aone_ctr_two.most_common(50)"
   ]
  },
  {
   "cell_type": "code",
   "execution_count": 124,
   "metadata": {},
   "outputs": [
    {
     "data": {
      "text/plain": [
       "[('in the', 12),\n",
       " ('but i', 11),\n",
       " ('on my', 11),\n",
       " ('in my', 10),\n",
       " ('i got', 10),\n",
       " ('yeah yeah', 9),\n",
       " ('yeah i', 9),\n",
       " ('feel like', 9),\n",
       " ('i just', 8),\n",
       " ('when i', 8),\n",
       " ('i was', 8),\n",
       " ('for real', 8),\n",
       " ('i do', 8),\n",
       " ('on the', 8),\n",
       " ('that i', 8),\n",
       " ('in a', 7),\n",
       " ('me i', 7),\n",
       " ('do not', 7),\n",
       " ('of the', 7),\n",
       " ('i need', 7),\n",
       " ('i cant', 7),\n",
       " ('i dont', 7),\n",
       " ('huh i', 7),\n",
       " ('yeah but', 7),\n",
       " ('huh yeah', 7),\n",
       " ('that shit', 7),\n",
       " ('i think', 6),\n",
       " ('i could', 6),\n",
       " ('im a', 6),\n",
       " ('yeah huh', 6),\n",
       " ('i been', 6),\n",
       " ('this shit', 6),\n",
       " ('like a', 6),\n",
       " ('when they', 6),\n",
       " ('yeah im', 6),\n",
       " ('think i', 6),\n",
       " ('to the', 6),\n",
       " ('of my', 6),\n",
       " ('i am', 6),\n",
       " ('they dont', 6),\n",
       " ('you know', 6),\n",
       " ('when im', 6),\n",
       " ('to be', 5),\n",
       " ('if you', 5),\n",
       " ('uh yeah', 5),\n",
       " ('got a', 5),\n",
       " ('i had', 5),\n",
       " ('they like', 5),\n",
       " ('if i', 5),\n",
       " ('huh they', 5)]"
      ]
     },
     "execution_count": 124,
     "metadata": {},
     "output_type": "execute_result"
    }
   ],
   "source": [
    "# show the 2-grams that appear the most often in the album\n",
    "a_aone_sfreq_ctr_two.most_common(50)"
   ]
  },
  {
   "cell_type": "code",
   "execution_count": 125,
   "metadata": {},
   "outputs": [],
   "source": [
    "a_aone_ctr_three = Counter()\n",
    "a_aone_sfreq_ctr_three = Counter()\n",
    "a_aone_cleaned_three = get_cleaned_album_all(a_album_one_lyrics, a_aone_ctr_three, a_aone_sfreq_ctr_three, 3)"
   ]
  },
  {
   "cell_type": "code",
   "execution_count": 126,
   "metadata": {},
   "outputs": [
    {
     "data": {
      "text/plain": [
       "[('yeah yeah yeah', 18),\n",
       " ('aint nothing usual', 16),\n",
       " ('i had to', 13),\n",
       " ('for a new', 11),\n",
       " ('i got a', 9),\n",
       " ('usual bout me', 9),\n",
       " ('for real i', 8),\n",
       " ('i need to', 8),\n",
       " ('looking for a', 8),\n",
       " ('nothing usual bout', 8),\n",
       " ('i just pulled', 7),\n",
       " ('just pulled up', 7),\n",
       " ('i think i', 7),\n",
       " ('if you gon', 7),\n",
       " ('ooh ooh ooh', 7),\n",
       " ('look at my', 7),\n",
       " ('they do not', 7),\n",
       " ('the reason that', 7),\n",
       " ('reason that they', 7),\n",
       " ('i used to', 7),\n",
       " ('i just wanna', 6),\n",
       " ('i do not', 6),\n",
       " ('up in the', 6),\n",
       " ('at my fit', 6),\n",
       " ('life like a', 6),\n",
       " ('that they never', 6),\n",
       " ('im the motherfuckin', 6),\n",
       " ('the motherfuckin real', 6),\n",
       " ('what i did', 6),\n",
       " ('they dont make', 6),\n",
       " ('best be sure', 6),\n",
       " ('then its war', 6),\n",
       " ('bout me said', 6),\n",
       " ('me said aint', 6),\n",
       " ('said aint nothing', 6),\n",
       " ('had to reassess', 5),\n",
       " ('you gon be', 5),\n",
       " ('gon be the', 5),\n",
       " ('i was too', 5),\n",
       " ('no im not', 5),\n",
       " ('man on my', 5),\n",
       " ('on my shoulder', 5),\n",
       " ('yeah im on', 4),\n",
       " ('im on my', 4),\n",
       " ('just wanna be', 4),\n",
       " ('wanna be the', 4),\n",
       " ('but i had', 4),\n",
       " ('uh yeah i', 4),\n",
       " ('yeah but i', 4),\n",
       " ('think i need', 4)]"
      ]
     },
     "execution_count": 126,
     "metadata": {},
     "output_type": "execute_result"
    }
   ],
   "source": [
    "# show the most common 3-grams\n",
    "a_aone_ctr_three.most_common(50)"
   ]
  },
  {
   "cell_type": "code",
   "execution_count": 127,
   "metadata": {},
   "outputs": [
    {
     "data": {
      "text/plain": [
       "[('i do not', 5),\n",
       " ('i need to', 5),\n",
       " ('for real i', 5),\n",
       " ('yeah yeah yeah', 5),\n",
       " ('i got a', 4),\n",
       " ('i think i', 4),\n",
       " ('yeah but i', 4),\n",
       " ('think i need', 4),\n",
       " ('uh yeah i', 3),\n",
       " ('i just pulled', 3),\n",
       " ('just pulled up', 3),\n",
       " ('i just wanna', 3),\n",
       " ('i had to', 3),\n",
       " ('i am not', 3),\n",
       " ('i was too', 3),\n",
       " ('huh yeah huh', 3),\n",
       " ('me but i', 3),\n",
       " ('how i feel', 3),\n",
       " ('it all in', 3),\n",
       " ('all of my', 3),\n",
       " ('but i cant', 3),\n",
       " ('yeah yeah i', 3),\n",
       " ('fuck all that', 3),\n",
       " ('up in the', 3),\n",
       " ('i feel like', 3),\n",
       " ('i hope that', 3),\n",
       " ('to feel like', 2),\n",
       " ('feel like im', 2),\n",
       " ('you gon be', 2),\n",
       " ('gon be the', 2),\n",
       " ('yeah i got', 2),\n",
       " ('yeah i was', 2),\n",
       " ('in my own', 2),\n",
       " ('that i could', 2),\n",
       " ('time i think', 2),\n",
       " ('yeah uh thats', 2),\n",
       " ('want me to', 2),\n",
       " ('i dont wanna', 2),\n",
       " ('i know i', 2),\n",
       " ('im on my', 2),\n",
       " ('just wanna be', 2),\n",
       " ('huh now they', 2),\n",
       " ('wanna be the', 2),\n",
       " ('huh for real', 2),\n",
       " ('but i had', 2),\n",
       " ('me what happened', 2),\n",
       " ('i wish i', 2),\n",
       " ('yeah im on', 2),\n",
       " ('all of the', 2),\n",
       " ('got so many', 2)]"
      ]
     },
     "execution_count": 127,
     "metadata": {},
     "output_type": "execute_result"
    }
   ],
   "source": [
    "# show the 3-grams that appear the most often in the album\n",
    "a_aone_sfreq_ctr_three.most_common(50)"
   ]
  },
  {
   "cell_type": "markdown",
   "metadata": {},
   "source": [
    "#### Analysis for Voice Memos\n"
   ]
  },
  {
   "cell_type": "markdown",
   "metadata": {},
   "source": [
    "Here are the notable n-grams that I found while going through all the lists:\n",
    "* 1-Grams: real, life, feel, love, need, tell, back, better\n",
    "* 2-Grams: aint nothing, nothing usual, feel like, these days\n",
    "* 3-Grams: im the motherfuckin, the motherfuckin real, had to reassess, gon be the, man on my, on my shoulder, how i feel, fuck all that\n",
    "\n",
    "It appears in the Voice Memos (2019) album, Quadeca seems to have songs that talk about reinventing himself and reassuring his audience that he is a unique and talented rapper. He claims that there is nothing usual about him and that he is the real deal. Another area the album seemed to explore refers back to his earlier projects that explored troubled thoughts, self-doubt, and inner demons.\n"
   ]
  },
  {
   "cell_type": "markdown",
   "metadata": {},
   "source": [
    "#### From Me To You (2021)"
   ]
  },
  {
   "cell_type": "code",
   "execution_count": 128,
   "metadata": {},
   "outputs": [],
   "source": [
    "# load all lyrics for album #2: From Me To You (2021)\n",
    "a_album_two_lyrics = list()\n",
    "\n",
    "for song_dict in after_insecure_final[1]:\n",
    "    song_lyrics = song_dict['lyrics']\n",
    "    a_album_two_lyrics.append(song_lyrics)"
   ]
  },
  {
   "cell_type": "code",
   "execution_count": 129,
   "metadata": {},
   "outputs": [],
   "source": [
    "a_atwo_ctr = Counter()\n",
    "a_atwo_sfreq_ctr = Counter()\n",
    "a_atwo_cleaned_one = get_cleaned_album_all(a_album_two_lyrics, a_atwo_ctr, a_atwo_sfreq_ctr, 1)"
   ]
  },
  {
   "cell_type": "code",
   "execution_count": 130,
   "metadata": {},
   "outputs": [
    {
     "name": "stdout",
     "output_type": "stream",
     "text": [
      "('im', 106)\n",
      "('yeah', 93)\n",
      "('uh', 81)\n",
      "('like', 69)\n",
      "('dont', 48)\n",
      "('fuckin', 41)\n",
      "('work', 38)\n",
      "('got', 34)\n",
      "('cant', 33)\n",
      "('go', 32)\n",
      "('still', 31)\n",
      "('aint', 31)\n",
      "('see', 31)\n",
      "('back', 30)\n",
      "('never', 28)\n",
      "('shit', 28)\n",
      "('know', 27)\n",
      "('say', 27)\n",
      "('oh', 27)\n",
      "('get', 26)\n",
      "('gon', 26)\n",
      "('thats', 25)\n",
      "('way', 25)\n",
      "('love', 24)\n",
      "('ooh', 24)\n",
      "('ayy', 23)\n",
      "('think', 23)\n",
      "('time', 22)\n",
      "('ive', 21)\n",
      "('tryna', 21)\n",
      "('youre', 20)\n",
      "('em', 18)\n",
      "('put', 18)\n",
      "('long', 18)\n",
      "('feel', 17)\n",
      "('even', 17)\n",
      "('fuck', 17)\n",
      "('ima', 17)\n",
      "('okay', 17)\n",
      "('everything', 16)\n",
      "('wanna', 16)\n",
      "('want', 16)\n",
      "('cause', 16)\n",
      "('look', 15)\n",
      "('maybe', 15)\n",
      "('much', 15)\n",
      "('day', 15)\n",
      "('one', 15)\n",
      "('need', 14)\n",
      "('life', 14)\n"
     ]
    }
   ],
   "source": [
    "# show the most common 1-grams without stopwords\n",
    "a_atwo_clean_list = counter_without_stopwords_list(a_atwo_ctr)\n",
    "\n",
    "for word in a_atwo_clean_list[0:50]:\n",
    "    print(word)"
   ]
  },
  {
   "cell_type": "code",
   "execution_count": 131,
   "metadata": {},
   "outputs": [
    {
     "name": "stdout",
     "output_type": "stream",
     "text": [
      "('yeah', 14)\n",
      "('im', 14)\n",
      "('never', 13)\n",
      "('dont', 12)\n",
      "('still', 12)\n",
      "('like', 12)\n",
      "('uh', 11)\n",
      "('even', 11)\n",
      "('say', 11)\n",
      "('know', 11)\n",
      "('get', 11)\n",
      "('cant', 11)\n",
      "('see', 11)\n",
      "('got', 10)\n",
      "('oh', 10)\n",
      "('love', 10)\n",
      "('aint', 10)\n",
      "('tryna', 9)\n",
      "('think', 9)\n",
      "('shit', 9)\n",
      "('want', 9)\n",
      "('cause', 9)\n",
      "('look', 8)\n",
      "('need', 8)\n",
      "('ive', 8)\n",
      "('youre', 8)\n",
      "('time', 8)\n",
      "('thats', 8)\n",
      "('feel', 8)\n",
      "('back', 8)\n",
      "('fuck', 8)\n",
      "('way', 8)\n",
      "('ooh', 8)\n",
      "('much', 8)\n",
      "('away', 7)\n",
      "('fuckin', 7)\n",
      "('wanna', 7)\n",
      "('ill', 7)\n",
      "('said', 7)\n",
      "('make', 6)\n",
      "('life', 6)\n",
      "('ima', 6)\n",
      "('take', 6)\n",
      "('tell', 6)\n",
      "('lookin', 6)\n",
      "('left', 6)\n",
      "('go', 6)\n",
      "('everything', 6)\n",
      "('maybe', 6)\n",
      "('em', 6)\n"
     ]
    }
   ],
   "source": [
    "# show the 1-grams that appear the most often in the album without stopwords\n",
    "a_atwo_sfreq_clean_list = counter_without_stopwords_list(a_atwo_sfreq_ctr)\n",
    "\n",
    "for word in a_atwo_sfreq_clean_list[0:50]:\n",
    "    print(word)"
   ]
  },
  {
   "cell_type": "code",
   "execution_count": 132,
   "metadata": {},
   "outputs": [],
   "source": [
    "a_atwo_ctr_two = Counter()\n",
    "a_atwo_sfreq_ctr_two = Counter()\n",
    "a_atwo_cleaned_two = get_cleaned_album_all(a_album_two_lyrics, a_atwo_ctr_two, a_atwo_sfreq_ctr_two, 2)"
   ]
  },
  {
   "cell_type": "code",
   "execution_count": 133,
   "metadata": {},
   "outputs": [
    {
     "data": {
      "text/plain": [
       "[('in the', 30),\n",
       " ('and i', 26),\n",
       " ('work until', 25),\n",
       " ('the same', 18),\n",
       " ('ive been', 17),\n",
       " ('until it', 17),\n",
       " ('in my', 16),\n",
       " ('to me', 16),\n",
       " ('i just', 16),\n",
       " ('on my', 15),\n",
       " ('we gon', 15),\n",
       " ('i say', 15),\n",
       " ('i dont', 14),\n",
       " ('up this', 14),\n",
       " ('if you', 14),\n",
       " ('it work', 14),\n",
       " ('i know', 13),\n",
       " ('woke up', 13),\n",
       " ('i been', 12),\n",
       " ('so i', 12),\n",
       " ('at the', 12),\n",
       " ('yeah i', 12),\n",
       " ('gon put', 12),\n",
       " ('put in', 12),\n",
       " ('in work', 12),\n",
       " ('i cant', 11),\n",
       " ('the ground', 11),\n",
       " ('i think', 11),\n",
       " ('on the', 10),\n",
       " ('its all', 10),\n",
       " ('this shit', 10),\n",
       " ('to you', 10),\n",
       " ('i woke', 10),\n",
       " ('dont go', 10),\n",
       " ('of the', 9),\n",
       " ('love you', 9),\n",
       " ('when i', 9),\n",
       " ('uh yeah', 9),\n",
       " ('from the', 9),\n",
       " ('to be', 9),\n",
       " ('how i', 9),\n",
       " ('a long', 9),\n",
       " ('the way', 9),\n",
       " ('that i', 9),\n",
       " ('i got', 9),\n",
       " ('what i', 9),\n",
       " ('im a', 9),\n",
       " ('they like', 9),\n",
       " ('a fuckin', 9),\n",
       " ('uh uh', 9)]"
      ]
     },
     "execution_count": 133,
     "metadata": {},
     "output_type": "execute_result"
    }
   ],
   "source": [
    "# show the most common 2-grams\n",
    "a_atwo_ctr_two.most_common(50)"
   ]
  },
  {
   "cell_type": "code",
   "execution_count": 134,
   "metadata": {},
   "outputs": [
    {
     "data": {
      "text/plain": [
       "[('in the', 13),\n",
       " ('i just', 9),\n",
       " ('and i', 8),\n",
       " ('in my', 8),\n",
       " ('the same', 8),\n",
       " ('of the', 7),\n",
       " ('so i', 7),\n",
       " ('when i', 7),\n",
       " ('on the', 7),\n",
       " ('i think', 7),\n",
       " ('i got', 7),\n",
       " ('im a', 7),\n",
       " ('through the', 6),\n",
       " ('ive been', 6),\n",
       " ('but you', 6),\n",
       " ('to me', 6),\n",
       " ('i been', 6),\n",
       " ('love you', 6),\n",
       " ('i cant', 6),\n",
       " ('i dont', 6),\n",
       " ('to the', 6),\n",
       " ('with the', 6),\n",
       " ('that i', 6),\n",
       " ('if you', 6),\n",
       " ('for me', 6),\n",
       " ('on my', 6),\n",
       " ('what i', 6),\n",
       " ('yeah i', 6),\n",
       " ('got a', 5),\n",
       " ('in a', 5),\n",
       " ('be the', 5),\n",
       " ('all of', 5),\n",
       " ('i know', 5),\n",
       " ('you know', 5),\n",
       " ('up the', 5),\n",
       " ('im tryna', 5),\n",
       " ('the ground', 5),\n",
       " ('bitch im', 5),\n",
       " ('no matter', 5),\n",
       " ('you cant', 5),\n",
       " ('me and', 5),\n",
       " ('me i', 5),\n",
       " ('if i', 5),\n",
       " ('for the', 5),\n",
       " ('i see', 5),\n",
       " ('im not', 5),\n",
       " ('me a', 5),\n",
       " ('i say', 5),\n",
       " ('just a', 4),\n",
       " ('your side', 4)]"
      ]
     },
     "execution_count": 134,
     "metadata": {},
     "output_type": "execute_result"
    }
   ],
   "source": [
    "# show the 2-grams that appear the most often in the album\n",
    "a_atwo_sfreq_ctr_two.most_common(50)"
   ]
  },
  {
   "cell_type": "code",
   "execution_count": 135,
   "metadata": {},
   "outputs": [],
   "source": [
    "a_atwo_ctr_three = Counter()\n",
    "a_atwo_sfreq_ctr_three = Counter()\n",
    "a_atwo_cleaned_three = get_cleaned_album_all(a_album_two_lyrics, a_atwo_ctr_three, a_atwo_sfreq_ctr_three, 3)"
   ]
  },
  {
   "cell_type": "code",
   "execution_count": 136,
   "metadata": {},
   "outputs": [
    {
     "data": {
      "text/plain": [
       "[('work until it', 17),\n",
       " ('until it work', 13),\n",
       " ('gon put in', 12),\n",
       " ('put in work', 12),\n",
       " ('in work until', 12),\n",
       " ('i woke up', 10),\n",
       " ('woke up this', 10),\n",
       " ('we gon put', 9),\n",
       " ('it work until', 9),\n",
       " ('shades of us', 8),\n",
       " ('the cameras on', 7),\n",
       " ('no matter how', 7),\n",
       " ('at the ground', 7),\n",
       " ('i love you', 6),\n",
       " ('a long long', 6),\n",
       " ('always lookin down', 6),\n",
       " ('lookin down yeah', 6),\n",
       " ('down yeah smilin', 6),\n",
       " ('yeah smilin at', 6),\n",
       " ('smilin at the', 6),\n",
       " ('the ground yeah', 6),\n",
       " ('drift drift away', 6),\n",
       " ('drift away youre', 6),\n",
       " ('away youre a', 6),\n",
       " ('the only one', 6),\n",
       " ('dont go dont', 6),\n",
       " ('be the same', 5),\n",
       " ('and its all', 5),\n",
       " ('turn the cameras', 5),\n",
       " ('its all a', 5),\n",
       " ('it aint like', 5),\n",
       " ('the way it', 5),\n",
       " ('its you and', 5),\n",
       " ('you and me', 5),\n",
       " ('cant you see', 5),\n",
       " ('up this mornin', 5),\n",
       " ('this mornin or', 5),\n",
       " ('mornin or should', 5),\n",
       " ('or should i', 5),\n",
       " ('should i say', 5),\n",
       " ('i say afternoon', 5),\n",
       " ('everything is borin', 5),\n",
       " ('is borin ima', 5),\n",
       " ('borin ima fuck', 5),\n",
       " ('ima fuck up', 5),\n",
       " ('fuck up my', 5),\n",
       " ('up my attitude', 5),\n",
       " ('my attitude i', 5),\n",
       " ('attitude i woke', 5),\n",
       " ('up this evenin', 5)]"
      ]
     },
     "execution_count": 136,
     "metadata": {},
     "output_type": "execute_result"
    }
   ],
   "source": [
    "# show the most common 3-grams\n",
    "a_atwo_ctr_three.most_common(50)"
   ]
  },
  {
   "cell_type": "code",
   "execution_count": 137,
   "metadata": {},
   "outputs": [
    {
     "data": {
      "text/plain": [
       "[('be the same', 4),\n",
       " ('i love you', 4),\n",
       " ('no matter how', 4),\n",
       " ('i know you', 3),\n",
       " ('by your side', 3),\n",
       " ('i got a', 3),\n",
       " ('a lot of', 3),\n",
       " ('i think i', 3),\n",
       " ('with the same', 3),\n",
       " ('yeah and i', 2),\n",
       " ('and its all', 2),\n",
       " ('i been in', 2),\n",
       " ('and i know', 2),\n",
       " ('my fate and', 2),\n",
       " ('all of the', 2),\n",
       " ('of your own', 2),\n",
       " ('the fuck do', 2),\n",
       " ('i just wanna', 2),\n",
       " ('know you got', 2),\n",
       " ('i been so', 2),\n",
       " ('in my mind', 2),\n",
       " ('in the snow', 2),\n",
       " ('to me and', 2),\n",
       " ('turn the cameras', 2),\n",
       " ('the ice ridge', 2),\n",
       " ('in this shit', 2),\n",
       " ('came in this', 2),\n",
       " ('i came in', 2),\n",
       " ('it was a', 2),\n",
       " ('me its all', 2),\n",
       " ('all a game', 2),\n",
       " ('up in the', 2),\n",
       " ('its all a', 2),\n",
       " ('thats why they', 2),\n",
       " ('ice ridge was', 2),\n",
       " ('in fact it', 2),\n",
       " ('to me its', 2),\n",
       " ('i just want', 2),\n",
       " ('a long long', 2),\n",
       " ('its been a', 2),\n",
       " ('im on the', 2),\n",
       " ('it aint like', 2),\n",
       " ('for me when', 2),\n",
       " ('long long day', 2),\n",
       " ('yeah yeah yeah', 2),\n",
       " ('been a long', 2),\n",
       " ('wait wait wait', 2),\n",
       " ('at the ground', 2),\n",
       " ('it in a', 2),\n",
       " ('to be happy', 2)]"
      ]
     },
     "execution_count": 137,
     "metadata": {},
     "output_type": "execute_result"
    }
   ],
   "source": [
    "# show the 3-grams that appear the most often in the album\n",
    "a_atwo_sfreq_ctr_three.most_common(50)"
   ]
  },
  {
   "cell_type": "markdown",
   "metadata": {},
   "source": [
    "#### From Me To You Analysis\n"
   ]
  },
  {
   "cell_type": "markdown",
   "metadata": {},
   "source": [
    "Here are the notable n-grams that I found while going through all the lists:\n",
    "* 1-Grams: love, tryna, youre, time, feel, back, away, life\n",
    "* 2-Grams: dont go, love you, im tryna, me and, your side\n",
    "* 3-Grams: shades of us, i love you, drift drift away, dont go dont, you and me, i know you, no matter how, by your side, all a game, long long day \n",
    "\n",
    "It appears in the From Me To You (2021) album, Quadeca seems to have songs that talk about love and a relationship with a significant other. From the phrases, it seems like Quadeca is reflecting on a past relationship that does not exist anymore. At first, the relationship seems to be healthy, but as time goes on, the two slowly start to drift away from each other until there are only shades of their original selves left. "
   ]
  },
  {
   "cell_type": "markdown",
   "metadata": {},
   "source": [
    "#### Observations for all Albums Before the Insecure Diss Track"
   ]
  },
  {
   "cell_type": "code",
   "execution_count": 66,
   "metadata": {},
   "outputs": [],
   "source": [
    "# insert some text here"
   ]
  },
  {
   "cell_type": "markdown",
   "metadata": {},
   "source": [
    "# Overall Observations from the Word Frequency and N-Gram Frequency Lists"
   ]
  },
  {
   "cell_type": "code",
   "execution_count": 67,
   "metadata": {},
   "outputs": [],
   "source": [
    "# insert some text here"
   ]
  }
 ],
 "metadata": {
  "kernelspec": {
   "display_name": "Python 3",
   "language": "python",
   "name": "python3"
  },
  "language_info": {
   "codemirror_mode": {
    "name": "ipython",
    "version": 3
   },
   "file_extension": ".py",
   "mimetype": "text/x-python",
   "name": "python",
   "nbconvert_exporter": "python",
   "pygments_lexer": "ipython3",
   "version": "3.7.3"
  }
 },
 "nbformat": 4,
 "nbformat_minor": 2
}

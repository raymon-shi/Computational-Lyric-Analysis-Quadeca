{
 "cells": [
  {
   "cell_type": "markdown",
   "metadata": {},
   "source": [
    "# Question 2: If Quadeca’s music did change, did the success of *Insecure* influence Quadeca to make music that reflected mainstream musical themes and styles?"
   ]
  },
  {
   "cell_type": "markdown",
   "metadata": {},
   "source": [
    "## Setup"
   ]
  },
  {
   "cell_type": "code",
   "execution_count": 23,
   "metadata": {},
   "outputs": [],
   "source": [
    "from collections import Counter\n",
    "import nltk\n",
    "from nltk.corpus import stopwords\n",
    "import math\n",
    "import pandas as pd\n",
    "import os\n",
    "import random\n",
    "import re\n",
    "import string"
   ]
  },
  {
   "cell_type": "code",
   "execution_count": 24,
   "metadata": {},
   "outputs": [],
   "source": [
    "# import notebooks to run\n",
    "%run /Commjhub/jupyterhub/comm318_fall2019/raymon-shi/comm313_S21/comm313_S21_Final_Project/data/functions.ipynb"
   ]
  },
  {
   "cell_type": "code",
   "execution_count": 25,
   "metadata": {},
   "outputs": [],
   "source": [
    "%store -r after_all_lyrics\n",
    "%store -r all_rap_chart_lyrics"
   ]
  },
  {
   "cell_type": "code",
   "execution_count": 26,
   "metadata": {},
   "outputs": [],
   "source": [
    "quadeca_music_tokens = album_tokenizer(after_all_lyrics)\n",
    "billboard_rap_tokens = album_tokenizer(all_rap_chart_lyrics)"
   ]
  },
  {
   "cell_type": "code",
   "execution_count": null,
   "metadata": {},
   "outputs": [],
   "source": []
  },
  {
   "cell_type": "markdown",
   "metadata": {},
   "source": [
    "## Keyness Analysis"
   ]
  },
  {
   "cell_type": "code",
   "execution_count": 27,
   "metadata": {},
   "outputs": [],
   "source": [
    "quadeca_counter = Counter()\n",
    "quadeca_counter.update(quadeca_music_tokens)"
   ]
  },
  {
   "cell_type": "code",
   "execution_count": 28,
   "metadata": {},
   "outputs": [
    {
     "data": {
      "text/plain": [
       "[('i', 792),\n",
       " ('the', 498),\n",
       " ('a', 337),\n",
       " ('yeah', 320),\n",
       " ('you', 317),\n",
       " ('to', 283),\n",
       " ('my', 270),\n",
       " ('im', 233),\n",
       " ('me', 231),\n",
       " ('in', 216),\n",
       " ('they', 206),\n",
       " ('and', 203),\n",
       " ('it', 197),\n",
       " ('like', 178),\n",
       " ('huh', 157),\n",
       " ('that', 151),\n",
       " ('on', 142),\n",
       " ('uh', 140),\n",
       " ('but', 131),\n",
       " ('all', 121)]"
      ]
     },
     "execution_count": 28,
     "metadata": {},
     "output_type": "execute_result"
    }
   ],
   "source": [
    "quadeca_counter.most_common(20)"
   ]
  },
  {
   "cell_type": "code",
   "execution_count": 29,
   "metadata": {},
   "outputs": [],
   "source": [
    "billboard_rap_counter = Counter()\n",
    "billboard_rap_counter.update(billboard_rap_tokens)"
   ]
  },
  {
   "cell_type": "code",
   "execution_count": 30,
   "metadata": {},
   "outputs": [
    {
     "data": {
      "text/plain": [
       "[('i', 3663),\n",
       " ('the', 2919),\n",
       " ('you', 2335),\n",
       " ('a', 2085),\n",
       " ('it', 1473),\n",
       " ('my', 1451),\n",
       " ('me', 1370),\n",
       " ('yeah', 1336),\n",
       " ('and', 1184),\n",
       " ('on', 1163),\n",
       " ('to', 1143),\n",
       " ('in', 1129),\n",
       " ('im', 1108),\n",
       " ('like', 988),\n",
       " ('that', 936),\n",
       " ('with', 794),\n",
       " ('got', 733),\n",
       " ('up', 727),\n",
       " ('she', 617),\n",
       " ('dont', 558)]"
      ]
     },
     "execution_count": 30,
     "metadata": {},
     "output_type": "execute_result"
    }
   ],
   "source": [
    "billboard_rap_counter.most_common(20)"
   ]
  },
  {
   "cell_type": "markdown",
   "metadata": {},
   "source": [
    "### Keyness of Quadeca's Music Compared to Billboard Rap Music"
   ]
  },
  {
   "cell_type": "code",
   "execution_count": 37,
   "metadata": {},
   "outputs": [
    {
     "name": "stdout",
     "output_type": "stream",
     "text": [
      "WORD                     Corpus A  Corpus B  Keyness\n",
      "====================================================\n",
      "huh                      157       108       271.430\n",
      "uh                       140       202       133.198\n",
      "they                     206       489       94.769\n",
      "until                    36        14        81.577\n",
      "work                     44        34        70.846\n",
      "think                    54        64        62.612\n",
      "nothing                  27        13        56.024\n",
      "myself                   26        15        49.487\n",
      "usual                    18        5         45.698\n",
      "uhhuh                    22        15        38.232\n",
      "but                      131       394       34.713\n",
      "looking                  15        6         33.624\n",
      "again                    27        31        32.218\n",
      "woke                     15        7         31.556\n",
      "away                     22        22        29.481\n",
      "fuckin                   46        91        29.008\n",
      "matter                   15        9         27.976\n",
      "kid                      13        6         27.480\n",
      "days                     26        34        27.432\n",
      "been                     73        194       26.470\n",
      "ive                      29        44        26.068\n",
      "life                     43        89        25.241\n",
      "hahaha                   14        9         25.155\n",
      "motherfuckin             14        9         25.155\n",
      "i                        792       3663      24.545\n",
      "okay                     27        41        24.246\n",
      "wrong                    18        18        24.121\n",
      "were                     29        47        24.088\n",
      "to                       283       1143      23.608\n",
      "feelin                   17        17        22.781\n",
      "same                     23        33        22.018\n",
      "yeah                     320       1336      21.929\n",
      "feel                     40        87        21.604\n",
      "own                      14        12        21.034\n",
      "still                    46        111       20.491\n",
      "dream                    11        7         19.876\n",
      "true                     14        13        19.857\n",
      "when                     87        277       19.473\n",
      "thank                    14        14        18.761\n",
      "all                      121       430       18.411\n",
      "line                     11        8         18.396\n",
      "youre                    31        64        18.272\n",
      "long                     22        36        18.056\n",
      "left                     25        46        17.550\n",
      "lookin                   21        34        17.465\n",
      "music                    11        9         17.060\n",
      "so                       84        278       16.579\n",
      "never                    57        166       16.494\n",
      "if                       75        245       15.461\n",
      "alone                    18        30        14.435\n"
     ]
    }
   ],
   "source": [
    "calculate_keyness(quadeca_counter, billboard_rap_counter, top=50)"
   ]
  },
  {
   "cell_type": "markdown",
   "metadata": {},
   "source": [
    "### Keyness of Billboard Rap Music Compared to Quadeca's Music"
   ]
  },
  {
   "cell_type": "code",
   "execution_count": 34,
   "metadata": {},
   "outputs": [
    {
     "name": "stdout",
     "output_type": "stream",
     "text": [
      "WORD                     Corpus A  Corpus B  Keyness\n",
      "====================================================\n",
      "she                      617       24        87.529\n",
      "her                      361       13        54.190\n",
      "with                     794       63        47.594\n",
      "niggas                   243       6         45.486\n",
      "bitch                    538       36        42.872\n",
      "woo                      235       8         36.657\n",
      "down                     342       21        30.705\n",
      "money                    218       9         29.508\n",
      "got                      733       71        27.958\n",
      "walk                     192       8         25.793\n",
      "we                       501       45        23.116\n",
      "ass                      146       5         22.684\n",
      "you                      2335      317       21.290\n",
      "bad                      136       5         20.117\n",
      "on                       1163      142       19.411\n",
      "get                      499       50        17.306\n",
      "fuck                     372       34        16.466\n",
      "it                       1473      197       14.845\n",
      "talk                     145       8         14.837\n",
      "give                     134       7         14.563\n",
      "ayy                      417       42        14.246\n",
      "big                      143       9         12.424\n",
      "him                      132       8         12.054\n",
      "around                   119       7         11.284\n",
      "let                      206       19        8.918\n",
      "gave                     88        5         8.702\n",
      "your                     521       64        8.446\n",
      "lot                      105       7         8.413\n",
      "he                       231       23        8.160\n",
      "good                     97        7         6.874\n"
     ]
    }
   ],
   "source": [
    "calculate_keyness(billboard_rap_counter, quadeca_counter)"
   ]
  },
  {
   "cell_type": "markdown",
   "metadata": {},
   "source": [
    "### Overall Observation from Keyness of the Corpuses"
   ]
  },
  {
   "cell_type": "markdown",
   "metadata": {},
   "source": [
    "Words that are more likely to occur in Quadeca's Corpus than the Billboard Rap Music Corpus are:\n",
    "* `huh, uh, they, until, work, think, nothing, myself, usual, uhhuh, but, looking, again, woke, away, fuckin, matter, kid, days, been, ive, life, hahaha, motherfuckin, i, okay, wrong, were, to, feelin, same, yeah, feel, own, still, dream, true, when, thank, all, line, youre, long, left, lookin, music, so, never, if, alone.` \n",
    "* There were more keywords that showed up in this corpus, but I decided to limit it at 50 because the list was pretty long.\n",
    "\n",
    "It appears that these keywords that seem to appear more frequently in this corpus are keywords that deal with life (`looking, life, feelin, feel, dream, lookin, alone, nothing`)\n",
    "\n",
    "From these keywords, I will select the following to do further analysis:\n",
    "* all, myself, woke, life, if \n",
    "\n",
    "Words that are more likely to occur in the Billboard Rap Music Corpus are:\n",
    "* `she, her, with, the n word, bitch, woo, down, money, got, walk, we, ass, you, bad, on, get, fuck, it, talk, give, ayy, big, him, around, let, gave, your, lot, he, good`.\n",
    "\n",
    "It appears that these keywords that seem to appear more frequently in this corpus are keywords that deal with materialistic items (`money, give, big`) and romantic/sexual relationships with females (`she, her, bitch, ass, bad, fuck`).\n",
    "\n",
    "From these keywords, I will select the following to do further analysis:\n",
    "* bitch, down, got, walk, you"
   ]
  },
  {
   "cell_type": "markdown",
   "metadata": {},
   "source": [
    "## Keywords in Context Concordances Analysis"
   ]
  },
  {
   "cell_type": "markdown",
   "metadata": {},
   "source": [
    "### Quadeca's Music"
   ]
  },
  {
   "cell_type": "code",
   "execution_count": null,
   "metadata": {},
   "outputs": [],
   "source": []
  },
  {
   "cell_type": "code",
   "execution_count": null,
   "metadata": {},
   "outputs": [],
   "source": []
  },
  {
   "cell_type": "code",
   "execution_count": null,
   "metadata": {},
   "outputs": [],
   "source": []
  },
  {
   "cell_type": "code",
   "execution_count": null,
   "metadata": {},
   "outputs": [],
   "source": []
  },
  {
   "cell_type": "code",
   "execution_count": null,
   "metadata": {},
   "outputs": [],
   "source": []
  },
  {
   "cell_type": "markdown",
   "metadata": {},
   "source": [
    "### Billboard Rap Music"
   ]
  },
  {
   "cell_type": "markdown",
   "metadata": {},
   "source": []
  },
  {
   "cell_type": "markdown",
   "metadata": {},
   "source": []
  },
  {
   "cell_type": "markdown",
   "metadata": {},
   "source": []
  },
  {
   "cell_type": "markdown",
   "metadata": {},
   "source": []
  },
  {
   "cell_type": "markdown",
   "metadata": {},
   "source": []
  },
  {
   "cell_type": "markdown",
   "metadata": {},
   "source": []
  }
 ],
 "metadata": {
  "kernelspec": {
   "display_name": "Python 3",
   "language": "python",
   "name": "python3"
  },
  "language_info": {
   "codemirror_mode": {
    "name": "ipython",
    "version": 3
   },
   "file_extension": ".py",
   "mimetype": "text/x-python",
   "name": "python",
   "nbconvert_exporter": "python",
   "pygments_lexer": "ipython3",
   "version": "3.7.3"
  }
 },
 "nbformat": 4,
 "nbformat_minor": 2
}

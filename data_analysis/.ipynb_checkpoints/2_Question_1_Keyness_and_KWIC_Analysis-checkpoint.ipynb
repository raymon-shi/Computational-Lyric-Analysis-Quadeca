{
 "cells": [
  {
   "cell_type": "markdown",
   "metadata": {},
   "source": [
    "# Question 1: Did Quadeca's Musical Themes and Musical Style Change From the Period Before Insecure Compared to the Period After Insecure?"
   ]
  },
  {
   "cell_type": "markdown",
   "metadata": {},
   "source": [
    "---"
   ]
  },
  {
   "cell_type": "markdown",
   "metadata": {},
   "source": [
    "## Setup"
   ]
  },
  {
   "cell_type": "code",
   "execution_count": 24,
   "metadata": {},
   "outputs": [],
   "source": [
    "from collections import Counter\n",
    "import nltk\n",
    "from nltk.corpus import stopwords\n",
    "import math\n",
    "import pandas as pd\n",
    "import os\n",
    "import random\n",
    "import re\n",
    "import string"
   ]
  },
  {
   "cell_type": "code",
   "execution_count": 64,
   "metadata": {},
   "outputs": [],
   "source": [
    "# import other notebooks\n",
    "\n",
    "# NOTE don't use absolute paths so to get to the data folder ../data\n",
    "# also these notebooks are not really data - so either put in the data_analysis notebook\n",
    "# or you can create a folder called 'functions'\n",
    "\n",
    "%run ../data/functions.ipynb"
   ]
  },
  {
   "cell_type": "code",
   "execution_count": null,
   "metadata": {},
   "outputs": [],
   "source": []
  },
  {
   "cell_type": "code",
   "execution_count": 26,
   "metadata": {},
   "outputs": [],
   "source": [
    "# import important variables\n",
    "%store -r b_album_one_lyrics\n",
    "%store -r b_album_two_lyrics\n",
    "%store -r b_album_three_lyrics\n",
    "%store -r b_album_four_lyrics\n",
    "%store -r a_album_one_lyrics\n",
    "%store -r a_album_two_lyrics"
   ]
  },
  {
   "cell_type": "code",
   "execution_count": 27,
   "metadata": {},
   "outputs": [],
   "source": [
    "# important global varialbes\n",
    "b_aone_tokens = album_tokenizer(b_album_one_lyrics)\n",
    "b_atwo_tokens = album_tokenizer(b_album_two_lyrics)\n",
    "b_athree_tokens = album_tokenizer(b_album_three_lyrics)\n",
    "b_afour_tokens = album_tokenizer(b_album_four_lyrics)\n",
    "\n",
    "a_aone_tokens = album_tokenizer(a_album_one_lyrics)\n",
    "a_atwo_tokens = album_tokenizer(a_album_two_lyrics)"
   ]
  },
  {
   "cell_type": "markdown",
   "metadata": {},
   "source": [
    "---"
   ]
  },
  {
   "cell_type": "markdown",
   "metadata": {},
   "source": [
    "## Keyness Analysis"
   ]
  },
  {
   "cell_type": "code",
   "execution_count": 28,
   "metadata": {},
   "outputs": [],
   "source": [
    "# Creating a token counter for all albums before the Insecure diss track\n",
    "before_all_tokens = Counter()\n",
    "before_all_tokens.update(b_aone_tokens)\n",
    "before_all_tokens.update(b_atwo_tokens)\n",
    "before_all_tokens.update(b_athree_tokens)\n",
    "before_all_tokens.update(b_afour_tokens)"
   ]
  },
  {
   "cell_type": "code",
   "execution_count": 29,
   "metadata": {},
   "outputs": [
    {
     "data": {
      "text/plain": [
       "[('i', 1316),\n",
       " ('the', 1042),\n",
       " ('im', 714),\n",
       " ('and', 678),\n",
       " ('to', 676),\n",
       " ('a', 654),\n",
       " ('you', 538),\n",
       " ('it', 511),\n",
       " ('that', 446),\n",
       " ('my', 434),\n",
       " ('in', 389),\n",
       " ('me', 370),\n",
       " ('but', 314),\n",
       " ('like', 301),\n",
       " ('of', 281),\n",
       " ('so', 268),\n",
       " ('all', 259),\n",
       " ('is', 259),\n",
       " ('just', 258),\n",
       " ('they', 258)]"
      ]
     },
     "execution_count": 29,
     "metadata": {},
     "output_type": "execute_result"
    }
   ],
   "source": [
    "before_all_tokens.most_common(20)"
   ]
  },
  {
   "cell_type": "code",
   "execution_count": 30,
   "metadata": {},
   "outputs": [],
   "source": [
    "# Creating a token counter for all albums after the Insecure diss track\n",
    "after_all_tokens = Counter()\n",
    "after_all_tokens.update(a_aone_tokens)\n",
    "after_all_tokens.update(a_atwo_tokens)"
   ]
  },
  {
   "cell_type": "code",
   "execution_count": 31,
   "metadata": {},
   "outputs": [
    {
     "data": {
      "text/plain": [
       "[('i', 792),\n",
       " ('the', 498),\n",
       " ('a', 337),\n",
       " ('yeah', 320),\n",
       " ('you', 317),\n",
       " ('to', 283),\n",
       " ('my', 270),\n",
       " ('im', 233),\n",
       " ('me', 231),\n",
       " ('in', 216),\n",
       " ('they', 206),\n",
       " ('and', 203),\n",
       " ('it', 197),\n",
       " ('like', 178),\n",
       " ('huh', 156),\n",
       " ('that', 151),\n",
       " ('on', 142),\n",
       " ('uh', 140),\n",
       " ('but', 131),\n",
       " ('all', 121)]"
      ]
     },
     "execution_count": 31,
     "metadata": {},
     "output_type": "execute_result"
    }
   ],
   "source": [
    "after_all_tokens.most_common(20)"
   ]
  },
  {
   "cell_type": "markdown",
   "metadata": {},
   "source": [
    "### Keyness of Before Tokens Compared to After Tokens"
   ]
  },
  {
   "cell_type": "code",
   "execution_count": 32,
   "metadata": {},
   "outputs": [
    {
     "name": "stdout",
     "output_type": "stream",
     "text": [
      "WORD                     Corpus A  Corpus B  Keyness\n",
      "====================================================\n",
      "and                      678       203       49.800\n",
      "people                   92        7         40.828\n",
      "im                       714       233       38.843\n",
      "man                      140       20        38.739\n",
      "is                       259       60        35.991\n",
      "know                     232       62        23.466\n",
      "am                       82        12        22.125\n",
      "that                     446       151       20.905\n",
      "really                   99        18        20.526\n",
      "ive                      130       29        19.416\n",
      "find                     52        6         17.502\n",
      "so                       268       84        16.908\n",
      "livin                    50        7         14.123\n",
      "feeling                  45        6         13.333\n",
      "it                       511       197       12.196\n",
      "we                       154       45        12.191\n",
      "ever                     37        6         8.892\n",
      "to                       676       283       8.581\n",
      "game                     45        9         8.102\n",
      "thought                  38        7         7.736\n",
      "of                       281       107       7.247\n",
      "about                    57        14        7.020\n",
      "will                     48        11        6.812\n"
     ]
    }
   ],
   "source": [
    "calculate_keyness(before_all_tokens, after_all_tokens, top=100)"
   ]
  },
  {
   "cell_type": "markdown",
   "metadata": {},
   "source": [
    "### Keyness of After Tokens Compared to Before Tokens"
   ]
  },
  {
   "cell_type": "code",
   "execution_count": 33,
   "metadata": {},
   "outputs": [
    {
     "name": "stdout",
     "output_type": "stream",
     "text": [
      "WORD                     Corpus A  Corpus B  Keyness\n",
      "====================================================\n",
      "uh                       140       31        166.404\n",
      "yeah                     320       236       129.253\n",
      "ooh                      50        8         68.160\n",
      "work                     44        16        38.774\n",
      "gon                      43        17        35.503\n",
      "until                    36        12        33.772\n",
      "still                    46        21        33.508\n",
      "real                     36        14        30.120\n",
      "nothing                  27        7         29.585\n",
      "did                      32        13        25.837\n",
      "was                      62        45        25.691\n",
      "had                      35        18        22.647\n",
      "they                     206       258       21.745\n",
      "everything               29        13        21.484\n",
      "ayy                      42        28        19.769\n",
      "fuckin                   46        33        19.413\n",
      "he                       23        9         19.148\n",
      "didnt                    15        5         14.072\n",
      "nothin                   23        13        13.397\n",
      "long                     22        12        13.349\n",
      "bitch                    36        29        12.498\n",
      "think                    54        53        12.330\n",
      "i                        792       1316      12.216\n",
      "alone                    18        9         11.994\n",
      "left                     25        18        10.491\n",
      "she                      24        17        10.330\n",
      "myself                   26        20        9.792\n",
      "matter                   15        8         9.332\n",
      "old                      19        13        8.614\n",
      "if                       75        92        8.601\n",
      "only                     31        28        8.577\n",
      "used                     16        10        8.226\n",
      "looking                  15        9         8.127\n",
      "why                      30        28        7.719\n",
      "wrong                    18        13        7.517\n",
      "love                     39        42        6.936\n",
      "thank                    14        9         6.931\n",
      "were                     29        28        6.892\n",
      "cant                     57        69        6.876\n",
      "em                       26        24        6.858\n",
      "back                     51        60        6.826\n",
      "turn                     13        8         6.820\n",
      "wish                     12        7         6.731\n",
      "anymore                  12        7         6.731\n",
      "sorry                    11        6         6.675\n"
     ]
    }
   ],
   "source": [
    "calculate_keyness(after_all_tokens, before_all_tokens, top=100)"
   ]
  },
  {
   "cell_type": "markdown",
   "metadata": {},
   "source": [
    "### Overall Observations from Keyness of the Corpuses"
   ]
  },
  {
   "cell_type": "markdown",
   "metadata": {},
   "source": [
    "Words that are more likely to occur in the corpus of the albums before the Insecure diss track than the corpus of the albums after the Insecure diss track are:\n",
    "* `and, people, im, man, is, know, am, that, really, ive, find, so, livin, feeling, it, we, ever, to, game, thought, of, about, will`\n",
    "\n",
    "It appears that these keywords that seem to appear more frequently in the corpus of the albums before the Insecure diss track than the corpus of the albums after the Insecure diss track are words that deal with other people's opinion and expectations (people) and words that deal with trying to find one's self (ive, find, livin, feeling, game, thought).\n",
    "\n",
    "From these words, I will be selecting the following to do further analysis:\n",
    "* `people, find, livin, feeling, game, thought`\n",
    "\n",
    "Words that are more likely to occur in the corpus of the albums after the Insecure diss track than the corpus of the albums before the Insecure diss track are:\n",
    "* `uh, yeah, ooh, work, gon, until, still, real, nothing, did, was, had, they, everything, ayy, fuckin, he, didnt, nothin, long, bitch, think, i, alone, left, she, myself, matter, old, if, only, used, looking, why, wrong, love, thank, were, cant, em, back, turn, wish, anymore, sorry`\n",
    "\n",
    "It appears that these keywords that seem to appear more frequently in the corpus of the albums after the Insecure diss track than the corpus of the albums before the Insecure diss track are words that deal with loneliness and isolation (nothing, nothin, alone), a past relationship (had, everything, bitch, left, she, used, wrong, love, thank, anymore, sorry), and ad-libs (uh, yeah, ooh, ayy).\n",
    "\n",
    "From these words, I will be selecting the following to do further analysis:\n",
    "* `work, real, fuckin, think, left, looking, alone, love`"
   ]
  },
  {
   "cell_type": "markdown",
   "metadata": {},
   "source": [
    "---"
   ]
  },
  {
   "cell_type": "markdown",
   "metadata": {},
   "source": [
    "## Keywords in Context Concordances Analysis"
   ]
  },
  {
   "cell_type": "markdown",
   "metadata": {},
   "source": [
    "### Albums Before the Insecure Diss Track"
   ]
  },
  {
   "cell_type": "code",
   "execution_count": 34,
   "metadata": {},
   "outputs": [],
   "source": [
    "# create a token list with all the tokens from the albums before the diss track\n",
    "all_before_tokens = list()\n",
    "all_before_tokens.extend(b_aone_tokens)\n",
    "all_before_tokens.extend(b_atwo_tokens)\n",
    "all_before_tokens.extend(b_athree_tokens)\n",
    "all_before_tokens.extend(b_afour_tokens)"
   ]
  },
  {
   "cell_type": "markdown",
   "metadata": {},
   "source": [
    "#### Note"
   ]
  },
  {
   "cell_type": "markdown",
   "metadata": {},
   "source": [
    "I realized that I should have used the print_kwic() instead of taking screenshots of what the concordance looked like instead. The reason why I did this was because I was afraid that I would accidentally run the random.sample() cell again and lose the original concordance that I was analyzing. Unfortunately, I cannot revert these changes back to the original call with print_kwic() and if I try to run print_kwic() it will produce a different concordance and my analysis wouldn't make any sense anymore. As a result, I will keep the screenshots and hopefully you understand why. The existing print_kwic() calls are just for show and will not/do not produce the same concordance as shown in the imagine, which my analysis refers to."
   ]
  },
  {
   "cell_type": "markdown",
   "metadata": {},
   "source": [
    "#### Keyword: People"
   ]
  },
  {
   "cell_type": "code",
   "execution_count": 69,
   "metadata": {},
   "outputs": [],
   "source": [
    "b_people = make_kwic('people', all_before_tokens, win=8)\n",
    "b_people_sample = random.sample(b_people, 15)"
   ]
  },
  {
   "cell_type": "code",
   "execution_count": null,
   "metadata": {},
   "outputs": [],
   "source": [
    "print_kwic(sort_kwic(b_people_sample, 'R1'))"
   ]
  },
  {
   "cell_type": "markdown",
   "metadata": {},
   "source": [
    "<img src=\"images/b_people.png\">"
   ]
  },
  {
   "cell_type": "markdown",
   "metadata": {},
   "source": [
    "#### Observation on: People"
   ]
  },
  {
   "cell_type": "markdown",
   "metadata": {},
   "source": [
    "The term `people` is being used to describe:\n",
    ">* generic groups of human beings (ex: 4, 8)\n",
    ">* critics and haters (ex: 3)\n",
    "\n",
    ">From this random sample of the term `people`, it seems that Quadeca is addressing the haters and doubters that tell him that he should quit rapping. This can be seen in the line `my stance scare everyone awawy whenever i dance people in the comments sayin i cant rap` and `gonna make it no im stoppin at nothin people are tryna say i cant but they oughta`."
   ]
  },
  {
   "cell_type": "markdown",
   "metadata": {},
   "source": [
    "#### Keyword: Find"
   ]
  },
  {
   "cell_type": "code",
   "execution_count": 14,
   "metadata": {},
   "outputs": [],
   "source": [
    "b_find = make_kwic('find', all_before_tokens, win=8)\n",
    "b_find_sample = random.sample(b_find, 15)"
   ]
  },
  {
   "cell_type": "code",
   "execution_count": null,
   "metadata": {},
   "outputs": [],
   "source": [
    "print_kwic(sort_kwic(b_find_sample, 'R1'))"
   ]
  },
  {
   "cell_type": "markdown",
   "metadata": {},
   "source": [
    "<img src=\"images/b_find.png\">"
   ]
  },
  {
   "cell_type": "markdown",
   "metadata": {},
   "source": [
    "#### Observation on: Find"
   ]
  },
  {
   "cell_type": "markdown",
   "metadata": {},
   "source": [
    "The term `find` is being used to describe:\n",
    "\n",
    ">* to search for something (ex: 1, 2)\n",
    ">* to discover yourself (ex: 7)\n",
    "\n",
    ">From this random sample of the term `find`, it seems that Quadeca is trying to obtain answers to his uncertainties and insecurities. This can be seen in the lines `much life i wonder why i cant just find mine got so many confusin questions so much`, `eye and i know that i need to find my way i need to find my way`, and `now blues clues man i think i gotta find out every question man i really wanna hide`. There are also references of Quadeca trying to reach what seems to be unobtainable goals such as fame, success, and happiness. This can be seen in the line `tryna find the great escape we're just tryna find the great escape sometimes i dont know what'll`. Lastly, there is a reference to Quadeca trying to find adequate competition within the YouTube/Spotify rap game. This can be seen in the line \"i have been searching the map trying to find another fucking person that raps perfectly fast with.\" "
   ]
  },
  {
   "cell_type": "markdown",
   "metadata": {},
   "source": [
    "#### Keyword: Livin"
   ]
  },
  {
   "cell_type": "code",
   "execution_count": 16,
   "metadata": {},
   "outputs": [],
   "source": [
    "b_livin = make_kwic('livin', all_before_tokens, win=8)\n",
    "b_livin_sample = random.sample(b_livin, 15)"
   ]
  },
  {
   "cell_type": "code",
   "execution_count": null,
   "metadata": {},
   "outputs": [],
   "source": [
    "print_kwic(sort_kwic(b_livin_sample, 'R1'))"
   ]
  },
  {
   "cell_type": "markdown",
   "metadata": {},
   "source": [
    "<img src=\"images/b_livin.png\">"
   ]
  },
  {
   "cell_type": "markdown",
   "metadata": {},
   "source": [
    "#### Observations on: Livin"
   ]
  },
  {
   "cell_type": "markdown",
   "metadata": {},
   "source": [
    "The term `livin` is being used to describe:\n",
    ">* to experience one's life\n",
    "\n",
    ">From this random sample of the term 'living', it seems that Quadeca is going through a tough time in his life. This is reflected in the lines `vibe in that shit when we replay it livin a life of pain just to alleviate it` and `it is to make it look like i'm livin for something useful and it's sad but you`. However, there are also other references where it seems like Quadeca is bragging about how good his life is and doesn't really care what the haters say about him. This can be seen in the lines `changin opinions is that right i'm winnin i'm livin i'm spittin a million words per the minute`, `make crazy lives you're just angry cause you're livin in a fading lie and i've been feelin`, `to ball out its the life that i'm livin life that i'm livin not sure who to`, and `it i'm livin i said fuck it i'm livin people are gettin mad just because yeah i'm.`"
   ]
  },
  {
   "cell_type": "markdown",
   "metadata": {},
   "source": [
    "#### Keyword: Feeling"
   ]
  },
  {
   "cell_type": "code",
   "execution_count": 18,
   "metadata": {},
   "outputs": [],
   "source": [
    "b_feeling = make_kwic('feeling', all_before_tokens, win=8)\n",
    "b_feeling_sample = random.sample(b_feeling, 15)"
   ]
  },
  {
   "cell_type": "code",
   "execution_count": null,
   "metadata": {},
   "outputs": [],
   "source": [
    "print_kwic(sort_kwic(b_feeling_sample, 'R1'))"
   ]
  },
  {
   "cell_type": "markdown",
   "metadata": {},
   "source": [
    "<img src=\"images/b_feeling.png\">"
   ]
  },
  {
   "cell_type": "markdown",
   "metadata": {},
   "source": [
    "#### Observations on: Feeling"
   ]
  },
  {
   "cell_type": "markdown",
   "metadata": {},
   "source": [
    "The term `feeling` is being used to describe:\n",
    ">* to experience a specific mood or emotion\n",
    "\n",
    ">From this random sample of the term `feeling`, it seems that Quadeca is noticing his gain in popularity and now feels like he is in limbo. He wants this attention, but there are also consequences that come with it such higher expectations and more harassment. This can be seen in the lines `everybody tryna say me name while i been feeling like a need a change need a change` and `yeah i've been in a whole new place feeling like there's more at stake more at stake.` One of the most interesting lines `shit is my biggest fear what if the feeling we have for each other ain't mutual what.` This line can be interpreted in different ways. Here, Quadeca could be referring to having feelings for a girl and her not reciprocating the same feeling. Although if you a deeper look into the lyrics and compare it to the rest of the random sample, one could argue that this line is referring to the relationship between his view on his growth as a rapper compared to his audience's/peers' view on his rapping talents. Either way, this line shows that Quadeca definitely feelings of insecurity.\n"
   ]
  },
  {
   "cell_type": "markdown",
   "metadata": {},
   "source": [
    "#### Keyword: Game"
   ]
  },
  {
   "cell_type": "code",
   "execution_count": 20,
   "metadata": {},
   "outputs": [],
   "source": [
    "b_game = make_kwic('game', all_before_tokens, win=8)\n",
    "b_game_sample = random.sample(b_game, 15)"
   ]
  },
  {
   "cell_type": "code",
   "execution_count": null,
   "metadata": {},
   "outputs": [],
   "source": [
    "print_kwic(sort_kwic(b_game_sample, 'R1'))"
   ]
  },
  {
   "cell_type": "markdown",
   "metadata": {},
   "source": [
    "<img src=\"images/b_game.png\">"
   ]
  },
  {
   "cell_type": "markdown",
   "metadata": {},
   "source": [
    "#### Observations on: Game"
   ]
  },
  {
   "cell_type": "markdown",
   "metadata": {},
   "source": [
    "The term `game` is being used to describe:\n",
    ">* the rapping scene (ex: 1, 3)\n",
    ">* a competitive form of entertainment that usually has no risk (ex: 9, 10, 12)\n",
    "\n",
    ">From this random sample of the term `game`, it seems that Quadeca is prideful of his rapping capability and constantly has to defend himself within the YouTube/Spotify rap game. This can be seen in the line `people still claim i'm the worst in the game and it hurts to explain and i'm currently`. This is definitely not the first time that Quadeca seems to be defending himself from the haters and doubters, as we've seen this topic in other concordances before this one. Quadeca seems to use the term `game` in two specific contexts. The first context is whenever he is referring to the rap game, while the second context is usually when he juxtapose life and a game. Lines like `ayy oh oh said i'm married to the game i'm married to the game said i'm married` show his dedication to the rap game and wanting to improve on his craft. Other lines like `give a shit man life's insane life's a game we just livin for a big plan` shows how Quadeca compares life to a game."
   ]
  },
  {
   "cell_type": "markdown",
   "metadata": {},
   "source": [
    "#### Keyword: Thought"
   ]
  },
  {
   "cell_type": "code",
   "execution_count": 22,
   "metadata": {},
   "outputs": [],
   "source": [
    "b_thought = make_kwic('thought', all_before_tokens, win=8)\n",
    "b_game_sample = random.sample(b_thought, 15)"
   ]
  },
  {
   "cell_type": "code",
   "execution_count": null,
   "metadata": {},
   "outputs": [],
   "source": [
    "print_kwic(sort_kwic(b_game_sample, 'R1'))"
   ]
  },
  {
   "cell_type": "markdown",
   "metadata": {},
   "source": [
    "<img src=\"images/b_thought.png\">"
   ]
  },
  {
   "cell_type": "markdown",
   "metadata": {},
   "source": [
    "#### Observations on: Thought"
   ]
  },
  {
   "cell_type": "markdown",
   "metadata": {},
   "source": [
    "The term `thought` is being used to describe:\n",
    ">* a past idea or concept\n",
    ">* the past tense of thinking \n",
    "\n",
    ">From this random sample of the term `thought`, it seems that Quadeca has reached a point where he achieved goals that he set for himself when he was younger. He seems to be surprised and is relishing in his achievement. This can be seen in the lines `been doin a lot damn said who woulda thought bitch no chance i might just fly out`, `and look at where i am i never though i would acquire fans acquire bands say a`, and `as a and as a kid i never thought i'd be bein like this nah and as`. There are some references to a relationship with a girl. In the lines `i would ever upset you and i never thought that i would ever regret you yeah times` and `be i guess i fell in what i thought was love to a person who's truth was`, it seems that Quadeca had a relationship that ended poorly.\n",
    "\n"
   ]
  },
  {
   "cell_type": "markdown",
   "metadata": {},
   "source": [
    "#### Overall Observations from all Albums Before the Insecure Diss Track"
   ]
  },
  {
   "cell_type": "markdown",
   "metadata": {},
   "source": [
    "From all of the keywords in context concordances, it seems that the topics that Quadeca raps about in his earlier albums are on topics of:\n",
    "* proving himself as a rapper \n",
    "* dealing with depression and insecurities\n",
    "* dealing with his growth in popularity and meeting everyone's expectations\n",
    "* past relationships"
   ]
  },
  {
   "cell_type": "markdown",
   "metadata": {},
   "source": [
    "### Albums After the Insecure Diss Track"
   ]
  },
  {
   "cell_type": "code",
   "execution_count": 36,
   "metadata": {},
   "outputs": [],
   "source": [
    "# create a token list with all the tokens from the albums after the diss track\n",
    "all_after_tokens = list()\n",
    "all_after_tokens.extend(a_aone_tokens)\n",
    "all_after_tokens.extend(a_atwo_tokens)"
   ]
  },
  {
   "cell_type": "markdown",
   "metadata": {},
   "source": [
    "#### Keyword: Work"
   ]
  },
  {
   "cell_type": "code",
   "execution_count": 25,
   "metadata": {},
   "outputs": [],
   "source": [
    "a_work = make_kwic('work', all_after_tokens, win=8)\n",
    "a_work_sample = random.sample(a_work, 15)"
   ]
  },
  {
   "cell_type": "code",
   "execution_count": null,
   "metadata": {},
   "outputs": [],
   "source": [
    "print_kwic(sort_kwic(a_work_sample, 'R1'))"
   ]
  },
  {
   "cell_type": "markdown",
   "metadata": {},
   "source": [
    "<img src=\"images/a_work.png\">"
   ]
  },
  {
   "cell_type": "markdown",
   "metadata": {},
   "source": [
    "#### Observations on: Work"
   ]
  },
  {
   "cell_type": "markdown",
   "metadata": {},
   "source": [
    "The term `work` is being used to describe:\n",
    ">* the process of doing labor (ex: 2)\n",
    ">* reaching a resolution (ex: 3)\n",
    "\n",
    ">From this random sample of the term `work`, it seems like Quadeca is talking about his work ethic and his dedication to the rap game. It seems like Quadeca wants to improve on his rapping abilities and is constantly trying to do that. This can be seen in the lines `in a studio i'm clocking in like i work in a cubicle uh the kid is unusual`, `and jerry's nobody liking the way that i work they say \"blood sweat and tears that ain't`, and `they i don't even know we just gonna work uh until the trap out i been grindin`.\n"
   ]
  },
  {
   "cell_type": "markdown",
   "metadata": {},
   "source": [
    "#### Keyword: Real"
   ]
  },
  {
   "cell_type": "code",
   "execution_count": 27,
   "metadata": {},
   "outputs": [],
   "source": [
    "a_real = make_kwic('real', all_after_tokens, win=8)\n",
    "a_real_sample = random.sample(a_real, 15)"
   ]
  },
  {
   "cell_type": "code",
   "execution_count": null,
   "metadata": {},
   "outputs": [],
   "source": [
    "print_kwic(sort_kwic(a_real_sample, 'R1'))"
   ]
  },
  {
   "cell_type": "markdown",
   "metadata": {},
   "source": [
    "<img src=\"images/a_real.png\">"
   ]
  },
  {
   "cell_type": "markdown",
   "metadata": {},
   "source": [
    "#### Observations on: Real"
   ]
  },
  {
   "cell_type": "markdown",
   "metadata": {},
   "source": [
    "The term `real` is being used to describe:\n",
    ">* an object or feeling that exists in the world (ex: 1)\n",
    ">* not fake, genuine (ex: 8, 9)\n",
    "\n",
    "> From this random sample of the term `real`, it seems like Quadeca is talking about struggling with inner demons in his head. This can be seen in the lines `but he still standing in place yeah for real i wish i had more voices in my [head]`, `almost cried when i realized that everything was real when the brain can't articulate feelings in words`, and `my whole generations fuckin lonely and depressed that's real with a world that's gettin colder and repressed`. In other contexts, Quadeca seems to use the term `real` to describe himself as a genuine rapper/person . This can be seen in the line `all faking i'm the motherfuckin real thing for real they all hating i'm the motherfuckin real on`."
   ]
  },
  {
   "cell_type": "markdown",
   "metadata": {},
   "source": [
    "#### Keyword: Fuckin"
   ]
  },
  {
   "cell_type": "code",
   "execution_count": 29,
   "metadata": {},
   "outputs": [],
   "source": [
    "a_fuckin = make_kwic('fuckin', all_after_tokens, win=8)\n",
    "a_fuckin_sample = random.sample(a_fuckin, 15)"
   ]
  },
  {
   "cell_type": "code",
   "execution_count": null,
   "metadata": {},
   "outputs": [],
   "source": [
    "print_kwic(sort_kwic(a_fuckin_sample, 'R1'))"
   ]
  },
  {
   "cell_type": "markdown",
   "metadata": {},
   "source": [
    "<img src=\"images/a_fuckin.png\">"
   ]
  },
  {
   "cell_type": "markdown",
   "metadata": {},
   "source": [
    "#### Observations on: Fuckin\n",
    "The term `fuckin` is being used to describe:\n",
    ">* to intensive an emotion/feeling or the topic that follows \n",
    "\n",
    "> From this random sample of the term `fuckin`, it seems like Quadeca is talking about cutting off ties with certain individuals. This can be seen in the line `with my fuckin chest i'm burnin all my fuckin bridges til there's nothing left uhhuh the more` and `but myself he the only one that hasn't fuckin left i burn bridges but i'm still payin`. There are also references to Quadeca struggling with more inner demons. The line `but myself he the only one that hasn't fuckin left i burn bridges i'm still payin` could also refer to Quadeca self-sabotaging himself and self-isolating himself from the people around him, letting the voices in his head get louder and louder. The line `you got a ego tell em thank the fuckin lord cause if you didn't you'd be suffering` seems to suggest that Quadeca's eagerness to prove his value as a rapper and knowing his worth saved him from being swallowed by his insecurities. Another interesting line is `reach this quota for success without sayin a fuckin word yeah if life's a test it doesn't`. This line could be referring to Quadeca reaching a level of success without dropping music for so long (his last project was in 2019, and his most recent project came out in 2021). Another interpretation of this line could be referring to society's expectation that success equates to happiness and that people who are successful shouldn't be complaining.   "
   ]
  },
  {
   "cell_type": "markdown",
   "metadata": {},
   "source": [
    "#### Keyword: Think"
   ]
  },
  {
   "cell_type": "code",
   "execution_count": 31,
   "metadata": {},
   "outputs": [],
   "source": [
    "a_think = make_kwic('think', all_after_tokens, win=8)\n",
    "a_think_sample = random.sample(a_think, 15)"
   ]
  },
  {
   "cell_type": "code",
   "execution_count": null,
   "metadata": {},
   "outputs": [],
   "source": [
    "print_kwic(sort_kwic(a_think_sample, 'R1'))"
   ]
  },
  {
   "cell_type": "markdown",
   "metadata": {},
   "source": [
    "<img src=\"images/a_think.png\">"
   ]
  },
  {
   "cell_type": "markdown",
   "metadata": {},
   "source": [
    "#### Observations on: Think"
   ]
  },
  {
   "cell_type": "markdown",
   "metadata": {},
   "source": [
    "The term `think` is being used to describe:\n",
    ">* to wonder about a situation\n",
    ">* to have a belief about something\n",
    "\n",
    "From this random sample of the term `think`, it seems like Quadeca is pondering about a past relationship. This can be seen in the lines `as fuck smokin in the rain again i think about what's holdin up this flame again and` and `you be for you i'll do everything i think you need me to need me to i`. Additionally, there are times where it seems like Quadeca is going through a hard time and needs help. This can be seen in the lines `every last tear that i had i don't think i can cry no more no all of`, `me the red dot it heals me i think i need new friends yeah like that ain't`, `the summit they say we're halfway there i think we're halfway from it it's been the longest`, and `still hope that one day they acceptin me think i'm in need of some help want them`."
   ]
  },
  {
   "cell_type": "markdown",
   "metadata": {},
   "source": [
    "#### Keyword: Left"
   ]
  },
  {
   "cell_type": "code",
   "execution_count": 33,
   "metadata": {},
   "outputs": [],
   "source": [
    "a_left = make_kwic('left', all_after_tokens, win=8)\n",
    "a_left_sample = random.sample(a_left, 15)"
   ]
  },
  {
   "cell_type": "code",
   "execution_count": null,
   "metadata": {},
   "outputs": [],
   "source": [
    "print_kwic(sort_kwic(a_left_sample, 'R1'))"
   ]
  },
  {
   "cell_type": "markdown",
   "metadata": {},
   "source": [
    "<img src=\"images/a_left.png\">"
   ]
  },
  {
   "cell_type": "markdown",
   "metadata": {},
   "source": [
    "#### Observations on: Left"
   ]
  },
  {
   "cell_type": "markdown",
   "metadata": {},
   "source": [
    "The term `left` is being used to describe:\n",
    ">* being left behind (ex: 1)\n",
    ">* remaining (ex: 2)\n",
    ">* the past tense of leaving (ex: 5)\n",
    ">* the direction/side opposite of right (ex: 7)\n",
    "\n",
    "From this random sample of the term `left`, it seems like Quadeca is once again trying to fight the inner demons. This can be seen in the lines `ooh ooh ooh feeling like there's no room left for me ooh ooh ooh feeling like there's`, `been talking to the man sitting on my left shoulder shoulder he said everything just gets worse`, and `i'm numb help me hide when there's nowhere left to run nowhere left to run these day`. There are also references to Quadeca talking about his remaining feelings of a past relationship with a girl. This can be seen in the lines `all we're left with yeah it's all we're left with in the end yeah oh yeah and`, `love you to pieces til that's all we're left with yeah it's all we're left with in`, and `fucking cent uh guess i shoulda up and left yeah but i always tell myself that i'm`."
   ]
  },
  {
   "cell_type": "markdown",
   "metadata": {},
   "source": [
    "#### Keyword: Looking"
   ]
  },
  {
   "cell_type": "code",
   "execution_count": 35,
   "metadata": {},
   "outputs": [],
   "source": [
    "a_looking = make_kwic('looking', all_after_tokens, win=8)\n",
    "a_looking_sample = random.sample(a_looking, 15)"
   ]
  },
  {
   "cell_type": "code",
   "execution_count": null,
   "metadata": {},
   "outputs": [],
   "source": [
    "print_kwic(sort_kwic(a_looking_sample, 'R1'))"
   ]
  },
  {
   "cell_type": "markdown",
   "metadata": {},
   "source": [
    "<img src=\"images/a_looking.png\">"
   ]
  },
  {
   "cell_type": "markdown",
   "metadata": {},
   "source": [
    "#### Observations on: Looking"
   ]
  },
  {
   "cell_type": "markdown",
   "metadata": {},
   "source": [
    "The term `looking`is being used to describe:\n",
    ">* the act of searching for something (ex: 1)\n",
    ">* the appearance of something or someone (ex: 10)\n",
    "\n",
    ">From this random sample of the term `looking`, it seems like Quadeca is bragging about his wealth and success. This can be seen from the lines `ben uh yeah eah yeah yeah yeah looking for a new benz yeah the red dot` and `huh huh bank got so many commas shit's looking like a run-on setence yeah hahaha hahaha ayy`. Although in other areas, it seems like Quadeca is struggling to keep up with the expectations people have for him. This can be seen in the lines `looking out a new lens uh new lens looking for a new me new me looking for` and `a good lie yeah good lie hahaha everything looking like ashses i don't want a car i`."
   ]
  },
  {
   "cell_type": "markdown",
   "metadata": {},
   "source": [
    "#### Keyword: Alone"
   ]
  },
  {
   "cell_type": "code",
   "execution_count": 37,
   "metadata": {},
   "outputs": [],
   "source": [
    "a_alone = make_kwic('alone', all_after_tokens, win=8)\n",
    "a_alone_sample = random.sample(a_alone, 15)"
   ]
  },
  {
   "cell_type": "code",
   "execution_count": null,
   "metadata": {},
   "outputs": [],
   "source": [
    "print_kwic(sort_kwic(a_alone_sample, 'R1'))"
   ]
  },
  {
   "cell_type": "markdown",
   "metadata": {},
   "source": [
    "<img src=\"images/a_alone.png\">"
   ]
  },
  {
   "cell_type": "markdown",
   "metadata": {},
   "source": [
    "#### Observations on: Alone"
   ]
  },
  {
   "cell_type": "markdown",
   "metadata": {},
   "source": [
    "The term `alone` is being used to describe:\n",
    ">* by one's self\n",
    "\n",
    "> From this random sample of the term `alone`, it seems like there are two main themes that Quadeca talks about. One of which is describing how he felt on his journey to reach where he is at the current moment. This can be seen in the lines `had me wantin to quit i was all alone cause i ain't follow their shit and now`, `kanye in a MAGA hat yeah i'm so alone see i've always been one and only even`, `betray myself i been afraid to tell so alone so i just braced myself i've wanted love` and `the beaten route i thought that life was alone with ice to my bones and nothin i`. The other theme that Quadeca explores with the term `alone` is about a past relationship with an ex-girlfriend. This can be seen in the lines `you're a i guess i'm alone i'll be alone forever yeah together alone i guess we're alone` and `drift drift away you're a i guess i'm alone i'll be alone forever yeah together alone i`. These lines seem to suggest that Quadeca was once with someone and they drifted apart. Now they are two separate entities who are alone, by themselves."
   ]
  },
  {
   "cell_type": "markdown",
   "metadata": {},
   "source": [
    "#### Keyword: Love"
   ]
  },
  {
   "cell_type": "code",
   "execution_count": 39,
   "metadata": {},
   "outputs": [],
   "source": [
    "a_love = make_kwic('love', all_after_tokens, win=8)\n",
    "a_love_sample = random.sample(a_love, 15)"
   ]
  },
  {
   "cell_type": "code",
   "execution_count": null,
   "metadata": {},
   "outputs": [],
   "source": [
    "print_kwic(sort_kwic(a_love_sample, 'R1'))"
   ]
  },
  {
   "cell_type": "markdown",
   "metadata": {},
   "source": [
    "<img src=\"images/a_love.png\">"
   ]
  },
  {
   "cell_type": "markdown",
   "metadata": {},
   "source": [
    "#### Observations on: Love"
   ]
  },
  {
   "cell_type": "markdown",
   "metadata": {},
   "source": [
    "The term `love` is being used to describe:\n",
    ">* deep affection for something or someone\n",
    "\n",
    "> From this random sample of the term `love`, it seems like Quadeca is reflecting upon a past relationship. This can be seen in the lines `who else should have your name fall in love until it's not the same if you lose` and `if you remember me you are not in love you just pretend to be drift drift away`. As I mentioned before, it seems like Quadeca was in loving relationship with a past ex-girlfriend, but things didn't work out and they broke up and moved on from each other. Quadeca reflects back on this relationship wondering if the two were just pretending to be in love and trying to make it work. One of the more interesting lines using the term `love` is `the drop though so i don't they only love me when i'm back on the climb yeah`. Here, Quadeca seems to be addressing people that are only interested in him when he's on the music grind and dropping music.  "
   ]
  },
  {
   "cell_type": "code",
   "execution_count": 72,
   "metadata": {},
   "outputs": [
    {
     "name": "stdout",
     "output_type": "stream",
     "text": [
      "          em cause they got stuck in my mind  i  cant blame them for not tryna comfort me\n",
      "  look down then youre bound for the trouble  i  feel like im tryna find a way to\n",
      "          harder to read say you know me but  i  find that hard to believe yeah oh sorry\n",
      "                 i go up off of the top like  i  got lice huh i turn this shit freaky\n",
      "         i was eight yeah wanted to rave huh  i  had to hide in my imagination back in\n",
      "           on my ego death i had to reassess  i  had to resurrect yeah huh hey huh i\n",
      "     lately they been takin shots at the boy  i  just say cheese i smell the green thats\n",
      "         camera aimin at my head pop red dot  i  just wanna be one of them one of\n",
      "stomach have been fuckin retirin uh yeah and  i  love you when im back on the climb\n",
      "         im not made for the solo ascent and  i  needed a long time to learn it oohoohooh\n",
      "      you proud these days i may regret what  i  say but never how i feel i almost\n",
      "  is substantial too much to handle huh when  i  talk shit its a scandal huh i do\n",
      "    huh huh huh quadeca and frosty like what  i  tell her thank you next callin quadeca shoot\n",
      "            huh huh i wanted a name yeah but  i  was too shy i knew id never take\n",
      "            a name yeah i love you paris but  i  was too shy i knew i had to\n"
     ]
    }
   ],
   "source": [
    "a_i = make_kwic('i', all_after_tokens, win=8)\n",
    "a_i_sample = random.sample(a_i, 15)\n",
    "\n",
    "print_kwic(sort_kwic(a_i_sample, 'R1'))"
   ]
  },
  {
   "cell_type": "markdown",
   "metadata": {},
   "source": [
    "#### Overall Observations from all Albums Before the Insecure Diss Track"
   ]
  },
  {
   "cell_type": "markdown",
   "metadata": {},
   "source": [
    "From all of the keywords in context concordances, it seems that the topics that Quadeca raps about in his later albums are on topics of:\n",
    "* his dedication to improving his music\n",
    "* struggling against depression, insecurities, and isolation\n",
    "* reflecting back on his past self\n",
    "* dealing with expectations and unprecedented growth\n",
    "* past relationships"
   ]
  },
  {
   "cell_type": "markdown",
   "metadata": {},
   "source": [
    "## Overall Observations from Keyness Analysis and KWIC Concordance Analysis"
   ]
  },
  {
   "cell_type": "markdown",
   "metadata": {},
   "source": [
    "After doing the keyness analysis and the keyword in context concordance analysis for both the corpus of the albums before the Insecure diss track and the corpus of the albums after the Insecure diss track, I found that there were a lot of overlapping these that Quadeca rapped about between the two periods.\n",
    "\n",
    "The themes that both corpuses share in common are the following:\n",
    "* struggling against depression and insecurities\n",
    "* dealing with being in the public eye, other people's expectations, and audience growth\n",
    "* past romantic relationships that are no longer existent\n",
    "\n",
    "Some differences between the two corpuses are the following:\n",
    "* In the corpus of the albums before the Insecure diss track, Quadeca seemed to constantly address haters and had to prove himself as a capable rapper who belonged in the rap game. \n",
    "* In the corpus of the albums after the Insecure diss track, Quadeca seemed to reflect more upon his past self and telling his past self to not give up on his dreams. "
   ]
  },
  {
   "cell_type": "code",
   "execution_count": null,
   "metadata": {},
   "outputs": [],
   "source": []
  }
 ],
 "metadata": {
  "kernelspec": {
   "display_name": "Python 3",
   "language": "python",
   "name": "python3"
  },
  "language_info": {
   "codemirror_mode": {
    "name": "ipython",
    "version": 3
   },
   "file_extension": ".py",
   "mimetype": "text/x-python",
   "name": "python",
   "nbconvert_exporter": "python",
   "pygments_lexer": "ipython3",
   "version": "3.7.3"
  }
 },
 "nbformat": 4,
 "nbformat_minor": 2
}

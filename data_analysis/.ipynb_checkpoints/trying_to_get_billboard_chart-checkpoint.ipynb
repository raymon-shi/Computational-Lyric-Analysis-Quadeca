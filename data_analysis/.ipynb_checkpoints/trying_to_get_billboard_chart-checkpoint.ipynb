{
 "cells": [
  {
   "cell_type": "code",
   "execution_count": null,
   "metadata": {},
   "outputs": [],
   "source": []
  },
  {
   "cell_type": "code",
   "execution_count": 1,
   "metadata": {},
   "outputs": [],
   "source": [
    "import requests\n",
    "from bs4 import BeautifulSoup"
   ]
  },
  {
   "cell_type": "code",
   "execution_count": 2,
   "metadata": {},
   "outputs": [],
   "source": [
    "url = 'https://www.billboard.com/charts/year-end/2020/hot-rap-songs'"
   ]
  },
  {
   "cell_type": "code",
   "execution_count": 3,
   "metadata": {},
   "outputs": [],
   "source": [
    "resp = requests.get(url)"
   ]
  },
  {
   "cell_type": "code",
   "execution_count": 6,
   "metadata": {},
   "outputs": [],
   "source": [
    "doc=BeautifulSoup(resp.text, 'html.parser')"
   ]
  },
  {
   "cell_type": "code",
   "execution_count": 14,
   "metadata": {},
   "outputs": [],
   "source": [
    "articles = doc.find_all('article', class_=\"ye-chart-item\")"
   ]
  },
  {
   "cell_type": "code",
   "execution_count": 15,
   "metadata": {},
   "outputs": [
    {
     "data": {
      "text/plain": [
       "50"
      ]
     },
     "execution_count": 15,
     "metadata": {},
     "output_type": "execute_result"
    }
   ],
   "source": [
    "len(articles)"
   ]
  },
  {
   "cell_type": "code",
   "execution_count": 9,
   "metadata": {},
   "outputs": [
    {
     "data": {
      "text/plain": [
       "<article class=\"ye-chart-item\" data-item-rank=\"1\">\n",
       "<div class=\"ye-chart-item__primary-row \" data-chart-info-url=\"/fe_data/charts/year-end/2020/hot-rap-songs/other-charts/1\" data-date=\"2020\">\n",
       "<div class=\"ye-chart-item__rank\">\n",
       "1\n",
       "</div>\n",
       "<div class=\"ye-chart-item__image\">\n",
       "<img alt=\"\" class=\"\" sizes=\"(max-width: 767px) 53px, (min-width: 768px) 87px\" src=\"https://charts-static.billboard.com/img/2019/12/roddy-ricch-eqp-the-box-2k7-53x53.jpg\" srcset=\"https://charts-static.billboard.com/img/2019/12/roddy-ricch-eqp-the-box-2k7-53x53.jpg?1 53w, https://charts-static.billboard.com/img/2019/12/roddy-ricch-eqp-the-box-2k7-106x106.jpg?1 106w, https://charts-static.billboard.com/img/2019/12/roddy-ricch-eqp-the-box-2k7-87x87.jpg?1 87w, https://charts-static.billboard.com/img/2019/12/roddy-ricch-eqp-the-box-2k7-174x174.jpg?1 174w\"/>\n",
       "</div>\n",
       "<div class=\"ye-chart-item__text\">\n",
       "<div class=\"ye-chart-item__title\">\n",
       " The Box\n",
       "</div>\n",
       "<div class=\"ye-chart-item__artist\">\n",
       "<a href=\"/music/roddy-ricch\">\n",
       "Roddy Ricch\n",
       "</a>\n",
       "</div>\n",
       "</div>\n",
       "<div class=\"ye-chart-item__expand-caret\">\n",
       "<span class=\"fa fa-chevron-down\"></span>\n",
       "<span class=\"fa fa-chevron-up\"></span>\n",
       "</div>\n",
       "</div>\n",
       "<div class=\"ye-chart-item-expanded\">\n",
       "<div class=\"ye-chart-item-expanded__other-charts-row\">\n",
       "<img alt=\"Loading...\" class=\"ye-chart-item-expanded__spinner\" src=\"https://www.billboard.com/assets/1619542706/images/ye-charts/spinner.gif?a7cae9a16bccbac208fd\"/>\n",
       "<div class=\"ye-chart-item-expanded__other-charts-wrapper ye-chart-item-expanded__other-charts-wrapper--hidden\">\n",
       "<hr class=\"ye-chart-item-expanded__divider\"/>\n",
       "<div class=\"ye-chart-item-expanded__other-charts-label\">\n",
       "Also appears on these Year End Charts\n",
       "</div>\n",
       "<div class=\"ye-chart-item-expanded__chart-links\"></div>\n",
       "</div>\n",
       "</div>\n",
       "</div>\n",
       "</article>"
      ]
     },
     "execution_count": 9,
     "metadata": {},
     "output_type": "execute_result"
    }
   ],
   "source": [
    "articles[0]"
   ]
  },
  {
   "cell_type": "code",
   "execution_count": null,
   "metadata": {},
   "outputs": [],
   "source": [
    "#  <div class=\"ye-chart-item__rank\"> - rank\n",
    "#  <div class=\"ye-chart-item__artist\"> -artist\n",
    "# <div class=\"ye-chart-item__title\">"
   ]
  },
  {
   "cell_type": "code",
   "execution_count": 10,
   "metadata": {},
   "outputs": [],
   "source": [
    "def get_song_details(div):\n",
    "    \n",
    "    song = {}\n",
    "    \n",
    "    song['rank'] = div.find('div', class_=\"ye-chart-item__rank\").text.strip()\n",
    "    song['artist'] = div.find('div', class_=\"ye-chart-item__artist\").text.strip()\n",
    "    song['title'] = div.find('div', class_=\"ye-chart-item__title\").text.strip()\n",
    "    \n",
    "    return song"
   ]
  },
  {
   "cell_type": "code",
   "execution_count": 13,
   "metadata": {},
   "outputs": [
    {
     "data": {
      "text/plain": [
       "{'artist': 'Future Featuring Drake', 'rank': '3', 'title': 'Life Is Good'}"
      ]
     },
     "execution_count": 13,
     "metadata": {},
     "output_type": "execute_result"
    }
   ],
   "source": [
    "get_song_details(articles[2])"
   ]
  },
  {
   "cell_type": "code",
   "execution_count": 16,
   "metadata": {},
   "outputs": [],
   "source": [
    "chart = []\n",
    "for song in articles:\n",
    "    chart.append(get_song_details(song))"
   ]
  },
  {
   "cell_type": "code",
   "execution_count": 17,
   "metadata": {},
   "outputs": [
    {
     "data": {
      "text/plain": [
       "50"
      ]
     },
     "execution_count": 17,
     "metadata": {},
     "output_type": "execute_result"
    }
   ],
   "source": [
    "len(chart)"
   ]
  },
  {
   "cell_type": "code",
   "execution_count": 18,
   "metadata": {},
   "outputs": [
    {
     "data": {
      "text/plain": [
       "[{'artist': 'Roddy Ricch', 'rank': '1', 'title': 'The Box'},\n",
       " {'artist': 'DaBaby Featuring Roddy Ricch', 'rank': '2', 'title': 'Rockstar'},\n",
       " {'artist': 'Future Featuring Drake', 'rank': '3', 'title': 'Life Is Good'},\n",
       " {'artist': 'Arizona Zervas', 'rank': '4', 'title': 'Roxanne'},\n",
       " {'artist': 'Jack Harlow Featuring DaBaby, Tory Lanez & Lil Wayne',\n",
       "  'rank': '5',\n",
       "  'title': 'Whats Poppin'}]"
      ]
     },
     "execution_count": 18,
     "metadata": {},
     "output_type": "execute_result"
    }
   ],
   "source": [
    "chart[:5]"
   ]
  },
  {
   "cell_type": "code",
   "execution_count": null,
   "metadata": {},
   "outputs": [],
   "source": []
  }
 ],
 "metadata": {
  "kernelspec": {
   "display_name": "Python 3",
   "language": "python",
   "name": "python3"
  },
  "language_info": {
   "codemirror_mode": {
    "name": "ipython",
    "version": 3
   },
   "file_extension": ".py",
   "mimetype": "text/x-python",
   "name": "python",
   "nbconvert_exporter": "python",
   "pygments_lexer": "ipython3",
   "version": "3.7.3"
  }
 },
 "nbformat": 4,
 "nbformat_minor": 2
}

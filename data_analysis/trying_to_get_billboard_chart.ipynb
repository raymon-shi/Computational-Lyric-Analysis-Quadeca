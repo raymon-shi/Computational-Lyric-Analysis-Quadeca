{
 "cells": [
  {
   "cell_type": "code",
   "execution_count": null,
   "metadata": {},
   "outputs": [],
   "source": []
  },
  {
   "cell_type": "code",
   "execution_count": 1,
   "metadata": {},
   "outputs": [],
   "source": [
    "import requests\n",
    "from bs4 import BeautifulSoup"
   ]
  },
  {
   "cell_type": "code",
   "execution_count": 2,
   "metadata": {},
   "outputs": [],
   "source": [
    "url = 'https://www.billboard.com/charts/year-end/2020/hot-rap-songs'"
   ]
  },
  {
   "cell_type": "code",
   "execution_count": 3,
   "metadata": {},
   "outputs": [],
   "source": [
    "resp = requests.get(url)"
   ]
  },
  {
   "cell_type": "code",
   "execution_count": 6,
   "metadata": {},
   "outputs": [],
   "source": [
    "doc=BeautifulSoup(resp.text, 'html.parser')"
   ]
  },
  {
   "cell_type": "code",
   "execution_count": 14,
   "metadata": {},
   "outputs": [],
   "source": [
    "articles = doc.find_all('article', class_=\"ye-chart-item\")"
   ]
  },
  {
   "cell_type": "code",
   "execution_count": 15,
   "metadata": {},
   "outputs": [
    {
     "data": {
      "text/plain": [
       "50"
      ]
     },
     "execution_count": 15,
     "metadata": {},
     "output_type": "execute_result"
    }
   ],
   "source": [
    "len(articles)"
   ]
  },
  {
   "cell_type": "code",
   "execution_count": 9,
   "metadata": {},
   "outputs": [
    {
     "data": {
      "text/plain": [
       "<article class=\"ye-chart-item\" data-item-rank=\"1\">\n",
       "<div class=\"ye-chart-item__primary-row \" data-chart-info-url=\"/fe_data/charts/year-end/2020/hot-rap-songs/other-charts/1\" data-date=\"2020\">\n",
       "<div class=\"ye-chart-item__rank\">\n",
       "1\n",
       "</div>\n",
       "<div class=\"ye-chart-item__image\">\n",
       "<img alt=\"\" class=\"\" sizes=\"(max-width: 767px) 53px, (min-width: 768px) 87px\" src=\"https://charts-static.billboard.com/img/2019/12/roddy-ricch-eqp-the-box-2k7-53x53.jpg\" srcset=\"https://charts-static.billboard.com/img/2019/12/roddy-ricch-eqp-the-box-2k7-53x53.jpg?1 53w, https://charts-static.billboard.com/img/2019/12/roddy-ricch-eqp-the-box-2k7-106x106.jpg?1 106w, https://charts-static.billboard.com/img/2019/12/roddy-ricch-eqp-the-box-2k7-87x87.jpg?1 87w, https://charts-static.billboard.com/img/2019/12/roddy-ricch-eqp-the-box-2k7-174x174.jpg?1 174w\"/>\n",
       "</div>\n",
       "<div class=\"ye-chart-item__text\">\n",
       "<div class=\"ye-chart-item__title\">\n",
       " The Box\n",
       "</div>\n",
       "<div class=\"ye-chart-item__artist\">\n",
       "<a href=\"/music/roddy-ricch\">\n",
       "Roddy Ricch\n",
       "</a>\n",
       "</div>\n",
       "</div>\n",
       "<div class=\"ye-chart-item__expand-caret\">\n",
       "<span class=\"fa fa-chevron-down\"></span>\n",
       "<span class=\"fa fa-chevron-up\"></span>\n",
       "</div>\n",
       "</div>\n",
       "<div class=\"ye-chart-item-expanded\">\n",
       "<div class=\"ye-chart-item-expanded__other-charts-row\">\n",
       "<img alt=\"Loading...\" class=\"ye-chart-item-expanded__spinner\" src=\"https://www.billboard.com/assets/1619542706/images/ye-charts/spinner.gif?a7cae9a16bccbac208fd\"/>\n",
       "<div class=\"ye-chart-item-expanded__other-charts-wrapper ye-chart-item-expanded__other-charts-wrapper--hidden\">\n",
       "<hr class=\"ye-chart-item-expanded__divider\"/>\n",
       "<div class=\"ye-chart-item-expanded__other-charts-label\">\n",
       "Also appears on these Year End Charts\n",
       "</div>\n",
       "<div class=\"ye-chart-item-expanded__chart-links\"></div>\n",
       "</div>\n",
       "</div>\n",
       "</div>\n",
       "</article>"
      ]
     },
     "execution_count": 9,
     "metadata": {},
     "output_type": "execute_result"
    }
   ],
   "source": [
    "articles[0]"
   ]
  },
  {
   "cell_type": "code",
   "execution_count": null,
   "metadata": {},
   "outputs": [],
   "source": [
    "#  <div class=\"ye-chart-item__rank\"> - rank\n",
    "#  <div class=\"ye-chart-item__artist\"> -artist\n",
    "# <div class=\"ye-chart-item__title\">"
   ]
  },
  {
   "cell_type": "code",
   "execution_count": 10,
   "metadata": {},
   "outputs": [],
   "source": [
    "def get_song_details(div):\n",
    "    \n",
    "    song = {}\n",
    "    \n",
    "    song['rank'] = div.find('div', class_=\"ye-chart-item__rank\").text.strip()\n",
    "    song['artist'] = div.find('div', class_=\"ye-chart-item__artist\").text.strip()\n",
    "    song['title'] = div.find('div', class_=\"ye-chart-item__title\").text.strip()\n",
    "    \n",
    "    return song"
   ]
  },
  {
   "cell_type": "code",
   "execution_count": 13,
   "metadata": {},
   "outputs": [
    {
     "data": {
      "text/plain": [
       "{'artist': 'Future Featuring Drake', 'rank': '3', 'title': 'Life Is Good'}"
      ]
     },
     "execution_count": 13,
     "metadata": {},
     "output_type": "execute_result"
    }
   ],
   "source": [
    "get_song_details(articles[2])"
   ]
  },
  {
   "cell_type": "code",
   "execution_count": 16,
   "metadata": {},
   "outputs": [],
   "source": [
    "chart = []\n",
    "for song in articles:\n",
    "    chart.append(get_song_details(song))"
   ]
  },
  {
   "cell_type": "code",
   "execution_count": 19,
   "metadata": {},
   "outputs": [
    {
     "name": "stdout",
     "output_type": "stream",
     "text": [
      "[{'rank': '1', 'artist': 'Roddy Ricch', 'title': 'The Box'}, {'rank': '2', 'artist': 'DaBaby Featuring Roddy Ricch', 'title': 'Rockstar'}, {'rank': '3', 'artist': 'Future Featuring Drake', 'title': 'Life Is Good'}, {'rank': '4', 'artist': 'Arizona Zervas', 'title': 'Roxanne'}, {'rank': '5', 'artist': 'Jack Harlow Featuring DaBaby, Tory Lanez & Lil Wayne', 'title': 'Whats Poppin'}, {'rank': '6', 'artist': 'Megan Thee Stallion', 'title': 'Savage'}, {'rank': '7', 'artist': 'Cardi B Featuring Megan Thee Stallion', 'title': 'WAP'}, {'rank': '8', 'artist': 'Drake', 'title': 'Toosie Slide'}, {'rank': '9', 'artist': 'DaBaby', 'title': 'BOP'}, {'rank': '10', 'artist': 'Lil Mosey', 'title': 'Blueberry Faygo'}, {'rank': '11', 'artist': 'blackbear', 'title': 'Hot Girl Bummer'}, {'rank': '12', 'artist': 'Trevor Daniel', 'title': 'Falling'}, {'rank': '13', 'artist': 'Lil Baby', 'title': 'Woah'}, {'rank': '14', 'artist': 'Drake Featuring Lil Durk', 'title': 'Laugh Now Cry Later'}, {'rank': '15', 'artist': 'Powfu Featuring beabadoobee', 'title': 'Death Bed'}, {'rank': '16', 'artist': 'Mustard & Roddy Ricch', 'title': \"Ballin'\"}, {'rank': '17', 'artist': 'Travis Scott', 'title': 'HIGHEST IN THE ROOM'}, {'rank': '18', 'artist': 'Roddy Ricch Featuring Mustard', 'title': 'High Fashion'}, {'rank': '19', 'artist': 'Pop Smoke Featuring Lil Baby & DaBaby', 'title': 'For The Night'}, {'rank': '20', 'artist': '24kGoldn Featuring iann dior', 'title': 'Mood'}, {'rank': '21', 'artist': 'Lil Baby', 'title': 'Sum 2 Prove'}, {'rank': '22', 'artist': 'Rod Wave', 'title': 'Heart On Ice'}, {'rank': '23', 'artist': 'Lil Baby & 42 Dugg', 'title': 'We Paid'}, {'rank': '24', 'artist': 'Juice WRLD & YoungBoy Never Broke Again', 'title': 'Bandit'}, {'rank': '25', 'artist': 'DJ Khaled Featuring Drake', 'title': 'Popstar'}, {'rank': '26', 'artist': 'Young Thug Featuring Gunna', 'title': 'Hot'}, {'rank': '27', 'artist': 'StaySolidRocky', 'title': 'Party Girl'}, {'rank': '28', 'artist': 'Pop Smoke Featuring 50 Cent & Roddy Ricch', 'title': 'The Woo'}, {'rank': '29', 'artist': 'YNW Melly & Juice WRLD', 'title': 'Suicidal'}, {'rank': '30', 'artist': 'Lil Baby', 'title': 'The Bigger Picture'}, {'rank': '31', 'artist': 'Eminem Featuring Juice WRLD', 'title': 'Godzilla'}, {'rank': '32', 'artist': 'Pop Smoke Featuring Lil Tjay', 'title': 'Mood Swings'}, {'rank': '33', 'artist': 'Pop Smoke', 'title': 'Dior'}, {'rank': '34', 'artist': 'Juice WRLD', 'title': 'Wishing Well'}, {'rank': '35', 'artist': 'THE SCOTTS, Travis Scott & Kid Cudi', 'title': 'The Scotts'}, {'rank': '36', 'artist': 'Lil Baby', 'title': 'Emotionally Scarred'}, {'rank': '37', 'artist': 'Rod Wave Featuring ATR Son Son', 'title': 'Rags2Riches'}, {'rank': '38', 'artist': 'Internet Money & Gunna Featuring Don Toliver & NAV', 'title': 'Lemonade'}, {'rank': '39', 'artist': 'Lil Nas X', 'title': 'Panini'}, {'rank': '40', 'artist': 'Moneybagg Yo', 'title': 'Said Sum'}, {'rank': '41', 'artist': 'NLE Choppa Featuring Roddy Ricch', 'title': 'Walk Em Down'}, {'rank': '42', 'artist': 'Saweetie', 'title': 'Tap In'}, {'rank': '43', 'artist': 'Wale Featuring Jeremih', 'title': 'On Chill'}, {'rank': '44', 'artist': 'DaBaby', 'title': 'VIBEZ'}, {'rank': '45', 'artist': 'Megan Thee Stallion', 'title': 'Girls In The Hood'}, {'rank': '46', 'artist': 'Lil Uzi Vert', 'title': 'Futsal Shuffle 2020'}, {'rank': '47', 'artist': 'JACKBOYS Featuring Young Thug', 'title': 'Out West'}, {'rank': '48', 'artist': '6ix9ine', 'title': 'Gooba'}, {'rank': '49', 'artist': 'Russ & BIA', 'title': 'BEST ON EARTH'}, {'rank': '50', 'artist': 'Lil Baby & DaBaby', 'title': 'Baby'}]\n"
     ]
    }
   ],
   "source": [
    "print(chart)"
   ]
  },
  {
   "cell_type": "code",
   "execution_count": 18,
   "metadata": {},
   "outputs": [
    {
     "data": {
      "text/plain": [
       "[{'artist': 'Roddy Ricch', 'rank': '1', 'title': 'The Box'},\n",
       " {'artist': 'DaBaby Featuring Roddy Ricch', 'rank': '2', 'title': 'Rockstar'},\n",
       " {'artist': 'Future Featuring Drake', 'rank': '3', 'title': 'Life Is Good'},\n",
       " {'artist': 'Arizona Zervas', 'rank': '4', 'title': 'Roxanne'},\n",
       " {'artist': 'Jack Harlow Featuring DaBaby, Tory Lanez & Lil Wayne',\n",
       "  'rank': '5',\n",
       "  'title': 'Whats Poppin'}]"
      ]
     },
     "execution_count": 18,
     "metadata": {},
     "output_type": "execute_result"
    }
   ],
   "source": [
    "chart[:5]"
   ]
  },
  {
   "cell_type": "code",
   "execution_count": null,
   "metadata": {},
   "outputs": [],
   "source": []
  }
 ],
 "metadata": {
  "kernelspec": {
   "display_name": "Python 3",
   "language": "python",
   "name": "python3"
  },
  "language_info": {
   "codemirror_mode": {
    "name": "ipython",
    "version": 3
   },
   "file_extension": ".py",
   "mimetype": "text/x-python",
   "name": "python",
   "nbconvert_exporter": "python",
   "pygments_lexer": "ipython3",
   "version": "3.7.3"
  }
 },
 "nbformat": 4,
 "nbformat_minor": 2
}

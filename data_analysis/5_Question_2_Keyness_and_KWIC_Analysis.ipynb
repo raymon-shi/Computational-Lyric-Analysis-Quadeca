{
 "cells": [
  {
   "cell_type": "markdown",
   "metadata": {},
   "source": [
    "# Question 2: If Quadeca’s music did change, did the success of *Insecure* influence Quadeca to make music that reflected mainstream musical themes and styles?"
   ]
  },
  {
   "cell_type": "markdown",
   "metadata": {},
   "source": [
    "---"
   ]
  },
  {
   "cell_type": "markdown",
   "metadata": {},
   "source": [
    "## Setup"
   ]
  },
  {
   "cell_type": "code",
   "execution_count": 66,
   "metadata": {},
   "outputs": [],
   "source": [
    "from collections import Counter\n",
    "import nltk\n",
    "from nltk.corpus import stopwords\n",
    "import math\n",
    "import pandas as pd\n",
    "import os\n",
    "import random\n",
    "import re\n",
    "import string"
   ]
  },
  {
   "cell_type": "code",
   "execution_count": 67,
   "metadata": {},
   "outputs": [],
   "source": [
    "# import other notebooks\n",
    "%run functions.ipynb"
   ]
  },
  {
   "cell_type": "code",
   "execution_count": 25,
   "metadata": {},
   "outputs": [],
   "source": [
    "# import important variables, represent all the lyrics from the after albums and all the lyrics from the charts\n",
    "%store -r after_all_lyrics\n",
    "%store -r all_rap_chart_lyrics"
   ]
  },
  {
   "cell_type": "code",
   "execution_count": 26,
   "metadata": {},
   "outputs": [],
   "source": [
    "# tokenization of the all the after album lyrics and all the chart lyrics\n",
    "quadeca_music_tokens = album_tokenizer(after_all_lyrics)\n",
    "billboard_rap_tokens = album_tokenizer(all_rap_chart_lyrics)"
   ]
  },
  {
   "cell_type": "code",
   "execution_count": 68,
   "metadata": {},
   "outputs": [],
   "source": [
    "# note: try not to run all the cells in this notebook! There are random samples within this notebook!"
   ]
  },
  {
   "cell_type": "markdown",
   "metadata": {},
   "source": [
    "---"
   ]
  },
  {
   "cell_type": "markdown",
   "metadata": {},
   "source": [
    "## Keyness Analysis"
   ]
  },
  {
   "cell_type": "code",
   "execution_count": 27,
   "metadata": {},
   "outputs": [],
   "source": [
    "quadeca_counter = Counter()\n",
    "quadeca_counter.update(quadeca_music_tokens)"
   ]
  },
  {
   "cell_type": "code",
   "execution_count": 28,
   "metadata": {},
   "outputs": [
    {
     "data": {
      "text/plain": [
       "[('i', 792),\n",
       " ('the', 498),\n",
       " ('a', 337),\n",
       " ('yeah', 320),\n",
       " ('you', 317),\n",
       " ('to', 283),\n",
       " ('my', 270),\n",
       " ('im', 233),\n",
       " ('me', 231),\n",
       " ('in', 216),\n",
       " ('they', 206),\n",
       " ('and', 203),\n",
       " ('it', 197),\n",
       " ('like', 178),\n",
       " ('huh', 157),\n",
       " ('that', 151),\n",
       " ('on', 142),\n",
       " ('uh', 140),\n",
       " ('but', 131),\n",
       " ('all', 121)]"
      ]
     },
     "execution_count": 28,
     "metadata": {},
     "output_type": "execute_result"
    }
   ],
   "source": [
    "quadeca_counter.most_common(20)"
   ]
  },
  {
   "cell_type": "code",
   "execution_count": 29,
   "metadata": {},
   "outputs": [],
   "source": [
    "billboard_rap_counter = Counter()\n",
    "billboard_rap_counter.update(billboard_rap_tokens)"
   ]
  },
  {
   "cell_type": "code",
   "execution_count": 30,
   "metadata": {},
   "outputs": [
    {
     "data": {
      "text/plain": [
       "[('i', 3663),\n",
       " ('the', 2919),\n",
       " ('you', 2335),\n",
       " ('a', 2085),\n",
       " ('it', 1473),\n",
       " ('my', 1451),\n",
       " ('me', 1370),\n",
       " ('yeah', 1336),\n",
       " ('and', 1184),\n",
       " ('on', 1163),\n",
       " ('to', 1143),\n",
       " ('in', 1129),\n",
       " ('im', 1108),\n",
       " ('like', 988),\n",
       " ('that', 936),\n",
       " ('with', 794),\n",
       " ('got', 733),\n",
       " ('up', 727),\n",
       " ('she', 617),\n",
       " ('dont', 558)]"
      ]
     },
     "execution_count": 30,
     "metadata": {},
     "output_type": "execute_result"
    }
   ],
   "source": [
    "billboard_rap_counter.most_common(20)"
   ]
  },
  {
   "cell_type": "markdown",
   "metadata": {},
   "source": [
    "### Keyness of Quadeca's Music Compared to Billboard Rap Music"
   ]
  },
  {
   "cell_type": "code",
   "execution_count": 70,
   "metadata": {},
   "outputs": [
    {
     "name": "stdout",
     "output_type": "stream",
     "text": [
      "WORD                     Corpus A  Corpus B  Keyness\n",
      "====================================================\n",
      "huh                      157       108       271.430\n",
      "uh                       140       202       133.198\n",
      "they                     206       489       94.769\n",
      "until                    36        14        81.577\n",
      "work                     44        34        70.846\n",
      "think                    54        64        62.612\n",
      "nothing                  27        13        56.024\n",
      "myself                   26        15        49.487\n",
      "usual                    18        5         45.698\n",
      "uhhuh                    22        15        38.232\n",
      "but                      131       394       34.713\n",
      "looking                  15        6         33.624\n",
      "again                    27        31        32.218\n",
      "woke                     15        7         31.556\n",
      "away                     22        22        29.481\n",
      "fuckin                   46        91        29.008\n",
      "matter                   15        9         27.976\n",
      "kid                      13        6         27.480\n",
      "days                     26        34        27.432\n",
      "been                     73        194       26.470\n",
      "ive                      29        44        26.068\n",
      "life                     43        89        25.241\n",
      "hahaha                   14        9         25.155\n",
      "motherfuckin             14        9         25.155\n",
      "i                        792       3663      24.545\n",
      "okay                     27        41        24.246\n",
      "wrong                    18        18        24.121\n",
      "were                     29        47        24.088\n",
      "to                       283       1143      23.608\n",
      "feelin                   17        17        22.781\n",
      "same                     23        33        22.018\n",
      "yeah                     320       1336      21.929\n",
      "feel                     40        87        21.604\n",
      "own                      14        12        21.034\n",
      "still                    46        111       20.491\n",
      "dream                    11        7         19.876\n",
      "true                     14        13        19.857\n",
      "when                     87        277       19.473\n",
      "thank                    14        14        18.761\n",
      "all                      121       430       18.411\n",
      "line                     11        8         18.396\n",
      "youre                    31        64        18.272\n",
      "long                     22        36        18.056\n",
      "left                     25        46        17.550\n",
      "lookin                   21        34        17.465\n",
      "music                    11        9         17.060\n",
      "so                       84        278       16.579\n",
      "never                    57        166       16.494\n",
      "if                       75        245       15.461\n",
      "alone                    18        30        14.435\n"
     ]
    }
   ],
   "source": [
    "calculate_keyness(quadeca_counter, billboard_rap_counter, top=50)"
   ]
  },
  {
   "cell_type": "markdown",
   "metadata": {},
   "source": [
    "### Keyness of Billboard Rap Music Compared to Quadeca's Music"
   ]
  },
  {
   "cell_type": "code",
   "execution_count": 34,
   "metadata": {},
   "outputs": [
    {
     "name": "stdout",
     "output_type": "stream",
     "text": [
      "WORD                     Corpus A  Corpus B  Keyness\n",
      "====================================================\n",
      "she                      617       24        87.529\n",
      "her                      361       13        54.190\n",
      "with                     794       63        47.594\n",
      "niggas                   243       6         45.486\n",
      "bitch                    538       36        42.872\n",
      "woo                      235       8         36.657\n",
      "down                     342       21        30.705\n",
      "money                    218       9         29.508\n",
      "got                      733       71        27.958\n",
      "walk                     192       8         25.793\n",
      "we                       501       45        23.116\n",
      "ass                      146       5         22.684\n",
      "you                      2335      317       21.290\n",
      "bad                      136       5         20.117\n",
      "on                       1163      142       19.411\n",
      "get                      499       50        17.306\n",
      "fuck                     372       34        16.466\n",
      "it                       1473      197       14.845\n",
      "talk                     145       8         14.837\n",
      "give                     134       7         14.563\n",
      "ayy                      417       42        14.246\n",
      "big                      143       9         12.424\n",
      "him                      132       8         12.054\n",
      "around                   119       7         11.284\n",
      "let                      206       19        8.918\n",
      "gave                     88        5         8.702\n",
      "your                     521       64        8.446\n",
      "lot                      105       7         8.413\n",
      "he                       231       23        8.160\n",
      "good                     97        7         6.874\n"
     ]
    }
   ],
   "source": [
    "calculate_keyness(billboard_rap_counter, quadeca_counter)"
   ]
  },
  {
   "cell_type": "markdown",
   "metadata": {},
   "source": [
    "### Overall Observation from Keyness of the Corpuses"
   ]
  },
  {
   "cell_type": "markdown",
   "metadata": {},
   "source": [
    "Words that are more likely to occur in Quadeca's Corpus than the Billboard Rap Music Corpus are:\n",
    "* `huh, uh, they, until, work, think, nothing, myself, usual, uhhuh, but, looking, again, woke, away, fuckin, matter, kid, days, been, ive, life, hahaha, motherfuckin, i, okay, wrong, were, to, feelin, same, yeah, feel, own, still, dream, true, when, thank, all, line, youre, long, left, lookin, music, so, never, if, alone.` \n",
    "* There were more keywords that showed up in this corpus, but I decided to limit it at 50 because the list was pretty long.\n",
    "\n",
    "It appears that these keywords that seem to appear more frequently in this corpus are keywords that deal with life (`looking, life, feelin, feel, dream, lookin, alone, nothing`)\n",
    "\n",
    "From these keywords, I will select the following to do further analysis:\n",
    "* `all, myself, woke, life, if` \n",
    "\n",
    "Words that are more likely to occur in the Billboard Rap Music Corpus are:\n",
    "* `she, her, with, the n word, bitch, woo, down, money, got, walk, we, ass, you, bad, on, get, fuck, it, talk, give, ayy, big, him, around, let, gave, your, lot, he, good`.\n",
    "\n",
    "It appears that these keywords that seem to appear more frequently in this corpus are keywords that deal with materialistic items (`money, give, big`) and romantic/sexual relationships with females (`she, her, bitch, ass, bad, fuck`).\n",
    "\n",
    "From these keywords, I will select the following to do further analysis:\n",
    "* `bitch, down, got, walk, you`"
   ]
  },
  {
   "cell_type": "markdown",
   "metadata": {},
   "source": [
    "---"
   ]
  },
  {
   "cell_type": "markdown",
   "metadata": {},
   "source": [
    "## Keywords in Context Concordances Analysis"
   ]
  },
  {
   "cell_type": "markdown",
   "metadata": {},
   "source": [
    "### Quadeca's Music"
   ]
  },
  {
   "cell_type": "markdown",
   "metadata": {},
   "source": [
    "#### Keyword: All"
   ]
  },
  {
   "cell_type": "code",
   "execution_count": 39,
   "metadata": {},
   "outputs": [],
   "source": [
    "quad_all = make_kwic('all', quadeca_music_tokens, win=8)\n",
    "quad_all_sample = random.sample(quad_all, 15)"
   ]
  },
  {
   "cell_type": "code",
   "execution_count": 43,
   "metadata": {},
   "outputs": [
    {
     "name": "stdout",
     "output_type": "stream",
     "text": [
      "             i feel i need to scream it all  all  cant even fall i cant leave it all\n",
      "           this aint a flip of a switch its  all  happening gradually yeah maybe im selfish i do\n",
      "              from money huh ah ha i got it  all  in my bank huh i treat that shit\n",
      "           me thats why i stay fire see huh  all  of these rappers they wanna be friends but\n",
      "            dont think i can cry no more no  all  of this red on my eyes looking like\n",
      "           i see is blue when you leavin it  all  on read i dont wanna talk through it\n",
      "roll on your block like some campbells they  all  say that i am a handful chef boyardee\n",
      "  only be three or fourthousand feet i mean  all  that altitude does is make it harder to\n",
      "      they knowin me so well i been catchin  all  the shade theyve been throwin im odell uh\n",
      "         put in work until it work out what  all  these hoes be in my face she got\n",
      "            feel funny to me its all a game  all  these people just a number to me and\n",
      "         i get too happy for money huh they  all  wanna back me for money uh huh they\n",
      "              its you and me do you love me  all  you do you love me all you can\n",
      "             you can do you love me all you  all  you can do you love me all you\n",
      "             me you would look up to me put  all  your trust in me hello ooh instead of\n"
     ]
    }
   ],
   "source": [
    "print_kwic(sort_kwic(quad_all_sample, 'R1'))"
   ]
  },
  {
   "cell_type": "markdown",
   "metadata": {},
   "source": [
    "#### Observation on: All\n",
    "The term `all` is being used to describe:\n",
    ">* a lot of events at once (ex: 1, 2)\n",
    ">* a lot of something or someone (ex: 8, 11)\n",
    "\n",
    "> From this random sample of the term `all`, it seems like Quadeca is going through a hard time. This can be seen in the lines `i feel i need to scream it all all cant even fall i cant leave it all` and `dont think i can cry no more no all of this red on my eyes looking like`. From these lines, it seems like Quadeca needs an escape, but there is nothing he can do. There are also references to a past relationship in the line `its you and me do you love me all you do you love me all you can`. In other uses of the word `all`, we see Quadeca noticing and address critics. We see this in the lines `me thats why i stay fire see huh all of these rappers they wanna be friends but`, `they knowin me so well i been catchin all the shade theyve been throwin im odell uh`, and `feel funny to me its all a game all these people just a number to me and`. Finally, Quadeca also uses the term `all` to brag about how much wealth he as such as in the line `from money huh ah ha i got it all in my bank huh i treat that shit`."
   ]
  },
  {
   "cell_type": "markdown",
   "metadata": {},
   "source": [
    "#### Keyword: Myself"
   ]
  },
  {
   "cell_type": "code",
   "execution_count": 41,
   "metadata": {},
   "outputs": [],
   "source": [
    "quad_myself = make_kwic('myself', quadeca_music_tokens, win=8)\n",
    "quad_myself_sample = random.sample(quad_myself, 15)"
   ]
  },
  {
   "cell_type": "code",
   "execution_count": 44,
   "metadata": {},
   "outputs": [
    {
     "name": "stdout",
     "output_type": "stream",
     "text": [
      " into mirrors for hours until i cant recognize  myself  a dissonant reflection both a sober and a\n",
      "             im on my pro clubs shit; i create  myself  but im never gonna rate myself pictureperfect is\n",
      "             im on my zebra shit im tryna stop  myself  from killin you bitches im on my peta\n",
      "      unimpressed uhhuh ooh i trust no one but  myself  he the only one that hasnt fuckin left\n",
      "          dont need no other people in my trio  myself  i and me though we know we dont\n",
      " at least fivethousand said that i should kill  myself  im a freak im too weak im a\n",
      "    league so fuck an industry plant ill plant  myself  in the industry in my own shoes i\n",
      "      so small and larger than life thinkin to  myself  just dont fall from the largest of heights\n",
      "       i create myself but im never gonna rate  myself  pictureperfect is it workin vision blurrin missin verses\n",
      "         in myself yeah shit i dont believe in  myself  so ill just keep to myself huh if\n",
      "            up and left yeah but i always tell  myself  that im one of the good guys right\n",
      "        age of twelve even before i could lace  myself  thats why when i know i lose all\n",
      "                 huh b lou yeah i stay true to  myself  uh saying we gucci better stay true to\n",
      "         believe in god when i dont believe in  myself  yeah shit i dont believe in myself so\n",
      "cant even save themselves facts i gotta behave  myself  yeah gotta remember my start no i will\n"
     ]
    }
   ],
   "source": [
    "print_kwic(sort_kwic(quad_myself_sample, 'R1'))"
   ]
  },
  {
   "cell_type": "markdown",
   "metadata": {},
   "source": [
    "#### Observation on: Myself\n",
    "The term `myself` is being used to describe:\n",
    ">* talking about one's self, aka referring to the rapper (Quadeca) themself\n",
    "\n",
    ">From this random sample of the term `myself`, it seems like Quadeca is dealing with being in the public eye and the expectation of others. This can be seen in the lines `into mirros for hours until i cant recognize myself a dissonant reflection both a sober and a` and `at least fivethousand said that i should kill myself im a freak im too weak im a`. \n",
    "\n",
    ">In some instances of the term `myself`, we see Quadeca isolating himself from other people. In the lines `unimpressed uhhuh ooh i trust no one but myself he the only one that hasnt fuckin left` and `dont need no other people in my trio myself i and me though we know we dont`, it seems like the only person that Quadeca needs and the only person that will always be there for Quadeca is himself. This is emphasized in the line `league so fuck an industry plant ill plant myself in the industry in my own shoes i`. Here Quadeca states that he doesn't need a label to break into the industry and that he'll do it by himself, with his own resources. \n",
    "\n",
    ">Yet, there are also references where Quadeca doesn't even trust himself. In the line `in myself yeah shit i dont believe in myself so ill just keep to myself huh if` and `believe in god when i dont believe in myself yeah shit i dont believe in myself so`, we see Quadeca doubts himself sometimes. "
   ]
  },
  {
   "cell_type": "markdown",
   "metadata": {},
   "source": [
    "#### Keyword: Woke"
   ]
  },
  {
   "cell_type": "code",
   "execution_count": 45,
   "metadata": {},
   "outputs": [],
   "source": [
    "quad_woke = make_kwic('woke', quadeca_music_tokens, win=8)\n",
    "quad_woke_sample = random.sample(quad_woke, 15)"
   ]
  },
  {
   "cell_type": "code",
   "execution_count": 46,
   "metadata": {},
   "outputs": [
    {
     "name": "stdout",
     "output_type": "stream",
     "text": [
      "        is borin ima fuck up my attitude i  woke  up this evenin ima have to get back\n",
      "        is borin ima fuck up my attitude i  woke  up this evenin ima have to get back\n",
      "          time across the sea of my mind i  woke  up and my eyes were sore yeah i\n",
      "    overall idea of wherе you are oohooh i  woke  up this mornin or should i say afternoon\n",
      "when im— everything feels better when i go  woke  up feelin mad today bitch im ugly but\n",
      "        is borin ima fuck up my attitude i  woke  up this evenin ima have to get back\n",
      "       ima hit you back another day yeah i  woke  up this mornin or should i say afternoon\n",
      "           its apparent to me and i said i  woke  up this mornin or should i say afternoon\n",
      "       were just shades of us shades of us  woke  up on your side of the bed its\n",
      "  avalanches go by and even enjoy the view  woke  up on your side of the bed its\n",
      "        is borin ima fuck up my attitude i  woke  up this evenin ima have to get back\n",
      "        get back to you tomorrow yeah mm i  woke  up this mornin or should i say afternoon\n",
      "        get back to you tomorrow yeah mm i  woke  up this mornin or should i say afternoon\n",
      "        is borin ima fuck up my attitude i  woke  up this evenin ima have to get back\n",
      "        he gets the kid deserves it yeah i  woke  up and my eyes were sore i gave\n"
     ]
    }
   ],
   "source": [
    "print_kwic(sort_kwic(quad_woke_sample, 'R1'))"
   ]
  },
  {
   "cell_type": "markdown",
   "metadata": {},
   "source": [
    "#### Observation on: Woke\n",
    "The term `woke` is being used to describe:\n",
    ">* to wake up from sleep\n",
    "\n",
    ">From this random sample of the term `woke`, it seems like Quadeca is dealing with going from the motions and potentially depression. This can be seen in the lines `ima hit you back another day yeah i woke up this mornin or should i say afternoon` and `is borin ima fuck up my attitude i woke up this evenin ima have to get back`. These lines can be interpreted either as Quadeca doesn't want to get up from bed as he has no motivation to go on with his day or that every part of the day (morning, afternoon, evening) are the same to him and as a result, he's burnt out from going through the motions. In other uses of the term `woke`, we see Quadeca reminiscing over a past relationship. This can be seen in the line `were just shades of us shades of us woke up on your side of the bed its`. Here Quadeca notes that towards the tail end of his relationship, they were just shades of their original love and now he's waking up on her side of the bed because she is no longer there to occupy it. "
   ]
  },
  {
   "cell_type": "markdown",
   "metadata": {},
   "source": [
    "#### Keyword: Life"
   ]
  },
  {
   "cell_type": "code",
   "execution_count": 47,
   "metadata": {},
   "outputs": [],
   "source": [
    "quad_life = make_kwic('life', quadeca_music_tokens, win=8)\n",
    "quad_life_sample = random.sample(quad_life, 15)"
   ]
  },
  {
   "cell_type": "code",
   "execution_count": 48,
   "metadata": {},
   "outputs": [
    {
     "name": "stdout",
     "output_type": "stream",
     "text": [
      "                   the wrong wrong life you in the wrong  life  bitch media painted the wrong light huh hard\n",
      "                      you wanna take i wanna give you my  life  but you stalkin it for the mistakes yeah\n",
      "                     ill make you think you in the wrong  life  huh you in the wrong wrong life you\n",
      "                  just took another few im tryna turn my  life  into a dream that fades deep in the\n",
      "                    my life is a highlight reel swear my  life  is a movie red dot on my forehead\n",
      "                      a man with the heart of a murderer  life  is a road so i cop a convertible\n",
      "                     life like a movie huh you live your  life  like a clip huh yeah hahahaha i do\n",
      "                         like a ship uhhuh huh i live my  life  like a movie huh you live your life\n",
      "                         for a new car looking for a new  life  new life looking out a new lens uh\n",
      "                   in you mm uh everything changed in my  life  now i got some adjustin to do uh\n",
      "                  prove ayy ayy yeah oh we got different  life  plans i know oh tryna do what i\n",
      "                    it work until it oh we got different  life  plans i know tryna do what i can\n",
      "pictureperfect is it workin vision blurrin missin verses  life  really is a burden seein my face on\n",
      "                   outta mine i like to think about what  life  will be like down the line yyyyeah but\n",
      "                   falls through i want you back here oh  life  will never be the same as last year\n"
     ]
    }
   ],
   "source": [
    "print_kwic(sort_kwic(quad_life_sample, 'R1'))"
   ]
  },
  {
   "cell_type": "markdown",
   "metadata": {},
   "source": [
    "#### Observation on: Life\n",
    "The term `life` is being used to describe:\n",
    ">* the condition of being alive and experiencing the world\n",
    "\n",
    "> From this random sample of the term `life`, it seems that Quadeca is talking about adapting to his new life due to his growth in popularity and the consequences that comes with it. This can be seen in the lines `my life is a highlight reel swear my life is a movie red dot on my forehead`, `for a new car looking for a new life new life looking out a new lens uh`, and `in you mm uh everything changed in my life now i got some adjustin to do uh`. In these lines, we can see that Quadeca compares his new life to a movie and as a result, he has a target on his head. This growth in popularity could be a double edge sword because now this perpetuates the need for him to prove himself yet again to the critics and he has to adjust to his new life through a new point of view.\n",
    "\n",
    ">In other uses of the word `life`, we can see more references to a past relationship. This can be seen in the lines `prove ayy ayy yeah oh we got different life plans i know oh tryna do what i`, `it work until it oh we got different life plans i know tryna do what i can`, and `falls through i want you back here of life will never be the same as last year`. We can see in these lines that Quadeca tried to make a relationship work, but in the end the two just had different life goals. It seems like Quadeca misses his ex-lover and wants her back, but the possibility of her coming back does not seem very likely.\n",
    "\n",
    ">Finally, some other uses of the term `life` are when Quadeca compares himself to other rappers. We can see this in the line `the wrong wrong life you in the wrong life bitch media painted the wrong light huh hard` and `life like a movie huh your life like a clip huh yeah hahahaha i do`. The first line can be interpreted as Quadeca saying that his life is superior and he's a better rapper and that other rappers who are worse than him made the wrong decision to be a rapper. The second line can be interpreted as Quadeca's career will be as long as a movie whereas other rappers' careers will be as long as a clip. In context, the length of a movie is significantly longer than the length of a clip, so Quadeca is saying that he'll have a long lasting career compared to some of these other rappers."
   ]
  },
  {
   "cell_type": "markdown",
   "metadata": {},
   "source": [
    "#### Keyword: If"
   ]
  },
  {
   "cell_type": "code",
   "execution_count": 49,
   "metadata": {},
   "outputs": [],
   "source": [
    "quad_if = make_kwic('if', quadeca_music_tokens, win=8)\n",
    "quad_if_sample = random.sample(quad_if, 15)"
   ]
  },
  {
   "cell_type": "code",
   "execution_count": 50,
   "metadata": {},
   "outputs": [
    {
     "name": "stdout",
     "output_type": "stream",
     "text": [
      " million sheep ill never be really complete even  if  i fill up an arena wit a million\n",
      "         these days something must be on my side  if  i lose at least ill tell em that\n",
      "         these days something must be on my side  if  i lose at least ill tell em that\n",
      "             a ego must be something in my brain  if  i didnt id probably go insane im sorry\n",
      "             me i was wrong and never learned so  if  im melted you gon watch and let me\n",
      "           to war please get me a lightsaber huh  if  it aint blue uh then what uh then\n",
      "         that had fallen like an angel who knows  if  they in the clouds with a halo who\n",
      "from the cap like you ratatouille absolutely mad  if  you didnt like that then sue me im\n",
      "         shot head shot shot shot you dead wrong  if  you think that i could press pause uh\n",
      "         exist if you remember me ill only exist  if  you remember me you are not in love\n",
      "         fuckin vest a fuckin vest im from where  if  you aint movin right you might get fuckin\n",
      "        drift away youre a memory ill only exist  if  you remember me ill only exist if you\n",
      "                im on fire never burnt out uh uh  if  you make plans you get turned down uh\n",
      "             fall in love until its not the same  if  you lose me dont you take the blame\n",
      "              only if i can partake and you know  if  youre happy the music is probably crappy and\n"
     ]
    }
   ],
   "source": [
    "print_kwic(sort_kwic(quad_if_sample, 'R1'))"
   ]
  },
  {
   "cell_type": "markdown",
   "metadata": {},
   "source": [
    "#### Observation on: If\n",
    "The term `if` is being used to describe:\n",
    ">* an event or goal that could happen, but has not happened yet\n",
    ">* a part of a conditional clause \n",
    "\n",
    ">From this random sample of the term `if`, it seems that Quadeca is reflecting a lot about his current self and his past self. This can be seen in the lines `million sheep ill never be really complete even if i fill up an areana wit a million` and `these days something must be on my side if i lose at least ill tell them that i`. In the first line, we see that Quadeca says that he still wouldn't be happy even if he about to fill up arenas and perform for a million people. This just goes to show that fame and success is not the solution to everything. In the second line, it seems like Quadeca is noticing that he needs someone by his side. This could be in reference to a girlfriend or maybe just friends in general.\n",
    "\n",
    "> There are also other references to this existing theme of a past relationship. We can see this in the lines `exist if you remember me ill only exist if you remember me you are not in love` and `drift away youre a memory ill only exist if you remember me you remember me ill only exist if you`. Here, we can see that Quadeca's relationship is nothing but a memory and it seems like the relationship ended so poorly, that the two people don't exist to each other unless they are forced to remember the relationship. Another interpretation of this could be that Quadeca was so reliant on the relationship that since the relationship is over, his own existence and self-worth is in jeopardy."
   ]
  },
  {
   "cell_type": "markdown",
   "metadata": {},
   "source": [
    "#### Overall Observations on Quadeca's Music\n",
    "After analyzing all the keywords in context concordances, it seems like the topics that Quadeca raps about in his later albums are:\n",
    "* depression\n",
    "* addressing critics and other rappers\n",
    "* dealing with being in the public eye, expectations, and growth\n",
    "* past relationship and love\n",
    "\n",
    "These topics are more or less the same from the first time that I did the KWIC with a different set of keywords. "
   ]
  },
  {
   "cell_type": "markdown",
   "metadata": {},
   "source": [
    "### Billboard Rap Music"
   ]
  },
  {
   "cell_type": "markdown",
   "metadata": {},
   "source": [
    "#### Keyword: Bitch"
   ]
  },
  {
   "cell_type": "code",
   "execution_count": 51,
   "metadata": {},
   "outputs": [],
   "source": [
    "billboard_rap_bitch = make_kwic('bitch', billboard_rap_tokens, win=8)\n",
    "billboard_rap_bitch_sample = random.sample(billboard_rap_bitch, 15)"
   ]
  },
  {
   "cell_type": "code",
   "execution_count": 52,
   "metadata": {},
   "outputs": [
    {
     "name": "stdout",
     "output_type": "stream",
     "text": [
      "      gang or youre suwoop got a new orleans  bitch  and man that pussy voodoo and im that\n",
      "       big bands im thumbin shit ayy one bad  bitch  and she do what i say so yeah\n",
      "        really with a cling cling with a bad  bitch  bitch niggas straight rockin rock niggas straight see\n",
      "       yet my bitch drink bacardi im in this  bitch  feelin like set okurr quarter mil on my\n",
      "          real i tear down the mall with the  bitch  for real you cant even talk to the\n",
      "                 had a cop in it woo okay my  bitch  got good pussy fly her cross the country\n",
      "           sign me woo your honor im a freak  bitch  handcuffs leashes switch my wig make him feel\n",
      "         i just took it left like im ambidex  bitch  i move through london with the eurostep two\n",
      "           i will pop on your pops your pops  bitch  i will pop on whoever brrr you know\n",
      "            to god i swear to god you stupid  bitch  i thought that we were meant to be\n",
      "           trick and he dont get off hold up  bitch  im a star got these niggas wishin he\n",
      "           new freak had to cut my other lil  bitch  off ooh ooh lil bitch 50k you could\n",
      "          ayy ayy ayy i want me a wilhelmina  bitch  to bust it open ayy ayy ayy ayy\n",
      "for clout anything do anything for clout hey  bitch  watch your mouth watch it bitch stay in\n",
      "       my body cardi got your bitch on molly  bitch  you aint gang you lame bentley truck lane\n"
     ]
    }
   ],
   "source": [
    "print_kwic(sort_kwic(billboard_rap_bitch_sample, 'R1'))"
   ]
  },
  {
   "cell_type": "markdown",
   "metadata": {},
   "source": [
    "#### Observation on: Bitch\n",
    "The term `bitch` is being used to describe:\n",
    ">* a derogatory term used to describe a woman who the rapper may have a romantic and/or sexual relationship with (ex: 1, 2, 6)\n",
    ">* people who the rapper does not like (ex: 9, 15)\n",
    ">* a party setting (ex: 4)\n",
    "\n",
    "> From this random sample of the term `bitch`, it seems like mainstream rappers tend to talk about having sexual relationships with attractive women. This can be seen in the lines `ang or youre suwoop got a new orleans bitch and man that pussy voodoo and im that`, `big bands im thumbin shit ayy one bad bitch and she do what i say so yeah`, and `had a cop in it woo okay my bitch got good pussy fly her cross the country`. \n",
    "\n",
    "> In other uses of the term `bitch`, the mainstream rappers are usually calling out other rappers. This can be seen in the lines `i will pop on your pops your pops bitch i will pop on whoever brrr you know`, `for clout anything do anything for clout hey  bitch  watch your mouth watch it bitch stay in` and `my body cardi got your bitch on molly bitch you aint gang you lame bentley truck lane`"
   ]
  },
  {
   "cell_type": "markdown",
   "metadata": {},
   "source": [
    "#### Keyword: Down"
   ]
  },
  {
   "cell_type": "code",
   "execution_count": 53,
   "metadata": {},
   "outputs": [],
   "source": [
    "billboard_rap_down = make_kwic('down', billboard_rap_tokens, win=8)\n",
    "billboard_rap_down_sample = random.sample(billboard_rap_down, 15)"
   ]
  },
  {
   "cell_type": "code",
   "execution_count": 55,
   "metadata": {},
   "outputs": [
    {
     "name": "stdout",
     "output_type": "stream",
     "text": [
      " money money i love you turn my headphone  down  a little bit yeah for so many reasons\n",
      "        sorry that i let you down let you  down  all these voices in my head get loud\n",
      "    kitchen yeah thats my dawg he gon sit  down  and listen call him a trick and he\n",
      "    kitchen yeah thats my dawg he gon sit  down  and listen call him a trick and he\n",
      "    on mute woowoo hey ima bust her wrist  down  cause she cute ice ice fuck her on\n",
      "             want ya and i need ya and im  down  for you always kb do you love me\n",
      "    touchdown its a cold world get a bust  down  how you get my mind before my body\n",
      "           break it on down i break it on  down  i break it on down i break it\n",
      "         them out im sorry that i let you  down  lelelet you down yeah i guess im a\n",
      "      tear me up inside when you break me  down  new car very noisy come through and its\n",
      "shooters ready to rain down ready to rain  down  ready to rain down ready to rain down\n",
      "  a distance cause the same bitch say she  down  to ride be the main one who tricking\n",
      "      never meant to let you down let you  down  woulda gave you anything woulda gave you everything\n",
      "    harleys and shit for real i be guccid  down  you wearing lacoste and shit ooh moncler yuh\n",
      "     robe woah woah like you when you let  down  your hair with no comb and i stay\n"
     ]
    }
   ],
   "source": [
    "print_kwic(sort_kwic(billboard_rap_down_sample, 'R1'))"
   ]
  },
  {
   "cell_type": "markdown",
   "metadata": {},
   "source": [
    "#### Observation on: Down\n",
    "The term `down` is being used to describe:\n",
    ">* lowering the volume (ex: 1)\n",
    ">* disappointed someone (ex: 2)\n",
    ">* to stay in place (ex: 3, 4)\n",
    ">* adding valuable jewelery (ex: 5)\n",
    ">* in love (ex: 6)\n",
    ">* to destroy or to wear down (ex: 10)\n",
    ">* a hail of bullets (ex: 11)\n",
    ">* dressed (ex: 14)\n",
    ">* to release (ex: 15)\n",
    "\n",
    "> From this random sample of the term `down`, it seems like the mainstream rappers are talking about being in love with a woman. This can be seen in the lines `on mute woowoo hey ima bust her wrist down cause she cute ice ice fuck her on` and `want ya and i need ya and im down for you always kb do you love me`. \n",
    "\n",
    "> There also seems to be references where the mainstream rapper is talking about feeling sorry for disappoint someone. This can be seen in the lines `sorry that i let you down let you down all these voices in my head get lead`, `them out im sorry that i let you down lelelet you down yeah i guess im a`, and `never meant to let you down let you down woulda gave you anything woulda gave you everything`.\n",
    "\n",
    ">Finally, there also seemed to be references of mainstream rappers bragging about how much money they have based on their expensive designer clothes. This can be seen in the line `harleys and shit for real i be guccid down you wearing lacoste and shit ooh moncler yuh`."
   ]
  },
  {
   "cell_type": "markdown",
   "metadata": {},
   "source": [
    "#### Keyword: Got"
   ]
  },
  {
   "cell_type": "code",
   "execution_count": 58,
   "metadata": {},
   "outputs": [],
   "source": [
    "billboard_rap_got = make_kwic('got', billboard_rap_tokens, win=8)\n",
    "billboard_rap_got_sample = random.sample(billboard_rap_got, 15)"
   ]
  },
  {
   "cell_type": "code",
   "execution_count": 59,
   "metadata": {},
   "outputs": [
    {
     "name": "stdout",
     "output_type": "stream",
     "text": [
      "                got big packs comin on the way i  got  big stacks comin out the safe i got\n",
      "                  good day i feel like a child i  got  boogers in the face diamonds dancin in the\n",
      "                    me a spot on a new record he  got  he call it a lot i open my\n",
      "              got it lit real ass bitch know she  got  it lit hot girl summer so you know\n",
      "bloody bottoms is underneath cause all my niggas  got  it out the streets i keep a hundred\n",
      "               on da track run that shit back we  got  london on da track swervin how you look\n",
      "   cop it all sippin my favorite alcohol alcohol  got  me so lit i need tylenol tylenol all\n",
      "                this fuck you like that oh now i  got  mixed personalities she got me stressin singin melodies\n",
      "               my shirt wake up in the morning i  got  murder on my mind ak47s mac11 glocks and\n",
      "    styles cant even pronounce the name you aint  got  no style see you on my instagram i\n",
      "                 a whole one hund dont got you i  got  nothin uh uh ayy i got somethin hol\n",
      "            ohoh i just bought a pair of rollies  got  one for my baby lil baby ohohh lil\n",
      "             got that wet wet got that drip drip  got  that super soaker hit that she a fefe\n",
      "         niggas iffy uh blicky got the stiffy uh  got  the blicky uh drum it hold fifty uh\n",
      "               she wanna fuck with me but i dont  got  the time mmh mmh i just hopped off\n"
     ]
    }
   ],
   "source": [
    "print_kwic(sort_kwic(billboard_rap_got_sample, 'R1'))"
   ]
  },
  {
   "cell_type": "markdown",
   "metadata": {},
   "source": [
    "#### Observation on: Got\n",
    "The term `got` is being used to describe:\n",
    ">* having or owning something (ex: 1)\n",
    ">* thinking about something (ex: 9)\n",
    "\n",
    ">From this random sample of the term `got`, it seems that mainstream rappers are talking about how much wealth they have. This can be seen in the lines `got big packs comin on the way i got big stacks comin out the safe i got`, ` ohoh i just bought a pair of rollies got one for my baby lil baby ohohh lil ` and `good day i feel like a child i got boogers in the face diamonds dancin in the`. There are also a lot of references to partying and getting 'lit'. These can be seen in the line `cop it all sippin my favorite alcohol alcohol got me so lit i need tylenol tylenol all`. Other references point to sexual references such as `got that wet wet got that drip drip got that super soaker hit that she a fefe` and `she wanna fuck with me but i dont got the time mmh mmh i just hopped off`. "
   ]
  },
  {
   "cell_type": "markdown",
   "metadata": {},
   "source": [
    "#### Keyword: Walk"
   ]
  },
  {
   "cell_type": "code",
   "execution_count": 62,
   "metadata": {},
   "outputs": [],
   "source": [
    "billboard_rap_walk = make_kwic('walk', billboard_rap_tokens, win=8)\n",
    "billboard_rap_walk_sample = random.sample(billboard_rap_walk, 15)"
   ]
  },
  {
   "cell_type": "code",
   "execution_count": 63,
   "metadata": {},
   "outputs": [
    {
     "name": "stdout",
     "output_type": "stream",
     "text": [
      "     them bricks in the fender my bitch she  walk  around like she kris jenner kris jenner i\n",
      "           come and book a nigga for a plug  walk  big ol bentley its a spaceship woah call\n",
      "          em down walk em down walk em down  walk  em down walk em down walk em down\n",
      "   up yeah still doing drivebys but i wanna  walk  em i wanna if i cant find em\n",
      "in the shits some niggas just dormant shits  walk  in the buildin they start applaudin applaudin i\n",
      "             walk it like i talk it walk it  walk  it like i talk it yeah walk it\n",
      "              it walk it like i talk it woo  walk  it like i talk it hey walk it\n",
      "  tommy campos we live like sopranos and i—  walk  it like i talk it walk it walk\n",
      "             walk it like i talk it walk it  walk  it like i talk it hey walk it\n",
      "              it woo walk it like i talk it  walk  it walk it like i talk it hey\n",
      "             walk it walk it like i talk it  walk  it walk it like i talk it talk\n",
      "             it walk it like i talk it yeah  walk  it walk it like i talk it talk\n",
      "             lets go walk it like i talk it  walk  it walk it like i talk it woo\n",
      "             cho hey walk it like i talk it  walk  it walk it like i talk it yeah\n",
      "           gang gang walk it like i talk it  walk  it walk it like i talk it yeah\n"
     ]
    }
   ],
   "source": [
    "print_kwic(sort_kwic(billboard_rap_walk_sample, 'R1'))"
   ]
  },
  {
   "cell_type": "markdown",
   "metadata": {},
   "source": [
    "#### Observation on: Walk\n",
    "The term `walk` is being used to describe:\n",
    ">* to go around or to present one's self (ex: 1)\n",
    ">* to have a shoot out (ex: 3)\n",
    ">* to be capable of doing things that you say (ex: 6)\n",
    "\n",
    ">From this random sample of the term `walk`, we see that mainstream rappers are talking about being about to back up their claims via their accomplishments. This can be seen in the line `walk it like i talk it walk it  walk  it like i talk it hey walk it`. Also, we see that if some people cross the line with some of these mainstream rappers, then these rappers aren't afraid of getting personal and are will to have a gunfire with each other to settle beef. This can be seen in the line `em down walk em down walk em down  walk  em down walk em down walk em down` and `up yeah still doing drivebys but i wanna walk  em i wanna if i cant find em`."
   ]
  },
  {
   "cell_type": "markdown",
   "metadata": {},
   "source": [
    "#### Keyword: You"
   ]
  },
  {
   "cell_type": "code",
   "execution_count": 64,
   "metadata": {},
   "outputs": [],
   "source": [
    "billboard_rap_you = make_kwic('you', billboard_rap_tokens, win=8)\n",
    "billboard_rap_you_sample = random.sample(billboard_rap_you, 15)"
   ]
  },
  {
   "cell_type": "code",
   "execution_count": 65,
   "metadata": {},
   "outputs": [
    {
     "name": "stdout",
     "output_type": "stream",
     "text": [
      "                my soul from me no way i gave  you  all my ecstasy i thought that you were\n",
      "           black to match ridin on a horse ha  you  can whip your porsche i been in the\n",
      "          was goin up and down like yoyo down  you  can say im greedy cause i always want\n",
      "      like an anaconda you go against me then  you  fucked just like a used condom you fucked\n",
      "           not just a rapper you play with me  you  gon get stretched oohoh bring drake to the\n",
      "         lawyers you got a lot how many times  you  got shot a lot how many niggas you\n",
      "          all of this guess you actin out now  you  got an audience tell me where your mind\n",
      "     i guess you came through im running from  you  is your love for real for real for\n",
      "        outside yeah air this shit out uh mmm  you  lettin the scotts outside yeah we runnin the\n",
      "      these streets alright can you do it can  you  pop it for me pull up in a\n",
      "                put me in no brands but i see  you  proud of me im just a real ass\n",
      "     your phone out snappin like you fabo and  you  showin off but its alright and you showin\n",
      "           put you in the blender i could get  you  slushed haha i see the comments but really\n",
      " friend when im rollin through my ends though  you  stuck in the friend zone i tell that\n",
      "we more like belly—tommy and keisha shit gave  you  tlc you wanna creep and shit poured out\n"
     ]
    }
   ],
   "source": [
    "print_kwic(sort_kwic(billboard_rap_you_sample, 'R1'))"
   ]
  },
  {
   "cell_type": "markdown",
   "metadata": {},
   "source": [
    "#### Observation on: You\n",
    "The term `you` is being used to describe:\n",
    ">* someone who you were in a romantic relationship with (ex: 1)\n",
    ">* the person listening to the track (ex: 3)\n",
    ">* other rappers (ex: 5)\n",
    "\n",
    "> From this random sample of the term `you`, it seems that mainstream rappers are talking about love and past relationships. This can be seen in the lines `my soul from me no way i gave you all my ecstasy i thought that you were` and `i guess you came through im running from  you  is your love for real for real for`. Other references to seem like mainstream rappers are referring to sexual acts. This can be seen in the line `was goin up and down like yoyo down you can say im greedy cause i always want` and `put you in the blender i could get you slushed haha i see the comments but really`. Here, rappers are comparing women performing sexual acts to yo-yos and rappers performing sexual acts to a blender and making things wet and slurry. Finally, it also seems like mainstream rappers are warning others not to mess with them or else they're going to retort. This can be seen in the line `not just a rapper you play with me you gon get stretched oohoh bring drake to the`. Here the rapper is saying that if you miss with him/her, then you'll hurt."
   ]
  },
  {
   "cell_type": "markdown",
   "metadata": {},
   "source": [
    "#### Overall Observations on Billboard Rap Music\n",
    "After analyzing all the keywords in context concordances, it seems like the topics that mainstream rappers on the Billboard Top 50 Rap songs rap about are:\n",
    "* sexual relationships with females\n",
    "* calling out/warning other rappers to stay in their lane\n",
    "* love and romantic relationships\n",
    "* bragging about their wealth\n",
    "* violence\n",
    "* partying"
   ]
  },
  {
   "cell_type": "markdown",
   "metadata": {},
   "source": [
    "## Conclusion from Keywords in Context Analysis"
   ]
  },
  {
   "cell_type": "markdown",
   "metadata": {},
   "source": [
    "After doing the keyness analysis and keyword in context concordance analysis for both Quadeca's later music and the Billboard Top 50 Rap Songs for 2018, 2019, and 2020, I found that there are very few overlappings themes between the two types of music.\n",
    "\n",
    "The themes that both corpuses share are the following:\n",
    "* love and romantic relationships\n",
    "\n",
    "There are a lot of differences in the topics that these two corpuses talk about:\n",
    "* Quadeca's music seems to deal with more personal and relatable issues such as dealing with depression, dealing with expectations, and dealing with criticism.\n",
    "* Mainstream rappers seem to be more out of touch and like to rap about their success and how they're better than you. They tend to rap about their wealth, having sexual relationships with females, violence, and partying. \n",
    "\n",
    "From this KWIC analysis, I think it is pretty clear that lyrics were not influenced by mainstream rap lyrics and topics nor does his lyrics reflect mainstream rap lyrics."
   ]
  },
  {
   "cell_type": "code",
   "execution_count": null,
   "metadata": {},
   "outputs": [],
   "source": []
  }
 ],
 "metadata": {
  "kernelspec": {
   "display_name": "Python 3",
   "language": "python",
   "name": "python3"
  },
  "language_info": {
   "codemirror_mode": {
    "name": "ipython",
    "version": 3
   },
   "file_extension": ".py",
   "mimetype": "text/x-python",
   "name": "python",
   "nbconvert_exporter": "python",
   "pygments_lexer": "ipython3",
   "version": "3.7.3"
  }
 },
 "nbformat": 4,
 "nbformat_minor": 2
}

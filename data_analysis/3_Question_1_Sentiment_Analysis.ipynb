{
 "cells": [
  {
   "cell_type": "markdown",
   "metadata": {},
   "source": [
    "# Question 1: Did Quadeca's Musical Themes and Musical Style Change From the Period Before Insecure Compared to the Period After Insecure?"
   ]
  },
  {
   "cell_type": "markdown",
   "metadata": {},
   "source": [
    "---"
   ]
  },
  {
   "cell_type": "markdown",
   "metadata": {},
   "source": [
    "## Setup"
   ]
  },
  {
   "cell_type": "code",
   "execution_count": 1,
   "metadata": {},
   "outputs": [],
   "source": [
    "import os\n",
    "import re\n",
    "import csv\n",
    "import pandas as pd\n",
    "import numpy as np\n",
    "import matplotlib.pyplot as plt\n",
    "\n",
    "from nltk import tokenize\n",
    "from nltk.sentiment.vader import SentimentIntensityAnalyzer"
   ]
  },
  {
   "cell_type": "code",
   "execution_count": 2,
   "metadata": {},
   "outputs": [],
   "source": [
    "# import other notebooks\n",
    "%run /Commjhub/jupyterhub/comm318_fall2019/raymon-shi/comm313_S21/comm313_S21_Final_Project/data/functions.ipynb"
   ]
  },
  {
   "cell_type": "code",
   "execution_count": 3,
   "metadata": {},
   "outputs": [],
   "source": [
    "# import global variables\n",
    "%store -r b_album_one_lyrics\n",
    "%store -r b_album_two_lyrics\n",
    "%store -r b_album_three_lyrics\n",
    "%store -r b_album_four_lyrics\n",
    "%store -r a_album_one_lyrics\n",
    "%store -r a_album_two_lyrics\n",
    "\n",
    "sid = SentimentIntensityAnalyzer()"
   ]
  },
  {
   "cell_type": "markdown",
   "metadata": {},
   "source": [
    "---------------------------------------"
   ]
  },
  {
   "cell_type": "markdown",
   "metadata": {},
   "source": [
    "## Sentiment Analysis of Keywords from Keyness Analysis"
   ]
  },
  {
   "cell_type": "markdown",
   "metadata": {},
   "source": [
    "### Keywords of Albums Before the Insecure Diss Track"
   ]
  },
  {
   "cell_type": "code",
   "execution_count": 4,
   "metadata": {},
   "outputs": [],
   "source": [
    "# keywords from the before album corpus\n",
    "b_corpus_kw = ['and', 'people', 'im', 'man', 'is', 'know', 'am', 'that', 'really', \"i've\", 'find', 'livin', 'feeling',\n",
    "              'it', 'we', 'ever', 'to', 'game', 'thought', 'of', 'about', 'will']"
   ]
  },
  {
   "cell_type": "code",
   "execution_count": 38,
   "metadata": {},
   "outputs": [
    {
     "name": "stdout",
     "output_type": "stream",
     "text": [
      "the before corpus keywords lexicon score is: 0.022727272727272728\n"
     ]
    }
   ],
   "source": [
    "print('the before corpus keywords lexicon score is:', get_kw_vader_score(b_corpus_kw))"
   ]
  },
  {
   "cell_type": "markdown",
   "metadata": {},
   "source": [
    "### Observations of Keywords Sentiment of all Albums Before the Insecure Diss Track"
   ]
  },
  {
   "cell_type": "markdown",
   "metadata": {},
   "source": [
    "According to the vader polarity score, it seems that the keywords from the corpus of the albums before the Insecure Diss Track seem to have a very neutral sentiment."
   ]
  },
  {
   "cell_type": "markdown",
   "metadata": {},
   "source": [
    "### Keywords of Albums After the Insecure Diss Track"
   ]
  },
  {
   "cell_type": "code",
   "execution_count": 39,
   "metadata": {},
   "outputs": [],
   "source": [
    "a_corpus_kw = ['uh', 'yeah', 'ooh', 'work', 'gon', 'until', 'still', 'real', 'nothing', 'did', 'was', 'they', 'had',\n",
    "              'everything', 'ayy', 'fuckin', 'he', \"didn't\", 'nothin', 'long', 'bitch', 'think', 'i', 'alone', 'left',\n",
    "              'she', 'myself', 'matter', 'old', 'if', 'only', 'used', 'looking', 'why', 'wrong', 'love', 'thank', 'were',\n",
    "              \"can't\", 'em', 'back', 'turn', 'wish', 'anymore', 'sorry']"
   ]
  },
  {
   "cell_type": "code",
   "execution_count": 40,
   "metadata": {},
   "outputs": [
    {
     "name": "stdout",
     "output_type": "stream",
     "text": [
      "the after corpus keywords lexicon score is: 0.03333333333333334\n"
     ]
    }
   ],
   "source": [
    "print('the after corpus keywords lexicon score is:', get_kw_vader_score(a_corpus_kw))"
   ]
  },
  {
   "cell_type": "markdown",
   "metadata": {},
   "source": [
    "### Observations of Keyword Sentiment of all Albums After the Insecure Diss Track"
   ]
  },
  {
   "cell_type": "markdown",
   "metadata": {},
   "source": [
    "According to the vader lexicon score, it seems that the keywords from the corpus of the albums after the Insecure Diss Track also seem to have a very neutral sentiment."
   ]
  },
  {
   "cell_type": "markdown",
   "metadata": {},
   "source": [
    "### Overall Observation of Keyword Sentiment from Before and After Albums"
   ]
  },
  {
   "cell_type": "markdown",
   "metadata": {},
   "source": [
    "Overall, it seems that the keywords that were more likely to appear in one corpus compared to the other were keywords that had mostly neutral sentiment. It appears that trying to use the keywords to predict the sentiment of the corpus does not help. The next step will be to do a sentiment analysis on each song to see how many positive, negative, and neutral songs exists within each album. From there, I will do a sentiment analysis over the albums, to get the overall sentiment score of each album in each period of time and then compare the two periods of time. Afterward, I will see if the sentiment scores supports the other analyses that I've conducted."
   ]
  },
  {
   "cell_type": "markdown",
   "metadata": {},
   "source": [
    "---------------------------------------"
   ]
  },
  {
   "cell_type": "markdown",
   "metadata": {},
   "source": [
    "## Sentiment Analysis of Songs"
   ]
  },
  {
   "cell_type": "markdown",
   "metadata": {},
   "source": [
    "### Albums Before the Insecure Diss Track"
   ]
  },
  {
   "cell_type": "markdown",
   "metadata": {},
   "source": [
    "#### Work in Progress (2015)"
   ]
  },
  {
   "cell_type": "code",
   "execution_count": 10,
   "metadata": {},
   "outputs": [
    {
     "name": "stdout",
     "output_type": "stream",
     "text": [
      "the vader polarity average scores for each song in the album are:\n"
     ]
    },
    {
     "data": {
      "text/plain": [
       "[0.9949,\n",
       " 0.9883,\n",
       " -0.9593,\n",
       " 0.9649,\n",
       " 0.9976,\n",
       " -0.971,\n",
       " 0.7287,\n",
       " -0.9658,\n",
       " 0.1177,\n",
       " -0.535,\n",
       " -0.1952,\n",
       " -0.9985,\n",
       " 0.8782,\n",
       " -0.9907,\n",
       " 0.9059]"
      ]
     },
     "execution_count": 10,
     "metadata": {},
     "output_type": "execute_result"
    }
   ],
   "source": [
    "print('the vader polarity average scores for each song in the album are:')\n",
    "b_aone_polarity = print_polarity_score_album(b_album_one_lyrics)\n",
    "b_aone_polarity"
   ]
  },
  {
   "cell_type": "code",
   "execution_count": 11,
   "metadata": {},
   "outputs": [
    {
     "name": "stdout",
     "output_type": "stream",
     "text": [
      "There are 8 positive songs in this album\n",
      "There are 7 negative songs in this album\n",
      "There are 0 neutral songs in this album\n"
     ]
    }
   ],
   "source": [
    "b_aone_pos_songs = list()\n",
    "b_aone_neg_songs = list()\n",
    "b_aone_neu_songs = list()\n",
    "\n",
    "sort_sentiment_songs(b_aone_polarity, b_aone_pos_songs, b_aone_neg_songs, b_aone_neu_songs)"
   ]
  },
  {
   "cell_type": "markdown",
   "metadata": {},
   "source": [
    "#### Nostalgia for the Now (2016)"
   ]
  },
  {
   "cell_type": "code",
   "execution_count": 13,
   "metadata": {},
   "outputs": [
    {
     "name": "stdout",
     "output_type": "stream",
     "text": [
      "the vader polarity average scores for each song in the album are:\n"
     ]
    },
    {
     "data": {
      "text/plain": [
       "[-0.384,\n",
       " -0.9927,\n",
       " 0.9972,\n",
       " 0.9976,\n",
       " -0.9927,\n",
       " 0.7397,\n",
       " 0.9953,\n",
       " 0.9519,\n",
       " -0.8424,\n",
       " -0.8982,\n",
       " -0.9946,\n",
       " -0.489,\n",
       " -0.9979,\n",
       " 0.8911,\n",
       " 0.8995]"
      ]
     },
     "execution_count": 13,
     "metadata": {},
     "output_type": "execute_result"
    }
   ],
   "source": [
    "print('the vader polarity average scores for each song in the album are:')\n",
    "b_atwo_polarity = print_polarity_score_album(b_album_two_lyrics)\n",
    "b_atwo_polarity"
   ]
  },
  {
   "cell_type": "code",
   "execution_count": 14,
   "metadata": {},
   "outputs": [
    {
     "name": "stdout",
     "output_type": "stream",
     "text": [
      "There are 7 positive songs in this album\n",
      "There are 8 negative songs in this album\n",
      "There are 0 neutral songs in this album\n"
     ]
    }
   ],
   "source": [
    "b_atwo_pos_songs = list()\n",
    "b_atwo_neg_songs = list()\n",
    "b_atwo_neu_songs = list()\n",
    "\n",
    "sort_sentiment_songs(b_atwo_polarity, b_atwo_pos_songs, b_atwo_neg_songs, b_atwo_neu_songs)"
   ]
  },
  {
   "cell_type": "markdown",
   "metadata": {},
   "source": [
    "#### Bad Internet Rapper (2017)"
   ]
  },
  {
   "cell_type": "code",
   "execution_count": 16,
   "metadata": {},
   "outputs": [
    {
     "name": "stdout",
     "output_type": "stream",
     "text": [
      "the vader polarity average scores for each song in the album are:\n"
     ]
    },
    {
     "data": {
      "text/plain": [
       "[0.9866,\n",
       " 0.9894,\n",
       " 0.9958,\n",
       " 0.9935,\n",
       " -0.995,\n",
       " -0.8292,\n",
       " 0.5963,\n",
       " 0.9959,\n",
       " 0.9969,\n",
       " 0.9934,\n",
       " 0.9645,\n",
       " -0.9411]"
      ]
     },
     "execution_count": 16,
     "metadata": {},
     "output_type": "execute_result"
    }
   ],
   "source": [
    "print('the vader polarity average scores for each song in the album are:')\n",
    "b_athree_polarity = print_polarity_score_album(b_album_three_lyrics)\n",
    "b_athree_polarity"
   ]
  },
  {
   "cell_type": "code",
   "execution_count": 17,
   "metadata": {},
   "outputs": [
    {
     "name": "stdout",
     "output_type": "stream",
     "text": [
      "There are 9 positive songs in this album\n",
      "There are 3 negative songs in this album\n",
      "There are 0 neutral songs in this album\n"
     ]
    }
   ],
   "source": [
    "b_athree_pos_songs = list()\n",
    "b_athree_neg_songs = list()\n",
    "b_athree_neu_songs = list()\n",
    "\n",
    "sort_sentiment_songs(b_athree_polarity, b_athree_pos_songs, b_athree_neg_songs, b_athree_neu_songs)"
   ]
  },
  {
   "cell_type": "markdown",
   "metadata": {},
   "source": [
    "#### Out of Order (2017)"
   ]
  },
  {
   "cell_type": "code",
   "execution_count": 19,
   "metadata": {},
   "outputs": [
    {
     "name": "stdout",
     "output_type": "stream",
     "text": [
      "the vader polarity average scores for each song in the album are:\n"
     ]
    },
    {
     "data": {
      "text/plain": [
       "[-0.9603,\n",
       " 0.8933,\n",
       " -0.8871,\n",
       " 0.9954,\n",
       " -0.9826,\n",
       " -0.9413,\n",
       " 0.9925,\n",
       " -0.9994,\n",
       " -0.9341,\n",
       " -0.8602,\n",
       " 0.757,\n",
       " -0.9666]"
      ]
     },
     "execution_count": 19,
     "metadata": {},
     "output_type": "execute_result"
    }
   ],
   "source": [
    "print('the vader polarity average scores for each song in the album are:')\n",
    "b_afour_polarity = print_polarity_score_album(b_album_four_lyrics)\n",
    "b_afour_polarity"
   ]
  },
  {
   "cell_type": "code",
   "execution_count": 20,
   "metadata": {},
   "outputs": [
    {
     "name": "stdout",
     "output_type": "stream",
     "text": [
      "There are 4 positive songs in this album\n",
      "There are 8 negative songs in this album\n",
      "There are 0 neutral songs in this album\n"
     ]
    }
   ],
   "source": [
    "b_afour_pos_songs = list()\n",
    "b_afour_neg_songs = list()\n",
    "b_afour_neu_songs = list()\n",
    "\n",
    "sort_sentiment_songs(b_afour_polarity, b_afour_pos_songs, b_afour_neg_songs, b_afour_neu_songs)"
   ]
  },
  {
   "cell_type": "markdown",
   "metadata": {},
   "source": [
    "#### All Albums Before the Insecure Diss Track"
   ]
  },
  {
   "cell_type": "code",
   "execution_count": 21,
   "metadata": {},
   "outputs": [
    {
     "name": "stdout",
     "output_type": "stream",
     "text": [
      "There are a total of 28 positive songs within this time period\n",
      "There are a total of 26 negative songs within this time period\n",
      "There are a total of 0 neutral songs within this time period\n"
     ]
    }
   ],
   "source": [
    "b_pos_songs = len(b_aone_pos_songs) + len(b_atwo_pos_songs) + len(b_athree_pos_songs) + len(b_afour_pos_songs)\n",
    "b_neg_songs = len(b_aone_neg_songs) + len(b_atwo_neg_songs) + len(b_athree_neg_songs) + len(b_afour_neg_songs)\n",
    "b_neu_songs = len(b_aone_neu_songs) + len(b_atwo_neu_songs) + len(b_athree_neu_songs) + len(b_afour_neu_songs)\n",
    "\n",
    "print('There are a total of', b_pos_songs, 'positive songs within this time period')\n",
    "print('There are a total of', b_neg_songs, 'negative songs within this time period')\n",
    "print('There are a total of', b_neu_songs, 'neutral songs within this time period')"
   ]
  },
  {
   "cell_type": "markdown",
   "metadata": {},
   "source": [
    "#### Overall Observations of Songs from all Albums Before the Insecure Diss Track"
   ]
  },
  {
   "cell_type": "markdown",
   "metadata": {},
   "source": [
    "According to the vader polarity scores, there are a total of 28 positive songs, 26 negative songs, and 0 neutral songs. From this information, I would assume that the overall sentiment from the albums before the Insecure diss track would be neutral to slightly more positive due to there being more positive songs than there are negative songs."
   ]
  },
  {
   "cell_type": "markdown",
   "metadata": {},
   "source": [
    "### Albums After the Insecure Diss Track"
   ]
  },
  {
   "cell_type": "markdown",
   "metadata": {},
   "source": [
    "#### Voice Memos (2019)"
   ]
  },
  {
   "cell_type": "code",
   "execution_count": 23,
   "metadata": {},
   "outputs": [
    {
     "name": "stdout",
     "output_type": "stream",
     "text": [
      "the vader polarity average scores for each song in the album are:\n"
     ]
    },
    {
     "data": {
      "text/plain": [
       "[0.9881,\n",
       " 0.9975,\n",
       " 0.9827,\n",
       " 0.9729,\n",
       " 0.9967,\n",
       " 0.9905,\n",
       " 0.9973,\n",
       " -0.658,\n",
       " -0.9987,\n",
       " 0.9926,\n",
       " -0.3506,\n",
       " -0.8705,\n",
       " 0.9902]"
      ]
     },
     "execution_count": 23,
     "metadata": {},
     "output_type": "execute_result"
    }
   ],
   "source": [
    "print('the vader polarity average scores for each song in the album are:')\n",
    "a_aone_polarity = print_polarity_score_album(a_album_one_lyrics)\n",
    "a_aone_polarity"
   ]
  },
  {
   "cell_type": "code",
   "execution_count": 24,
   "metadata": {},
   "outputs": [
    {
     "name": "stdout",
     "output_type": "stream",
     "text": [
      "There are 9 positive songs in this album\n",
      "There are 4 negative songs in this album\n",
      "There are 0 neutral songs in this album\n"
     ]
    }
   ],
   "source": [
    "a_aone_pos_songs = list()\n",
    "a_aone_neg_songs = list()\n",
    "a_aone_neu_songs = list()\n",
    "\n",
    "sort_sentiment_songs(a_aone_polarity, a_aone_pos_songs, a_aone_neg_songs, a_aone_neu_songs)"
   ]
  },
  {
   "cell_type": "markdown",
   "metadata": {},
   "source": [
    "#### From Me To You (2021)"
   ]
  },
  {
   "cell_type": "code",
   "execution_count": 26,
   "metadata": {},
   "outputs": [
    {
     "name": "stdout",
     "output_type": "stream",
     "text": [
      "the vader polarity average scores for each song in the album are:\n"
     ]
    },
    {
     "data": {
      "text/plain": [
       "[0.9091,\n",
       " 0.6872,\n",
       " 0.9664,\n",
       " -0.9801,\n",
       " 0.9979,\n",
       " -0.5204,\n",
       " 0.9768,\n",
       " -0.9829,\n",
       " -0.9878,\n",
       " -0.8512,\n",
       " 0.4019,\n",
       " -0.942,\n",
       " 0.9166,\n",
       " 0.4153,\n",
       " -0.9688,\n",
       " -0.9463,\n",
       " 0.9883,\n",
       " 0.1027]"
      ]
     },
     "execution_count": 26,
     "metadata": {},
     "output_type": "execute_result"
    }
   ],
   "source": [
    "print('the vader polarity average scores for each song in the album are:')\n",
    "a_atwo_polarity = print_polarity_score_album(a_album_two_lyrics)\n",
    "a_atwo_polarity"
   ]
  },
  {
   "cell_type": "code",
   "execution_count": 27,
   "metadata": {},
   "outputs": [
    {
     "name": "stdout",
     "output_type": "stream",
     "text": [
      "There are 10 positive songs in this album\n",
      "There are 8 negative songs in this album\n",
      "There are 0 neutral songs in this album\n"
     ]
    }
   ],
   "source": [
    "a_atwo_pos_songs = list()\n",
    "a_atwo_neg_songs = list()\n",
    "a_atwo_neu_songs = list()\n",
    "\n",
    "sort_sentiment_songs(a_atwo_polarity, a_atwo_pos_songs, a_atwo_neg_songs, a_atwo_neu_songs)"
   ]
  },
  {
   "cell_type": "markdown",
   "metadata": {},
   "source": [
    "#### All Albums After the Insecure Diss Track"
   ]
  },
  {
   "cell_type": "code",
   "execution_count": 28,
   "metadata": {},
   "outputs": [
    {
     "name": "stdout",
     "output_type": "stream",
     "text": [
      "There are a total of 19 positive songs within this time period\n",
      "There are a total of 12 negative songs within this time period\n",
      "There are a total of 0 neutral songs within this time period\n"
     ]
    }
   ],
   "source": [
    "a_pos_songs = len(a_aone_pos_songs) + len(a_atwo_pos_songs)\n",
    "a_neg_songs = len(a_aone_neg_songs) + len(a_atwo_neg_songs)\n",
    "a_neu_songs = len(a_aone_neu_songs) + len(a_atwo_neu_songs)\n",
    "\n",
    "print('There are a total of', a_pos_songs, 'positive songs within this time period')\n",
    "print('There are a total of', a_neg_songs, 'negative songs within this time period')\n",
    "print('There are a total of', a_neu_songs, 'neutral songs within this time period')"
   ]
  },
  {
   "cell_type": "markdown",
   "metadata": {},
   "source": [
    "#### Overall Observations of Songs from all Albums After the Insecure Diss Track"
   ]
  },
  {
   "cell_type": "markdown",
   "metadata": {},
   "source": [
    "According to the vader polarity scores, there are a total of 19 positive songs, 12 negative songs, and 0 neutral songs. From this information, I would assume that the overall sentiment from the albums after the Insecure diss track would be more positive because there are more positive songs than there are negative songs in the after period."
   ]
  },
  {
   "cell_type": "markdown",
   "metadata": {},
   "source": [
    "### Overall Observation between the Before and After Albums"
   ]
  },
  {
   "cell_type": "markdown",
   "metadata": {},
   "source": [
    "After reviewing the information of the total amount of positive, negative, and neutral songs, I'm surprised to see that there are more positive songs than there are negative songs. In the before corpus, there are a total of 51.85% positive songs and 48.15% negative songs. In the after corpus, there are 61.29% positive songs and 38.71% negative songs. Just judging from the percentages, there seems to be an increase in positive songs and decrease in negative songs in the after corpus compared to the before corpus. The next step will be to investigate the average sentiment for each album and then figure out the average sentiment for the time period and see if the same results are found."
   ]
  },
  {
   "cell_type": "markdown",
   "metadata": {},
   "source": [
    "---"
   ]
  },
  {
   "cell_type": "markdown",
   "metadata": {},
   "source": [
    "## Sentiment Analysis of Albums"
   ]
  },
  {
   "cell_type": "markdown",
   "metadata": {},
   "source": [
    "### Albums Before the Insecure Diss Track"
   ]
  },
  {
   "cell_type": "markdown",
   "metadata": {},
   "source": [
    "#### Work in Progress (2015)"
   ]
  },
  {
   "cell_type": "code",
   "execution_count": 29,
   "metadata": {},
   "outputs": [
    {
     "name": "stdout",
     "output_type": "stream",
     "text": [
      "the vader lexicon score is: 0.0647143438959433\n",
      "the vader polarity sccore is: 0.06404666666666661\n"
     ]
    }
   ],
   "source": [
    "vps_b_one_score = get_polarity_score(b_album_one_lyrics)\n",
    "\n",
    "print('the vader polarity sccore is:', vps_b_one_score)"
   ]
  },
  {
   "cell_type": "markdown",
   "metadata": {},
   "source": [
    "#### Nostalgia for the Now (2016)"
   ]
  },
  {
   "cell_type": "code",
   "execution_count": 30,
   "metadata": {},
   "outputs": [
    {
     "name": "stdout",
     "output_type": "stream",
     "text": [
      "the vader lexicon score is: 0.059160983310107725\n",
      "the vader polarity sccore is: -0.00794666666666671\n"
     ]
    }
   ],
   "source": [
    "vps_b_two_score = get_polarity_score(b_album_two_lyrics)\n",
    "\n",
    "print('the vader polarity sccore is:', vps_b_two_score)"
   ]
  },
  {
   "cell_type": "markdown",
   "metadata": {},
   "source": [
    "#### Bad Internet Rapper (2017)"
   ]
  },
  {
   "cell_type": "code",
   "execution_count": 31,
   "metadata": {},
   "outputs": [
    {
     "name": "stdout",
     "output_type": "stream",
     "text": [
      "the vader lexicon score is: 0.06488476964985307\n",
      "the vader polarity sccore is: 0.47891666666666666\n"
     ]
    }
   ],
   "source": [
    "vps_b_three_score = get_polarity_score(b_album_three_lyrics)\n",
    "\n",
    "print('the vader polarity sccore is:', vps_b_three_score)"
   ]
  },
  {
   "cell_type": "markdown",
   "metadata": {},
   "source": [
    "#### Out of Order (2017)"
   ]
  },
  {
   "cell_type": "code",
   "execution_count": 32,
   "metadata": {},
   "outputs": [
    {
     "name": "stdout",
     "output_type": "stream",
     "text": [
      "the vader lexicon score is: 0.06776892386306003\n",
      "the vader polarity sccore is: -0.32444999999999996\n"
     ]
    }
   ],
   "source": [
    "vps_b_four_score = get_polarity_score(b_album_four_lyrics)\n",
    "\n",
    "print('the vader polarity sccore is:', vps_b_four_score)"
   ]
  },
  {
   "cell_type": "markdown",
   "metadata": {},
   "source": [
    "#### Overall Sentiment Score for all Albums Before the Insecure Diss Track"
   ]
  },
  {
   "cell_type": "code",
   "execution_count": 33,
   "metadata": {},
   "outputs": [
    {
     "name": "stdout",
     "output_type": "stream",
     "text": [
      "the overall vader lexicon score is: 0.06413225517974103\n",
      "the overall vader polarity score is: 0.052641666666666656\n"
     ]
    }
   ],
   "source": [
    "vlp_b_album_score = (vps_b_one_score + vps_b_two_score + vps_b_three_score + vps_b_four_score) / 4\n",
    "\n",
    "print('the overall vader polarity score is:', vlp_b_album_score)"
   ]
  },
  {
   "cell_type": "markdown",
   "metadata": {},
   "source": [
    "#### Overall Observations for all Albums Before the Insecure Diss Track"
   ]
  },
  {
   "cell_type": "markdown",
   "metadata": {},
   "source": [
    "According to the overall average vader polarity score, the albums before the Insecure diss track seem to have a vader polarity score of 0.053. Since this value is greater than or equal to 0.05, this means that the overall corpus has a positive sentiment. Therefore, the albums in the before period are generally positive sentiment albums."
   ]
  },
  {
   "cell_type": "markdown",
   "metadata": {},
   "source": [
    "### Albums After the Insecure Diss Track"
   ]
  },
  {
   "cell_type": "markdown",
   "metadata": {},
   "source": [
    "#### Voice Memos (2019)"
   ]
  },
  {
   "cell_type": "code",
   "execution_count": 34,
   "metadata": {},
   "outputs": [
    {
     "name": "stdout",
     "output_type": "stream",
     "text": [
      "the vader lexicon score is: 0.060764818861591394\n",
      "the vader polarity sccore is: 0.4639\n"
     ]
    }
   ],
   "source": [
    "vps_a_one_score = get_polarity_score(a_album_one_lyrics)\n",
    "\n",
    "print('the vader polarity sccore is:', vps_a_one_score)"
   ]
  },
  {
   "cell_type": "markdown",
   "metadata": {},
   "source": [
    "#### From Me To You (2021)"
   ]
  },
  {
   "cell_type": "code",
   "execution_count": 35,
   "metadata": {},
   "outputs": [
    {
     "name": "stdout",
     "output_type": "stream",
     "text": [
      "the vader lexicon score is: 0.06466207074089213\n",
      "the vader polarity sccore is: 0.01014999999999998\n"
     ]
    }
   ],
   "source": [
    "vps_a_two_score = get_polarity_score(a_album_two_lyrics)\n",
    "\n",
    "print('the vader polarity sccore is:', vps_a_two_score)"
   ]
  },
  {
   "cell_type": "markdown",
   "metadata": {},
   "source": [
    "#### Overall Polarity Score for all Albums Before the Insecure Diss Track"
   ]
  },
  {
   "cell_type": "code",
   "execution_count": 36,
   "metadata": {},
   "outputs": [
    {
     "name": "stdout",
     "output_type": "stream",
     "text": [
      "the overall vader lexicon score is: 0.06271344480124176\n",
      "the overall vader polarity sccore is: 0.23702499999999999\n"
     ]
    }
   ],
   "source": [
    "vlp_a_album_score = (vps_a_one_score + vps_a_two_score) / 2\n",
    "\n",
    "print('the overall vader polarity sccore is:', vlp_a_album_score)"
   ]
  },
  {
   "cell_type": "code",
   "execution_count": 37,
   "metadata": {},
   "outputs": [
    {
     "data": {
      "text/plain": [
       "{'compound': 0.9967, 'neg': 0.103, 'neu': 0.722, 'pos': 0.174}"
      ]
     },
     "execution_count": 37,
     "metadata": {},
     "output_type": "execute_result"
    }
   ],
   "source": [
    "sid.polarity_scores(a_album_one_lyrics[4])"
   ]
  },
  {
   "cell_type": "code",
   "execution_count": 44,
   "metadata": {},
   "outputs": [
    {
     "data": {
      "text/plain": [
       "'And when you may try\\nTo hide away\\nWhy do you hide away? (Ooh, ooh, ooh)\\nWhy do you hide away? (Ooh, ooh, ooh)\\nFeeling like there’s no room left for me (Ooh, ooh, ooh)\\nFeeling like there’s (Ooh, ooh, ooh)\\nNothing left (Ooh, ooh, ooh, ooh)\\nAnd there’s nothing more (Ooh, ooh, ooh)\\n\\n\\nUsed to give a fuck, that was just a old phase (Old phase)\\nYou and me were close, now you further than the old days (Old days)\\nSometimes, I wonder why I’m headed towards a cold place (Yeah, yeah, yeah, yeah)\\nThey like, “Let me fix you”, I don’t fuck with Coldplay (No)\\nYeah, wish I could forget, I cannot forgive, yeah\\nEvery step- I gotta relive, yeah\\nTake a breath, feel it in my ribs, yeah\\nLet my voice fade into the mist\\nMist, mist, mist...\\n\\nYeah!\\nI been talking to the man sitting on my left shoulder (Shoulder)\\nHe said \"Everything just gets worse when you\\'re older\" ()\\nI just pulled up to the function, can’t even function (No, no)\\nKnow nothin\\', I don’t know nothin\\' (No, no)\\n\\nI’m not one of you, I said, I’m not (No, I\\'m not)\\nI only fucked with you because I want a spot (Uh huh)\\nNow that’s what I got, but with it, went the plot (I do, yeah)\\nI checked the big picture, now that shit is getting cropped\\nYeah, I’ve been feeling what I want is something less, uh\\nFeel like a sellout that ain’t made a fucking cent, uh, guess I should\\'a up and left (Yeah)\\nBut I always tell myself that I’m one of the good guys (Right?)\\nWell maybe that’s a good lie, yeah (Good lie, hahaha)\\nEverything looking like ashes- I don’t want a car, I imagine it crashes\\nThe man on my shoulder, he told me what happens, the glass is half empty? It actually shatters\\nHe told me, \"Don’t look in the mirror without me!\" He said the world would be clearer without me (No)\\nThe man on my shoulder I think I believe him, I really don’t want him, I think that I need him\\nYeah\\n\\nYeah!\\nI been talking to the man sitting on my left shoulder\\nHe said \"Everything just gets worse when you\\'re older\"\\nI just pulled up to the function, can’t even function\\nKnow nothin\\', I don’t know nothin\\'\\n\\nHuh? Huh? Huh? (Uh)\\nYeah! (Shit!) What? Huh? Ayy, ayy!\\nHuh, yeah (What? Yeah, yeah, yeah, yeah, yeah)\\nDamn! Damn! (Yeah, yeah, huh, oh, ayy)\\n\\nI get too happy for money, huh, they all wanna back me for money (Uh huh, they do)\\nI put them hundreds all over my face, now I got acne from money, huh (Ah ha!)\\nI got it all in my bank, huh, I treat that shit like it’s nothing (Uh huh, nope)\\nI treat that shit like it’s nothing, huh, I turned that nothing to something, huh (It\\'s nothing, uh huh, yeah)\\nI put them bands on my face, huh, that won’t make the man go away (No)\\nShe put her hands on my waist, uh, but he still standing in place, yeah (For real)\\nI wish I had more voices in my head to counteract you (Huh?)\\nI think that’s why I have to sing about you (Yeah, yeah)\\n\\nUsed to give a fuck, that was just an old phase (Old phase)\\nYou and me were close, now you further than the old days (Old days)\\nSometimes I wonder why I’m headed towards a cold place (Yeah, yeah, yeah, yeah)\\nThey like, “Let me fix you”, I don’t fuck with Coldplay (No)\\nAyy, wish I could forget, I cannot forgive, yeah\\nEvery step- I gotta relive, yeah\\nTake a breath, feel it in my ribs, yeah\\nLet my voice fade into the mist\\nMist, mist, mist...\\n\\nYeah!\\nI been talking to the man sitting on my left shoulder  (Ooh-ooh)\\nHe said \"Everything just gets worse when you\\'re older\" (Ooh-ooh)\\nI just pulled up to the function, can’t even function  (Ooh-ooh)\\nKnow nothin\\', I don’t know nothin\\' (Ooh-ooh)\\n\\n\\nI had a foot out the door\\nAnd the other one sunk in the floor, floor, floor\\nI was checkin\\' out of the store\\nI wonder who I’m doing this for, for, for\\nI was zonin\\' out of my class (Y-y-y-yeah!)\\nI love her, but I wish that she asked (Y-y-y-), she asked, she asked\\nMade too many shitty songs in the past\\nI hope my first impression wasn’t the last... yeah\\nI hope there’s plenty more, I hope this isn’t the last\\nBut if it is, do me a favor and make sure that it lasts- it lasts forever\\nI’d be lying if I said I didn’t have regrets\\nEven from when they thought my life forgot to matter less\\nI started looking in the mirror for my eyes, and not my hair\\nRealized, I’ll be alone, it do not matter if you\\'re there\\nI still feel it, I still talk to the man on my shoulder\\nNo matter who’s hands on my shoulder, I’m the man in the corner\\nI know the answer, but I can’t seem to fill in the bubble\\nI think I need to get outta\\' mine\\nI like to think about what life will be like down the line (Y-y-y-yeah!)\\nBut that’s misleading, \\'cause a line is infinite (Y-y-y-), and not about to die at any minute\\nI think I love her, but I’ll never tell, I won’t admit it\\nAnd that’s my problem, I won’t solve \\'em, I won’t go the distance\\nI’ll just regress into a mess, and so, I hope you listen\\nI hope you notice I’m my lowest, hope you know the difference\\nI said, \"Let’s never speak again\"- maybe I spoke too soon\\n\\'Cause now these words been feelin\\' broken, they got no more room\\nThey get consumed by their own dust, and leave a hopeless tune\\nWhat do I do? Ain’t got no closure for this open wound\\nAin’t got no closure\\nBut the man on my shoulder, yeah'"
      ]
     },
     "execution_count": 44,
     "metadata": {},
     "output_type": "execute_result"
    }
   ],
   "source": [
    "a_album_one_lyrics[4]"
   ]
  },
  {
   "cell_type": "markdown",
   "metadata": {},
   "source": [
    "#### Overall Observations for all Albums After the Insecure Diss Track"
   ]
  },
  {
   "cell_type": "markdown",
   "metadata": {},
   "source": [
    "According to the overall average vader polarity score, the albums after the Insecure diss track seem to have a vader score of 0.237. Since this value is greater than or equal to 0.05, this means that the overall corpus has a positive sentiment. Therefore, the albums in the after period are generally positive sentiment albums."
   ]
  },
  {
   "cell_type": "markdown",
   "metadata": {},
   "source": [
    "### Overall Observations of Sentiment Analysis of Album Lyrics from Before and After"
   ]
  },
  {
   "cell_type": "markdown",
   "metadata": {},
   "source": [
    "After calculating the average polarity score for each time period, I was once again surprised to find that both time periods produced generally positive sentiment albums. The average polarity score for an album in the before period was 0.053 and the average polarity score for an album in the after period was 0.237. \n",
    "\n",
    "This result is significant for two main reasons:\n",
    "> In the earlier analysis, I found that there were some common themes that were talked about in both corpuses, such as struggling with depression, dealing with public expectations, and talking about past romantic relationships. As a result, I thought that the sentiment scores between the two corpuses would be more or less the same. However, there is a significant difference between the sentiment score of the before corpus and the sentiment score of the after corpus.\n",
    "\n",
    ">From those themes that I discovered that Quadeca was rapping about, I expected more albums to have an overall negative sentiment and that both corpuses would have an overall negative sentiment value. However, it appears that both corpuses had positive overall sentiment values. This could mean that Quadeca is talking about some of these more serious and negative topics and the vader polarity score is misinterpreting/overcorrecting the sentiment of the song. An example of this can be seen in the the after album Voice Memos (2019) song titled \"The Man on My Left Shoulder (a_album_one_lyrics[4]).\" This song is talking about Quadeca and how he's dealing with an inner voice that always points out the negativity in life. This song is definitely a negative sentiment song, yet the vader compound polarity score returns 0.9967, which makes it seem like an extremely happy song when it's not. Another possibility for this result is that the keyness analysis and the keyword in context concordance analysis that I did overestimated the themes that were suppose to be in the albums.\n"
   ]
  },
  {
   "cell_type": "code",
   "execution_count": null,
   "metadata": {},
   "outputs": [],
   "source": []
  }
 ],
 "metadata": {
  "kernelspec": {
   "display_name": "Python 3",
   "language": "python",
   "name": "python3"
  },
  "language_info": {
   "codemirror_mode": {
    "name": "ipython",
    "version": 3
   },
   "file_extension": ".py",
   "mimetype": "text/x-python",
   "name": "python",
   "nbconvert_exporter": "python",
   "pygments_lexer": "ipython3",
   "version": "3.7.3"
  }
 },
 "nbformat": 4,
 "nbformat_minor": 2
}

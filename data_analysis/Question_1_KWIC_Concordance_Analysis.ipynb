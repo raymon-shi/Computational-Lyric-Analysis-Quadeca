{
 "cells": [
  {
   "cell_type": "markdown",
   "metadata": {},
   "source": [
    "# Question 1: Did Quadeca's Musical Themes and Musical Style Change From the Period Before Insecure Compared to the Period After Insecure?"
   ]
  },
  {
   "cell_type": "markdown",
   "metadata": {},
   "source": [
    "## Setup"
   ]
  },
  {
   "cell_type": "code",
   "execution_count": 1,
   "metadata": {},
   "outputs": [],
   "source": [
    "import os\n",
    "import random\n",
    "import re\n",
    "import string"
   ]
  },
  {
   "cell_type": "code",
   "execution_count": 2,
   "metadata": {},
   "outputs": [],
   "source": [
    "# other notebooks to be ran\n",
    "%run /Commjhub/jupyterhub/comm318_fall2019/raymon-shi/comm313_S21/comm313_S21_Final_Project/data/functions.ipynb"
   ]
  },
  {
   "cell_type": "code",
   "execution_count": 3,
   "metadata": {},
   "outputs": [],
   "source": [
    "# imported important variables\n",
    "%store -r b_album_one_lyrics\n",
    "%store -r b_album_two_lyrics\n",
    "%store -r b_album_three_lyrics\n",
    "%store -r b_album_four_lyrics\n",
    "%store -r a_album_one_lyrics\n",
    "%store -r a_album_two_lyrics"
   ]
  },
  {
   "cell_type": "code",
   "execution_count": 4,
   "metadata": {},
   "outputs": [],
   "source": [
    "# important global variables\n",
    "characters_to_strip = '?().[]!,\"-’' + \"/'\""
   ]
  },
  {
   "cell_type": "code",
   "execution_count": 5,
   "metadata": {},
   "outputs": [],
   "source": [
    "b_aone_tokens = album_tokenizer(b_album_one_lyrics)\n",
    "b_atwo_tokens = album_tokenizer(b_album_two_lyrics)\n",
    "b_athree_tokens = album_tokenizer(b_album_three_lyrics)\n",
    "b_afour_tokens = album_tokenizer(b_album_four_lyrics)\n",
    "\n",
    "a_aone_tokens = album_tokenizer(a_album_one_lyrics)\n",
    "a_atwo_tokens = album_tokenizer(a_album_two_lyrics)"
   ]
  },
  {
   "cell_type": "markdown",
   "metadata": {},
   "source": [
    "## Key Word In Context Concordances"
   ]
  },
  {
   "cell_type": "markdown",
   "metadata": {},
   "source": [
    "### Albums Before the Insecure Diss Track"
   ]
  },
  {
   "cell_type": "markdown",
   "metadata": {},
   "source": [
    "#### Work in Progress (2015)"
   ]
  },
  {
   "cell_type": "code",
   "execution_count": 6,
   "metadata": {},
   "outputs": [],
   "source": [
    "time_b_aone = make_kwic('time', b_aone_tokens, win=8)\n",
    "time_b_aone_sample = random.sample(time_b_aone, 10)"
   ]
  },
  {
   "cell_type": "markdown",
   "metadata": {},
   "source": [
    "<img src=\"images/b1_time.png\">"
   ]
  },
  {
   "cell_type": "code",
   "execution_count": 8,
   "metadata": {},
   "outputs": [],
   "source": [
    "life_b_aone = make_kwic('life', b_aone_tokens, win=8)\n",
    "life_b_aone_sample = random.sample(life_b_aone, 10)"
   ]
  },
  {
   "cell_type": "markdown",
   "metadata": {},
   "source": [
    "<img src=\"images/b1_life.png\">"
   ]
  },
  {
   "cell_type": "code",
   "execution_count": 10,
   "metadata": {},
   "outputs": [],
   "source": [
    "people_b_aone = make_kwic('people', b_aone_tokens, win=8)\n",
    "people_b_aone_sample = random.sample(people_b_aone, 10)"
   ]
  },
  {
   "cell_type": "markdown",
   "metadata": {},
   "source": [
    "<img src=\"images/b1_people.png\">"
   ]
  },
  {
   "cell_type": "code",
   "execution_count": 12,
   "metadata": {},
   "outputs": [],
   "source": [
    "game_b_aone = make_kwic('game', b_aone_tokens, win=8)\n",
    "game_b_aone_sample = random.sample(game_b_aone, 10)"
   ]
  },
  {
   "cell_type": "markdown",
   "metadata": {},
   "source": [
    "<img src=\"images/b1_game.png\">"
   ]
  },
  {
   "cell_type": "code",
   "execution_count": 14,
   "metadata": {},
   "outputs": [],
   "source": [
    "better_b_aone = make_kwic('better', b_aone_tokens, win=8)\n",
    "better_b_aone_sample = random.sample(better_b_aone, 10)"
   ]
  },
  {
   "cell_type": "markdown",
   "metadata": {},
   "source": [
    "<img src=\"images/b1_better.png\">"
   ]
  },
  {
   "cell_type": "markdown",
   "metadata": {},
   "source": [
    "#### Analysis for Work in Progress"
   ]
  },
  {
   "cell_type": "markdown",
   "metadata": {},
   "source": [
    "The following keywords were analyzed: time, life, people, game, better\n",
    "\n",
    "From these keywords, it seems that in the Work in Progress (2015) album, Quadeca also seems to be talking about dedicating his time to improving upon his craft and his dedication to the rap game."
   ]
  },
  {
   "cell_type": "markdown",
   "metadata": {},
   "source": [
    "#### Nostalgia for the Now (2016)"
   ]
  },
  {
   "cell_type": "code",
   "execution_count": 16,
   "metadata": {},
   "outputs": [],
   "source": [
    "say_b_atwo = make_kwic('say', b_atwo_tokens, win=8)\n",
    "say_b_atwo_sample = random.sample(say_b_atwo, 10)"
   ]
  },
  {
   "cell_type": "markdown",
   "metadata": {},
   "source": [
    "<img src=\"images/b2_say.png\">"
   ]
  },
  {
   "cell_type": "code",
   "execution_count": 18,
   "metadata": {},
   "outputs": [],
   "source": [
    "love_b_atwo = make_kwic('love', b_atwo_tokens, win=8)\n",
    "love_b_atwo_sample = random.sample(love_b_atwo, 8)"
   ]
  },
  {
   "cell_type": "markdown",
   "metadata": {},
   "source": [
    "<img src=\"images/b2_love.png\">"
   ]
  },
  {
   "cell_type": "code",
   "execution_count": 20,
   "metadata": {},
   "outputs": [],
   "source": [
    "please_b_atwo = make_kwic('please', b_atwo_tokens, win=8)\n",
    "please_b_atwo_sample = random.sample(please_b_atwo, 7)"
   ]
  },
  {
   "cell_type": "markdown",
   "metadata": {},
   "source": [
    "<img src=\"images/b2_please.png\">"
   ]
  },
  {
   "cell_type": "code",
   "execution_count": 22,
   "metadata": {},
   "outputs": [],
   "source": [
    "game_b_atwo = make_kwic('game', b_atwo_tokens, win=8)\n",
    "game_b_atwo_sample = random.sample(game_b_atwo, 10)"
   ]
  },
  {
   "cell_type": "markdown",
   "metadata": {},
   "source": [
    "<img src=\"images/b2_game.png\">"
   ]
  },
  {
   "cell_type": "code",
   "execution_count": 24,
   "metadata": {},
   "outputs": [],
   "source": [
    "people_b_atwo = make_kwic('people', b_atwo_tokens, win=8)\n",
    "people_b_atwo_sample = random.sample(people_b_atwo, 10)"
   ]
  },
  {
   "cell_type": "markdown",
   "metadata": {},
   "source": [
    "<img src=\"images/b2_people.png\">"
   ]
  },
  {
   "cell_type": "markdown",
   "metadata": {},
   "source": [
    "#### Analysis for Nostalgia for the Now"
   ]
  },
  {
   "cell_type": "markdown",
   "metadata": {},
   "source": [
    "The following keywords were analyzed: say, love, please, game, people\n",
    "\n",
    "From these keywords, it seems that in the Nostalgia for the Now (2016) album, Quadeca also seems to talk about how bothered he is from the opinions of other people about him and his rapping ability. Additionally, he seems to have a hard time trusting people, not knowing if they want to be his friends, or are just faking it."
   ]
  },
  {
   "cell_type": "markdown",
   "metadata": {},
   "source": [
    "#### Bad Internet Rapper (2017)"
   ]
  },
  {
   "cell_type": "code",
   "execution_count": 26,
   "metadata": {},
   "outputs": [],
   "source": [
    "love_b_athree = make_kwic('love', b_athree_tokens, win=8)\n",
    "love_b_athree_sample = random.sample(love_b_athree, 10)"
   ]
  },
  {
   "cell_type": "markdown",
   "metadata": {},
   "source": [
    "<img src=\"images/b3_love.png\">"
   ]
  },
  {
   "cell_type": "code",
   "execution_count": 28,
   "metadata": {},
   "outputs": [],
   "source": [
    "play_b_athree = make_kwic('play', b_athree_tokens, win=8)\n",
    "play_b_athree_sample = random.sample(play_b_athree, 9)"
   ]
  },
  {
   "cell_type": "markdown",
   "metadata": {},
   "source": [
    "<img src=\"images/b3_play.png\">"
   ]
  },
  {
   "cell_type": "code",
   "execution_count": 30,
   "metadata": {},
   "outputs": [],
   "source": [
    "guess_b_athree = make_kwic('guess', b_athree_tokens, win=8)\n",
    "guess_b_athree_sample = random.sample(guess_b_athree, 10)"
   ]
  },
  {
   "cell_type": "markdown",
   "metadata": {},
   "source": [
    "<img src=\"images/b3_guess.png\">"
   ]
  },
  {
   "cell_type": "code",
   "execution_count": 32,
   "metadata": {},
   "outputs": [],
   "source": [
    "change_b_athree = make_kwic('change', b_athree_tokens, win=8)\n",
    "change_b_athree_sample = random.sample(change_b_athree, 6)"
   ]
  },
  {
   "cell_type": "markdown",
   "metadata": {},
   "source": [
    "<img src=\"images/b3_change.png\">"
   ]
  },
  {
   "cell_type": "code",
   "execution_count": 34,
   "metadata": {},
   "outputs": [],
   "source": [
    "tryna_b_athree = make_kwic('tryna', b_athree_tokens, win=8)\n",
    "tryna_b_athree_sample = random.sample(tryna_b_athree, 10)"
   ]
  },
  {
   "cell_type": "markdown",
   "metadata": {},
   "source": [
    "<img src=\"images/b3_tryna.png\">"
   ]
  },
  {
   "cell_type": "markdown",
   "metadata": {},
   "source": [
    "#### Analysis for Bad Internet Rapper\n"
   ]
  },
  {
   "cell_type": "markdown",
   "metadata": {},
   "source": [
    "The following keywords were analyzed: love, play, guess, change, tryna\n",
    "\n",
    "From these keywords, it seems that in the Bad Internet Rapper (2017) album, Quadeca also talks about a relationship he had with a girl and the possibility that he got cheated on. There are also mentions of how he has a lot of insecurities and how he's constantly trying to prove the doubters wrong. "
   ]
  },
  {
   "cell_type": "markdown",
   "metadata": {},
   "source": [
    "#### Out of Order (2017)"
   ]
  },
  {
   "cell_type": "code",
   "execution_count": 42,
   "metadata": {},
   "outputs": [],
   "source": [
    "rappers_b_afour = make_kwic('rappers', b_afour_tokens, win=8)\n",
    "rappers_b_afour_sample = random.sample(rappers_b_afour, 10)"
   ]
  },
  {
   "cell_type": "markdown",
   "metadata": {},
   "source": [
    "<img src=\"images/b4_rappers.png\">"
   ]
  },
  {
   "cell_type": "code",
   "execution_count": 44,
   "metadata": {},
   "outputs": [],
   "source": [
    "speak_b_afour = make_kwic('speak', b_afour_tokens, win=8)\n",
    "speak_b_afour_sample = random.sample(speak_b_afour, 10)"
   ]
  },
  {
   "cell_type": "markdown",
   "metadata": {},
   "source": [
    "<img src=\"images/b4_speak.png\">"
   ]
  },
  {
   "cell_type": "code",
   "execution_count": 46,
   "metadata": {},
   "outputs": [],
   "source": [
    "love_b_afour = make_kwic('love', b_afour_tokens, win=8)\n",
    "love_b_afour_sample = random.sample(love_b_afour, 10)"
   ]
  },
  {
   "cell_type": "markdown",
   "metadata": {},
   "source": [
    "<img src=\"images/b4_love.png\">"
   ]
  },
  {
   "cell_type": "code",
   "execution_count": 48,
   "metadata": {},
   "outputs": [],
   "source": [
    "youre_b_afour = make_kwic('youre', b_afour_tokens, win=8)\n",
    "youre_b_afour_sample = random.sample(youre_b_afour, 10)"
   ]
  },
  {
   "cell_type": "markdown",
   "metadata": {},
   "source": [
    "<img src=\"images/b4_youre.png\">"
   ]
  },
  {
   "cell_type": "code",
   "execution_count": 50,
   "metadata": {},
   "outputs": [],
   "source": [
    "life_b_afour = make_kwic('life', b_afour_tokens, win=8)\n",
    "life_b_afour_sample = random.sample(life_b_afour, 10)"
   ]
  },
  {
   "cell_type": "markdown",
   "metadata": {},
   "source": [
    "<img src=\"images/b4_life.png\">"
   ]
  },
  {
   "cell_type": "markdown",
   "metadata": {},
   "source": [
    "#### Analysis for Out of Order"
   ]
  },
  {
   "cell_type": "markdown",
   "metadata": {},
   "source": [
    "The following keywords were analyzed: rappers, speak, love, youre, life\n",
    "\n",
    "From these keywords, it seems that in the Out of Order (2017) album, it reaffirms that Quadeca does seem to be calling out other rappers who he deems to be talentless. Additionally, it does seem that there are songs that talk about a breakup in which he doesn't want to speak to the girl ever again. In this album, Quadeca also makes a lot of references about people who criticize him without merit."
   ]
  },
  {
   "cell_type": "markdown",
   "metadata": {},
   "source": [
    "#### Observations for all Albums Before the Insecure Diss Track"
   ]
  },
  {
   "cell_type": "markdown",
   "metadata": {},
   "source": [
    "From the addition of the keywords in context analysis, it seems like the themes that Quadeca talks about in his earlier albums are about proving himself as a rapper, depression and insecurities, targeting talentless rappers, and a relationship with a previous ex-girlfriend."
   ]
  },
  {
   "cell_type": "markdown",
   "metadata": {},
   "source": [
    "### Albums After the Insecure Diss Track"
   ]
  },
  {
   "cell_type": "markdown",
   "metadata": {},
   "source": [
    "#### Voice Memos (2018)"
   ]
  },
  {
   "cell_type": "code",
   "execution_count": 54,
   "metadata": {},
   "outputs": [],
   "source": [
    "need_a_aone = make_kwic('need', a_aone_tokens, win=8)\n",
    "need_a_aone_sample = random.sample(need_a_aone, 10)"
   ]
  },
  {
   "cell_type": "markdown",
   "metadata": {},
   "source": [
    "<img src=\"images/a1_need.png\">"
   ]
  },
  {
   "cell_type": "code",
   "execution_count": 58,
   "metadata": {},
   "outputs": [],
   "source": [
    "tell_a_aone = make_kwic('tell', a_aone_tokens, win=8)\n",
    "tell_a_aone_sample = random.sample(tell_a_aone, 10)"
   ]
  },
  {
   "cell_type": "markdown",
   "metadata": {},
   "source": [
    "<img src=\"images/a1_tell.png\">"
   ]
  },
  {
   "cell_type": "code",
   "execution_count": 60,
   "metadata": {},
   "outputs": [],
   "source": [
    "feel_a_aone = make_kwic('feel', a_aone_tokens, win=8)\n",
    "feel_a_aone_sample = random.sample(feel_a_aone, 10)"
   ]
  },
  {
   "cell_type": "markdown",
   "metadata": {},
   "source": [
    "<img src=\"images/a1_feel.png\">"
   ]
  },
  {
   "cell_type": "code",
   "execution_count": 62,
   "metadata": {},
   "outputs": [],
   "source": [
    "love_a_aone = make_kwic('love', a_aone_tokens, win=8)\n",
    "love_a_aone_sample = random.sample(love_a_aone, 10)"
   ]
  },
  {
   "cell_type": "markdown",
   "metadata": {},
   "source": [
    "<img src=\"images/a1_love.png\">"
   ]
  },
  {
   "cell_type": "code",
   "execution_count": 64,
   "metadata": {},
   "outputs": [],
   "source": [
    "better_a_aone = make_kwic('better', a_aone_tokens, win=8)\n",
    "better_a_aone_sample = random.sample(better_a_aone, 10)"
   ]
  },
  {
   "cell_type": "markdown",
   "metadata": {},
   "source": [
    "<img src=\"images/a1_better.png\">"
   ]
  },
  {
   "cell_type": "markdown",
   "metadata": {},
   "source": [
    "#### Analysis for Voice Memos\n"
   ]
  },
  {
   "cell_type": "markdown",
   "metadata": {},
   "source": [
    "The following keywords were analyzed: need, tell, feel, love, better\n",
    "\n",
    "From these keywords, it seems that in the Voice Memos (2019) album, it appears that Quadeca is also talking about the need to keep up a ego. There are also a lot of mentions on how Quadeca started getting enamored with the numbers (views, followers, comments, such of that nature) and the attention that he was receiving. It also seems like there's a lot of reflection in this album. There are areas where it seems like Quadeca wants to tell his past self that it gets better and that his past self should keep trying and eventually he'll get to the place that he wants to get to (aka current day). It also seems like Quadeca has finally achieved what he wanted after dedicating so much time into his work."
   ]
  },
  {
   "cell_type": "markdown",
   "metadata": {},
   "source": [
    "#### From Me To You (2021)"
   ]
  },
  {
   "cell_type": "code",
   "execution_count": 66,
   "metadata": {},
   "outputs": [],
   "source": [
    "love_a_atwo = make_kwic('love', a_atwo_tokens, win=8)\n",
    "love_a_atwo_sample = random.sample(love_a_atwo, 10)"
   ]
  },
  {
   "cell_type": "markdown",
   "metadata": {},
   "source": [
    "<img src=\"images/a2_love.png\">"
   ]
  },
  {
   "cell_type": "code",
   "execution_count": 68,
   "metadata": {},
   "outputs": [],
   "source": [
    "tryna_a_atwo = make_kwic('tryna', a_atwo_tokens, win=8)\n",
    "tryna_a_atwo_sample = random.sample(tryna_a_atwo, 10)"
   ]
  },
  {
   "cell_type": "markdown",
   "metadata": {},
   "source": [
    "<img src=\"images/a2_tryna.png\">"
   ]
  },
  {
   "cell_type": "code",
   "execution_count": 70,
   "metadata": {},
   "outputs": [],
   "source": [
    "feel_a_atwo = make_kwic('feel', a_atwo_tokens, win=8)\n",
    "feel_a_atwo_sample = random.sample(feel_a_atwo, 10)"
   ]
  },
  {
   "cell_type": "markdown",
   "metadata": {},
   "source": [
    "<img src=\"images/a2_feel.png\">"
   ]
  },
  {
   "cell_type": "code",
   "execution_count": 72,
   "metadata": {},
   "outputs": [],
   "source": [
    "away_a_atwo = make_kwic('away', a_atwo_tokens, win=8)\n",
    "away_a_atwo_sample = random.sample(away_a_atwo, 10)"
   ]
  },
  {
   "cell_type": "markdown",
   "metadata": {},
   "source": [
    "<img src=\"images/a2_away.png\">"
   ]
  },
  {
   "cell_type": "code",
   "execution_count": 78,
   "metadata": {},
   "outputs": [],
   "source": [
    "away_a_atwo = make_kwic('life', a_atwo_tokens, win=8)\n",
    "away_a_atwo_sample = random.sample(away_a_atwo, 10)"
   ]
  },
  {
   "cell_type": "markdown",
   "metadata": {},
   "source": [
    "<img src=\"images/a2_life.png\">"
   ]
  },
  {
   "cell_type": "markdown",
   "metadata": {},
   "source": [
    "#### From Me To You Analysis\n"
   ]
  },
  {
   "cell_type": "markdown",
   "metadata": {},
   "source": [
    "The following keywords were analyzed: love, tryna, feel, away, life\n",
    "\n",
    "From these keywords, it seems that in the From Me To You (2021) album, it definitely shows that Quadeca is talking a lot about a relationship and also about struggling through isolation during the coronavirus pandemic. We see a lot of references to him loving someone and I can only assume that he is talking about his most recently ex-girlfriend. From other contexts, it seems like he was not contributing enough to the relationship due to his workaholic behavior and now they're nothing but  a past memory. Quadeca also seems to be reflecting on his isolation and there are a lot of references to life never being the same as the previous year. The reference can have a double meaning, where he's talking about both the pandemic and also his relationship. There are also a lot of references to climbing a mountain and one of the interesting contexts show that Quadeca has reached a peak in popularity and his skills and that he is afraid of the inevitable drop that comes afterwards. "
   ]
  },
  {
   "cell_type": "markdown",
   "metadata": {},
   "source": [
    "#### Observations for all Albums After the Insecure Diss Track"
   ]
  },
  {
   "cell_type": "markdown",
   "metadata": {},
   "source": [
    "From the addition of the keywords in context analysis, it seems like the themes that Quadeca talks about in his later albums are about self reflection, reinventing and reestablishing himself as a talented rapper, fighting his inner demons, dealing with the aftermath of a relationship, and dealing with isolation and the effects of a global pandemic."
   ]
  },
  {
   "cell_type": "markdown",
   "metadata": {},
   "source": [
    "# Overall Observartions from the Keywords in Context Concordances"
   ]
  },
  {
   "cell_type": "markdown",
   "metadata": {},
   "source": [
    "After analyzing some of the popular keywords that were found in the word frequency lists, I was able to get some more context into what Quadeca was talking about on the albums. Overall, the themes that Quadeca seem to commonly rap about are:\n",
    "* Proving himself and his value as a rapper\n",
    "* Depression/Insecurities/Inner Demons\n",
    "* Love/Relationships/Breakups\n",
    "\n",
    "There seems to be a lot of overlapping themes between the music Quadeca made before the Insecure diss track and after the Insecure diss track. "
   ]
  }
 ],
 "metadata": {
  "kernelspec": {
   "display_name": "Python 3",
   "language": "python",
   "name": "python3"
  },
  "language_info": {
   "codemirror_mode": {
    "name": "ipython",
    "version": 3
   },
   "file_extension": ".py",
   "mimetype": "text/x-python",
   "name": "python",
   "nbconvert_exporter": "python",
   "pygments_lexer": "ipython3",
   "version": "3.7.3"
  }
 },
 "nbformat": 4,
 "nbformat_minor": 2
}

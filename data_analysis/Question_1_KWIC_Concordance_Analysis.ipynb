{
 "cells": [
  {
   "cell_type": "markdown",
   "metadata": {},
   "source": [
    "# Question 1: Did Quadeca's Musical Themes and Musical Style Change From the Period Before Insecure Compared to the Period After Insecure?"
   ]
  },
  {
   "cell_type": "markdown",
   "metadata": {},
   "source": [
    "## Setup"
   ]
  },
  {
   "cell_type": "code",
   "execution_count": 1,
   "metadata": {},
   "outputs": [],
   "source": [
    "import os\n",
    "import random\n",
    "import re\n",
    "import string"
   ]
  },
  {
   "cell_type": "code",
   "execution_count": 2,
   "metadata": {},
   "outputs": [],
   "source": [
    "# other notebooks to be ran\n",
    "%run /Commjhub/jupyterhub/comm318_fall2019/raymon-shi/comm313_S21/comm313_S21_Final_Project/data/functions.ipynb"
   ]
  },
  {
   "cell_type": "code",
   "execution_count": 3,
   "metadata": {},
   "outputs": [],
   "source": [
    "# imported important variables\n",
    "%store -r b_album_one_lyrics\n",
    "%store -r b_album_two_lyrics\n",
    "%store -r b_album_three_lyrics\n",
    "%store -r b_album_four_lyrics\n",
    "%store -r a_album_one_lyrics\n",
    "%store -r a_album_two_lyrics"
   ]
  },
  {
   "cell_type": "code",
   "execution_count": 4,
   "metadata": {},
   "outputs": [],
   "source": [
    "# important global variables\n",
    "characters_to_strip = '?().[]!,\"-’' + \"/'\""
   ]
  },
  {
   "cell_type": "code",
   "execution_count": 5,
   "metadata": {},
   "outputs": [],
   "source": [
    "b_aone_tokens = album_tokenizer(b_album_one_lyrics)\n",
    "b_atwo_tokens = album_tokenizer(b_album_two_lyrics)\n",
    "b_athree_tokens = album_tokenizer(b_album_three_lyrics)\n",
    "b_afour_tokens = album_tokenizer(b_album_four_lyrics)\n",
    "\n",
    "a_aone_tokens = album_tokenizer(a_album_one_lyrics)\n",
    "a_atwo_tokens = album_tokenizer(a_album_two_lyrics)"
   ]
  },
  {
   "cell_type": "markdown",
   "metadata": {},
   "source": [
    "## Key Word In Context Concordances"
   ]
  },
  {
   "cell_type": "markdown",
   "metadata": {},
   "source": [
    "### Albums Before the Insecure Diss Track"
   ]
  },
  {
   "cell_type": "markdown",
   "metadata": {},
   "source": [
    "#### Work in Progress (2015)"
   ]
  },
  {
   "cell_type": "code",
   "execution_count": 6,
   "metadata": {},
   "outputs": [],
   "source": [
    "time_b_aone = make_kwic('time', b_aone_tokens, win=8)\n",
    "time_b_aone_sample = random.sample(time_b_aone, 10)"
   ]
  },
  {
   "cell_type": "code",
   "execution_count": 7,
   "metadata": {},
   "outputs": [
    {
     "name": "stdout",
     "output_type": "stream",
     "text": [
      "     i never really ever get to spend the  time  a lessons learned a lessthan rhyme but i\n",
      "  your lavish life and have a crazy magic  time  and luckily im so damn young cause man\n",
      "          mind uh and they say that im in  time  but i keep on workin all my life\n",
      "          own lyrics i got mine man im on  time  for the wrong lines but im not cryin\n",
      "sleepin and just usin the internet but my  time  is limited and i better figure this before\n",
      "     on fuckin jokes so much time so much  time  ive got always playin g but now im\n",
      "           bitch i am goin so later i got  time  my own lyrics i got mine man im\n",
      "       one you be callin it quits so much  time  so much time i got and ill probably\n",
      "     will never ever show the way so much  time  so much time ive got and i will\n",
      "     would fuckin go away ive got so much  time  so much time ive got and i wont\n"
     ]
    }
   ],
   "source": [
    "print_kwic(sort_kwic(time_b_aone_sample, ['R1']))"
   ]
  },
  {
   "cell_type": "code",
   "execution_count": 8,
   "metadata": {},
   "outputs": [],
   "source": [
    "life_b_aone = make_kwic('life', b_aone_tokens, win=8)\n",
    "life_b_aone_sample = random.sample(life_b_aone, 10)"
   ]
  },
  {
   "cell_type": "code",
   "execution_count": 9,
   "metadata": {},
   "outputs": [
    {
     "name": "stdout",
     "output_type": "stream",
     "text": [
      "  you got to maximize to satisfy your lavish  life  and have a crazy magic time and luckily\n",
      "        basically im great you see i made my  life  at the age of three but what am\n",
      "who be keepin the peace sacrifice your whole  life  cause you need a degree opportunity in front\n",
      "     but upset lookin out the window seein a  life  gone past me feelin so off of it\n",
      "     cost yeah lookin out the window seein a  life  gone past me i got everything to make\n",
      "      middle of the nighttime i find so much  life  i wonder why i cant just find mine\n",
      " got an odd mentality sometimes i think that  life  is really not reality success definition hasnt got\n",
      "               and get cs but get paid uh my  life  is so unusual to most it isnt suitable\n",
      "         ball out its the life that im livin  life  that im livin not sure who to call\n",
      "       theyre receivin it agreein to be in a  life  without leadin it flows so dope i think\n"
     ]
    }
   ],
   "source": [
    "print_kwic(sort_kwic(life_b_aone_sample, ['R1']))"
   ]
  },
  {
   "cell_type": "code",
   "execution_count": 10,
   "metadata": {},
   "outputs": [],
   "source": [
    "people_b_aone = make_kwic('people', b_aone_tokens, win=8)\n",
    "people_b_aone_sample = random.sample(people_b_aone, 10)"
   ]
  },
  {
   "cell_type": "code",
   "execution_count": 11,
   "metadata": {},
   "outputs": [
    {
     "name": "stdout",
     "output_type": "stream",
     "text": [
      "media leavin the previous life believin the wikipedia  people  are feedin ya more bull they seem to\n",
      "                     much time i got and all of these  people  assumin bout what i be doin but they\n",
      "             started off so terribly now all of these  people  compare to me in the past i never\n",
      "               all my new songs my only motivation is  people  i need to prove wrong yeah said my\n",
      "                          all on my own all on my own  people  keep callin my phone wantin to know when\n",
      "                          all on my own all on my own  people  keep callin my phone wantin to know when\n",
      "              start grindin lets go yeah all of these  people  keep on changin all of these times and\n",
      "                own fanbase are hatin me all of these  people  keep on changin all of these times and\n",
      "        crushin and crushin you tough for pursuin and  people  say eminems better than ben again then again\n",
      "                 workin im figurin it all out so when  people  say you cant it makes you wanna get\n"
     ]
    }
   ],
   "source": [
    "print_kwic(sort_kwic(people_b_aone_sample, ['R1']))"
   ]
  },
  {
   "cell_type": "code",
   "execution_count": 12,
   "metadata": {},
   "outputs": [],
   "source": [
    "game_b_aone = make_kwic('game', b_aone_tokens, win=8)\n",
    "game_b_aone_sample = random.sample(game_b_aone, 10)"
   ]
  },
  {
   "cell_type": "code",
   "execution_count": 13,
   "metadata": {},
   "outputs": [
    {
     "name": "stdout",
     "output_type": "stream",
     "text": [
      "          we hopin cause now i am open for  game  and im charged up i aint drake but\n",
      "people they know the players dont know the  game  and dont know the makers dont know the\n",
      "        to the game said im married to the  game  but i only just met her yeah time\n",
      "        time yeah i said im married to the  game  but i only just met her hopin that\n",
      "             im like damn i am ahead of my  game  do what i can to go get with\n",
      "       pattern all i wanna do is spit some  game  i cant be a rapper i will see\n",
      "            i dont give a shit man lifes a  game  lifes insane we just livin for a big\n",
      "         to be but thats a losers game the  game  of life is such a confusin thing most\n",
      "     married to the game im married to the  game  said im married to the game but i\n",
      "     married to the game im married to the  game  said im married to the game but i\n"
     ]
    }
   ],
   "source": [
    "print_kwic(sort_kwic(game_b_aone_sample, ['R1']))"
   ]
  },
  {
   "cell_type": "code",
   "execution_count": 14,
   "metadata": {},
   "outputs": [],
   "source": [
    "better_b_aone = make_kwic('better', b_aone_tokens, win=8)\n",
    "better_b_aone_sample = random.sample(better_b_aone, 10)"
   ]
  },
  {
   "cell_type": "code",
   "execution_count": 15,
   "metadata": {},
   "outputs": [
    {
     "name": "stdout",
     "output_type": "stream",
     "text": [
      "             make a meanin im just lookin to get  better  and i hope one day it happens im\n",
      "      fittin into this history tryna show you im  better  but none of you believe me tryna win\n",
      "             just met her hopin that my shit get  better  but im just gonna move with it ride\n",
      "             just met her hopin that my shit get  better  but im just gonna move with it ride\n",
      "meta bars with metaeights and metaphors you want  better  cores and better cars but you dont know\n",
      "           internet but my time is limited and i  better  figure this before im slippin this opportunity out\n",
      "                in progress a lot of shit to get  better  for but im takin steps i keep makin\n",
      "               me that im not to be somethin you  better  get your head up and start to watch\n",
      "              go slow but it dont work im gettin  better  that dont hurt and you think im dead\n",
      "      id forgotten id said rememberin all of the  better  things that i had wanted but lost in\n"
     ]
    }
   ],
   "source": [
    "print_kwic(sort_kwic(better_b_aone_sample, ['R1']))"
   ]
  },
  {
   "cell_type": "markdown",
   "metadata": {},
   "source": [
    "#### Analysis for Work in Progress"
   ]
  },
  {
   "cell_type": "markdown",
   "metadata": {},
   "source": []
  },
  {
   "cell_type": "markdown",
   "metadata": {},
   "source": [
    "#### Nostalgia for the Now (2016)"
   ]
  },
  {
   "cell_type": "code",
   "execution_count": 16,
   "metadata": {},
   "outputs": [],
   "source": [
    "say_b_atwo = make_kwic('say', b_atwo_tokens, win=8)\n",
    "say_b_atwo_sample = random.sample(say_b_atwo, 10)"
   ]
  },
  {
   "cell_type": "code",
   "execution_count": 17,
   "metadata": {},
   "outputs": [
    {
     "name": "stdout",
     "output_type": "stream",
     "text": [
      " headin for winter they all wanna doubt me  say  bens a beginner but ive been workin hard\n",
      " like its not the same how everybody tryna  say  my name while i been feeling like a\n",
      " take this away now they have something to  say  now you cannot order this shit on a\n",
      "    not coming back yeah im done with that  say  quadecas on the stage the crowd all says\n",
      "         not going away no im not going to  say  that this shit is going badly at all\n",
      "         most i aint safe in my right mind  say  the wrong words at the right time see\n",
      "         most i aint safe in my right mind  say  the wrong words at the right time see\n",
      "         most i aint safe in my right mind  say  the wrong words at the right time see\n",
      "               me why did it i say it they  say  to me basically every way to be humble\n",
      "be flying i cannot deny them they randomly  say  what if we die down what if we\n"
     ]
    }
   ],
   "source": [
    "print_kwic(sort_kwic(say_b_atwo_sample, ['R1']))"
   ]
  },
  {
   "cell_type": "code",
   "execution_count": 18,
   "metadata": {},
   "outputs": [],
   "source": [
    "love_b_atwo = make_kwic('love', b_atwo_tokens, win=8)\n",
    "love_b_atwo_sample = random.sample(love_b_atwo, 8)"
   ]
  },
  {
   "cell_type": "code",
   "execution_count": 19,
   "metadata": {},
   "outputs": [
    {
     "name": "stdout",
     "output_type": "stream",
     "text": [
      "shits nothing less than inspiring i need some  love  but i aint gonna get it from clovers\n",
      "           a need a change need a change real  love  dont have an image not magic witness by\n",
      "    that drug shit when they all claimin they  love  it i aint gon hop on that loud\n",
      "      a couple of bitches who swear that they  love  me but really they cant done writing these\n",
      "        to judge me and then they saying they  love  me but im not sure i am trusting\n",
      "                 at all im glad that i fall i  love  the ref but i am mad at the\n",
      "           drug or in the things that give us  love  were just tryna find the great escape were\n",
      "           drug or in the things that give us  love  were just tryna find the great escape were\n"
     ]
    }
   ],
   "source": [
    "print_kwic(sort_kwic(love_b_atwo_sample, ['R1']))"
   ]
  },
  {
   "cell_type": "code",
   "execution_count": 20,
   "metadata": {},
   "outputs": [],
   "source": [
    "please_b_atwo = make_kwic('please', b_atwo_tokens, win=8)\n",
    "please_b_atwo_sample = random.sample(please_b_atwo, 7)"
   ]
  },
  {
   "cell_type": "code",
   "execution_count": 21,
   "metadata": {},
   "outputs": [
    {
     "name": "stdout",
     "output_type": "stream",
     "text": [
      "its like a comparison shit is imperative damagin  please  call me an ambulance i am collapsin right\n",
      "    is it unwealthy ive been star struck someone  please  come help me this rust must become felt\n",
      "fuckin coffee yeah put your starbucks down bitch  please  dont make a sound bitch boy got opportunities\n",
      "    made this intro that shit is intense someone  please  give me threehundred violins i went to see\n",
      "                 need to go home so can i pretty  please  just be alalone nobody to retweet delete on\n",
      "          a liar dont bother me with that invite  please  no dont bother me with that invite you\n",
      "                  says what is that i mean can i  please  win one thing now how many dreams do\n"
     ]
    }
   ],
   "source": [
    "print_kwic(sort_kwic(please_b_atwo_sample, ['R1']))"
   ]
  },
  {
   "cell_type": "code",
   "execution_count": 22,
   "metadata": {},
   "outputs": [],
   "source": [
    "game_b_atwo = make_kwic('game', b_atwo_tokens, win=8)\n",
    "game_b_atwo_sample = random.sample(game_b_atwo, 10)"
   ]
  },
  {
   "cell_type": "code",
   "execution_count": 23,
   "metadata": {},
   "outputs": [
    {
     "name": "stdout",
     "output_type": "stream",
     "text": [
      "               latenight deep thoughts drowned out by my video  game  how am i well i guess that im\n",
      "                    from clovers or trips down to ireland this  game  i admire it the electrician is here tryna\n",
      "                    teacher but you loving the tutor enter the  game  im a fuckin intruder stealin these flows man\n",
      "                    hatin ill prove it bitch crazy lunatic rap  game  man im new to it what can i\n",
      "                        change ive been feeling like i run the  game  now ive been feeling like its not the\n",
      "                          fire ive been feeling like i run the  game  now ive been feeling like its not the\n",
      "                        change ive been feeling like i run the  game  now ive been feeling like its not the\n",
      "                           fly ive been feeling like i run the  game  now ive been feeling like its not the\n",
      "                           to the peace and this aint a fuckin  game  so just know that i wont play with\n",
      "threethreethreethreetwoonezero comin at shit man im runnin the  game  wonderin why im so fuckin insane up in\n"
     ]
    }
   ],
   "source": [
    "print_kwic(sort_kwic(game_b_atwo_sample, ['R1']))"
   ]
  },
  {
   "cell_type": "code",
   "execution_count": 24,
   "metadata": {},
   "outputs": [],
   "source": [
    "people_b_atwo = make_kwic('people', b_atwo_tokens, win=8)\n",
    "people_b_atwo_sample = random.sample(people_b_atwo, 10)"
   ]
  },
  {
   "cell_type": "code",
   "execution_count": 25,
   "metadata": {},
   "outputs": [
    {
     "name": "stdout",
     "output_type": "stream",
     "text": [
      "                   for my peace and a piece of the  people  and equality for the humans first woo civil\n",
      "        what i came to see patiently waiting these  people  are hating me basically i will keep going\n",
      "     onto new platforms and leavin the basics some  people  find it in the drink or in the\n",
      "like a cinderella princess in them little slippers  people  gettin grumpy need a bit of snickers when\n",
      " my expression no need for further obsession these  people  heard of my message they seem to work\n",
      "    my stance scare everyone away whenever i dance  people  in the comments sayin that i cant rap\n",
      "          live how i choose when im stepping these  people  started regrettin like everything they have said in\n",
      "              need a change talkin to all of these  people  they all wanna find me they all wanna\n",
      "                the life that i would come to know  people  tryin to run my show other hoes and\n",
      "             im coming from i guess its funny that  people  trying to judge me and then they saying\n"
     ]
    }
   ],
   "source": [
    "print_kwic(sort_kwic(people_b_atwo_sample, ['R1']))"
   ]
  },
  {
   "cell_type": "markdown",
   "metadata": {},
   "source": [
    "#### Analysis for Nostalgia for the Now"
   ]
  },
  {
   "cell_type": "markdown",
   "metadata": {},
   "source": []
  },
  {
   "cell_type": "markdown",
   "metadata": {},
   "source": [
    "#### Bad Internet Rapper (2017)"
   ]
  },
  {
   "cell_type": "code",
   "execution_count": 26,
   "metadata": {},
   "outputs": [],
   "source": [
    "love_b_athree = make_kwic('love', b_athree_tokens, win=8)\n",
    "love_b_athree_sample = random.sample(love_b_athree, 10)"
   ]
  },
  {
   "cell_type": "code",
   "execution_count": 27,
   "metadata": {},
   "outputs": [
    {
     "name": "stdout",
     "output_type": "stream",
     "text": [
      "          better person but i gave my heart for  love  and in return i got sent this synthetic\n",
      "           you probably wont oh make me fall in  love  some more take me far away from home\n",
      "              got a problem hop on the track id  love  to diss you people hate on successes you\n",
      "             guess i fell in what i thought was  love  to a person whos truth was a lie\n",
      "this while witnessin injustice by who people in  love  with or based off of skin colors this\n",
      "           right here with you cause i love you  love  you wowwowwowwow hit me right now give itgive\n",
      "   believed that someones here for me because i  love  you and i think i trust you too\n",
      "                 old but i cant trust you but i  love  you if you believe in time then youll\n",
      "               you all the time cause i yeah ii  love  you but i cant trust you oh i\n",
      "            my time right here with you cause i  love  you love you wowwowwowwow hit me right now\n"
     ]
    }
   ],
   "source": [
    "print_kwic(sort_kwic(love_b_athree_sample, ['R1']))"
   ]
  },
  {
   "cell_type": "code",
   "execution_count": 28,
   "metadata": {},
   "outputs": [],
   "source": [
    "play_b_athree = make_kwic('play', b_athree_tokens, win=8)\n",
    "play_b_athree_sample = random.sample(play_b_athree, 9)"
   ]
  },
  {
   "cell_type": "code",
   "execution_count": 29,
   "metadata": {},
   "outputs": [
    {
     "name": "stdout",
     "output_type": "stream",
     "text": [
      "                  why i wake in the morning im tryna  play  a performance and make a change with a\n",
      "            murder the game no witness when the song  play  itll make everybody stand up like theyre playing\n",
      "                   gon put me on a pedestal they gon  play  me in the festival everybodys gon be jealous\n",
      "           makeup song taken way too long dont wanna  play  or move on i wanna stay with you\n",
      "                     lifes a game i swear its pay to  play  so many bars ive been afraid to say\n",
      "difference because the people with the powerd rather  play  than listen fuck politics ill admit i got\n",
      "                 but at least i learned from my past  play  the song your headphones turn into ash thats\n",
      "                an army so big its compared to konys  play  this shit in the woods see a bear\n",
      "              be the one thats got the people jumpin  play  this shit got 808s this beat is bumpin\n"
     ]
    }
   ],
   "source": [
    "print_kwic(sort_kwic(play_b_athree_sample, ['R1']))"
   ]
  },
  {
   "cell_type": "code",
   "execution_count": 30,
   "metadata": {},
   "outputs": [],
   "source": [
    "guess_b_athree = make_kwic('guess', b_athree_tokens, win=8)\n",
    "guess_b_athree_sample = random.sample(guess_b_athree, 10)"
   ]
  },
  {
   "cell_type": "code",
   "execution_count": 31,
   "metadata": {},
   "outputs": [
    {
     "name": "stdout",
     "output_type": "stream",
     "text": [
      "          really not who you try to be i  guess  i fell in what i thought was love\n",
      "   that they dont know shit thats a nogo  guess  im going solo but now im getting paranoid\n",
      "      i guess i pretend to be ignorant i  guess  im an idiot we live in a world\n",
      "     guess its plagued me for a minute i  guess  its changed me for a year i guess\n",
      "       guess its changed me for a year i  guess  its made me who i am and i\n",
      "        and nobody seems to go with me i  guess  sometimes i am on my own cry castaway\n",
      "    a pretty fuckin bad year yeah well i  guess  that im back here got a feeling that\n",
      "        to really know fun but so what i  guess  thats what happens when you grow up dry\n",
      "     mean have you seen the signs yeah i  guess  well be fine yeah im working overtime just\n",
      "ill that travis cant find the antidote i  guess  what i learned is that our future cant\n"
     ]
    }
   ],
   "source": [
    "print_kwic(sort_kwic(guess_b_athree_sample, ['R1']))"
   ]
  },
  {
   "cell_type": "code",
   "execution_count": 32,
   "metadata": {},
   "outputs": [],
   "source": [
    "change_b_athree = make_kwic('change', b_athree_tokens, win=8)\n",
    "change_b_athree_sample = random.sample(change_b_athree, 6)"
   ]
  },
  {
   "cell_type": "code",
   "execution_count": 33,
   "metadata": {},
   "outputs": [
    {
     "name": "stdout",
     "output_type": "stream",
     "text": [
      "  same division but man the nation wants some  change  and this the way theyll get it poor\n",
      "       now theyre fakin pain they cant make a  change  bout to disappear like david blaine can someone\n",
      "us they the same switching switching make the  change  do anything to make a gain you keep\n",
      "        a feeling that its that clear so much  change  i been feeling like a cashier man this\n",
      "            my ability to walk in the biz and  change  it from the start to the finish ima\n",
      "       im tryna play a performance and make a  change  with a chorus came from a tiny platform\n"
     ]
    }
   ],
   "source": [
    "print_kwic(sort_kwic(change_b_athree_sample, ['R1']))"
   ]
  },
  {
   "cell_type": "code",
   "execution_count": 34,
   "metadata": {},
   "outputs": [],
   "source": [
    "tryna_b_athree = make_kwic('tryna', b_athree_tokens, win=8)\n",
    "tryna_b_athree_sample = random.sample(tryna_b_athree, 10)"
   ]
  },
  {
   "cell_type": "code",
   "execution_count": 35,
   "metadata": {},
   "outputs": [
    {
     "name": "stdout",
     "output_type": "stream",
     "text": [
      "             got so many things waitin ahead of me  tryna  be seventy feelin like twentythree no one can\n",
      "               twentythree no one can get to me im  tryna  blow they minds before they blow mine kennedy\n",
      "  been treading down these unknown streets im just  tryna  find a new place and nobody seems to\n",
      "    pros yet bitches always so stressed cause they  tryna  find that great escape nation of dreamers all\n",
      "              put it out and aint no limit stoppin  tryna  finish projects fore im in a coffin call\n",
      "                on the lights in the dark of night  tryna  make it all alright for some reason it\n",
      "           so many reasons that ive stayed up late  tryna  make my case for the daytoday saw problems\n",
      "         im gettin up to 808s daytoday hustle just  tryna  pave a way people with the problems always\n",
      "need to get invested all these different platforms  tryna  step some leverage wanna get up on the\n",
      "         they see me comin see me stuntin yearbook  tryna  tweet me somethin that is really somethin i\n"
     ]
    }
   ],
   "source": [
    "print_kwic(sort_kwic(tryna_b_athree_sample, ['R1']))"
   ]
  },
  {
   "cell_type": "markdown",
   "metadata": {},
   "source": [
    "#### Analysis for Bad Internet Rapper\n"
   ]
  },
  {
   "cell_type": "markdown",
   "metadata": {},
   "source": []
  },
  {
   "cell_type": "markdown",
   "metadata": {},
   "source": [
    "#### Out of Order (2017)"
   ]
  },
  {
   "cell_type": "code",
   "execution_count": 42,
   "metadata": {},
   "outputs": [],
   "source": [
    "rappers_b_afour = make_kwic('rappers', b_afour_tokens, win=8)\n",
    "rappers_b_afour_sample = random.sample(rappers_b_afour, 10)"
   ]
  },
  {
   "cell_type": "code",
   "execution_count": 43,
   "metadata": {},
   "outputs": [
    {
     "name": "stdout",
     "output_type": "stream",
     "text": [
      "        me to believe in my sauce dont understand  rappers  braggin i got that paper on me man\n",
      "  and play like trump separating church and state  rappers  breathing heavy like the third debate i can\n",
      "    im great thirteen reasons im gonna make these  rappers  kill themselves before they put out a tape\n",
      "   no brakes thirteen reasons im gonna make these  rappers  kill themselves before they put out a tape\n",
      "    im great thirteen reasons im gonna make these  rappers  kill themselves before they put out a tape\n",
      "   no brakes thirteen reasons im gonna make these  rappers  kill themselves before they put out a tape\n",
      "                    why i got to fry up all these  rappers  quick like order up *call bell ringing* formula\n",
      "                   much i got to fry up all these  rappers  quick like order up *call bell ringing* when\n",
      "        seen so much money so little talent these  rappers  shows look like lipsync battles with jimmy fallon\n",
      "doing shit but choosing victims feasting on these  rappers  when im done theyll do the dishes yeah\n"
     ]
    }
   ],
   "source": [
    "print_kwic(sort_kwic(rappers_b_afour_sample, ['R1']))"
   ]
  },
  {
   "cell_type": "code",
   "execution_count": 44,
   "metadata": {},
   "outputs": [],
   "source": [
    "speak_b_afour = make_kwic('speak', b_afour_tokens, win=8)\n",
    "speak_b_afour_sample = random.sample(speak_b_afour, 10)"
   ]
  },
  {
   "cell_type": "code",
   "execution_count": 45,
   "metadata": {},
   "outputs": [
    {
     "name": "stdout",
     "output_type": "stream",
     "text": [
      " friends so tell her i dont ever wanna  speak  again im like damn tell her i dont\n",
      " i couldnt send yeah i dont ever wanna  speak  again id rather see the end than be\n",
      "     im like man tell her i dont wanna  speak  again i liked reaching the end more than\n",
      " friends so tell her i dont ever wanna  speak  again dee b got that heat yeah my\n",
      "you whenever we meet i dont ever wanna  speak  again i dont i dont i don i\n",
      "        i dont i don i dont ever wanna  speak  again id rather see the end than be\n",
      "     im like man tell her i dont wanna  speak  again i liked reaching the end more than\n",
      " friends so tell her i dont ever wanna  speak  again she say its in poor taste she\n",
      "    im like damn tell her i dont wanna  speak  again id love to see the end more\n",
      " friends so tell her i dont ever wanna  speak  again why you been hittin me up think\n"
     ]
    }
   ],
   "source": [
    "print_kwic(sort_kwic(speak_b_afour_sample, ['R1']))"
   ]
  },
  {
   "cell_type": "code",
   "execution_count": 46,
   "metadata": {},
   "outputs": [],
   "source": [
    "love_b_afour = make_kwic('love', b_afour_tokens, win=8)\n",
    "love_b_afour_sample = random.sample(love_b_afour, 10)"
   ]
  },
  {
   "cell_type": "code",
   "execution_count": 47,
   "metadata": {},
   "outputs": [
    {
     "name": "stdout",
     "output_type": "stream",
     "text": [
      "  madness i will stay focused to avoid distractions  love  ayy when i walk up in the scene\n",
      "              i aint sober know you rollin too yeah  love  dont just get up and go feelings always\n",
      "          hand but you dont understand i think that  love  is either gold or a scam and you\n",
      "comfortable comfortable and man they really used to  love  me now im feared now they fear me\n",
      "comfortable comfortable and man they really used to  love  me now im feared now they fear me\n",
      "                 look inside my mind my mind why is  love  so hard to find i cant find it\n",
      "         ya hatred feel the track thats filled with  love  that feels as a friend it pays take\n",
      "              tied myself up like a nike mag people  love  to criticize me for the life ive had\n",
      "               tell her i dont wanna speak again id  love  to see the end more than when we\n",
      "           somebody please just throw me the keys i  love  you and now youre really just my withdrawal\n"
     ]
    }
   ],
   "source": [
    "print_kwic(sort_kwic(love_b_afour_sample, ['R1']))"
   ]
  },
  {
   "cell_type": "code",
   "execution_count": 48,
   "metadata": {},
   "outputs": [],
   "source": [
    "youre_b_afour = make_kwic('youre', b_afour_tokens, win=8)\n",
    "youre_b_afour_sample = random.sample(youre_b_afour, 10)"
   ]
  },
  {
   "cell_type": "code",
   "execution_count": 49,
   "metadata": {},
   "outputs": [
    {
     "name": "stdout",
     "output_type": "stream",
     "text": [
      "      see the end more than when we began  youre  gone and this shit aint just gonna be\n",
      "reaching the end more than where we began  youre  gone and this shit aint just gonna be\n",
      "reaching the end more than where we began  youre  gone and this shit aint just gonna be\n",
      "       see the end than be where we began  youre  gone and this shit aint just gonna be\n",
      "      ended the beat im just a regular me  youre  just a regular you treat me irregularly treat\n",
      "the middle of their eyes better figure if  youre  living or you die cause its time for\n",
      "           me the keys i love you and now  youre  really just my withdrawal man that really only\n",
      "i am independent you a little jealous and  youre  skeptical of how im really selling you assuming\n",
      "       i tell em who guessed whos next so  youre  trying to do this its a huge mess\n",
      "none of these dudes havent packed yet and  youre  usually cool in the classes but you have\n"
     ]
    }
   ],
   "source": [
    "print_kwic(sort_kwic(youre_b_afour_sample, ['R1']))"
   ]
  },
  {
   "cell_type": "code",
   "execution_count": 50,
   "metadata": {},
   "outputs": [],
   "source": [
    "life_b_afour = make_kwic('life', b_afour_tokens, win=8)\n",
    "life_b_afour_sample = random.sample(life_b_afour, 10)"
   ]
  },
  {
   "cell_type": "code",
   "execution_count": 51,
   "metadata": {},
   "outputs": [
    {
     "name": "stdout",
     "output_type": "stream",
     "text": [
      "            about the world yeah come up in my  life  and flip it straight into reverse yeah you\n",
      "          say that i tried yeah hopped in this  life  and then i stayed for the ride so\n",
      "         crazy what were willing to lose for a  life  and what we do when were snacking on\n",
      "into the unknown known its getting darker when  life  gets harder i wont get caught up with\n",
      "       with how nobodys perfect like all of my  life  ill forget about it and all of the\n",
      "          head low but say reach for the skies  life  is a walkin contradiction ive seen through its\n",
      "       mag people love to criticize me for the  life  ive had true they make it bout white\n",
      "      i vocalize all that i hope inside social  life  over my goals in life posts online more\n",
      "    if people sellin platinum worst year of my  life  thats like saying the worst kendrick album; its\n",
      "              of the why so i can summarize my  life  through my breathing and sigh like oh well\n"
     ]
    }
   ],
   "source": [
    "print_kwic(sort_kwic(life_b_afour_sample, ['R1']))"
   ]
  },
  {
   "cell_type": "markdown",
   "metadata": {},
   "source": [
    "#### Analysis for Out of Order"
   ]
  },
  {
   "cell_type": "markdown",
   "metadata": {},
   "source": []
  },
  {
   "cell_type": "markdown",
   "metadata": {},
   "source": [
    "#### Observations for all Albums Before the Insecure Diss Track"
   ]
  },
  {
   "cell_type": "markdown",
   "metadata": {},
   "source": []
  },
  {
   "cell_type": "markdown",
   "metadata": {},
   "source": [
    "### Albums After the Insecure Diss Track"
   ]
  },
  {
   "cell_type": "markdown",
   "metadata": {},
   "source": [
    "#### Voice Memos (2018)"
   ]
  },
  {
   "cell_type": "code",
   "execution_count": 54,
   "metadata": {},
   "outputs": [],
   "source": [
    "need_a_aone = make_kwic('need', a_aone_tokens, win=8)\n",
    "need_a_aone_sample = random.sample(need_a_aone, 10)"
   ]
  },
  {
   "cell_type": "code",
   "execution_count": 55,
   "metadata": {},
   "outputs": [
    {
     "name": "stdout",
     "output_type": "stream",
     "text": [
      "         to see how i felt i think i  need  faith but how can i believe in god\n",
      "do everything i think you need me to  need  me to i dont wanna let you go\n",
      "       red dot it heals me i think i  need  new friends yeah like that aint the real\n",
      " feel like im supposed to ego i dont  need  no other people in my trio myself i\n",
      "     i and me though we know we dont  need  no kilos my watch frio yeah im on\n",
      "      what i cant see in me easily i  need  to be between your arms lets make this\n",
      "    cant keep a secret when i feel i  need  to scream it all all cant even fall\n",
      "  this is gods way of reminding me i  need  to smile more yeah i played you my\n",
      "   bout my music they tell me that i  need  to cool it around me for real yeah\n",
      "like that yeah uh thats facts yeah i  need  to stop checking all of the stats like\n"
     ]
    }
   ],
   "source": [
    "print_kwic(sort_kwic(need_a_aone_sample, ['R1']))"
   ]
  },
  {
   "cell_type": "code",
   "execution_count": 58,
   "metadata": {},
   "outputs": [],
   "source": [
    "tell_a_aone = make_kwic('tell', a_aone_tokens, win=8)\n",
    "tell_a_aone_sample = random.sample(tell_a_aone, 10)"
   ]
  },
  {
   "cell_type": "code",
   "execution_count": 59,
   "metadata": {},
   "outputs": [
    {
     "name": "stdout",
     "output_type": "stream",
     "text": [
      "             my side if i lose at least ill  tell  em that i tried yeah that i tried\n",
      "     huh huh quadeca and frosty like what i  tell  her thank you next callin quadeca shoot baby\n",
      "           i think i love her but ill never  tell  i wont admit it and thats my problem\n",
      "  facts sometimes i talk bout my music they  tell  me that i need to cool it around\n",
      "      shoulda up and left yeah but i always  tell  myself that im one of the good guys\n",
      "    will not betray myself i been afraid to  tell  so alone so i just braced myself ive\n",
      "no napoleon i press upload and unload tryna  tell  the story thats untold getting downloads when im\n",
      "  beats despite how broken it gets yeah ima  tell  you how i feel all along all the\n",
      " bout how everyone would know you uhhuh and  tell  you its worth it despite everything they told\n",
      "        had known me yeah wish that i could  tell  you bout how everyone would know you uhhuh\n"
     ]
    }
   ],
   "source": [
    "print_kwic(sort_kwic(tell_a_aone_sample, ['R1']))"
   ]
  },
  {
   "cell_type": "code",
   "execution_count": 60,
   "metadata": {},
   "outputs": [],
   "source": [
    "feel_a_aone = make_kwic('feel', a_aone_tokens, win=8)\n",
    "feel_a_aone_sample = random.sample(feel_a_aone, 10)"
   ]
  },
  {
   "cell_type": "code",
   "execution_count": 61,
   "metadata": {},
   "outputs": [
    {
     "name": "stdout",
     "output_type": "stream",
     "text": [
      "          it gets yeah ima tell you how i  feel  all along all the monsters in my dream\n",
      "      when i was alone just to pretend to  feel  how i do now thank god im with\n",
      "        regret what i say but never how i  feel  i almost cried when i realized that everything\n",
      "   step i gotta relive yeah take a breath  feel  it in my ribs yeah let my voice\n",
      "        in my dick but you knew that thot  feel  like sheck wes like how that boy do\n",
      "b lou a diamond was formed under pressure  feel  like olympic im winning a medal brrrah slatt\n",
      "          you what i had to go through to  feel  like im supposed to ego i dont need\n",
      "   they writin on my tombstone for real i  feel  like the emperor i went and copped some\n",
      "          knew it was love when i knew id  feel  lost if i ever lost you thats why\n",
      "         to choose me yeah uh thats how i  feel  sometimes swear they all wanna lose me yeah\n"
     ]
    }
   ],
   "source": [
    "print_kwic(sort_kwic(feel_a_aone_sample, ['R1']))"
   ]
  },
  {
   "cell_type": "code",
   "execution_count": 62,
   "metadata": {},
   "outputs": [],
   "source": [
    "love_a_aone = make_kwic('love', a_aone_tokens, win=8)\n",
    "love_a_aone_sample = random.sample(love_a_aone, 10)"
   ]
  },
  {
   "cell_type": "code",
   "execution_count": 63,
   "metadata": {},
   "outputs": [
    {
     "name": "stdout",
     "output_type": "stream",
     "text": [
      "      rappin and they love the action and they  love  distractions but we hate the comparison parasitic theyre\n",
      "       the money check add up oh bitches wanna  love  me kick it like rugby i got the\n",
      "      alone so i just braced myself ive wanted  love  since the age of twelve even before i\n",
      "              i want to anymore i used to make  love  songs when i was alone just to pretend\n",
      "                 when i know i lose all that i  love  that its easy to hate myself its my\n",
      "     yeah yeah i keep on doubletappin and they  love  the rappin and they love the action and\n",
      "doubletappin and they love the rappin and they  love  the action and they love distractions but we\n",
      "    gotten high before huh this is not regular  love  this shit is a mile more for real\n",
      "   both a sober and a sobering hallucination i  love  you paris when i was eight yeah huh\n",
      "                the day i wanted a name yeah i  love  you paris but i was too shy i\n"
     ]
    }
   ],
   "source": [
    "print_kwic(sort_kwic(love_a_aone_sample, ['R1']))"
   ]
  },
  {
   "cell_type": "code",
   "execution_count": 64,
   "metadata": {},
   "outputs": [],
   "source": [
    "better_a_aone = make_kwic('better', a_aone_tokens, win=8)\n",
    "better_a_aone_sample = random.sample(better_a_aone, 10)"
   ]
  },
  {
   "cell_type": "code",
   "execution_count": 65,
   "metadata": {},
   "outputs": [
    {
     "name": "stdout",
     "output_type": "stream",
     "text": [
      "         hope that when they listen make it all  better  but thats a big ask in some tall\n",
      "        it for the mistakes yeah red dot camera  better  get that head shot head shot shot shot\n",
      "            yeah yeah yeah bitch im back and im  better  huh okay i just rap with no effort\n",
      "         im feeling freer now they said it gets  better  i see it now she took my demons\n",
      "still imagine still wish it happened bigger and  better  like yeah when i was eight huh i\n",
      "         me like cowell uh no better say cheese  better  say please fuck that song man better make\n",
      "                 a no from me like cowell uh no  better  say cheese better say please fuck that song\n",
      "               in the rough guess it made for a  better  story was makin all of it up and\n",
      "           thank you text who been on that shit  better  take your guess when im out in palo\n",
      "       song man better make these you been down  better  take these better wake up ima stay sleep\n"
     ]
    }
   ],
   "source": [
    "print_kwic(sort_kwic(better_a_aone_sample, ['R1']))"
   ]
  },
  {
   "cell_type": "markdown",
   "metadata": {},
   "source": [
    "#### Analysis for Voice Memos\n"
   ]
  },
  {
   "cell_type": "markdown",
   "metadata": {},
   "source": []
  },
  {
   "cell_type": "markdown",
   "metadata": {},
   "source": [
    "#### From Me To You (2021)"
   ]
  },
  {
   "cell_type": "code",
   "execution_count": 66,
   "metadata": {},
   "outputs": [],
   "source": [
    "love_a_atwo = make_kwic('love', a_atwo_tokens, win=8)\n",
    "love_a_atwo_sample = random.sample(love_a_atwo, 10)"
   ]
  },
  {
   "cell_type": "code",
   "execution_count": 67,
   "metadata": {},
   "outputs": [
    {
     "name": "stdout",
     "output_type": "stream",
     "text": [
      "     think im inside a game i just want  love  but thats outside my reach always inside my\n",
      "          do you love me all you do you  love  me all you can do you love me\n",
      "          me all you all you can do you  love  me all you all you can please stop\n",
      "        stay gone its you and me do you  love  me all you do you love me all\n",
      "could really use a break from that same  love  story cause that aint somethin for me i\n",
      "  until she clock out yeah i cant never  love  these hoes im on my cash route uhhuh\n",
      " who else should have your name fall in  love  until its not the same if you lose\n",
      " have been fuckin retirin uh yeah and i  love  you when im back on the climb youre\n",
      "   days still hits on most days cause i  love  you but i see it in a different\n",
      "    look down youll be there soon and i  love  you still everything feels better when surrounded by\n"
     ]
    }
   ],
   "source": [
    "print_kwic(sort_kwic(love_a_atwo_sample, ['R1']))"
   ]
  },
  {
   "cell_type": "code",
   "execution_count": 68,
   "metadata": {},
   "outputs": [],
   "source": [
    "tryna_a_atwo = make_kwic('tryna', a_atwo_tokens, win=8)\n",
    "tryna_a_atwo_sample = random.sample(tryna_a_atwo, 10)"
   ]
  },
  {
   "cell_type": "code",
   "execution_count": 69,
   "metadata": {},
   "outputs": [
    {
     "name": "stdout",
     "output_type": "stream",
     "text": [
      "             my mind i cant blame them for not  tryna  comfort me im in the wrong line of\n",
      "         we got different life plans i know oh  tryna  do what i can so dont go oh\n",
      "    i just had like twentyfive red bulls still  tryna  find them wings like a blind rick ross\n",
      "angus niggas want clout fuck being famous they  tryna  flex ima be the trainer come where im\n",
      "          make you give your chain up you aint  tryna  fuck tell her get her brain up that\n",
      "                it i need you to stay ive been  tryna  get away from it yeah tryna kill my\n",
      "        motherfuckers so so much why i keep on  tryna  get em all to validate me its no\n",
      "          ive been tryna get away from it yeah  tryna  kill my coma fuck this selfreflection bullshit i\n",
      "         dont know what i wanna drink bitch im  tryna  rethink what my fate and my purpose is\n",
      "           many stripes im on my zebra shit im  tryna  stop myself from killin you bitches im on\n"
     ]
    }
   ],
   "source": [
    "print_kwic(sort_kwic(tryna_a_atwo_sample, ['R1']))"
   ]
  },
  {
   "cell_type": "code",
   "execution_count": 70,
   "metadata": {},
   "outputs": [],
   "source": [
    "feel_a_atwo = make_kwic('feel', a_atwo_tokens, win=8)\n",
    "feel_a_atwo_sample = random.sample(feel_a_atwo, 10)"
   ]
  },
  {
   "cell_type": "code",
   "execution_count": 71,
   "metadata": {},
   "outputs": [
    {
     "name": "stdout",
     "output_type": "stream",
     "text": [
      "       your crew gettin money but it makes you  feel  alone when you flaunt it in a race\n",
      "       head they gon need some recovery time i  feel  bad for em cause they got stuck in\n",
      "feel somethin aint nobody laughin but it still  feel  funny to me its all a game all\n",
      "              own i gotta help you climb and i  feel  guilty i spent all this time tryna work\n",
      "    when the air stretches thin and your lungs  feel  like glass days i almost made my last\n",
      "       yeah a thousand miles from home made me  feel  like were together even when were all alone\n",
      "          and when you come down write how you  feel  put it out thats a hit thank you\n",
      "           with you on this climb cant wait to  feel  shitty and tell you about it another time\n",
      "        they still think of me will they still  feel  somethin aint nobody laughin but it still feel\n",
      "        worlds just pixels on my phone but you  feel  true thank god uh always lookin down yeah\n"
     ]
    }
   ],
   "source": [
    "print_kwic(sort_kwic(feel_a_atwo_sample, ['R1']))"
   ]
  },
  {
   "cell_type": "code",
   "execution_count": 72,
   "metadata": {},
   "outputs": [],
   "source": [
    "away_a_atwo = make_kwic('away', a_atwo_tokens, win=8)\n",
    "away_a_atwo_sample = random.sample(away_a_atwo, 10)"
   ]
  },
  {
   "cell_type": "code",
   "execution_count": 73,
   "metadata": {},
   "outputs": [
    {
     "name": "stdout",
     "output_type": "stream",
     "text": [
      "    hold on sometimes the ground aint so far  away  aah i fell apart in your arms still\n",
      "           the peak i know but im tryna stay  away  from the drop though so i dont they\n",
      "          yeah uh i know i gotta really walk  away  off the stage the applause dont really wanna\n",
      "       see it in a different view when youre  away  the memories play in a different hue to\n",
      "   follow those tears the kind you cant wipe  away  where did they go where did you go\n",
      "take my lips leave me tonguetied drift drift  away  youre a memory ill only exist if you\n",
      " drift drift away youre a memory drift drift  away  youre a i guess im alone ill be\n",
      "     love you just pretend to be drift drift  away  youre a memory drift drift away youre a\n",
      " drift drift away youre a memory drift drift  away  youre a i guess im alone ill be\n",
      "     love you just pretend to be drift drift  away  youre a memory drift drift away youre a\n"
     ]
    }
   ],
   "source": [
    "print_kwic(sort_kwic(away_a_atwo_sample, ['R1']))"
   ]
  },
  {
   "cell_type": "code",
   "execution_count": 78,
   "metadata": {},
   "outputs": [],
   "source": [
    "away_a_atwo = make_kwic('life', a_atwo_tokens, win=8)\n",
    "away_a_atwo_sample = random.sample(away_a_atwo, 10)"
   ]
  },
  {
   "cell_type": "code",
   "execution_count": 79,
   "metadata": {},
   "outputs": [
    {
     "name": "stdout",
     "output_type": "stream",
     "text": [
      "     wanna give me five like a white dad  life  been movin too fast feelin like a timelapse\n",
      "another day every now and then know that  life  can never be the same again pretend pretend\n",
      "       the fuck do you say when you know  life  cannot be the same but you try and\n",
      " with you mm uh everything changed in my  life  i still got some adjustin to do uh\n",
      "   in you mm uh everything changed in my  life  now i got some adjustin to do uh\n",
      "  to prove whoa oh yeah we got different  life  plans i know oh tryna do what i\n",
      "  prove ayy ayy yeah oh we got different  life  plans i know oh tryna do what i\n",
      "    it work until it oh we got different  life  plans i know tryna do what i can\n",
      "   oohoohooh ooh i want you back here oh  life  will never be the same as last year\n",
      "   falls through i want you back here oh  life  will never be the same as last year\n"
     ]
    }
   ],
   "source": [
    "print_kwic(sort_kwic(away_a_atwo_sample, ['R1']))"
   ]
  },
  {
   "cell_type": "markdown",
   "metadata": {},
   "source": [
    "#### From Me To You Analysis\n"
   ]
  },
  {
   "cell_type": "markdown",
   "metadata": {},
   "source": []
  },
  {
   "cell_type": "markdown",
   "metadata": {},
   "source": [
    "#### Observations for all Albums After the Insecure Diss Track"
   ]
  },
  {
   "cell_type": "code",
   "execution_count": null,
   "metadata": {},
   "outputs": [],
   "source": []
  }
 ],
 "metadata": {
  "kernelspec": {
   "display_name": "Python 3",
   "language": "python",
   "name": "python3"
  },
  "language_info": {
   "codemirror_mode": {
    "name": "ipython",
    "version": 3
   },
   "file_extension": ".py",
   "mimetype": "text/x-python",
   "name": "python",
   "nbconvert_exporter": "python",
   "pygments_lexer": "ipython3",
   "version": "3.7.3"
  }
 },
 "nbformat": 4,
 "nbformat_minor": 2
}

{
 "cells": [
  {
   "cell_type": "markdown",
   "metadata": {},
   "source": [
    "# Question 2: If Quadeca’s music did change, did the success of *Insecure* influence Quadeca to make music that reflected mainstream musical themes and styles?"
   ]
  },
  {
   "cell_type": "markdown",
   "metadata": {},
   "source": [
    "## Setup"
   ]
  },
  {
   "cell_type": "code",
   "execution_count": 7,
   "metadata": {},
   "outputs": [],
   "source": [
    "import os\n",
    "import re\n",
    "import csv\n",
    "import pandas as pd\n",
    "import numpy as np\n",
    "import matplotlib.pyplot as plt\n",
    "\n",
    "from nltk import tokenize\n",
    "from nltk.sentiment.vader import SentimentIntensityAnalyzer"
   ]
  },
  {
   "cell_type": "code",
   "execution_count": 8,
   "metadata": {},
   "outputs": [],
   "source": [
    "# import notebooks to run\n",
    "%run /Commjhub/jupyterhub/comm318_fall2019/raymon-shi/comm313_S21/comm313_S21_Final_Project/data/functions.ipynb"
   ]
  },
  {
   "cell_type": "code",
   "execution_count": 9,
   "metadata": {},
   "outputs": [],
   "source": [
    "%store -r after_all_lyrics\n",
    "%store -r all_rap_chart_lyrics\n",
    "sid = SentimentIntensityAnalyzer()"
   ]
  },
  {
   "cell_type": "markdown",
   "metadata": {},
   "source": [
    "## Sentiment Analysis Across Both Corpuses"
   ]
  },
  {
   "cell_type": "markdown",
   "metadata": {},
   "source": [
    "### Quadeca's Music"
   ]
  },
  {
   "cell_type": "code",
   "execution_count": 41,
   "metadata": {},
   "outputs": [
    {
     "name": "stdout",
     "output_type": "stream",
     "text": [
      "the vader polarity average scores for each song in the corpus are:\n"
     ]
    },
    {
     "data": {
      "text/plain": [
       "[0.9881,\n",
       " 0.9975,\n",
       " 0.9827,\n",
       " 0.9729,\n",
       " 0.9967,\n",
       " 0.9905,\n",
       " 0.9973,\n",
       " -0.658,\n",
       " -0.9987,\n",
       " 0.9926,\n",
       " -0.3506,\n",
       " -0.8705,\n",
       " 0.9902,\n",
       " 0.9091,\n",
       " 0.6872,\n",
       " 0.9664,\n",
       " -0.9801,\n",
       " 0.9979,\n",
       " -0.5204,\n",
       " 0.9768,\n",
       " -0.9829,\n",
       " -0.9878,\n",
       " -0.8512,\n",
       " 0.4019,\n",
       " -0.942,\n",
       " 0.9166,\n",
       " 0.4153,\n",
       " -0.9688,\n",
       " -0.9463,\n",
       " 0.9883,\n",
       " 0.1027]"
      ]
     },
     "execution_count": 41,
     "metadata": {},
     "output_type": "execute_result"
    }
   ],
   "source": [
    "print('the vader polarity average scores for each song in the corpus are:')\n",
    "quad_vps_list = print_polarity_score_album(after_all_lyrics)\n",
    "quad_vps_list"
   ]
  },
  {
   "cell_type": "code",
   "execution_count": 42,
   "metadata": {},
   "outputs": [
    {
     "name": "stdout",
     "output_type": "stream",
     "text": [
      "There are 19 positive songs in this album\n",
      "There are 12 negative songs in this album\n",
      "There are 0 neutral songs in this album\n"
     ]
    }
   ],
   "source": [
    "quad_pos_songs = list()\n",
    "quad_neg_songs = list()\n",
    "quad_neu_songs = list()\n",
    "\n",
    "sort_sentiment_songs(quad_vps_list, quad_pos_songs, quad_neg_songs, quad_neu_songs)"
   ]
  },
  {
   "cell_type": "code",
   "execution_count": 34,
   "metadata": {},
   "outputs": [
    {
     "name": "stdout",
     "output_type": "stream",
     "text": [
      "the vader polarity sccore is: 0.20043225806451603\n"
     ]
    }
   ],
   "source": [
    "quad_vps = get_polarity_score(after_all_lyrics)\n",
    "\n",
    "print('the vader polarity sccore is:', quad_vps)"
   ]
  },
  {
   "cell_type": "markdown",
   "metadata": {},
   "source": [
    "#### Overall Observation from Quadeca's Music"
   ]
  },
  {
   "cell_type": "markdown",
   "metadata": {},
   "source": [
    "According to the vader polarity scores, there are a total of 19 positive songs, 12 negative songs, and 0 neutral songs. This means that there are 61.29% positive songs, 38.71% negative songs, and 0.00% neutral songs. The overall corpus has a vader polarity score of 0.200 and since this is greater than or equal to 0.05, that means that the overall corpus is a positive corpus. However, since this number is closer to 0.00, that means that the corpus is only slightly positive.\n",
    "\n",
    "Another thing to note is that this polarity score dropped from the previous calculate polarity score to 0.237 to the new polarity score of 0.200. This is probably due to the fact that the new polarity score is calculated across the entirety of Quadeca's later albums rather than doing each album individually. Although there is a drop in polarity score, the polarity score is still in the same range. "
   ]
  },
  {
   "cell_type": "markdown",
   "metadata": {},
   "source": [
    "### Billboard Rap Music"
   ]
  },
  {
   "cell_type": "code",
   "execution_count": 35,
   "metadata": {},
   "outputs": [
    {
     "name": "stdout",
     "output_type": "stream",
     "text": [
      "the vader polarity average scores for each song in the corpus are:\n"
     ]
    },
    {
     "data": {
      "text/plain": [
       "[0.8948,\n",
       " 0.9988,\n",
       " -0.9723,\n",
       " -0.9771,\n",
       " -0.8081,\n",
       " 0.9735,\n",
       " 0.9431,\n",
       " 0.9918,\n",
       " 0.9033,\n",
       " 0.3098,\n",
       " -0.9953,\n",
       " 0.992,\n",
       " 0.9985,\n",
       " -0.8659,\n",
       " 0.9978,\n",
       " -0.9994,\n",
       " -0.9972,\n",
       " 0.9954,\n",
       " -0.9752,\n",
       " 0.9997,\n",
       " 0.9976,\n",
       " 0.9947,\n",
       " -0.9711,\n",
       " -0.9995,\n",
       " 0.4954,\n",
       " 0.999,\n",
       " -0.9883,\n",
       " 0.9694,\n",
       " 0.9994,\n",
       " -0.9995,\n",
       " -0.9916,\n",
       " -0.9941,\n",
       " -0.9731,\n",
       " -0.9981,\n",
       " -0.9877,\n",
       " 0.5345,\n",
       " 0.2901,\n",
       " -0.997,\n",
       " -0.9986,\n",
       " -0.9948,\n",
       " -0.9501,\n",
       " -0.7452,\n",
       " -0.9516,\n",
       " -0.9949,\n",
       " -0.9968,\n",
       " 0.9993,\n",
       " -0.9869,\n",
       " -0.99,\n",
       " 0.9957,\n",
       " 0.2654,\n",
       " 0.7936,\n",
       " -0.9738,\n",
       " 0.8704,\n",
       " 0.9995,\n",
       " 0.9954,\n",
       " -0.9437,\n",
       " -0.9403,\n",
       " -0.9786,\n",
       " 0.9877,\n",
       " 0.9585,\n",
       " -0.8404,\n",
       " -0.9517,\n",
       " -0.9986,\n",
       " 0.9709,\n",
       " -0.9977,\n",
       " -0.9712,\n",
       " 0.8332,\n",
       " -0.9958,\n",
       " -0.9969,\n",
       " 0.9911,\n",
       " -0.99,\n",
       " -0.9965,\n",
       " 0.9982,\n",
       " 0.4027,\n",
       " -0.9967,\n",
       " -0.9749,\n",
       " -0.9997,\n",
       " -0.9998,\n",
       " 0.9918,\n",
       " 0.985,\n",
       " 0.9961,\n",
       " -0.9942,\n",
       " -0.9518,\n",
       " -0.9983,\n",
       " -0.9997,\n",
       " 0.9431,\n",
       " -0.9996,\n",
       " -0.9573,\n",
       " -0.9894,\n",
       " 0.4462,\n",
       " -0.9992,\n",
       " -0.6278,\n",
       " 0.9747,\n",
       " -0.979,\n",
       " 0.3494,\n",
       " -0.999,\n",
       " -0.9971,\n",
       " -0.9604,\n",
       " -0.965,\n",
       " -0.9977,\n",
       " -0.9905,\n",
       " 0.9783,\n",
       " -0.9866,\n",
       " 0.9964,\n",
       " -0.7254,\n",
       " -0.9989,\n",
       " -0.9965,\n",
       " 0.8835,\n",
       " -0.9368,\n",
       " -0.9982,\n",
       " -0.9994,\n",
       " 0.9873,\n",
       " -0.9629,\n",
       " -0.9936,\n",
       " 0.9817,\n",
       " -0.9912,\n",
       " 0.9747,\n",
       " 0.9482,\n",
       " -0.998,\n",
       " 0.9981,\n",
       " -0.966,\n",
       " 0.8817,\n",
       " 0.9978,\n",
       " -0.9992,\n",
       " 0.9145,\n",
       " -0.9573,\n",
       " 0.9992,\n",
       " 0.664,\n",
       " -0.9874,\n",
       " -0.9994,\n",
       " -0.9982,\n",
       " 0.9459,\n",
       " 0.9692,\n",
       " -0.9975,\n",
       " 0.5223,\n",
       " -0.9714,\n",
       " 0.9976,\n",
       " -0.9686,\n",
       " 0.8332,\n",
       " -0.9979,\n",
       " -0.9891,\n",
       " -0.9961,\n",
       " -0.9894,\n",
       " -0.9992,\n",
       " -0.996,\n",
       " -0.8899,\n",
       " 0.0348,\n",
       " -0.9994,\n",
       " 0.8859,\n",
       " -0.9518]"
      ]
     },
     "execution_count": 35,
     "metadata": {},
     "output_type": "execute_result"
    }
   ],
   "source": [
    "print('the vader polarity average scores for each song in the corpus are:')\n",
    "rap_vps_list = print_polarity_score_album(all_rap_chart_lyrics)\n",
    "rap_vps_list"
   ]
  },
  {
   "cell_type": "code",
   "execution_count": 37,
   "metadata": {},
   "outputs": [
    {
     "name": "stdout",
     "output_type": "stream",
     "text": [
      "There are 60 positive songs in this album\n",
      "There are 89 negative songs in this album\n",
      "There are 1 neutral songs in this album\n"
     ]
    }
   ],
   "source": [
    "rap_pos_songs = list()\n",
    "rap_neg_songs = list()\n",
    "rap_neu_songs = list()\n",
    "\n",
    "sort_sentiment_songs(rap_vps_list, rap_pos_songs, rap_neg_songs, rap_neu_songs)"
   ]
  },
  {
   "cell_type": "code",
   "execution_count": 39,
   "metadata": {},
   "outputs": [
    {
     "name": "stdout",
     "output_type": "stream",
     "text": [
      "the vader polarity sccore is: -0.22581466666666666\n"
     ]
    }
   ],
   "source": [
    "rap_vps = get_polarity_score(all_rap_chart_lyrics)\n",
    "\n",
    "print('the vader polarity sccore is:', rap_vps)"
   ]
  },
  {
   "cell_type": "markdown",
   "metadata": {},
   "source": [
    "#### Overall Observations from Billboard Rap Music"
   ]
  },
  {
   "cell_type": "markdown",
   "metadata": {},
   "source": [
    "According to the vader polarity scores, there are a total of 60 positive songs, 89 negative songs, and 1 neutral song. This means that there are 40.00% positive songs, 59.33% negative songs, and 0.66% neutral songs. The overall corpus has a vader polarity score of -0.226 and since this is less than or equal to -0.05, this means that the overall corpus is a negative corpus. However, since the number is closer to 0.00, this means that the corpus is only slightly negative."
   ]
  },
  {
   "cell_type": "markdown",
   "metadata": {},
   "source": [
    "### Conclusion From Sentiment Analysis"
   ]
  },
  {
   "cell_type": "markdown",
   "metadata": {},
   "source": [
    "After concluding a sentiment analysis across both corpuses, I found that the sentiment scores between Quadeca's music and the Billboard Rap music is fairly different. In fact, the sentiment scores of the two corpuses are nearly an absolute value away from each other. Quadeca's music was found to have a slightly positive sentiment with an average polarity score of 0.200, while the Billboard Rap music was found to have a slightly negative sentiment with an average polarity score of -0.226.\n",
    "\n",
    "This further shows that Quadeca's music was not influenced by the mainstream rap music nor does it reflect the same sentiment as the mainstream rap music.\n",
    "\n",
    "Although, I am surprised to see that the overall sentiment score of the mainstream rap music was negative. From the topics that I discovered through the KWIC analysis, I thought that the mainstream rap music would have a more positive trend and ironically, I originally thought that Quadeca's music was going to have a more negative trend."
   ]
  },
  {
   "cell_type": "code",
   "execution_count": null,
   "metadata": {},
   "outputs": [],
   "source": []
  }
 ],
 "metadata": {
  "kernelspec": {
   "display_name": "Python 3",
   "language": "python",
   "name": "python3"
  },
  "language_info": {
   "codemirror_mode": {
    "name": "ipython",
    "version": 3
   },
   "file_extension": ".py",
   "mimetype": "text/x-python",
   "name": "python",
   "nbconvert_exporter": "python",
   "pygments_lexer": "ipython3",
   "version": "3.7.3"
  }
 },
 "nbformat": 4,
 "nbformat_minor": 2
}

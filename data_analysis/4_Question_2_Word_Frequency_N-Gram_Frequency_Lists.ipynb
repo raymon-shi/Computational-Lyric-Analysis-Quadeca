{
 "cells": [
  {
   "cell_type": "markdown",
   "metadata": {},
   "source": [
    "# Question 2: If Quadeca’s music did change, did the success of *Insecure* influence Quadeca to make music that reflected mainstream musical themes and styles?"
   ]
  },
  {
   "cell_type": "markdown",
   "metadata": {},
   "source": [
    "---"
   ]
  },
  {
   "cell_type": "markdown",
   "metadata": {},
   "source": [
    "## Setup"
   ]
  },
  {
   "cell_type": "code",
   "execution_count": 1,
   "metadata": {},
   "outputs": [],
   "source": [
    "from collections import Counter"
   ]
  },
  {
   "cell_type": "code",
   "execution_count": 2,
   "metadata": {},
   "outputs": [],
   "source": [
    "# import other notebooks\n",
    "%run functions.ipynb"
   ]
  },
  {
   "cell_type": "code",
   "execution_count": 3,
   "metadata": {},
   "outputs": [],
   "source": [
    "# import important variables\n",
    "%store -r a_aone_tokens\n",
    "%store -r a_atwo_tokens\n",
    "%store -r after_insecure_final\n",
    "%store -r chart_2018_final\n",
    "%store -r chart_2019_final\n",
    "%store -r chart_2020_final"
   ]
  },
  {
   "cell_type": "code",
   "execution_count": 4,
   "metadata": {},
   "outputs": [],
   "source": [
    "# import global variables\n",
    "characters_to_strip = '?().[]!,\"-’' + \"/'\""
   ]
  },
  {
   "cell_type": "markdown",
   "metadata": {},
   "source": [
    "---"
   ]
  },
  {
   "cell_type": "markdown",
   "metadata": {},
   "source": [
    "## Word Frequency and N-Gram Frequency Lists"
   ]
  },
  {
   "cell_type": "markdown",
   "metadata": {},
   "source": [
    "For the word frequency and n-gram frequency lists, I will create the n-gram counters like I would normally do, but this time, I will also get the intersection between the most commonly repeated words and phrases and the most commonly repeated words and phrases between all songs. I believe that getting this intersection will help get the best of both worlds. "
   ]
  },
  {
   "cell_type": "markdown",
   "metadata": {},
   "source": [
    "### Combined Albums After the Insecure Diss Track"
   ]
  },
  {
   "cell_type": "code",
   "execution_count": 5,
   "metadata": {},
   "outputs": [],
   "source": [
    "# building the counters\n",
    "after_all_lyrics = list()\n",
    "\n",
    "for song_dict in after_insecure_final[0]:\n",
    "    song_lyrics = song_dict['lyrics']\n",
    "    after_all_lyrics.append(song_lyrics)\n",
    "    \n",
    "for song_dict in after_insecure_final[1]:\n",
    "    song_lyrics = song_dict['lyrics']\n",
    "    after_all_lyrics.append(song_lyrics)"
   ]
  },
  {
   "cell_type": "code",
   "execution_count": 6,
   "metadata": {},
   "outputs": [],
   "source": [
    "after_common_ctr = Counter()\n",
    "after_song_freq_ctr = Counter()\n",
    "after_cleaned_all = get_cleaned_album_all(after_all_lyrics, after_common_ctr, after_song_freq_ctr, 1)"
   ]
  },
  {
   "cell_type": "code",
   "execution_count": 7,
   "metadata": {},
   "outputs": [
    {
     "data": {
      "text/plain": [
       "[('i', 792),\n",
       " ('the', 498),\n",
       " ('a', 337),\n",
       " ('yeah', 320),\n",
       " ('you', 317),\n",
       " ('to', 283),\n",
       " ('my', 270),\n",
       " ('im', 233),\n",
       " ('me', 231),\n",
       " ('in', 216),\n",
       " ('they', 206),\n",
       " ('and', 203),\n",
       " ('it', 197),\n",
       " ('like', 178),\n",
       " ('huh', 157),\n",
       " ('that', 151),\n",
       " ('on', 142),\n",
       " ('uh', 140),\n",
       " ('but', 131),\n",
       " ('all', 121),\n",
       " ('just', 108),\n",
       " ('up', 107),\n",
       " ('of', 107),\n",
       " ('be', 99),\n",
       " ('its', 99),\n",
       " ('this', 96),\n",
       " ('for', 96),\n",
       " ('no', 87),\n",
       " ('when', 87),\n",
       " ('dont', 86),\n",
       " ('so', 84),\n",
       " ('what', 79),\n",
       " ('if', 75),\n",
       " ('been', 73),\n",
       " ('shit', 72),\n",
       " ('got', 71),\n",
       " ('aint', 69),\n",
       " ('your', 64),\n",
       " ('with', 63),\n",
       " ('know', 62),\n",
       " ('thats', 62),\n",
       " ('was', 62),\n",
       " ('not', 61),\n",
       " ('is', 60),\n",
       " ('now', 60),\n",
       " ('never', 57),\n",
       " ('cant', 57),\n",
       " ('at', 56),\n",
       " ('do', 54),\n",
       " ('think', 54)]"
      ]
     },
     "execution_count": 7,
     "metadata": {},
     "output_type": "execute_result"
    }
   ],
   "source": [
    "# most common 1-grams with stopwords\n",
    "after_common_ctr.most_common(50)"
   ]
  },
  {
   "cell_type": "code",
   "execution_count": 8,
   "metadata": {},
   "outputs": [
    {
     "data": {
      "text/plain": [
       "[('to', 30),\n",
       " ('the', 30),\n",
       " ('i', 30),\n",
       " ('and', 30),\n",
       " ('it', 29),\n",
       " ('you', 29),\n",
       " ('a', 29),\n",
       " ('me', 28),\n",
       " ('of', 28),\n",
       " ('all', 27),\n",
       " ('in', 27),\n",
       " ('my', 26),\n",
       " ('when', 26),\n",
       " ('yeah', 26),\n",
       " ('just', 26),\n",
       " ('im', 26),\n",
       " ('on', 26),\n",
       " ('be', 25),\n",
       " ('for', 25),\n",
       " ('but', 25),\n",
       " ('that', 25),\n",
       " ('been', 24),\n",
       " ('its', 24),\n",
       " ('never', 24),\n",
       " ('like', 24),\n",
       " ('if', 24),\n",
       " ('this', 23),\n",
       " ('with', 23),\n",
       " ('they', 23),\n",
       " ('so', 23),\n",
       " ('your', 22),\n",
       " ('dont', 22),\n",
       " ('up', 22),\n",
       " ('no', 22),\n",
       " ('know', 21),\n",
       " ('got', 21),\n",
       " ('at', 21),\n",
       " ('was', 20),\n",
       " ('shit', 20),\n",
       " ('do', 20),\n",
       " ('uh', 20),\n",
       " ('thats', 20),\n",
       " ('not', 20),\n",
       " ('now', 20),\n",
       " ('want', 19),\n",
       " ('even', 19),\n",
       " ('cant', 19),\n",
       " ('say', 19),\n",
       " ('get', 19),\n",
       " ('still', 19)]"
      ]
     },
     "execution_count": 8,
     "metadata": {},
     "output_type": "execute_result"
    }
   ],
   "source": [
    "# most popular across multiple songs 1-grams with stopwords\n",
    "after_song_freq_ctr.most_common(50)"
   ]
  },
  {
   "cell_type": "code",
   "execution_count": 9,
   "metadata": {},
   "outputs": [
    {
     "data": {
      "text/plain": [
       "[('i', 30),\n",
       " ('the', 30),\n",
       " ('to', 30),\n",
       " ('and', 30),\n",
       " ('a', 29),\n",
       " ('you', 29),\n",
       " ('it', 29),\n",
       " ('of', 28),\n",
       " ('me', 28),\n",
       " ('in', 27),\n",
       " ('all', 27),\n",
       " ('my', 26),\n",
       " ('im', 26),\n",
       " ('just', 26),\n",
       " ('yeah', 26),\n",
       " ('on', 26),\n",
       " ('when', 26),\n",
       " ('be', 25),\n",
       " ('that', 25),\n",
       " ('but', 25),\n",
       " ('for', 25),\n",
       " ('if', 24),\n",
       " ('like', 24),\n",
       " ('been', 24),\n",
       " ('its', 24),\n",
       " ('never', 24),\n",
       " ('this', 23),\n",
       " ('they', 23),\n",
       " ('so', 23),\n",
       " ('with', 23),\n",
       " ('no', 22),\n",
       " ('up', 22),\n",
       " ('your', 22),\n",
       " ('dont', 22),\n",
       " ('know', 21),\n",
       " ('got', 21),\n",
       " ('at', 21),\n",
       " ('thats', 20),\n",
       " ('do', 20),\n",
       " ('shit', 20),\n",
       " ('uh', 20),\n",
       " ('not', 20),\n",
       " ('now', 20),\n",
       " ('was', 20),\n",
       " ('even', 19),\n",
       " ('say', 19),\n",
       " ('want', 19),\n",
       " ('cant', 19),\n",
       " ('get', 19),\n",
       " ('still', 19)]"
      ]
     },
     "execution_count": 9,
     "metadata": {},
     "output_type": "execute_result"
    }
   ],
   "source": [
    "# finding the intersection between the most commonly repeated terms and the most commonly popular terms across multiple songs\n",
    "inter_ctr_gram_1 = after_common_ctr & after_song_freq_ctr\n",
    "inter_ctr_gram_1.most_common(50)"
   ]
  },
  {
   "cell_type": "code",
   "execution_count": 10,
   "metadata": {},
   "outputs": [],
   "source": [
    "after_common_ctr_2 = Counter()\n",
    "after_song_freq_ctr_2 = Counter()\n",
    "after_cleaned_all_2 = get_cleaned_album_all(after_all_lyrics, after_common_ctr_2, after_song_freq_ctr_2, 2)"
   ]
  },
  {
   "cell_type": "code",
   "execution_count": 11,
   "metadata": {},
   "outputs": [
    {
     "data": {
      "text/plain": [
       "[('in the', 64),\n",
       " ('on my', 54),\n",
       " ('yeah i', 45),\n",
       " ('yeah yeah', 45),\n",
       " ('i just', 44),\n",
       " ('in my', 43),\n",
       " ('but i', 38),\n",
       " ('i got', 33),\n",
       " ('i dont', 33),\n",
       " ('i was', 31),\n",
       " ('and i', 31),\n",
       " ('when i', 29),\n",
       " ('if you', 28),\n",
       " ('that i', 27),\n",
       " ('huh i', 27),\n",
       " ('like a', 27),\n",
       " ('i think', 25),\n",
       " ('what i', 25),\n",
       " ('i cant', 25),\n",
       " ('work until', 25),\n",
       " ('on the', 24),\n",
       " ('to the', 23),\n",
       " ('i been', 23),\n",
       " ('i had', 22),\n",
       " ('in a', 22),\n",
       " ('uh yeah', 22),\n",
       " ('to me', 21),\n",
       " ('ive been', 21),\n",
       " ('this shit', 20),\n",
       " ('had to', 20),\n",
       " ('think i', 19),\n",
       " ('they like', 19),\n",
       " ('i need', 19),\n",
       " ('of the', 19),\n",
       " ('huh yeah', 19),\n",
       " ('you know', 19),\n",
       " ('i know', 18),\n",
       " ('got a', 18),\n",
       " ('im a', 18),\n",
       " ('ooh ooh', 18),\n",
       " ('im not', 18),\n",
       " ('the same', 18),\n",
       " ('be the', 17),\n",
       " ('for real', 17),\n",
       " ('all of', 17),\n",
       " ('im the', 17),\n",
       " ('so i', 17),\n",
       " ('i say', 17),\n",
       " ('until it', 17),\n",
       " ('yeah huh', 16)]"
      ]
     },
     "execution_count": 11,
     "metadata": {},
     "output_type": "execute_result"
    }
   ],
   "source": [
    "after_common_ctr_2.most_common(50)"
   ]
  },
  {
   "cell_type": "code",
   "execution_count": 12,
   "metadata": {},
   "outputs": [
    {
     "data": {
      "text/plain": [
       "[('in the', 25),\n",
       " ('in my', 18),\n",
       " ('i just', 17),\n",
       " ('i got', 17),\n",
       " ('on my', 17),\n",
       " ('on the', 15),\n",
       " ('but i', 15),\n",
       " ('when i', 15),\n",
       " ('yeah i', 15),\n",
       " ('of the', 14),\n",
       " ('that i', 14),\n",
       " ('i cant', 13),\n",
       " ('i think', 13),\n",
       " ('i dont', 13),\n",
       " ('im a', 13),\n",
       " ('i been', 12),\n",
       " ('me i', 12),\n",
       " ('i was', 12),\n",
       " ('feel like', 12),\n",
       " ('yeah yeah', 12),\n",
       " ('in a', 12),\n",
       " ('to the', 12),\n",
       " ('so i', 12),\n",
       " ('what i', 11),\n",
       " ('if you', 11),\n",
       " ('i need', 11),\n",
       " ('to me', 11),\n",
       " ('you know', 11),\n",
       " ('this shit', 10),\n",
       " ('for real', 10),\n",
       " ('i know', 10),\n",
       " ('all of', 10),\n",
       " ('think i', 10),\n",
       " ('got a', 10),\n",
       " ('if i', 10),\n",
       " ('like a', 10),\n",
       " ('when im', 10),\n",
       " ('and i', 10),\n",
       " ('that shit', 10),\n",
       " ('ive been', 10),\n",
       " ('for me', 10),\n",
       " ('like im', 9),\n",
       " ('uh yeah', 9),\n",
       " ('yeah but', 9),\n",
       " ('all the', 9),\n",
       " ('to be', 9),\n",
       " ('i do', 9),\n",
       " ('be the', 9),\n",
       " ('i am', 9),\n",
       " ('but you', 9)]"
      ]
     },
     "execution_count": 12,
     "metadata": {},
     "output_type": "execute_result"
    }
   ],
   "source": [
    "after_song_freq_ctr_2.most_common(50)"
   ]
  },
  {
   "cell_type": "code",
   "execution_count": 13,
   "metadata": {},
   "outputs": [
    {
     "data": {
      "text/plain": [
       "[('in the', 25),\n",
       " ('in my', 18),\n",
       " ('i got', 17),\n",
       " ('on my', 17),\n",
       " ('i just', 17),\n",
       " ('but i', 15),\n",
       " ('yeah i', 15),\n",
       " ('when i', 15),\n",
       " ('on the', 15),\n",
       " ('that i', 14),\n",
       " ('of the', 14),\n",
       " ('i think', 13),\n",
       " ('i dont', 13),\n",
       " ('im a', 13),\n",
       " ('i cant', 13),\n",
       " ('in a', 12),\n",
       " ('to the', 12),\n",
       " ('me i', 12),\n",
       " ('i was', 12),\n",
       " ('feel like', 12),\n",
       " ('yeah yeah', 12),\n",
       " ('i been', 12),\n",
       " ('so i', 12),\n",
       " ('what i', 11),\n",
       " ('i need', 11),\n",
       " ('if you', 11),\n",
       " ('to me', 11),\n",
       " ('you know', 11),\n",
       " ('i know', 10),\n",
       " ('got a', 10),\n",
       " ('if i', 10),\n",
       " ('this shit', 10),\n",
       " ('for real', 10),\n",
       " ('think i', 10),\n",
       " ('like a', 10),\n",
       " ('all of', 10),\n",
       " ('and i', 10),\n",
       " ('that shit', 10),\n",
       " ('when im', 10),\n",
       " ('for me', 10),\n",
       " ('ive been', 10),\n",
       " ('i do', 9),\n",
       " ('be the', 9),\n",
       " ('all the', 9),\n",
       " ('like im', 9),\n",
       " ('uh yeah', 9),\n",
       " ('yeah but', 9),\n",
       " ('to be', 9),\n",
       " ('but you', 9),\n",
       " ('i am', 9)]"
      ]
     },
     "execution_count": 13,
     "metadata": {},
     "output_type": "execute_result"
    }
   ],
   "source": [
    "inter_ctr_gram_2 = after_common_ctr_2 & after_song_freq_ctr_2\n",
    "inter_ctr_gram_2.most_common(50)"
   ]
  },
  {
   "cell_type": "code",
   "execution_count": 14,
   "metadata": {},
   "outputs": [],
   "source": [
    "after_common_ctr_3 = Counter()\n",
    "after_song_freq_ctr_3 = Counter()\n",
    "after_cleaned_all_3 = get_cleaned_album_all(after_all_lyrics, after_common_ctr_3, after_song_freq_ctr_3, 3)"
   ]
  },
  {
   "cell_type": "code",
   "execution_count": 15,
   "metadata": {},
   "outputs": [
    {
     "data": {
      "text/plain": [
       "[('yeah yeah yeah', 21),\n",
       " ('work until it', 17),\n",
       " ('aint nothing usual', 16),\n",
       " ('i had to', 14),\n",
       " ('until it work', 13),\n",
       " ('i got a', 12),\n",
       " ('i woke up', 12),\n",
       " ('gon put in', 12),\n",
       " ('put in work', 12),\n",
       " ('in work until', 12),\n",
       " ('for a new', 11),\n",
       " ('i think i', 10),\n",
       " ('woke up this', 10),\n",
       " ('im on my', 9),\n",
       " ('i need to', 9),\n",
       " ('usual bout me', 9),\n",
       " ('we gon put', 9),\n",
       " ('it work until', 9),\n",
       " ('i just wanna', 8),\n",
       " ('for real i', 8),\n",
       " ('i love you', 8),\n",
       " ('looking for a', 8),\n",
       " ('up in the', 8),\n",
       " ('the reason that', 8),\n",
       " ('nothing usual bout', 8),\n",
       " ('shades of us', 8),\n",
       " ('i just pulled', 7),\n",
       " ('just pulled up', 7),\n",
       " ('if you gon', 7),\n",
       " ('i dont know', 7),\n",
       " ('ooh ooh ooh', 7),\n",
       " ('you and me', 7),\n",
       " ('im the only', 7),\n",
       " ('the only one', 7),\n",
       " ('look at my', 7),\n",
       " ('they do not', 7),\n",
       " ('reason that they', 7),\n",
       " ('i used to', 7),\n",
       " ('the cameras on', 7),\n",
       " ('no matter how', 7),\n",
       " ('at the ground', 7),\n",
       " ('i do not', 6),\n",
       " ('on my own', 6),\n",
       " ('at my fit', 6),\n",
       " ('life like a', 6),\n",
       " ('that they never', 6),\n",
       " ('in my mind', 6),\n",
       " ('im the motherfuckin', 6),\n",
       " ('the motherfuckin real', 6),\n",
       " ('what i did', 6)]"
      ]
     },
     "execution_count": 15,
     "metadata": {},
     "output_type": "execute_result"
    }
   ],
   "source": [
    "after_common_ctr_3.most_common(50)"
   ]
  },
  {
   "cell_type": "code",
   "execution_count": 16,
   "metadata": {},
   "outputs": [
    {
     "data": {
      "text/plain": [
       "[('i think i', 7),\n",
       " ('i got a', 7),\n",
       " ('yeah yeah yeah', 7),\n",
       " ('i need to', 6),\n",
       " ('for real i', 5),\n",
       " ('i do not', 5),\n",
       " ('i just wanna', 5),\n",
       " ('i love you', 5),\n",
       " ('up in the', 5),\n",
       " ('i had to', 4),\n",
       " ('uh yeah i', 4),\n",
       " ('im on my', 4),\n",
       " ('all of the', 4),\n",
       " ('think i need', 4),\n",
       " ('yeah but i', 4),\n",
       " ('i am not', 4),\n",
       " ('how i feel', 4),\n",
       " ('i dont know', 4),\n",
       " ('all of my', 4),\n",
       " ('i feel like', 4),\n",
       " ('in my mind', 4),\n",
       " ('be the same', 4),\n",
       " ('no matter how', 4),\n",
       " ('i just pulled', 3),\n",
       " ('i wish i', 3),\n",
       " ('feel like im', 3),\n",
       " ('just pulled up', 3),\n",
       " ('i dont wanna', 3),\n",
       " ('i know i', 3),\n",
       " ('wanna be the', 3),\n",
       " ('i did it', 3),\n",
       " ('i was in', 3),\n",
       " ('huh yeah huh', 3),\n",
       " ('they say im', 3),\n",
       " ('me but i', 3),\n",
       " ('i was too', 3),\n",
       " ('i had a', 3),\n",
       " ('in the wrong', 3),\n",
       " ('huh i got', 3),\n",
       " ('the back of', 3),\n",
       " ('when i go', 3),\n",
       " ('i just want', 3),\n",
       " ('it all in', 3),\n",
       " ('i dont want', 3),\n",
       " ('in the back', 3),\n",
       " ('they all wanna', 3),\n",
       " ('but i cant', 3),\n",
       " ('yeah yeah i', 3),\n",
       " ('thats why i', 3),\n",
       " ('the only one', 3)]"
      ]
     },
     "execution_count": 16,
     "metadata": {},
     "output_type": "execute_result"
    }
   ],
   "source": [
    "after_song_freq_ctr_3.most_common(50)"
   ]
  },
  {
   "cell_type": "code",
   "execution_count": 17,
   "metadata": {},
   "outputs": [
    {
     "data": {
      "text/plain": [
       "[('i got a', 7),\n",
       " ('i think i', 7),\n",
       " ('yeah yeah yeah', 7),\n",
       " ('i need to', 6),\n",
       " ('i just wanna', 5),\n",
       " ('for real i', 5),\n",
       " ('i do not', 5),\n",
       " ('i love you', 5),\n",
       " ('up in the', 5),\n",
       " ('im on my', 4),\n",
       " ('i had to', 4),\n",
       " ('uh yeah i', 4),\n",
       " ('yeah but i', 4),\n",
       " ('think i need', 4),\n",
       " ('all of the', 4),\n",
       " ('i am not', 4),\n",
       " ('i dont know', 4),\n",
       " ('how i feel', 4),\n",
       " ('all of my', 4),\n",
       " ('i feel like', 4),\n",
       " ('in my mind', 4),\n",
       " ('be the same', 4),\n",
       " ('no matter how', 4),\n",
       " ('i know i', 3),\n",
       " ('wanna be the', 3),\n",
       " ('i just pulled', 3),\n",
       " ('just pulled up', 3),\n",
       " ('i wish i', 3),\n",
       " ('feel like im', 3),\n",
       " ('i dont wanna', 3),\n",
       " ('i was too', 3),\n",
       " ('i had a', 3),\n",
       " ('i did it', 3),\n",
       " ('they say im', 3),\n",
       " ('me but i', 3),\n",
       " ('i was in', 3),\n",
       " ('in the wrong', 3),\n",
       " ('huh i got', 3),\n",
       " ('huh yeah huh', 3),\n",
       " ('when i go', 3),\n",
       " ('it all in', 3),\n",
       " ('in the back', 3),\n",
       " ('the back of', 3),\n",
       " ('i dont want', 3),\n",
       " ('i just want', 3),\n",
       " ('yeah yeah i', 3),\n",
       " ('they all wanna', 3),\n",
       " ('thats why i', 3),\n",
       " ('but i cant', 3),\n",
       " ('fuck all that', 3)]"
      ]
     },
     "execution_count": 17,
     "metadata": {},
     "output_type": "execute_result"
    }
   ],
   "source": [
    "inter_ctr_gram_3 = after_common_ctr_3 & after_song_freq_ctr_3\n",
    "inter_ctr_gram_3.most_common(50)"
   ]
  },
  {
   "cell_type": "markdown",
   "metadata": {},
   "source": [
    "### Combined Billboard Rap Charts from 2018, 2019, and 2020"
   ]
  },
  {
   "cell_type": "code",
   "execution_count": 18,
   "metadata": {},
   "outputs": [
    {
     "data": {
      "text/plain": [
       "150"
      ]
     },
     "execution_count": 18,
     "metadata": {},
     "output_type": "execute_result"
    }
   ],
   "source": [
    "all_rap_chart_lyrics = list()\n",
    "\n",
    "for song_dict in chart_2018_final:\n",
    "    song_lyrics = song_dict['lyrics']\n",
    "    all_rap_chart_lyrics.append(song_lyrics)\n",
    "    \n",
    "for song_dict in chart_2019_final:\n",
    "    song_lyrics = song_dict['lyrics']\n",
    "    all_rap_chart_lyrics.append(song_lyrics)\n",
    "    \n",
    "for song_dict in chart_2020_final:\n",
    "    song_lyrics = song_dict['lyrics']\n",
    "    all_rap_chart_lyrics.append(song_lyrics)\n",
    "    \n",
    "len(all_rap_chart_lyrics)"
   ]
  },
  {
   "cell_type": "code",
   "execution_count": 19,
   "metadata": {},
   "outputs": [],
   "source": [
    "rap_chart_common_ctr = Counter()\n",
    "rap_chart_song_freq_ctr = Counter()\n",
    "rap_chart_cleaned_all = get_cleaned_album_all(all_rap_chart_lyrics, rap_chart_common_ctr, rap_chart_song_freq_ctr, 1)"
   ]
  },
  {
   "cell_type": "code",
   "execution_count": 20,
   "metadata": {},
   "outputs": [
    {
     "data": {
      "text/plain": [
       "[('i', 3663),\n",
       " ('the', 2919),\n",
       " ('you', 2335),\n",
       " ('a', 2085),\n",
       " ('it', 1473),\n",
       " ('my', 1451),\n",
       " ('me', 1370),\n",
       " ('yeah', 1336),\n",
       " ('and', 1184),\n",
       " ('on', 1163),\n",
       " ('to', 1143),\n",
       " ('in', 1129),\n",
       " ('im', 1108),\n",
       " ('like', 988),\n",
       " ('that', 936),\n",
       " ('with', 794),\n",
       " ('got', 733),\n",
       " ('up', 727),\n",
       " ('she', 617),\n",
       " ('dont', 558),\n",
       " ('for', 547),\n",
       " ('bitch', 538),\n",
       " ('your', 521),\n",
       " ('we', 501),\n",
       " ('get', 499),\n",
       " ('they', 489),\n",
       " ('know', 484),\n",
       " ('this', 464),\n",
       " ('its', 437),\n",
       " ('aint', 436),\n",
       " ('no', 434),\n",
       " ('of', 434),\n",
       " ('all', 430),\n",
       " ('be', 424),\n",
       " ('ayy', 417),\n",
       " ('just', 407),\n",
       " ('go', 402),\n",
       " ('nigga', 401),\n",
       " ('but', 394),\n",
       " ('fuck', 372),\n",
       " ('shit', 368),\n",
       " ('out', 365),\n",
       " ('her', 361),\n",
       " ('down', 342),\n",
       " ('what', 307),\n",
       " ('is', 303),\n",
       " ('now', 278),\n",
       " ('so', 278),\n",
       " ('when', 277),\n",
       " ('cant', 265)]"
      ]
     },
     "execution_count": 20,
     "metadata": {},
     "output_type": "execute_result"
    }
   ],
   "source": [
    "rap_chart_common_ctr.most_common(50)"
   ]
  },
  {
   "cell_type": "code",
   "execution_count": 21,
   "metadata": {},
   "outputs": [
    {
     "data": {
      "text/plain": [
       "[('i', 150),\n",
       " ('the', 149),\n",
       " ('to', 148),\n",
       " ('a', 148),\n",
       " ('my', 147),\n",
       " ('me', 147),\n",
       " ('you', 147),\n",
       " ('im', 144),\n",
       " ('and', 144),\n",
       " ('on', 142),\n",
       " ('in', 141),\n",
       " ('it', 137),\n",
       " ('that', 136),\n",
       " ('dont', 133),\n",
       " ('up', 132),\n",
       " ('got', 130),\n",
       " ('like', 130),\n",
       " ('with', 129),\n",
       " ('yeah', 129),\n",
       " ('know', 118),\n",
       " ('no', 117),\n",
       " ('be', 116),\n",
       " ('all', 115),\n",
       " ('get', 115),\n",
       " ('this', 114),\n",
       " ('but', 114),\n",
       " ('out', 113),\n",
       " ('they', 112),\n",
       " ('of', 112),\n",
       " ('your', 109),\n",
       " ('just', 109),\n",
       " ('its', 108),\n",
       " ('we', 108),\n",
       " ('for', 106),\n",
       " ('when', 104),\n",
       " ('she', 104),\n",
       " ('shit', 103),\n",
       " ('so', 102),\n",
       " ('aint', 102),\n",
       " ('go', 97),\n",
       " ('fuck', 94),\n",
       " ('back', 92),\n",
       " ('is', 91),\n",
       " ('bitch', 90),\n",
       " ('if', 89),\n",
       " ('from', 89),\n",
       " ('make', 87),\n",
       " ('her', 87),\n",
       " ('was', 85),\n",
       " ('do', 85)]"
      ]
     },
     "execution_count": 21,
     "metadata": {},
     "output_type": "execute_result"
    }
   ],
   "source": [
    "rap_chart_song_freq_ctr.most_common(50)"
   ]
  },
  {
   "cell_type": "code",
   "execution_count": 22,
   "metadata": {},
   "outputs": [
    {
     "data": {
      "text/plain": [
       "[('i', 150),\n",
       " ('the', 149),\n",
       " ('a', 148),\n",
       " ('to', 148),\n",
       " ('me', 147),\n",
       " ('you', 147),\n",
       " ('my', 147),\n",
       " ('and', 144),\n",
       " ('im', 144),\n",
       " ('on', 142),\n",
       " ('in', 141),\n",
       " ('it', 137),\n",
       " ('that', 136),\n",
       " ('dont', 133),\n",
       " ('up', 132),\n",
       " ('like', 130),\n",
       " ('got', 130),\n",
       " ('yeah', 129),\n",
       " ('with', 129),\n",
       " ('know', 118),\n",
       " ('no', 117),\n",
       " ('be', 116),\n",
       " ('all', 115),\n",
       " ('get', 115),\n",
       " ('this', 114),\n",
       " ('but', 114),\n",
       " ('out', 113),\n",
       " ('they', 112),\n",
       " ('of', 112),\n",
       " ('your', 109),\n",
       " ('just', 109),\n",
       " ('its', 108),\n",
       " ('we', 108),\n",
       " ('for', 106),\n",
       " ('when', 104),\n",
       " ('she', 104),\n",
       " ('shit', 103),\n",
       " ('so', 102),\n",
       " ('aint', 102),\n",
       " ('go', 97),\n",
       " ('fuck', 94),\n",
       " ('back', 92),\n",
       " ('is', 91),\n",
       " ('bitch', 90),\n",
       " ('if', 89),\n",
       " ('from', 89),\n",
       " ('make', 87),\n",
       " ('her', 87),\n",
       " ('was', 85),\n",
       " ('do', 85)]"
      ]
     },
     "execution_count": 22,
     "metadata": {},
     "output_type": "execute_result"
    }
   ],
   "source": [
    "inter_rap_gram_1 = rap_chart_common_ctr & rap_chart_song_freq_ctr\n",
    "inter_rap_gram_1.most_common(50)"
   ]
  },
  {
   "cell_type": "code",
   "execution_count": 23,
   "metadata": {},
   "outputs": [],
   "source": [
    "rap_chart_common_ctr_2 = Counter()\n",
    "rap_chart_song_freq_ctr_2 = Counter()\n",
    "rap_chart_cleaned_all_2 = get_cleaned_album_all(all_rap_chart_lyrics, rap_chart_common_ctr_2, rap_chart_song_freq_ctr_2, 2)"
   ]
  },
  {
   "cell_type": "code",
   "execution_count": 24,
   "metadata": {},
   "outputs": [
    {
     "data": {
      "text/plain": [
       "[('in the', 419),\n",
       " ('yeah yeah', 359),\n",
       " ('i got', 256),\n",
       " ('with the', 236),\n",
       " ('i dont', 231),\n",
       " ('on the', 211),\n",
       " ('like a', 206),\n",
       " ('on my', 183),\n",
       " ('you know', 166),\n",
       " ('in my', 155),\n",
       " ('and i', 154),\n",
       " ('i know', 151),\n",
       " ('i aint', 144),\n",
       " ('to the', 134),\n",
       " ('a nigga', 129),\n",
       " ('that i', 127),\n",
       " ('it like', 124),\n",
       " ('like i', 124),\n",
       " ('got a', 123),\n",
       " ('walk it', 122),\n",
       " ('im a', 117),\n",
       " ('but i', 116),\n",
       " ('on a', 115),\n",
       " ('with me', 113),\n",
       " ('i just', 109),\n",
       " ('for me', 108),\n",
       " ('yeah i', 102),\n",
       " ('ayy ayy', 102),\n",
       " ('i cant', 95),\n",
       " ('in a', 94),\n",
       " ('talk it', 92),\n",
       " ('a lot', 90),\n",
       " ('i like', 89),\n",
       " ('i was', 89),\n",
       " ('it up', 88),\n",
       " ('i talk', 88),\n",
       " ('when i', 87),\n",
       " ('got the', 86),\n",
       " ('it walk', 84),\n",
       " ('i want', 82),\n",
       " ('pull up', 80),\n",
       " ('it i', 80),\n",
       " ('for the', 78),\n",
       " ('you want', 78),\n",
       " ('i can', 76),\n",
       " ('i get', 75),\n",
       " ('out the', 74),\n",
       " ('me and', 73),\n",
       " ('you down', 72),\n",
       " ('on me', 71)]"
      ]
     },
     "execution_count": 24,
     "metadata": {},
     "output_type": "execute_result"
    }
   ],
   "source": [
    "rap_chart_common_ctr_2.most_common(50)"
   ]
  },
  {
   "cell_type": "code",
   "execution_count": 25,
   "metadata": {},
   "outputs": [
    {
     "data": {
      "text/plain": [
       "[('in the', 113),\n",
       " ('i got', 90),\n",
       " ('on the', 90),\n",
       " ('i dont', 88),\n",
       " ('on my', 74),\n",
       " ('with the', 71),\n",
       " ('you know', 69),\n",
       " ('to the', 68),\n",
       " ('like a', 66),\n",
       " ('in my', 64),\n",
       " ('and i', 61),\n",
       " ('got a', 61),\n",
       " ('i aint', 55),\n",
       " ('yeah i', 54),\n",
       " ('but i', 53),\n",
       " ('i just', 52),\n",
       " ('yeah yeah', 51),\n",
       " ('that i', 51),\n",
       " ('in a', 50),\n",
       " ('a nigga', 50),\n",
       " ('i cant', 49),\n",
       " ('i was', 49),\n",
       " ('when i', 48),\n",
       " ('i know', 48),\n",
       " ('im a', 47),\n",
       " ('on a', 45),\n",
       " ('with a', 43),\n",
       " ('me and', 43),\n",
       " ('got the', 41),\n",
       " ('with me', 40),\n",
       " ('for the', 40),\n",
       " ('if you', 39),\n",
       " ('i can', 38),\n",
       " ('it i', 38),\n",
       " ('me i', 37),\n",
       " ('from the', 37),\n",
       " ('on me', 36),\n",
       " ('if i', 36),\n",
       " ('pull up', 36),\n",
       " ('and im', 34),\n",
       " ('up in', 34),\n",
       " ('i get', 34),\n",
       " ('and you', 33),\n",
       " ('all the', 33),\n",
       " ('when you', 32),\n",
       " ('cause i', 32),\n",
       " ('i had', 32),\n",
       " ('these niggas', 32),\n",
       " ('this shit', 31),\n",
       " ('its a', 30)]"
      ]
     },
     "execution_count": 25,
     "metadata": {},
     "output_type": "execute_result"
    }
   ],
   "source": [
    "rap_chart_song_freq_ctr_2.most_common(50)"
   ]
  },
  {
   "cell_type": "code",
   "execution_count": 26,
   "metadata": {},
   "outputs": [
    {
     "data": {
      "text/plain": [
       "[('in the', 113),\n",
       " ('i got', 90),\n",
       " ('on the', 90),\n",
       " ('i dont', 88),\n",
       " ('on my', 74),\n",
       " ('with the', 71),\n",
       " ('you know', 69),\n",
       " ('to the', 68),\n",
       " ('like a', 66),\n",
       " ('in my', 64),\n",
       " ('and i', 61),\n",
       " ('got a', 61),\n",
       " ('i aint', 55),\n",
       " ('yeah i', 54),\n",
       " ('but i', 53),\n",
       " ('i just', 52),\n",
       " ('yeah yeah', 51),\n",
       " ('that i', 51),\n",
       " ('in a', 50),\n",
       " ('a nigga', 50),\n",
       " ('i cant', 49),\n",
       " ('i was', 49),\n",
       " ('when i', 48),\n",
       " ('i know', 48),\n",
       " ('im a', 47),\n",
       " ('on a', 45),\n",
       " ('with a', 43),\n",
       " ('me and', 43),\n",
       " ('got the', 41),\n",
       " ('with me', 40),\n",
       " ('for the', 40),\n",
       " ('if you', 39),\n",
       " ('i can', 38),\n",
       " ('it i', 38),\n",
       " ('me i', 37),\n",
       " ('from the', 37),\n",
       " ('on me', 36),\n",
       " ('pull up', 36),\n",
       " ('if i', 36),\n",
       " ('and im', 34),\n",
       " ('up in', 34),\n",
       " ('i get', 34),\n",
       " ('and you', 33),\n",
       " ('all the', 33),\n",
       " ('when you', 32),\n",
       " ('cause i', 32),\n",
       " ('these niggas', 32),\n",
       " ('i had', 32),\n",
       " ('this shit', 31),\n",
       " ('its a', 30)]"
      ]
     },
     "execution_count": 26,
     "metadata": {},
     "output_type": "execute_result"
    }
   ],
   "source": [
    "inter_rap_gram_2 = rap_chart_common_ctr_2 & rap_chart_song_freq_ctr_2\n",
    "inter_rap_gram_2.most_common(50)"
   ]
  },
  {
   "cell_type": "code",
   "execution_count": 27,
   "metadata": {},
   "outputs": [],
   "source": [
    "rap_chart_common_ctr_3 = Counter()\n",
    "rap_chart_song_freq_ctr_3 = Counter()\n",
    "rap_chart_cleaned_all_3 = get_cleaned_album_all(all_rap_chart_lyrics, rap_chart_common_ctr_3, rap_chart_song_freq_ctr_3, 3)"
   ]
  },
  {
   "cell_type": "code",
   "execution_count": 28,
   "metadata": {},
   "outputs": [
    {
     "data": {
      "text/plain": [
       "[('yeah yeah yeah', 201),\n",
       " ('it like i', 84),\n",
       " ('it walk it', 84),\n",
       " ('like i talk', 83),\n",
       " ('walk it like', 82),\n",
       " ('i talk it', 82),\n",
       " ('ayy ayy ayy', 65),\n",
       " ('hot hot hot', 51),\n",
       " ('let you down', 44),\n",
       " ('gucci gang gucci', 44),\n",
       " ('gang gucci gang', 44),\n",
       " ('talk it walk', 44),\n",
       " ('you know i', 43),\n",
       " ('on my mind', 43),\n",
       " ('walk it walk', 40),\n",
       " ('a lot how', 40),\n",
       " ('lot how many', 39),\n",
       " ('loco go loco', 37),\n",
       " ('bounce that ass', 35),\n",
       " ('yeah on god', 33),\n",
       " ('woulda gave you', 32),\n",
       " ('go loco go', 32),\n",
       " ('i like it', 31),\n",
       " ('murder on my', 30),\n",
       " ('i said i', 28),\n",
       " ('i got a', 28),\n",
       " ('i got murder', 28),\n",
       " ('got murder on', 28),\n",
       " ('up in the', 27),\n",
       " ('a lot of', 26),\n",
       " ('said i like', 26),\n",
       " ('oh oh oh', 26),\n",
       " ('thats my type', 26),\n",
       " ('i got the', 25),\n",
       " ('yeah yeah i', 25),\n",
       " ('in my bank', 25),\n",
       " ('my bank account', 25),\n",
       " ('down i break', 25),\n",
       " ('i break it', 25),\n",
       " ('with the 44', 25),\n",
       " ('no no no', 24),\n",
       " ('she wanna fuck', 24),\n",
       " ('i dont care', 24),\n",
       " ('break it down', 24),\n",
       " ('walk em down', 24),\n",
       " ('pull up in', 23),\n",
       " ('in the kitchen', 23),\n",
       " ('i had to', 23),\n",
       " ('know how to', 23),\n",
       " ('do anything for', 23)]"
      ]
     },
     "execution_count": 28,
     "metadata": {},
     "output_type": "execute_result"
    }
   ],
   "source": [
    "rap_chart_common_ctr_3.most_common(50)"
   ]
  },
  {
   "cell_type": "code",
   "execution_count": 29,
   "metadata": {},
   "outputs": [
    {
     "data": {
      "text/plain": [
       "[('yeah yeah yeah', 33),\n",
       " ('i got a', 27),\n",
       " ('up in the', 19),\n",
       " ('i had to', 19),\n",
       " ('yeah yeah i', 17),\n",
       " ('i got the', 16),\n",
       " ('im in the', 15),\n",
       " ('i know that', 14),\n",
       " ('a lot of', 13),\n",
       " ('you know i', 13),\n",
       " ('i dont know', 13),\n",
       " ('i pull up', 13),\n",
       " ('i dont want', 12),\n",
       " ('i dont wanna', 11),\n",
       " ('pull up in', 11),\n",
       " ('i dont even', 10),\n",
       " ('i need a', 10),\n",
       " ('on the beat', 10),\n",
       " ('in the back', 10),\n",
       " ('all of my', 10),\n",
       " ('i dont care', 10),\n",
       " ('you know that', 10),\n",
       " ('a bad bitch', 10),\n",
       " ('i know you', 9),\n",
       " ('now i got', 9),\n",
       " ('and i dont', 9),\n",
       " ('you say you', 9),\n",
       " ('you love me', 8),\n",
       " ('pull up on', 8),\n",
       " ('i used to', 8),\n",
       " ('me and my', 8),\n",
       " ('dont fuck with', 8),\n",
       " ('dont know what', 8),\n",
       " ('on the road', 8),\n",
       " ('i love you', 8),\n",
       " ('im in a', 8),\n",
       " ('dont need no', 8),\n",
       " ('got a lot', 8),\n",
       " ('if you want', 8),\n",
       " ('and i know', 8),\n",
       " ('oh oh oh', 8),\n",
       " ('and you know', 7),\n",
       " ('you know im', 7),\n",
       " ('all in my', 7),\n",
       " ('in the club', 7),\n",
       " ('from the back', 7),\n",
       " ('up on the', 7),\n",
       " ('i feel like', 7),\n",
       " ('she got a', 7),\n",
       " ('it like a', 7)]"
      ]
     },
     "execution_count": 29,
     "metadata": {},
     "output_type": "execute_result"
    }
   ],
   "source": [
    "rap_chart_song_freq_ctr_3.most_common(50)"
   ]
  },
  {
   "cell_type": "code",
   "execution_count": 30,
   "metadata": {},
   "outputs": [
    {
     "data": {
      "text/plain": [
       "[('yeah yeah yeah', 33),\n",
       " ('i got a', 27),\n",
       " ('up in the', 19),\n",
       " ('i had to', 19),\n",
       " ('yeah yeah i', 17),\n",
       " ('i got the', 16),\n",
       " ('im in the', 15),\n",
       " ('i know that', 14),\n",
       " ('a lot of', 13),\n",
       " ('you know i', 13),\n",
       " ('i dont know', 13),\n",
       " ('i pull up', 13),\n",
       " ('i dont want', 12),\n",
       " ('i dont wanna', 11),\n",
       " ('pull up in', 11),\n",
       " ('i dont even', 10),\n",
       " ('i need a', 10),\n",
       " ('on the beat', 10),\n",
       " ('in the back', 10),\n",
       " ('all of my', 10),\n",
       " ('i dont care', 10),\n",
       " ('you know that', 10),\n",
       " ('a bad bitch', 10),\n",
       " ('i know you', 9),\n",
       " ('now i got', 9),\n",
       " ('and i dont', 9),\n",
       " ('you say you', 9),\n",
       " ('you love me', 8),\n",
       " ('pull up on', 8),\n",
       " ('i used to', 8),\n",
       " ('me and my', 8),\n",
       " ('dont fuck with', 8),\n",
       " ('dont know what', 8),\n",
       " ('on the road', 8),\n",
       " ('i love you', 8),\n",
       " ('im in a', 8),\n",
       " ('dont need no', 8),\n",
       " ('got a lot', 8),\n",
       " ('if you want', 8),\n",
       " ('and i know', 8),\n",
       " ('oh oh oh', 8),\n",
       " ('and you know', 7),\n",
       " ('all in my', 7),\n",
       " ('you know im', 7),\n",
       " ('in the club', 7),\n",
       " ('from the back', 7),\n",
       " ('up on the', 7),\n",
       " ('i feel like', 7),\n",
       " ('she got a', 7),\n",
       " ('it like a', 7)]"
      ]
     },
     "execution_count": 30,
     "metadata": {},
     "output_type": "execute_result"
    }
   ],
   "source": [
    "inter_rap_gram_3 = rap_chart_common_ctr_3 & rap_chart_song_freq_ctr_3\n",
    "inter_rap_gram_3.most_common(50)"
   ]
  },
  {
   "cell_type": "markdown",
   "metadata": {},
   "source": [
    "---"
   ]
  },
  {
   "cell_type": "markdown",
   "metadata": {},
   "source": [
    "### Intersection Between Quadeca and The Billboard Top Rap Music"
   ]
  },
  {
   "cell_type": "code",
   "execution_count": 31,
   "metadata": {},
   "outputs": [],
   "source": [
    "inter_1 = inter_ctr_gram_1 & inter_rap_gram_1\n",
    "inter_2 = inter_ctr_gram_2 & inter_rap_gram_2\n",
    "inter_3 = inter_ctr_gram_3 & inter_rap_gram_3"
   ]
  },
  {
   "cell_type": "code",
   "execution_count": 32,
   "metadata": {},
   "outputs": [
    {
     "data": {
      "text/plain": [
       "[('i', 30),\n",
       " ('the', 30),\n",
       " ('to', 30),\n",
       " ('and', 30),\n",
       " ('a', 29),\n",
       " ('you', 29),\n",
       " ('it', 29),\n",
       " ('of', 28),\n",
       " ('me', 28),\n",
       " ('in', 27),\n",
       " ('all', 27),\n",
       " ('my', 26),\n",
       " ('im', 26),\n",
       " ('just', 26),\n",
       " ('yeah', 26),\n",
       " ('on', 26),\n",
       " ('when', 26),\n",
       " ('be', 25),\n",
       " ('that', 25),\n",
       " ('but', 25),\n",
       " ('for', 25),\n",
       " ('if', 24),\n",
       " ('like', 24),\n",
       " ('been', 24),\n",
       " ('its', 24),\n",
       " ('never', 24),\n",
       " ('this', 23),\n",
       " ('they', 23),\n",
       " ('so', 23),\n",
       " ('with', 23),\n",
       " ('no', 22),\n",
       " ('up', 22),\n",
       " ('your', 22),\n",
       " ('dont', 22),\n",
       " ('know', 21),\n",
       " ('got', 21),\n",
       " ('at', 21),\n",
       " ('thats', 20),\n",
       " ('do', 20),\n",
       " ('shit', 20),\n",
       " ('uh', 20),\n",
       " ('not', 20),\n",
       " ('now', 20),\n",
       " ('was', 20),\n",
       " ('even', 19),\n",
       " ('say', 19),\n",
       " ('want', 19),\n",
       " ('cant', 19),\n",
       " ('get', 19),\n",
       " ('still', 19)]"
      ]
     },
     "execution_count": 32,
     "metadata": {},
     "output_type": "execute_result"
    }
   ],
   "source": [
    "inter_1.most_common(50)"
   ]
  },
  {
   "cell_type": "code",
   "execution_count": 33,
   "metadata": {},
   "outputs": [
    {
     "data": {
      "text/plain": [
       "[('in the', 25),\n",
       " ('in my', 18),\n",
       " ('i got', 17),\n",
       " ('on my', 17),\n",
       " ('i just', 17),\n",
       " ('but i', 15),\n",
       " ('yeah i', 15),\n",
       " ('when i', 15),\n",
       " ('on the', 15),\n",
       " ('that i', 14),\n",
       " ('of the', 14),\n",
       " ('i dont', 13),\n",
       " ('im a', 13),\n",
       " ('i cant', 13),\n",
       " ('in a', 12),\n",
       " ('to the', 12),\n",
       " ('me i', 12),\n",
       " ('i was', 12),\n",
       " ('feel like', 12),\n",
       " ('yeah yeah', 12),\n",
       " ('i been', 12),\n",
       " ('so i', 12),\n",
       " ('what i', 11),\n",
       " ('i need', 11),\n",
       " ('if you', 11),\n",
       " ('to me', 11),\n",
       " ('you know', 11),\n",
       " ('i know', 10),\n",
       " ('got a', 10),\n",
       " ('if i', 10),\n",
       " ('this shit', 10),\n",
       " ('for real', 10),\n",
       " ('i think', 10),\n",
       " ('like a', 10),\n",
       " ('all of', 10),\n",
       " ('and i', 10),\n",
       " ('that shit', 10),\n",
       " ('when im', 10),\n",
       " ('for me', 10),\n",
       " ('ive been', 10),\n",
       " ('i do', 9),\n",
       " ('be the', 9),\n",
       " ('all the', 9),\n",
       " ('like im', 9),\n",
       " ('to be', 9),\n",
       " ('but you', 9),\n",
       " ('i am', 9),\n",
       " ('with the', 9),\n",
       " ('it all', 9),\n",
       " ('im not', 9)]"
      ]
     },
     "execution_count": 33,
     "metadata": {},
     "output_type": "execute_result"
    }
   ],
   "source": [
    "inter_2.most_common(50)"
   ]
  },
  {
   "cell_type": "code",
   "execution_count": 34,
   "metadata": {},
   "outputs": [
    {
     "data": {
      "text/plain": [
       "[('i got a', 7),\n",
       " ('yeah yeah yeah', 7),\n",
       " ('i just wanna', 5),\n",
       " ('i love you', 5),\n",
       " ('up in the', 5),\n",
       " ('i had to', 4),\n",
       " ('i think i', 4),\n",
       " ('i need to', 4),\n",
       " ('i dont know', 4),\n",
       " ('all of my', 4),\n",
       " ('i feel like', 4),\n",
       " ('i know i', 3),\n",
       " ('wanna be the', 3),\n",
       " ('for real i', 3),\n",
       " ('i wish i', 3),\n",
       " ('feel like im', 3),\n",
       " ('i dont wanna', 3),\n",
       " ('all of the', 3),\n",
       " ('i had a', 3),\n",
       " ('me but i', 3),\n",
       " ('i was in', 3),\n",
       " ('in the back', 3),\n",
       " ('the back of', 3),\n",
       " ('i dont want', 3),\n",
       " ('i just want', 3),\n",
       " ('yeah yeah i', 3),\n",
       " ('thats why i', 3),\n",
       " ('but i cant', 3),\n",
       " ('i know that', 3),\n",
       " ('it in a', 3),\n",
       " ('ooh ooh i', 3),\n",
       " ('i know you', 3),\n",
       " ('a lot of', 3),\n",
       " ('know i got', 2),\n",
       " ('just wanna be', 2),\n",
       " ('just pulled up', 2),\n",
       " ('that i could', 2),\n",
       " ('yeah i was', 2),\n",
       " ('i do not', 2),\n",
       " ('i make a', 2),\n",
       " ('yeah i just', 2),\n",
       " ('on the way', 2),\n",
       " ('think i need', 2),\n",
       " ('got so many', 2),\n",
       " ('yeah i got', 2),\n",
       " ('want me to', 2),\n",
       " ('you got a', 2),\n",
       " ('when i was', 2),\n",
       " ('i did it', 2),\n",
       " ('i am not', 2)]"
      ]
     },
     "execution_count": 34,
     "metadata": {},
     "output_type": "execute_result"
    }
   ],
   "source": [
    "inter_3.most_common(50)"
   ]
  },
  {
   "cell_type": "markdown",
   "metadata": {},
   "source": [
    "### Differences Between the Two Corpuses"
   ]
  },
  {
   "cell_type": "markdown",
   "metadata": {},
   "source": [
    "#### Differences Across 1-Grams from Quadeca's Music Compared to Billboard Rap Music"
   ]
  },
  {
   "cell_type": "code",
   "execution_count": 35,
   "metadata": {},
   "outputs": [
    {
     "data": {
      "text/plain": [
       "2171"
      ]
     },
     "execution_count": 35,
     "metadata": {},
     "output_type": "execute_result"
    }
   ],
   "source": [
    "len(set(after_cleaned_all))"
   ]
  },
  {
   "cell_type": "code",
   "execution_count": 36,
   "metadata": {},
   "outputs": [
    {
     "data": {
      "text/plain": [
       "832"
      ]
     },
     "execution_count": 36,
     "metadata": {},
     "output_type": "execute_result"
    }
   ],
   "source": [
    "quad_not_ms_rap = set(after_cleaned_all) - set(rap_chart_cleaned_all)\n",
    "len(quad_not_ms_rap)"
   ]
  },
  {
   "cell_type": "code",
   "execution_count": 37,
   "metadata": {},
   "outputs": [
    {
     "data": {
      "text/plain": [
       "0.38323353293413176"
      ]
     },
     "execution_count": 37,
     "metadata": {},
     "output_type": "execute_result"
    }
   ],
   "source": [
    "# percent unique\n",
    "len(quad_not_ms_rap) / len(set(after_cleaned_all))"
   ]
  },
  {
   "cell_type": "markdown",
   "metadata": {},
   "source": [
    "#### Differences Across 1-Grams from Billboard Rap Music Compared to Quadeca's Music "
   ]
  },
  {
   "cell_type": "code",
   "execution_count": 38,
   "metadata": {},
   "outputs": [
    {
     "data": {
      "text/plain": [
       "5969"
      ]
     },
     "execution_count": 38,
     "metadata": {},
     "output_type": "execute_result"
    }
   ],
   "source": [
    "len(set(rap_chart_cleaned_all))"
   ]
  },
  {
   "cell_type": "code",
   "execution_count": 39,
   "metadata": {},
   "outputs": [
    {
     "data": {
      "text/plain": [
       "4630"
      ]
     },
     "execution_count": 39,
     "metadata": {},
     "output_type": "execute_result"
    }
   ],
   "source": [
    "ms_rap_not_quad = set(rap_chart_cleaned_all) - set(after_cleaned_all)\n",
    "len(ms_rap_not_quad)"
   ]
  },
  {
   "cell_type": "code",
   "execution_count": 40,
   "metadata": {},
   "outputs": [
    {
     "data": {
      "text/plain": [
       "0.7756743173060814"
      ]
     },
     "execution_count": 40,
     "metadata": {},
     "output_type": "execute_result"
    }
   ],
   "source": [
    "len(ms_rap_not_quad) / len(set(rap_chart_cleaned_all))"
   ]
  },
  {
   "cell_type": "markdown",
   "metadata": {},
   "source": [
    "#### Differences Across 2-Grams from Quadeca's Music Compared to Billboard Rap Music"
   ]
  },
  {
   "cell_type": "code",
   "execution_count": 41,
   "metadata": {},
   "outputs": [
    {
     "data": {
      "text/plain": [
       "8539"
      ]
     },
     "execution_count": 41,
     "metadata": {},
     "output_type": "execute_result"
    }
   ],
   "source": [
    "len(set(after_cleaned_all_2))"
   ]
  },
  {
   "cell_type": "code",
   "execution_count": 42,
   "metadata": {},
   "outputs": [
    {
     "data": {
      "text/plain": [
       "5815"
      ]
     },
     "execution_count": 42,
     "metadata": {},
     "output_type": "execute_result"
    }
   ],
   "source": [
    "quad_not_ms_rap_2 = set(after_cleaned_all_2) - set(rap_chart_cleaned_all_2)\n",
    "len(quad_not_ms_rap_2)"
   ]
  },
  {
   "cell_type": "code",
   "execution_count": 43,
   "metadata": {},
   "outputs": [
    {
     "data": {
      "text/plain": [
       "0.6809930905258227"
      ]
     },
     "execution_count": 43,
     "metadata": {},
     "output_type": "execute_result"
    }
   ],
   "source": [
    "# percent unique\n",
    "len(quad_not_ms_rap_2) / len(set(after_cleaned_all_2))"
   ]
  },
  {
   "cell_type": "markdown",
   "metadata": {},
   "source": [
    "#### Differences Across 2-Grams from Billboard Rap Music Compared to Quadeca's Music "
   ]
  },
  {
   "cell_type": "code",
   "execution_count": 44,
   "metadata": {},
   "outputs": [
    {
     "data": {
      "text/plain": [
       "31685"
      ]
     },
     "execution_count": 44,
     "metadata": {},
     "output_type": "execute_result"
    }
   ],
   "source": [
    "len(set(rap_chart_cleaned_all_2))"
   ]
  },
  {
   "cell_type": "code",
   "execution_count": 45,
   "metadata": {},
   "outputs": [
    {
     "data": {
      "text/plain": [
       "28961"
      ]
     },
     "execution_count": 45,
     "metadata": {},
     "output_type": "execute_result"
    }
   ],
   "source": [
    "ms_rap_not_quad_2 = set(rap_chart_cleaned_all_2) - set(after_cleaned_all_2)\n",
    "len(ms_rap_not_quad_2)"
   ]
  },
  {
   "cell_type": "code",
   "execution_count": 46,
   "metadata": {},
   "outputs": [
    {
     "data": {
      "text/plain": [
       "0.9140287202146126"
      ]
     },
     "execution_count": 46,
     "metadata": {},
     "output_type": "execute_result"
    }
   ],
   "source": [
    "len(ms_rap_not_quad_2) / len(set(rap_chart_cleaned_all_2))"
   ]
  },
  {
   "cell_type": "markdown",
   "metadata": {},
   "source": [
    "#### Differences Across 3-Grams from Quadeca's Music Compared to Billboard Rap Music"
   ]
  },
  {
   "cell_type": "code",
   "execution_count": 47,
   "metadata": {},
   "outputs": [
    {
     "data": {
      "text/plain": [
       "11909"
      ]
     },
     "execution_count": 47,
     "metadata": {},
     "output_type": "execute_result"
    }
   ],
   "source": [
    "len(set(after_cleaned_all_3))"
   ]
  },
  {
   "cell_type": "code",
   "execution_count": 48,
   "metadata": {},
   "outputs": [
    {
     "data": {
      "text/plain": [
       "10882"
      ]
     },
     "execution_count": 48,
     "metadata": {},
     "output_type": "execute_result"
    }
   ],
   "source": [
    "quad_not_ms_rap_3 = set(after_cleaned_all_3) - set(rap_chart_cleaned_all_3)\n",
    "len(quad_not_ms_rap_3)"
   ]
  },
  {
   "cell_type": "code",
   "execution_count": 49,
   "metadata": {},
   "outputs": [
    {
     "data": {
      "text/plain": [
       "0.9137627004786296"
      ]
     },
     "execution_count": 49,
     "metadata": {},
     "output_type": "execute_result"
    }
   ],
   "source": [
    "# percent unique\n",
    "len(quad_not_ms_rap_3) / len(set(after_cleaned_all_3))"
   ]
  },
  {
   "cell_type": "markdown",
   "metadata": {},
   "source": [
    "#### Differences Across 3-Grams from Billboard Rap Music Compared to Quadeca's Music "
   ]
  },
  {
   "cell_type": "code",
   "execution_count": 50,
   "metadata": {},
   "outputs": [
    {
     "data": {
      "text/plain": [
       "50883"
      ]
     },
     "execution_count": 50,
     "metadata": {},
     "output_type": "execute_result"
    }
   ],
   "source": [
    "len(set(rap_chart_cleaned_all_3))"
   ]
  },
  {
   "cell_type": "code",
   "execution_count": 51,
   "metadata": {},
   "outputs": [
    {
     "data": {
      "text/plain": [
       "49856"
      ]
     },
     "execution_count": 51,
     "metadata": {},
     "output_type": "execute_result"
    }
   ],
   "source": [
    "ms_rap_not_quad_3 = set(rap_chart_cleaned_all_3) - set(after_cleaned_all_3)\n",
    "len(ms_rap_not_quad_3)"
   ]
  },
  {
   "cell_type": "code",
   "execution_count": 52,
   "metadata": {},
   "outputs": [
    {
     "data": {
      "text/plain": [
       "0.9798164416406265"
      ]
     },
     "execution_count": 52,
     "metadata": {},
     "output_type": "execute_result"
    }
   ],
   "source": [
    "len(ms_rap_not_quad_3) / len(set(rap_chart_cleaned_all_3))"
   ]
  },
  {
   "cell_type": "markdown",
   "metadata": {},
   "source": [
    "### Overall Observations Between the Two Corpuses"
   ]
  },
  {
   "cell_type": "markdown",
   "metadata": {},
   "source": [
    "Here are some of the notable 1-grams between both Quadeca's corpus and the Billboard Rap Music Corpus:\n",
    "> Quadeca: `i, you, me, all, my, im, your, dont, know`\n",
    "> Billboard Rap Music: `i, me, you, my, im, dont, like`\n",
    "\n",
    ">It seems that the most common 1-grams between the two corpuses are very similar. They seem to be focusing on a 'me versus you' type of theme. I found that the word `i` was used in nearly every song from Quadeca's corpus and was used in every song in the Billboard Rap Music corpus. I think this was expected because rappers tend to talk about themselves a lot in their songs and they tend to compare themselves to other rappers.\n",
    "\n",
    "Here are some of the notable 2-grams between both Quadeca's corpus and the Billboard Rap Music Corpus:\n",
    "> Quadeca: `in the, in my, i got, on my, i just, yeah i, when i, that i, i think, i dont, im a, i cant, and i, i am`\n",
    "> Billboard Rap Music: `in the, i got, i dont, on my, and i, got a, i aint, yeah i, in a, i was, when i, if i`\n",
    "\n",
    ">Again, I noticed the usage of the term `i` within the 2-grams. Once again, the 2-grams between these two corpuses are very similar. A lot of the 2-grams are referring to the rapper and what they're thinking of themselves and what materialistic wealth they have. This can be seen in the 2-grams: `i think, i am, im a, i got`\n",
    "\n",
    "Here are some of the notable 3-grams between both Quadeca's corpus and the Billboard Rap Music Corpus:\n",
    "> Quadeca: `i got a, i think i, i need to, i just wanna, i do not, i love you, im on my, i had to, just pulled up, i dont know`\n",
    "> Billboard Rap Music: `yeah yeah yeah, i got a, i got the, i know that, i dont know, pull up in, i dont know`\n",
    "\n",
    ">Once again, the 3-grams between these two corpuses are similar and they both tend to talk about the rapper themselves. In both corpuses we see the rapper talking about having something over some else (`i got a, i got the`) or arriving in a what I assume would be a fancy car (`just pulled up, pull up in`). In Quadeca's corpus, we see that there are 3-grams that refer to feeling and love in the upper top 25, whereas in the Billboard Rap Music corpus, we don't see 3-grams that refer to feelings and love until the bottom 25 3-grams.\n",
    "\n",
    "Other things that I've noticed where that even though the n-grams were fairly the same across the board, there are still differences in the n-grams that Quadeca uses and that the Billboard Rap Music uses. In fact, there are 832 unique 1-grams that are used by Quadeca that aren't used by Billboard Rap Music artist. When it comes to 2-grams, there are 5,815 unique bigrams that are used by Quadeca that aren't used by Billboard Rap Music artist. Finally, for the 3-grams, there are 10,882 unique trigrams that are used by Quadeca that aren't used by Billboard Rap Music artist."
   ]
  },
  {
   "cell_type": "markdown",
   "metadata": {},
   "source": [
    "### Conclusion"
   ]
  },
  {
   "cell_type": "markdown",
   "metadata": {},
   "source": [
    "After looking through the intersections of the intersections of the Counters, as well as the set difference between the two corpuses, I found that even though Quadeca's most common 1-/2-/3-grams are very similar to the Billboard Rap Music 1-/2-/3-grams, there are still quite a lot of unique tokens, bigrams, and trigrams that Quadeca uses that aren't found in the Billboard Rap Music corpus. In the case of 1-grams, Quadeca has 38.32% unique tokens. In the case of 2-grams, Quadeca has 68.10% unique bigrams. In the case of 3-grams, Quadeca has 91.38% unique trigrams. Although the 1-grams have a fairly low unique percentage, there are only so many words you can use that make sense in a rap. However, with the bigrams and trigrams having 68.10% uniqueness and 91.38% uniqueness respectively, I think it is safe to say that Quadeca's lyrics are fairly different from the lyrics of the Billboard Rap Music. "
   ]
  },
  {
   "cell_type": "code",
   "execution_count": 53,
   "metadata": {},
   "outputs": [
    {
     "name": "stdout",
     "output_type": "stream",
     "text": [
      "Stored 'after_all_lyrics' (list)\n",
      "Stored 'all_rap_chart_lyrics' (list)\n"
     ]
    }
   ],
   "source": [
    "# store variables for future use; these represent all the lyrics for the after albums and all the lyrics for the charts\n",
    "%store after_all_lyrics\n",
    "%store all_rap_chart_lyrics"
   ]
  },
  {
   "cell_type": "code",
   "execution_count": null,
   "metadata": {},
   "outputs": [],
   "source": []
  }
 ],
 "metadata": {
  "kernelspec": {
   "display_name": "Python 3",
   "language": "python",
   "name": "python3"
  },
  "language_info": {
   "codemirror_mode": {
    "name": "ipython",
    "version": 3
   },
   "file_extension": ".py",
   "mimetype": "text/x-python",
   "name": "python",
   "nbconvert_exporter": "python",
   "pygments_lexer": "ipython3",
   "version": "3.7.3"
  }
 },
 "nbformat": 4,
 "nbformat_minor": 2
}

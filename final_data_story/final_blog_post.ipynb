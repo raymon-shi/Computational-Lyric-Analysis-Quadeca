{
 "cells": [
  {
   "cell_type": "markdown",
   "metadata": {},
   "source": [
    "# Quadeca - From YouTube Rapper to Potential Mainstream Artist\n",
    "## *An Analysis on Quadeca's Music Before and After his Sensational KSI Diss Track 'Insecure'*"
   ]
  },
  {
   "cell_type": "markdown",
   "metadata": {},
   "source": [
    "<img src=\"images/quadeca_profile_picture.jpg\" width=400 height=100>"
   ]
  },
  {
   "cell_type": "markdown",
   "metadata": {},
   "source": [
    "### The Lore"
   ]
  },
  {
   "cell_type": "markdown",
   "metadata": {},
   "source": [
    "2018 was one of the most interesting years on YouTube. It was known as the year of the diss tracks, a trend popularized by a YouTuber named RiceGum. During this year, if you had conflict with another YouTuber, instead of rationally trying to settle the issue behind closed doors, people turned to writing and producing full-on diss tracks and music videos to attack other YouTubers.\n",
    "\n",
    "One particular incident that I would like to focus on would be the battles between KSI and Quadeca. While on a podcast, famous gaming YouTuber turned musician KSI decided to declare himself as the best rapper on the platform. When his friends suggested Quadeca as another noteworthy rapper within the community, KSI simply blew him off, said his music was trash, and said, “...stay in your lane until you get good enough.” A few days later, Quadeca posted a video reacting to the podcast and the criticism directed towards him from KSI. In his response, he strongly disagrees with everything that KSI said and was in disbelief that KSI thinks so highly of himself. Following the theme of 2018 YouTube, towards the end of the video Quadeca hinted at a diss track directed towards KSI.\n",
    "\n",
    "*What happened next, nobody saw coming….*\n",
    "\n",
    "On November 23, 2018, Quadeca dropped the music video to his diss track titled, Quadeca - Insecure (KSI Diss Track) Official Video. In his diss track, he mentioned topics like how KSI’s music was so bad it was used as a torture device, how KSI’s ego was insanely inflated and that he was surrounded by yes-men (his friends), how KSI doesn’t write his own music, how KSI may have had an abortion, and how KSI should retire from his music career and return to being a gamer. The music video itself was sensational and insanely garnered several millions of views when it was first released. During the time, a lot of people from the community reacted to the diss track and the general consensus was that Quadeca’s was legit and that he was winning the feud. KSI did respond to this diss track with a diss track of his own, however Quadeca did not send a second response. The feud would settle down and the parties would actually reconcile a year later.\n",
    "\n",
    "While the feud between Quadeca and KSI may have settled, the effects of Insecure were everlasting. To this day, the diss track has over 34.5 million views on YouTube and is Quadeca’s most viewed video of all time.\n",
    "\n",
    "Insecure helped introduce Quadeca to a larger audience, most of whom have never heard of his name before. In fact, it was during this time that I discovered Quadeca myself. I was pleasantly surprised by his word-play, fast flows, and ability to create a catchy song. I was surprised that all of this was coming from a so-called “YouTube Rapper,” a label that was given to rappers who started and gained most of their following on YouTube. The label was used as a segregation between a “fake” rapper and a more legit mainstream rapper.\n",
    "\n",
    "Ever since Insecure, I’ve been following Quadeca’s musical journey.\n",
    "\n",
    "I saw potential and I wanted him to succeed. Not only is he talented, but he serves as proof that YouTube rappers/artists are just as legit as any other artist with a label and they should be taken seriously. \n"
   ]
  },
  {
   "cell_type": "markdown",
   "metadata": {},
   "source": [
    "### Guiding Question"
   ]
  },
  {
   "cell_type": "markdown",
   "metadata": {},
   "source": [
    "While *Insecure* was unquestionably one of the most important events in Quadeca’s musical career, it was not the first time that he released original music. In fact, he had released four full albums (over 40 songs) before his YouTube diss track and two full albums (over 30 songs) after his YouTube diss track. \n",
    "\n",
    "This blog post will explore the following question:\n",
    "* Did Quadeca’s musical themes and musical style change from the period before *Insecure* compared to the period after Insecure.\n",
    "* If Quadeca’s music did change, did the success of *Insecure* influence Quadeca to make music that reflected mainstream musical themes and styles?"
   ]
  },
  {
   "cell_type": "markdown",
   "metadata": {},
   "source": [
    "# Setup"
   ]
  },
  {
   "cell_type": "code",
   "execution_count": 3,
   "metadata": {},
   "outputs": [],
   "source": [
    "# import libraries here"
   ]
  },
  {
   "cell_type": "code",
   "execution_count": 4,
   "metadata": {},
   "outputs": [],
   "source": [
    "# import other notebooks here"
   ]
  },
  {
   "cell_type": "code",
   "execution_count": 5,
   "metadata": {},
   "outputs": [],
   "source": [
    "# import variables here"
   ]
  },
  {
   "cell_type": "markdown",
   "metadata": {},
   "source": [
    "# Part 0: Building and Describing the Corpus"
   ]
  },
  {
   "cell_type": "markdown",
   "metadata": {},
   "source": [
    "# Part 1a: Word Frequency and N-Gram Frequency Lists "
   ]
  },
  {
   "cell_type": "markdown",
   "metadata": {},
   "source": [
    "# Part 1b: KWIC "
   ]
  },
  {
   "cell_type": "markdown",
   "metadata": {},
   "source": [
    "# Part 1c: Keyness Analysis"
   ]
  },
  {
   "cell_type": "markdown",
   "metadata": {},
   "source": [
    "# Part 1d: Sentiment Analysis"
   ]
  },
  {
   "cell_type": "markdown",
   "metadata": {},
   "source": [
    "# Part 2a: Word Frequency and N-Gram Frequency Lists"
   ]
  },
  {
   "cell_type": "markdown",
   "metadata": {},
   "source": [
    "# Part 2b: Keyness Analysis"
   ]
  },
  {
   "cell_type": "markdown",
   "metadata": {},
   "source": [
    "# Part 2c: Sentiment Analysis"
   ]
  },
  {
   "cell_type": "markdown",
   "metadata": {},
   "source": []
  },
  {
   "cell_type": "code",
   "execution_count": null,
   "metadata": {},
   "outputs": [],
   "source": []
  }
 ],
 "metadata": {
  "kernelspec": {
   "display_name": "Python 3",
   "language": "python",
   "name": "python3"
  },
  "language_info": {
   "codemirror_mode": {
    "name": "ipython",
    "version": 3
   },
   "file_extension": ".py",
   "mimetype": "text/x-python",
   "name": "python",
   "nbconvert_exporter": "python",
   "pygments_lexer": "ipython3",
   "version": "3.7.3"
  }
 },
 "nbformat": 4,
 "nbformat_minor": 2
}

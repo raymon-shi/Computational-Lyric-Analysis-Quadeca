{
 "cells": [
  {
   "cell_type": "markdown",
   "metadata": {},
   "source": [
    "# Quadeca - From YouTube Rapper to Potential Mainstream Artist\n",
    "## *An Analysis on Quadeca's Music Before and After his Sensational KSI Diss Track 'Insecure'*"
   ]
  },
  {
   "cell_type": "markdown",
   "metadata": {},
   "source": [
    "Project by Raymon Shi <br>\n",
    "COMM313 - Computational Text Analysis <br>\n",
    "Final Project <br>"
   ]
  },
  {
   "cell_type": "markdown",
   "metadata": {},
   "source": [
    "<img src=\"images/quadeca_profile_picture.jpg\" width=400 height=100>"
   ]
  },
  {
   "cell_type": "markdown",
   "metadata": {},
   "source": [
    "## The Lore"
   ]
  },
  {
   "cell_type": "markdown",
   "metadata": {},
   "source": [
    "2018 was one of the most interesting years on YouTube. It was known as the year of the diss tracks, a trend popularized by a YouTuber named RiceGum. During this year, if you had conflict with another YouTuber, instead of rationally trying to settle the issue behind closed doors, people turned to writing and producing full-on diss tracks and music videos to attack other YouTubers.\n",
    "\n",
    "One particular incident that I would like to focus on would be the battles between KSI and Quadeca. While on a podcast, famous gaming YouTuber turned musician KSI decided to declare himself as the best rapper on the platform. When his friends suggested Quadeca as another noteworthy rapper within the community, KSI simply blew him off, said his music was trash, and said, “...stay in your lane until you get good enough.” A few days later, Quadeca posted a video reacting to the podcast and the criticism directed towards him from KSI. In his response, he strongly disagrees with everything that KSI said and was in disbelief that KSI thinks so highly of himself. Following the theme of 2018 YouTube, towards the end of the video Quadeca hinted at a diss track directed towards KSI.\n",
    "\n",
    "*What happened next, nobody saw coming….*\n",
    "\n",
    "On November 23, 2018, Quadeca dropped the music video to his diss track titled, Quadeca - Insecure (KSI Diss Track) Official Video. In his diss track, he mentioned topics like how KSI’s music was so bad it was used as a torture device, how KSI’s ego was insanely inflated and that he was surrounded by yes-men (his friends), how KSI doesn’t write his own music, how KSI may have had an abortion, and how KSI should retire from his music career and return to being a gamer. The music video itself was sensational and insanely garnered several millions of views when it was first released. During the time, a lot of people from the community reacted to the diss track and the general consensus was that Quadeca’s was legit and that he was winning the feud. KSI did respond to this diss track with a diss track of his own, however Quadeca did not send a second response. The feud would settle down and the parties would actually reconcile a year later.\n",
    "\n",
    "While the feud between Quadeca and KSI may have settled, the effects of Insecure were everlasting. To this day, the diss track has over 34.5 million views on YouTube and is Quadeca’s most viewed video of all time.\n",
    "\n",
    "Insecure helped introduce Quadeca to a larger audience, most of whom have never heard of his name before. In fact, it was during this time that I discovered Quadeca myself. I was pleasantly surprised by his word-play, fast flows, and ability to create a catchy song. I was surprised that all of this was coming from a so-called “YouTube Rapper,” a label that was given to rappers who started and gained most of their following on YouTube. The label was used as a segregation between a “fake” rapper and a more legit mainstream rapper.\n",
    "\n",
    "Ever since Insecure, I’ve been following Quadeca’s musical journey.\n",
    "\n",
    "I saw potential and I wanted him to succeed. Not only is he talented, but he serves as proof that YouTube rappers/artists are just as legit as any other artist with a label and they should be taken seriously. \n"
   ]
  },
  {
   "cell_type": "markdown",
   "metadata": {},
   "source": [
    "## Guiding Question"
   ]
  },
  {
   "cell_type": "markdown",
   "metadata": {},
   "source": [
    "While *Insecure* was unquestionably one of the most important events in Quadeca’s musical career, it was not the first time that he released original music. In fact, he had released four full albums (54 songs) before his YouTube diss track and two full albums (31 songs) after his YouTube diss track. \n",
    "\n",
    "This blog post will explore the following question:\n",
    "* Did Quadeca’s musical themes and musical style change from the period before *Insecure* compared to the period after Insecure.\n",
    "* If Quadeca’s music did change, did the success of *Insecure* influence Quadeca to make music that reflected mainstream musical themes and styles?"
   ]
  },
  {
   "cell_type": "markdown",
   "metadata": {},
   "source": [
    "---"
   ]
  },
  {
   "cell_type": "markdown",
   "metadata": {},
   "source": [
    "# Part 0: Building and Describing the Corpus"
   ]
  },
  {
   "cell_type": "markdown",
   "metadata": {},
   "source": [
    "## Building the Corpus\n",
    "The first step in the research is to build the corpus. The corpus will be built from the song lyrics of all the albums that Quadeca has released up to date (May 1, 2021). I will be using the LyricsGenius API to scrape the song lyrics from the well-known lyrics website called Genius.com "
   ]
  },
  {
   "cell_type": "markdown",
   "metadata": {},
   "source": [
    "### Creating the Data Folders\n",
    "I will first check to see if the data directory exists. If not, then I will create the data folder system. There will be three folders within the data folder. The first folder is called `before_insecure_albs` and will store the json objects of all the albums that Quadeca released before the Insecure diss track. The second folder is called `after_insecure_albs` and will store the json objects of all the albums that Quadeca released after the Insecure diss track. The final folder is called `mainstream_rap_bbt50` and will store the json objects of the Billboard Hot Rap Top 50 songs for the years 2018, 2019, and 2020."
   ]
  },
  {
   "cell_type": "markdown",
   "metadata": {},
   "source": [
    "<img src=\"images/new_1.PNG\"/>"
   ]
  },
  {
   "cell_type": "markdown",
   "metadata": {},
   "source": [
    "### Loading the Data into the Data Folders\n",
    "After successfully creating the data folders, I will then use the LyricsGenius API to search up each of Quadeca's album, create a json object representation of the album, and place the album json object in the respective folder. There will be a total of four album json objects loaded into the `before_insecure_albs`, which represents the four albums: `Work in Progress (2015), Nostalgia for the Now (2016), Bad Internet Rapper (2017), and Out of Order (2017).` There will be a total of two album json objects loaded into the `after_insecure_albs`, which represents the two albums: `Voice Memos (2019) and From Me To You (2021).` Finally, there will be a total of three chart json objects loaded into the `mainstream_rap_bbt50`, which represents the three Billboard Hot Rap Top 50 charts for 2018, 2019, and 2020."
   ]
  },
  {
   "cell_type": "markdown",
   "metadata": {},
   "source": [
    "#### Creating the JSON files"
   ]
  },
  {
   "cell_type": "markdown",
   "metadata": {},
   "source": [
    "<img src=\"images/new_2.PNG\"/>"
   ]
  },
  {
   "cell_type": "markdown",
   "metadata": {},
   "source": [
    "<img src=\"images/new_3.PNG\"/>"
   ]
  },
  {
   "cell_type": "markdown",
   "metadata": {},
   "source": [
    "#### Searching and Placing Songs into Album JSONs and Chart JSONs"
   ]
  },
  {
   "cell_type": "markdown",
   "metadata": {},
   "source": [
    "<img src=\"images/new_4.PNG\"/>"
   ]
  },
  {
   "cell_type": "markdown",
   "metadata": {},
   "source": [
    "<img src=\"images/new_5.PNG\"/>"
   ]
  },
  {
   "cell_type": "markdown",
   "metadata": {},
   "source": [
    "<img src=\"images/new_6.PNG\"/>"
   ]
  },
  {
   "cell_type": "markdown",
   "metadata": {},
   "source": [
    "<img src=\"images/new_7.PNG\"/>"
   ]
  },
  {
   "cell_type": "markdown",
   "metadata": {},
   "source": [
    "<img src=\"images/new_9.PNG\"/>"
   ]
  },
  {
   "cell_type": "markdown",
   "metadata": {},
   "source": [
    "<img src=\"images/new_11.PNG\"/>"
   ]
  },
  {
   "cell_type": "markdown",
   "metadata": {},
   "source": [
    "## Describing the Corpus"
   ]
  },
  {
   "cell_type": "markdown",
   "metadata": {},
   "source": [
    "<img src=\"images/before_albums.png\"/>"
   ]
  },
  {
   "cell_type": "markdown",
   "metadata": {},
   "source": [
    "### Describing the Albums Before the Insecure Diss Track\n",
    "As mentioned before, there are a total of four albums that Quadeca released during the time period before the Insecure diss track. Those albums are called: `Work in Progress (15 songs), Nostalgia for the Now (15 songs), Bad Internet Rapper (12 songs), and Out of Order (12 songs).` This makes for a total of 54 songs released before the Insecure diss track."
   ]
  },
  {
   "cell_type": "markdown",
   "metadata": {},
   "source": [
    "<img src=\"images/4.PNG\"/>"
   ]
  },
  {
   "cell_type": "markdown",
   "metadata": {},
   "source": [
    "<img src=\"images/after_albums_final.png\"/>"
   ]
  },
  {
   "cell_type": "markdown",
   "metadata": {},
   "source": [
    "### Describing the Albums After the Insecure Diss Track\n",
    "As mentioned before, there are a total of two albums that Quadeca released during the time period after the Insecure diss track. Those albums are called: `Voice Memos (13 songs) and From Me To You (18) songs.` This makes for a total of 31 songs released after the Insecure diss track."
   ]
  },
  {
   "cell_type": "markdown",
   "metadata": {},
   "source": [
    "<img src=\"images/5.PNG\"/>"
   ]
  },
  {
   "cell_type": "markdown",
   "metadata": {},
   "source": [
    "<img src=\"images/hot_rap_chart.PNG\"/>"
   ]
  },
  {
   "cell_type": "markdown",
   "metadata": {},
   "source": [
    "### Describing the Billboard Hot Rap Top 50 Songs\n",
    "There are a total of three Billboard Hot Rap Top 50 songs charts that I am interested in looking into. They are the Billboard Hot Rap Top 50 for 2018, Billboard Hot Rap Top 50 for 2019, and Billboard Hot Rap Top 50. Each chart has 50 songs, making this corpus a size of 150 songs. \n",
    "\n",
    "I am interested in looking at these years specifically because these are the years that followed the release of the Insecure diss track. As my second question states, I want to see if the success of the Insecure diss track influenced Quadeca's later albums to sound more like mainstream music."
   ]
  },
  {
   "cell_type": "markdown",
   "metadata": {},
   "source": [
    "<img src=\"images/new_8.PNG\"/>"
   ]
  },
  {
   "cell_type": "markdown",
   "metadata": {},
   "source": [
    "<img src=\"images/new_10.PNG\"/>"
   ]
  },
  {
   "cell_type": "markdown",
   "metadata": {},
   "source": [
    "<img src=\"images/new_12.PNG\"/>"
   ]
  },
  {
   "cell_type": "markdown",
   "metadata": {},
   "source": [
    "---"
   ]
  },
  {
   "cell_type": "markdown",
   "metadata": {},
   "source": [
    "# Part 1a: Word Frequency and N-Gram Frequency Lists \n",
    "The next step will be to conduct a word frequency and n-gram frequency lists analysis. By doing this analysis, I will be able to see what are some of the frequently used words and short phrases that are repeated within the corpus. This will give me a slight idea of the possible topics that Quadeca could be rapping about within in albums.\n",
    "\n",
    "Note that all 1-gram list will be cleaned of stopwords before looking for the most common."
   ]
  },
  {
   "cell_type": "markdown",
   "metadata": {},
   "source": [
    "## The Process\n",
    "Here is how the word frequency and n-gram frequency lists works. First, we create a list where each index will store an individual song from the album. I will iterate through the album json object and grab the lyrics from each song and place them into each index of the list. Then I will call the `get_cleaned_album_all()` function that takes in the album json object, a token counter, a song frequency counter, and the n-gram number that I want. This function will update both the regular token counter and the song frequency counter, and return the counters with their respective n-grams and frequencies. From there, I will simply call to display the n-grams that I want to analyze."
   ]
  },
  {
   "cell_type": "markdown",
   "metadata": {},
   "source": [
    "<img src=\"images/the_process.PNG\"/>"
   ]
  },
  {
   "cell_type": "markdown",
   "metadata": {},
   "source": [
    "<p>\n",
    "<img src=\"images/def_get_cleaned_song_all().PNG\"/>\n",
    "</p>"
   ]
  },
  {
   "cell_type": "markdown",
   "metadata": {},
   "source": [
    "## Albums Before the Insecure Diss Track"
   ]
  },
  {
   "cell_type": "markdown",
   "metadata": {},
   "source": [
    "### Work in Progress"
   ]
  },
  {
   "cell_type": "markdown",
   "metadata": {},
   "source": [
    "#### Most Common 1-Grams/2-Grams/3-Grams"
   ]
  },
  {
   "cell_type": "markdown",
   "metadata": {},
   "source": [
    "<img align=\"left\" src=\"images/b_aone_common_grams.png\"/>"
   ]
  },
  {
   "cell_type": "markdown",
   "metadata": {},
   "source": [
    "#### Most Popular 1-Grams/2-Grams/3-Grams Across Multiple Songs in the Album"
   ]
  },
  {
   "cell_type": "markdown",
   "metadata": {},
   "source": [
    "<img align=\"left\" src=\"images/b_aone_popular_grams.png\"/>"
   ]
  },
  {
   "cell_type": "markdown",
   "metadata": {},
   "source": [
    "#### Analysis for Work in Progress\n",
    "Here are some of the notable n-grams that I found while looking through all the lists:\n",
    ">* 1-Grams: time, life, people, livin, feelin, sometimes, game, lookin, keep, want, somethin, makin, gettin, said\n",
    ">* 2-Grams: dont know, my own, my life, tryna find\n",
    ">* 3-Grams: i dont know, lost in my, my thoughts and, im just tryna, to get better\n",
    "\n",
    ">It appears that on the Work in Progress (2015) album, Quadeca has songs that talk about how he feels lost in his life and has a lot of clouded thoughts. It seems like he is searching for something, yet he doesn't know what he wants in his life. Additionally, there are references to him wanting to get better. This can either be interpretted as wanting to get mentally and get rid of these thoughts or to get better at his craft, which would be his rapping ability."
   ]
  },
  {
   "cell_type": "markdown",
   "metadata": {},
   "source": [
    "### Nostalgia for the Now"
   ]
  },
  {
   "cell_type": "markdown",
   "metadata": {},
   "source": [
    "#### Most Common 1-Grams/2-Grams/3-Grams"
   ]
  },
  {
   "cell_type": "markdown",
   "metadata": {},
   "source": [
    "<img align=\"left\" src=\"images/b_atwo_common_grams.png\"/>"
   ]
  },
  {
   "cell_type": "markdown",
   "metadata": {},
   "source": [
    "#### Most Popular 1-Grams/2-Grams/3-Grams Across Multiple Songs in the Album"
   ]
  },
  {
   "cell_type": "markdown",
   "metadata": {},
   "source": [
    "<img align=\"left\" src=\"images/b_atwo_popular_grams.png\"/>"
   ]
  },
  {
   "cell_type": "markdown",
   "metadata": {},
   "source": [
    "#### Analysis for Nostalgia for the Now\n",
    "Here are the notable n-grams that I found while looking through all the lists:\n",
    ">* 1-Grams: people, say, time, life, game, livin, love, fuckin, please, give\n",
    ">* 2-Grams: ive been, been feeling, feeling like, civil war, my mind, the game, the same, dont know\n",
    ">* 3-Grams: been feeling like, need a change, were just tryna, find the great, the great escape, i dont know, people they all, lookin at me\n",
    "\n",
    ">It appears that on the Nostalgia for the Now (2016) album, Quadeca has songs that talk about similar topics to his first project. Once again, we see words like: time, life, game, people. Quadeca seems to feel stuck in limbo and does not like his current situation/state of mind. There appears to be some internal conflict with the frequent occurences of the words like 'my mind' and 'civil war'. It seems like Quadeca wants a change in his life and wants to escape to somewhere happier than his current situation.\n",
    "\n",
    ">Something different in this album is the usage of the word 'love' across 7 different songs. This usage could be interpreted as Quadeca talking about a personal relationship with a significant other, Quadeca expressing his love for \"the game\", or Quadeca expressing the love from his fans. "
   ]
  },
  {
   "cell_type": "markdown",
   "metadata": {},
   "source": [
    "### Bad Internet Rapper"
   ]
  },
  {
   "cell_type": "markdown",
   "metadata": {},
   "source": [
    "#### Most Common 1-Grams/2-Grams/3-Grams"
   ]
  },
  {
   "cell_type": "markdown",
   "metadata": {},
   "source": [
    "<img align=\"left\" src=\"images/b_athree_common_grams.png\"/>"
   ]
  },
  {
   "cell_type": "markdown",
   "metadata": {},
   "source": [
    "#### Most Popular 1-Grams/2-Grams/3-Grams Across Multiple Songs in the Album"
   ]
  },
  {
   "cell_type": "markdown",
   "metadata": {},
   "source": [
    "<img align=\"left\" src=\"images/b_athree_popular_grams.png\"/>"
   ]
  },
  {
   "cell_type": "markdown",
   "metadata": {},
   "source": [
    "#### Analysis for Bad Internet Rapper\n",
    "Here are the notable n-grams that I found while going through all the lists:\n",
    ">* 1-Grams: love, want, pray, play, guess, seen, away, happens, please, time, never, change\n",
    ">* 2-Grams: ill pray, let the, the wind, wind blow, bad year, what happens, trying to\n",
    ">* 3-Grams: let the wind, the wind blow, 2016 was a, a bad year, sell my soul, what happens when, do this shit, way im growin, i am off, am off the, off the script\n",
    "\n",
    ">It appears that on the Bad Internet Rapper (2017) album, Quadeca has songs that talk about similar topics to his previous two projects. Like with his previous projects, it seems like Quadeca is once again reflecting and wanting change. Other commonly used phrases suggest that Quadeca may have finally accepted who he is, not care as much about the opinions of others, and focus more on himself and his music. "
   ]
  },
  {
   "cell_type": "markdown",
   "metadata": {},
   "source": [
    "### Out of Order"
   ]
  },
  {
   "cell_type": "markdown",
   "metadata": {},
   "source": [
    "#### Most Common 1-Grams/2-Grams/3-Grams"
   ]
  },
  {
   "cell_type": "markdown",
   "metadata": {},
   "source": [
    "<img align=\"left\" src=\"images/b_afour_common_grams.png\"/>"
   ]
  },
  {
   "cell_type": "markdown",
   "metadata": {},
   "source": [
    "#### Most Popular 1-Grams/2-Grams/3-Grams Across Multiple Songs in the Album"
   ]
  },
  {
   "cell_type": "markdown",
   "metadata": {},
   "source": [
    "<img align=\"left\" src=\"images/b_afour_popular_grams.png\"/>"
   ]
  },
  {
   "cell_type": "markdown",
   "metadata": {},
   "source": [
    "#### Analysis for Out of Order\n",
    "Here are the notable n-grams that I found while going through all the lists:\n",
    ">* 1-Grams: life, rappers, speak, never, wanna, love, youre\n",
    ">* 2-Grams: i dont, dont wanna, these rappers\n",
    ">* 3-Grams: i dont wanna, wanna speak again, dont wanna hear, who woulda thought, about this shit, you dont understand, make these rappers, these rappers kill, rappers kill themselves, more at stake\n",
    "\n",
    ">It appears in the Out of Order (2017) album, Quadeca seems to be more aggressive than he has been in his previous projects. It seems like Quadeca has reached a new level of skill, confidence, and popularity that he always dreamed of. Additionally, as he gets better and more popular, he realizes that there is more pressure on him to maintain and improve his skills. Quadeca also seems to be targeting other rappers, making the claim that he’s going to make them want to commit suicide. \n",
    "\n",
    ">There also seems to be songs talking about love, a personal relationship, or a potential breakup. ‘Love’ was mentioned in 6 songs on the album, and judging from the common phrases, it seems like something happened to Quadeca and his significant other, where he does not want to speak or hear from her ever again. Language this strong would suggest that the relationship ended on a sour note and that maybe his ex-girlfriend cheated on him."
   ]
  },
  {
   "cell_type": "markdown",
   "metadata": {},
   "source": [
    "### Overall Observations for Albums Before the Insecure Diss Track\n",
    "After analyzing all of the n-gram frequency lists from all the albums, here are the following observations that I've made:\n",
    "\n",
    ">From all the Albums Before the Insecure Diss Track, some of the topics that Quadeca raps about are on depression, proving himself as a talented rapper, and love/a relationship. \n",
    "\n",
    ">On both Work in Progress (2015) and Nostalgia for the Now (2016), there are common phrases that refer to Quadeca feel lost in his thoughts and unsatisfied with here he was currently at during the time. Starting from his Nostalgia for the Now (2016) album, the topic of 'love' starts to be more prevalent as it starts to appear as a frequent 1-gram on multiple songs in multiple albums."
   ]
  },
  {
   "cell_type": "markdown",
   "metadata": {},
   "source": [
    "## Albums After the Insecure Diss Track"
   ]
  },
  {
   "cell_type": "markdown",
   "metadata": {},
   "source": [
    "### Voice Memos"
   ]
  },
  {
   "cell_type": "markdown",
   "metadata": {},
   "source": [
    "#### Most Common 1-Grams/2-Grams/3-Grams"
   ]
  },
  {
   "cell_type": "markdown",
   "metadata": {},
   "source": [
    "<img align=\"left\" src=\"images/a_aone_common_grams.png\"/>"
   ]
  },
  {
   "cell_type": "markdown",
   "metadata": {},
   "source": [
    "#### Most Popular 1-Grams/2-Grams/3-Grams Across Multiple Songs in the Album"
   ]
  },
  {
   "cell_type": "markdown",
   "metadata": {},
   "source": [
    "<img align=\"left\" src=\"images/a_aone_popular_grams.png\"/>"
   ]
  },
  {
   "cell_type": "markdown",
   "metadata": {},
   "source": [
    "#### Analysis for Voice Memos\n",
    "Here are the notable n-grams that I found while going through all the lists:\n",
    ">* 1-Grams: real, life, feel, love, need, tell, back, better\n",
    ">* 2-Grams: aint nothing, nothing usual, feel like, these days\n",
    ">* 3-Grams: im the motherfuckin, the motherfuckin real, had to reassess, gon be the, man on my, on my shoulder, how i feel, fuck all that\n",
    "\n",
    ">It appears in the Voice Memos (2019) album, Quadeca seems to have songs that talk about reinventing himself and reassuring his audience that he is a unique and talented rapper. He claims that there is nothing usual about him and that he is the real deal. Another area the album seemed to explore refers back to his earlier projects that explored troubled thoughts, self-doubt, and inner demons.\n"
   ]
  },
  {
   "cell_type": "markdown",
   "metadata": {},
   "source": [
    "### From Me To You"
   ]
  },
  {
   "cell_type": "markdown",
   "metadata": {},
   "source": [
    "#### Most Common 1-Grams/2-Grams/3-Grams"
   ]
  },
  {
   "cell_type": "markdown",
   "metadata": {},
   "source": [
    "<img align=\"left\" src=\"images/a_atwo_common_grams.png\"/>"
   ]
  },
  {
   "cell_type": "markdown",
   "metadata": {},
   "source": [
    "#### Most Popular 1-Grams/2-Grams/3-Grams Across Multiple Songs in the Album"
   ]
  },
  {
   "cell_type": "markdown",
   "metadata": {},
   "source": [
    "<img align=\"left\" src=\"images/a_atwo_popular_grams.png\"/>"
   ]
  },
  {
   "cell_type": "markdown",
   "metadata": {},
   "source": [
    "#### From Me To You Analysis\n",
    "Here are the notable n-grams that I found while going through all the lists:\n",
    ">* 1-Grams: love, tryna, youre, time, feel, back, away, life\n",
    ">* 2-Grams: dont go, love you, im tryna, me and, your side\n",
    ">* 3-Grams: shades of us, i love you, drift drift away, dont go dont, you and me, i know you, no matter how, by your side, all a game, long long day \n",
    "\n",
    ">It appears in the From Me To You (2021) album, Quadeca seems to have songs that talk about love and a relationship with a significant other. From the phrases, it seems like Quadeca is reflecting on a past relationship that does not exist anymore. At first, the relationship seems to be healthy, but as time goes on, the two slowly start to drift away from each other until there are only shades of their original selves left. "
   ]
  },
  {
   "cell_type": "markdown",
   "metadata": {},
   "source": [
    "### Overall Observations for Albums Before the Insecure Diss Track\n",
    "After analyzing all of the n-gram frequency lists from all the albums, here are the following observations that I've made:\n",
    "\n",
    "From all the Albums After the Insecure Diss Track, some of the topics that Quadeca raps about are on reinventing himself and reestablishing himself as a rapper after the new gained popularity from the Insecure Diss Track, fighting depression/doubt/inner demons, and about love and a past relationship.\n",
    "\n",
    "On the Voice Memos (2019) album, we can see Quadeca talking about how he 'has to reassess' his identity after the new gained popularity. Additionally, there are other tracks on the album that talk about how he is not your typical rapper and that he is unique. And, from some of the common phrases, we can see Quadeca referring to a man on his shoulder, which is referring to his inner demons and his internal doubts feeding his insecurity. \n",
    "\n",
    "On the From Me To You (2021) album, we can see Quadeca talking a lot of about love and a past relationship. While it is not confirmed if he went through a breakup or is still currently in this relationship, we see references of the relationship drifting away and how there are only shades of the original relationship left."
   ]
  },
  {
   "cell_type": "markdown",
   "metadata": {},
   "source": [
    "## Looking at the Unique N-Gram Across Both Corpuses\n",
    "The goal here is to look at all the 1-/2-/3-grams from both corpuses and then do set subtraction to find all the unique 1-/2-/3-grams that are found within each corpus. By doing this, this will help me figure out if Quadeca is using different combination of phrases between the Before Album corpus and the After Album corpus. By comparing the amount of unique 1-/2-/3-grams, I can get a sense if Quadeca is using the same words and phrases between the two periods of time and thus not really evolving lyrically, or if he's using unique words and phrases between the two periods."
   ]
  },
  {
   "cell_type": "markdown",
   "metadata": {},
   "source": [
    "### Before Albums Compared to After Albums"
   ]
  },
  {
   "cell_type": "markdown",
   "metadata": {},
   "source": [
    "<img src=\"images/new_13.PNG\"/>"
   ]
  },
  {
   "cell_type": "markdown",
   "metadata": {},
   "source": [
    "### After Albums Compared to Before Albums"
   ]
  },
  {
   "cell_type": "markdown",
   "metadata": {},
   "source": [
    "<img src=\"images/new_14.PNG\"/>"
   ]
  },
  {
   "cell_type": "markdown",
   "metadata": {},
   "source": [
    "## Conclusion from the Word Frequency and N-Gram Frequency Lists Analysis\n",
    "After analyzing the albums across the two different time periods and all the word frequency/n-gram frequency lists of all the albums, I've notice that there are some overlapping concepts that are talked about in both of the periods of time. Some of these common themes are about depression, proving your value, and dealing with love and a relationship.\n",
    "\n",
    "I also analyzed the differences between the unique set of 1-/2-/3-grams for both the before album corpus and the after album corpus. Here is what I found:\n",
    "* When comparing the Before Album corpus to the After Album corpus, the Before Album corpus has 66.73% unique 1-grams, 86.44% unique 2-grams, and 96.78% unique 3-grams.\n",
    "* When comparing the After Album corpus to the Before Album corpus, the After Album corpus has 46.06% unique 1-grams, 75.16% unique 2-grams, and 93.74% unique 3-grams.\n",
    "\n",
    "From this information, this means that there is some lyrical evolution between the Before Album corpus and the After Album corpus. As we can see in the After Album corpus, Quadeca is using a lot of unique 1-/2-/3-grams. This could mean that even though Quadeca may be talking about the say topics across both corpuses, he's finding new unique ways to talk about them as seen in the 46.06% unique 1-grams, 75.16% unique 2-grams, and 93.74% unique 3-grams.\n",
    "\n",
    "Although the word frequency and n-gram frequency lists don't give us the full story, I am able to pick up some of the themes that Quadeca seems to be talking about and a sense that Quadeca is rapping different across the two corpuses. The next step will be to perform a keyness analysis and compare both of the corpuses against each other. Then I will perform a deeper analysis on those keywords, in order to learn more about the context of Quadeca's raps."
   ]
  },
  {
   "cell_type": "markdown",
   "metadata": {},
   "source": [
    "---"
   ]
  },
  {
   "cell_type": "markdown",
   "metadata": {},
   "source": [
    "# Part 1b: Keyness Analysis\n",
    "The next step of the analyiss will be to perform a keyness analysis. This analysis will help me determine which keywords are more likely to appear (greater than chance) in one corpus compared to another corpus. By doing this analysis, I will be able to figure out some of the keywords in the Before Albums corpus and the After Albums corpus. These keywords may help me understand what potential topics may occur in the corpus and how alike or different the two corpuses."
   ]
  },
  {
   "cell_type": "markdown",
   "metadata": {},
   "source": [
    "## Creating the Tokenized List\n",
    "The first step will be to create a Counter object for both the Before Albums corpus and After Albums corpus. After these Counters are created, I will feed them in the function `calculate_keyness()`, which takes in a Corpus A Counter, a Corpus B Counter, and the number of maximum result you want to display. The function will return all the keywords that are more likely to occur in Corpus A compared to Corpus B."
   ]
  },
  {
   "cell_type": "markdown",
   "metadata": {},
   "source": [
    "<img src=\"images/keyness_before.PNG\"/>"
   ]
  },
  {
   "cell_type": "markdown",
   "metadata": {},
   "source": [
    "<img src=\"images/keyness_after.PNG\"/>"
   ]
  },
  {
   "cell_type": "markdown",
   "metadata": {},
   "source": [
    "## Keyness of Before Tokens Compared to After Tokens"
   ]
  },
  {
   "cell_type": "markdown",
   "metadata": {},
   "source": [
    "<img src=\"images/keyness_before_to_after.PNG\"/>"
   ]
  },
  {
   "cell_type": "markdown",
   "metadata": {},
   "source": [
    "### Overall Observations from the Keyness of Before Tokens Compared to After Tokens\n",
    "Words that are more likely to occur in the corpus of the albums before the Insecure diss track than the corpus of the albums after the Insecure diss track are:\n",
    "* `and, people, im, man, is, know, am, that, really, ive, find, so, livin, feeling, it, we, ever, to, game, thought, of, about, will`\n",
    "\n",
    "It appears that these keywords that seem to appear more frequently in the corpus of the albums before the Insecure diss track than the corpus of the albums after the Insecure diss track are words that deal with other people's opinion and expectations (`people`) and words that deal with trying to find one's self (`ive, find, livin, feeling, game, thought`)."
   ]
  },
  {
   "cell_type": "markdown",
   "metadata": {},
   "source": [
    "## Keyness of After Tokens Compared to Before Tokens"
   ]
  },
  {
   "cell_type": "markdown",
   "metadata": {},
   "source": [
    "<img src=\"images/keyness_after_to_before.PNG\"/>"
   ]
  },
  {
   "cell_type": "markdown",
   "metadata": {},
   "source": [
    "### Overall Observations from the Keyness of After Tokens Compared to Before Tokens\n",
    "Words that are more likely to occur in the corpus of the albums after the Insecure diss track than the corpus of the albums before the Insecure diss track are:\n",
    "* `uh, yeah, ooh, work, gon, until, still, real, nothing, did, was, had, they, everything, ayy, fuckin, he, didnt, nothin, long, bitch, think, i, alone, left, she, myself, matter, old, if, only, used, looking, why, wrong, love, thank, were, cant, em, back, turn, wish, anymore, sorry`\n",
    "\n",
    "It appears that these keywords that seem to appear more frequently in the corpus of the albums after the Insecure diss track than the corpus of the albums before the Insecure diss track are words that deal with loneliness and isolation (`nothing, nothin, alone`), a past relationship (`had, everything, bitch, left, she, used, wrong, love, thank, anymore, sorry`), and ad-libs (`uh, yeah, ooh, ayy`)."
   ]
  },
  {
   "cell_type": "markdown",
   "metadata": {},
   "source": [
    "## Conclusion from the Keyness Analysis"
   ]
  },
  {
   "cell_type": "markdown",
   "metadata": {},
   "source": [
    "One thing to note is that there are far more keywords that are more likely to occur in the After Album corpus than the Before Album corpus. This shows that the After Album corpus is significantly more unique when compared to the Before Album corpus. This only supports my earlier findings in the word frequency and n-gram frequency lists analysis, where I found that Quadeca was using a significant amount of unique 1-/2-/3-grams in the After Album corpus.\n",
    "\n",
    "From the Before Album corpus, I will be selecting the following to do further analysis:\n",
    "* `people, find, livin, feeling, game, thought`\n",
    "\n",
    "From the After Album corpus, I will be selecting the following to do further analysis:\n",
    "* `work, real, fuckin, think, left, looking, alone, love`"
   ]
  },
  {
   "cell_type": "markdown",
   "metadata": {},
   "source": [
    "---"
   ]
  },
  {
   "cell_type": "markdown",
   "metadata": {},
   "source": [
    "# Part 1c: KWIC Concordance Analysis\n",
    "The next step of the analysis will be to perform a keyword in context (KWIC) concordance analysis. This analysis will help me figure out the context behind specific keywords. The keywords that I will be using for each corpus are the keywords that I picked out in the previous analysis. I tried to pick words that I personally found interesting and that had at least 15 occurrences in the respective corpus. By analyzing all the contexts, I can get a sense of what possible themes are present within that specific corpus."
   ]
  },
  {
   "cell_type": "markdown",
   "metadata": {},
   "source": [
    "## Albums Before the Insecure Diss Track"
   ]
  },
  {
   "cell_type": "markdown",
   "metadata": {},
   "source": [
    "### Keyword: People"
   ]
  },
  {
   "cell_type": "markdown",
   "metadata": {},
   "source": [
    "<img src=\"images/kwic_1.PNG\"/>"
   ]
  },
  {
   "cell_type": "markdown",
   "metadata": {},
   "source": [
    "#### Observation on: People\n",
    "The term `people` is being used to describe:\n",
    ">* generic groups of human beings (ex: 4, 8)\n",
    ">* critics and haters (ex: 3)\n",
    "\n",
    ">From this random sample of the term `people`, it seems that Quadeca is addressing the haters and doubters that tell him that he should quit rapping. This can be seen in the line `my stance scare everyone awawy whenever i dance people in the comments sayin i cant rap` and `gonna make it no im stoppin at nothin people are tryna say i cant but they oughta`."
   ]
  },
  {
   "cell_type": "markdown",
   "metadata": {},
   "source": [
    "### Keyword: Find"
   ]
  },
  {
   "cell_type": "markdown",
   "metadata": {},
   "source": [
    "<img src=\"images/kwic_2.PNG\"/>"
   ]
  },
  {
   "cell_type": "markdown",
   "metadata": {},
   "source": [
    "#### Observation on: Find\n",
    "The term `find` is being used to describe:\n",
    "\n",
    ">* to search for something (ex: 1, 2)\n",
    ">* to discover yourself (ex: 7)\n",
    "\n",
    ">From this random sample of the term `find`, it seems that Quadeca is trying to obtain answers to his uncertainties and insecurities. This can be seen in the lines `much life i wonder why i cant just find mine got so many confusin questions so much`, `eye and i know that i need to find my way i need to find my way`, and `now blues clues man i think i gotta find out every question man i really wanna hide`. There are also references of Quadeca trying to reach what seems to be unobtainable goals such as fame, success, and happiness. This can be seen in the line `tryna find the great escape we're just tryna find the great escape sometimes i dont know what'll`. Lastly, there is a reference to Quadeca trying to find adequate competition within the YouTube/Spotify rap game. This can be seen in the line \"i have been searching the map trying to find another fucking person that raps perfectly fast with.\" "
   ]
  },
  {
   "cell_type": "markdown",
   "metadata": {},
   "source": [
    "### Keyword: Livin"
   ]
  },
  {
   "cell_type": "markdown",
   "metadata": {},
   "source": [
    "<img src=\"images/kwic_3.PNG\"/>"
   ]
  },
  {
   "cell_type": "markdown",
   "metadata": {},
   "source": [
    "#### Observations on: Livin\n",
    "The term `livin` is being used to describe:\n",
    ">* to experience one's life\n",
    "\n",
    ">From this random sample of the term 'living', it seems that Quadeca is going through a tough time in his life. This is reflected in the lines `vibe in that shit when we replay it livin a life of pain just to alleviate it` and `it is to make it look like i'm livin for something useful and it's sad but you`. However, there are also other references where it seems like Quadeca is bragging about how good his life is and doesn't really care what the haters say about him. This can be seen in the lines `changin opinions is that right i'm winnin i'm livin i'm spittin a million words per the minute`, `make crazy lives you're just angry cause you're livin in a fading lie and i've been feelin`, `to ball out its the life that i'm livin life that i'm livin not sure who to`, and `it i'm livin i said fuck it i'm livin people are gettin mad just because yeah i'm.`"
   ]
  },
  {
   "cell_type": "markdown",
   "metadata": {},
   "source": [
    "### Keyword: Feeling"
   ]
  },
  {
   "cell_type": "markdown",
   "metadata": {},
   "source": [
    "<img src=\"images/kwic_4.PNG\"/>"
   ]
  },
  {
   "cell_type": "markdown",
   "metadata": {},
   "source": [
    "#### Observations on: Feeling\n",
    "The term `feeling` is being used to describe:\n",
    ">* to experience a specific mood or emotion\n",
    "\n",
    ">From this random sample of the term `feeling`, it seems that Quadeca is noticing his gain in popularity and now feels like he is in limbo. He wants this attention, but there are also consequences that come with it such higher expectations and more harassment. This can be seen in the lines `everybody tryna say me name while i been feeling like a need a change need a change` and `yeah i've been in a whole new place feeling like there's more at stake more at stake.` One of the most interesting lines `shit is my biggest fear what if the feeling we have for each other ain't mutual what.` This line can be interpreted in different ways. Here, Quadeca could be referring to having feelings for a girl and her not reciprocating the same feeling. Although if you a deeper look into the lyrics and compare it to the rest of the random sample, one could argue that this line is referring to the relationship between his view on his growth as a rapper compared to his audience's/peers' view on his rapping talents. Either way, this line shows that Quadeca definitely feelings of insecurity.\n"
   ]
  },
  {
   "cell_type": "markdown",
   "metadata": {},
   "source": [
    "### Keyword: Game"
   ]
  },
  {
   "cell_type": "markdown",
   "metadata": {},
   "source": [
    "<img src=\"images/kwic_5.PNG\"/>"
   ]
  },
  {
   "cell_type": "markdown",
   "metadata": {},
   "source": [
    "#### Observations on: Game\n",
    "The term `game` is being used to describe:\n",
    ">* the rapping scene (ex: 1, 3)\n",
    ">* a competitive form of entertainment that usually has no risk (ex: 9, 10, 12)\n",
    "\n",
    ">From this random sample of the term `game`, it seems that Quadeca is prideful of his rapping capability and constantly has to defend himself within the YouTube/Spotify rap game. This can be seen in the line `people still claim i'm the worst in the game and it hurts to explain and i'm currently`. This is definitely not the first time that Quadeca seems to be defending himself from the haters and doubters, as we've seen this topic in other concordances before this one. Quadeca seems to use the term `game` in two specific contexts. The first context is whenever he is referring to the rap game, while the second context is usually when he juxtapose life and a game. Lines like `ayy oh oh said i'm married to the game i'm married to the game said i'm married` show his dedication to the rap game and wanting to improve on his craft. Other lines like `give a shit man life's insane life's a game we just livin for a big plan` shows how Quadeca compares life to a game."
   ]
  },
  {
   "cell_type": "markdown",
   "metadata": {},
   "source": [
    "### Keyword: Thought"
   ]
  },
  {
   "cell_type": "markdown",
   "metadata": {},
   "source": [
    "<img src=\"images/kwic_6.PNG\"/>"
   ]
  },
  {
   "cell_type": "markdown",
   "metadata": {},
   "source": [
    "#### Observations on: Thought\n",
    "The term `thought` is being used to describe:\n",
    ">* a past idea or concept\n",
    ">* the past tense of thinking \n",
    "\n",
    ">From this random sample of the term `thought`, it seems that Quadeca has reached a point where he achieved goals that he set for himself when he was younger. He seems to be surprised and is relishing in his achievement. This can be seen in the lines `been doin a lot damn said who woulda thought bitch no chance i might just fly out`, `and look at where i am i never though i would acquire fans acquire bands say a`, and `as a and as a kid i never thought i'd be bein like this nah and as`. There are some references to a relationship with a girl. In the lines `i would ever upset you and i never thought that i would ever regret you yeah times` and `be i guess i fell in what i thought was love to a person who's truth was`, it seems that Quadeca had a relationship that ended poorly."
   ]
  },
  {
   "cell_type": "markdown",
   "metadata": {},
   "source": [
    "### Overall Observations from the KWIC Condordances of Albums Before the Insecure Diss Track\n",
    "From all of the keywords in context concordances, it seems that the topics that Quadeca raps about in his earlier albums are on topics of:\n",
    ">* proving himself as a rapper \n",
    ">* dealing with depression and insecurities\n",
    ">* dealing with his growth in popularity and meeting everyone's expectations\n",
    ">* past relationships"
   ]
  },
  {
   "cell_type": "markdown",
   "metadata": {},
   "source": [
    "## Albums After the Insecure Diss Track"
   ]
  },
  {
   "cell_type": "markdown",
   "metadata": {},
   "source": [
    "### Keyword: Work"
   ]
  },
  {
   "cell_type": "markdown",
   "metadata": {},
   "source": [
    "<img src=\"images/kwic_7.PNG\"/>"
   ]
  },
  {
   "cell_type": "markdown",
   "metadata": {},
   "source": [
    "#### Observations on: Work\n",
    "The term `work` is being used to describe:\n",
    ">* the process of doing labor (ex: 2)\n",
    ">* reaching a resolution (ex: 3)\n",
    "\n",
    ">From this random sample of the term `work`, it seems like Quadeca is talking about his work ethic and his dedication to the rap game. It seems like Quadeca wants to improve on his rapping abilities and is constantly trying to do that. This can be seen in the lines `in a studio i'm clocking in like i work in a cubicle uh the kid is unusual`, `and jerry's nobody liking the way that i work they say \"blood sweat and tears that ain't`, and `they i don't even know we just gonna work uh until the trap out i been grindin`.\n"
   ]
  },
  {
   "cell_type": "markdown",
   "metadata": {},
   "source": [
    "### Keyword: Real"
   ]
  },
  {
   "cell_type": "markdown",
   "metadata": {},
   "source": [
    "<img src=\"images/kwic_9.PNG\"/>"
   ]
  },
  {
   "cell_type": "markdown",
   "metadata": {},
   "source": [
    "#### Observations on: Real\n",
    "The term `real` is being used to describe:\n",
    ">* an object or feeling that exists in the world (ex: 1)\n",
    ">* not fake, genuine (ex: 8, 9)\n",
    "\n",
    "> From this random sample of the term `real`, it seems like Quadeca is talking about struggling with inner demons in his head. This can be seen in the lines `but he still standing in place yeah for real i wish i had more voices in my [head]`, `almost cried when i realized that everything was real when the brain can't articulate feelings in words`, and `my whole generations fuckin lonely and depressed that's real with a world that's gettin colder and repressed`. In other contexts, Quadeca seems to use the term `real` to describe himself as a genuine rapper/person . This can be seen in the line `all faking i'm the motherfuckin real thing for real they all hating i'm the motherfuckin real on`."
   ]
  },
  {
   "cell_type": "markdown",
   "metadata": {},
   "source": [
    "### Keyword: Fuckin"
   ]
  },
  {
   "cell_type": "markdown",
   "metadata": {},
   "source": [
    "<img src=\"images/kwic_10.PNG\"/>"
   ]
  },
  {
   "cell_type": "markdown",
   "metadata": {},
   "source": [
    "#### Observations on: Fuckin\n",
    "The term `fuckin` is being used to describe:\n",
    ">* to intensive an emotion/feeling or the topic that follows \n",
    "\n",
    "> From this random sample of the term `fuckin`, it seems like Quadeca is talking about cutting off ties with certain individuals. This can be seen in the line `with my fuckin chest i'm burnin all my fuckin bridges til there's nothing left uhhuh the more` and `but myself he the only one that hasn't fuckin left i burn bridges but i'm still payin`. There are also references to Quadeca struggling with more inner demons. The line `but myself he the only one that hasn't fuckin left i burn bridges i'm still payin` could also refer to Quadeca self-sabotaging himself and self-isolating himself from the people around him, letting the voices in his head get louder and louder. The line `you got a ego tell em thank the fuckin lord cause if you didn't you'd be suffering` seems to suggest that Quadeca's eagerness to prove his value as a rapper and knowing his worth saved him from being swallowed by his insecurities. Another interesting line is `reach this quota for success without sayin a fuckin word yeah if life's a test it doesn't`. This line could be referring to Quadeca reaching a level of success without dropping music for so long (his last project was in 2019, and his most recent project came out in 2021). Another interpretation of this line could be referring to society's expectation that success equates to happiness and that people who are successful shouldn't be complaining.  "
   ]
  },
  {
   "cell_type": "markdown",
   "metadata": {},
   "source": [
    "### Keyword: Think"
   ]
  },
  {
   "cell_type": "markdown",
   "metadata": {},
   "source": [
    "<img src=\"images/kwic_11.PNG\"/>"
   ]
  },
  {
   "cell_type": "markdown",
   "metadata": {},
   "source": [
    "#### Observations on: Think\n",
    "The term `think` is being used to describe:\n",
    ">* to wonder about a situation\n",
    ">* to have a belief about something\n",
    "\n",
    "From this random sample of the term `think`, it seems like Quadeca is pondering about a past relationship. This can be seen in the lines `as fuck smokin in the rain again i think about what's holdin up this flame again and` and `you be for you i'll do everything i think you need me to need me to i`. Additionally, there are times where it seems like Quadeca is going through a hard time and needs help. This can be seen in the lines `every last tear that i had i don't think i can cry no more no all of`, `me the red dot it heals me i think i need new friends yeah like that ain't`, `the summit they say we're halfway there i think we're halfway from it it's been the longest`, and `still hope that one day they acceptin me think i'm in need of some help want them`."
   ]
  },
  {
   "cell_type": "markdown",
   "metadata": {},
   "source": [
    "### Keyword: Left"
   ]
  },
  {
   "cell_type": "markdown",
   "metadata": {},
   "source": [
    "<img src=\"images/kwic_12.PNG\"/>"
   ]
  },
  {
   "cell_type": "markdown",
   "metadata": {},
   "source": [
    "#### Observations on: Left\n",
    "The term `left` is being used to describe:\n",
    ">* being left behind (ex: 1)\n",
    ">* remaining (ex: 2)\n",
    ">* the past tense of leaving (ex: 5)\n",
    ">* the direction/side opposite of right (ex: 7)\n",
    "\n",
    "From this random sample of the term `left`, it seems like Quadeca is once again trying to fight the inner demons. This can be seen in the lines `ooh ooh ooh feeling like there's no room left for me ooh ooh ooh feeling like there's`, `been talking to the man sitting on my left shoulder shoulder he said everything just gets worse`, and `i'm numb help me hide when there's nowhere left to run nowhere left to run these day`. There are also references to Quadeca talking about his remaining feelings of a past relationship with a girl. This can be seen in the lines `all we're left with yeah it's all we're left with in the end yeah oh yeah and`, `love you to pieces til that's all we're left with yeah it's all we're left with in`, and `fucking cent uh guess i shoulda up and left yeah but i always tell myself that i'm`."
   ]
  },
  {
   "cell_type": "markdown",
   "metadata": {},
   "source": [
    "### Keyword: Looking"
   ]
  },
  {
   "cell_type": "markdown",
   "metadata": {},
   "source": [
    "<img src=\"images/kwic_13.PNG\"/>"
   ]
  },
  {
   "cell_type": "markdown",
   "metadata": {},
   "source": [
    "#### Observations on: Looking\n",
    "The term `looking`is being used to describe:\n",
    ">* the act of searching for something (ex: 1)\n",
    ">* the appearance of something or someone (ex: 10)\n",
    "\n",
    ">From this random sample of the term `looking`, it seems like Quadeca is bragging about his wealth and success. This can be seen from the lines `ben uh yeah eah yeah yeah yeah looking for a new benz yeah the red dot` and `huh huh bank got so many commas shit's looking like a run-on setence yeah hahaha hahaha ayy`. Although in other areas, it seems like Quadeca is struggling to keep up with the expectations people have for him. This can be seen in the lines `looking out a new lens uh new lens looking for a new me new me looking for` and `a good lie yeah good lie hahaha everything looking like ashses i don't want a car i`."
   ]
  },
  {
   "cell_type": "markdown",
   "metadata": {},
   "source": [
    "### Keyword: Alone"
   ]
  },
  {
   "cell_type": "markdown",
   "metadata": {},
   "source": [
    "<img src=\"images/kwic_14.PNG\"/>"
   ]
  },
  {
   "cell_type": "markdown",
   "metadata": {},
   "source": [
    "#### Observations on: Alone\n",
    "The term `alone` is being used to describe:\n",
    ">* by one's self\n",
    "\n",
    "> From this random sample of the term `alone`, it seems like there are two main themes that Quadeca talks about. One of which is describing how he felt on his journey to reach where he is at the current moment. This can be seen in the lines `had me wantin to quit i was all alone cause i ain't follow their shit and now`, `kanye in a MAGA hat yeah i'm so alone see i've always been one and only even`, `betray myself i been afraid to tell so alone so i just braced myself i've wanted love` and `the beaten route i thought that life was alone with ice to my bones and nothin i`. The other theme that Quadeca explores with the term `alone` is about a past relationship with an ex-girlfriend. This can be seen in the lines `you're a i guess i'm alone i'll be alone forever yeah together alone i guess we're alone` and `drift drift away you're a i guess i'm alone i'll be alone forever yeah together alone i`. These lines seem to suggest that Quadeca was once with someone and they drifted apart. Now they are two separate entities who are alone, by themselves."
   ]
  },
  {
   "cell_type": "markdown",
   "metadata": {},
   "source": [
    "### Keyword: Love"
   ]
  },
  {
   "cell_type": "markdown",
   "metadata": {},
   "source": [
    "<img src=\"images/kwic_15.PNG\"/>"
   ]
  },
  {
   "cell_type": "markdown",
   "metadata": {},
   "source": [
    "#### Observations on: Love\n",
    "The term `love` is being used to describe:\n",
    ">* deep affection for something or someone\n",
    "\n",
    "> From this random sample of the term `love`, it seems like Quadeca is reflecting upon a past relationship. This can be seen in the lines `who else should have your name fall in love until it's not the same if you lose` and `if you remember me you are not in love you just pretend to be drift drift away`. As I mentioned before, it seems like Quadeca was in loving relationship with a past ex-girlfriend, but things didn't work out and they broke up and moved on from each other. Quadeca reflects back on this relationship wondering if the two were just pretending to be in love and trying to make it work. One of the more interesting lines using the term `love` is `the drop though so i don't they only love me when i'm back on the climb yeah`. Here, Quadeca seems to be addressing people that are only interested in him when he's on the music grind and dropping music.  "
   ]
  },
  {
   "cell_type": "markdown",
   "metadata": {},
   "source": [
    "### Overall Observations from the KWIC Condordances of Albums After the Insecure Diss Track\n",
    "From all of the keywords in context concordances, it seems that the topics that Quadeca raps about in his later albums are on topics of:\n",
    ">* his dedication to improving his music\n",
    ">* struggling against depression, insecurities, and isolation\n",
    ">* reflecting back on his past self\n",
    ">* dealing with expectations and unprecedented growth\n",
    ">* past relationships"
   ]
  },
  {
   "cell_type": "markdown",
   "metadata": {},
   "source": [
    "## Conclusion from the KWIC Concordance Analysis\n",
    "After doing the keyness analysis and the keyword in context concordance analysis for both the corpus of the albums before the Insecure diss track and the corpus of the albums after the Insecure diss track, I found that there were a lot of overlapping themes that Quadeca rapped about between the two periods.\n",
    "\n",
    "The themes that both corpuses share in common are the following:\n",
    ">* struggling against depression and insecurities\n",
    ">* dealing with being in the public eye, other people's expectations, and audience growth\n",
    ">* past romantic relationships that are no longer existent\n",
    "\n",
    "Some differences between the two corpuses are the following:\n",
    ">* In the corpus of the albums before the Insecure diss track, Quadeca seemed to constantly address haters and had to prove himself as a capable rapper who belonged in the rap game. \n",
    ">* In the corpus of the albums after the Insecure diss track, Quadeca seemed to reflect more upon his past self and telling his past self to not give up on his dreams. "
   ]
  },
  {
   "cell_type": "markdown",
   "metadata": {},
   "source": [
    "---"
   ]
  },
  {
   "cell_type": "markdown",
   "metadata": {},
   "source": [
    "# Part 1d: Sentiment Analysis\n",
    "The next step of analysis will be to perform a sentiment analysis across both corpuses. This analysis will help me determine if there is any change based on lyrical sentiment from the Before Albums corpus compared to the After Albums corpus. "
   ]
  },
  {
   "cell_type": "markdown",
   "metadata": {},
   "source": [
    "## Sentiment Analysis For Keywords from Keyness Analysis"
   ]
  },
  {
   "cell_type": "markdown",
   "metadata": {},
   "source": [
    "### Keywords from Albums Before the Insecure Diss Track"
   ]
  },
  {
   "cell_type": "markdown",
   "metadata": {},
   "source": [
    "<img src=\"images/kw_vps_1.PNG\"/>"
   ]
  },
  {
   "cell_type": "markdown",
   "metadata": {},
   "source": [
    "#### Observations of Keywords Sentiment from Albums Before the Insecure Diss Track\n",
    "According to the vader polarity score, it seems that the keywords from the corpus of the albums before the Insecure Diss Track seem to have a very neutral sentiment."
   ]
  },
  {
   "cell_type": "markdown",
   "metadata": {},
   "source": [
    "### Keywords from Albums After the Insecure Diss Track"
   ]
  },
  {
   "cell_type": "markdown",
   "metadata": {},
   "source": [
    "<img src=\"images/kw_vps_2.PNG\"/>"
   ]
  },
  {
   "cell_type": "markdown",
   "metadata": {},
   "source": [
    "#### Observations of Keywords Sentiment from Albums After the Insecure Diss Track\n",
    "According to the vader lexicon score, it seems that the keywords from the corpus of the albums after the Insecure Diss Track also seem to have a very neutral sentiment."
   ]
  },
  {
   "cell_type": "markdown",
   "metadata": {},
   "source": [
    "### Conclusion of Sentiment Analysis For Keywords from Keyness Analysis\n",
    "Overall, it seems that the keywords that were more likely to appear in one corpus compared to the other were keywords that had mostly neutral sentiment. It appears that trying to use the keywords to predict the sentiment of the corpus does not help. The next step will be to do a sentiment analysis on each song to see how many positive, negative, and neutral songs exists within each album. From there, I will do a sentiment analysis over the albums, to get the overall sentiment score of each album in each period of time and then compare the two periods of time. Afterward, I will see if the sentiment scores supports the other analyses that I've conducted."
   ]
  },
  {
   "cell_type": "markdown",
   "metadata": {},
   "source": [
    "## Sentiment Analysis For Songs Within Each Album"
   ]
  },
  {
   "cell_type": "markdown",
   "metadata": {},
   "source": [
    "### Albus Before the Insecure Diss Track"
   ]
  },
  {
   "cell_type": "markdown",
   "metadata": {},
   "source": [
    "#### Work in Progress"
   ]
  },
  {
   "cell_type": "markdown",
   "metadata": {},
   "source": [
    "<img src=\"images/vps_1.PNG\"/>"
   ]
  },
  {
   "cell_type": "markdown",
   "metadata": {},
   "source": [
    "#### Nostalgia for the Now"
   ]
  },
  {
   "cell_type": "markdown",
   "metadata": {},
   "source": [
    "<img src=\"images/vps_2.PNG\"/>"
   ]
  },
  {
   "cell_type": "markdown",
   "metadata": {},
   "source": [
    "#### Bad Internet Rapper"
   ]
  },
  {
   "cell_type": "markdown",
   "metadata": {},
   "source": [
    "<img src=\"images/vps_3.PNG\"/>"
   ]
  },
  {
   "cell_type": "markdown",
   "metadata": {},
   "source": [
    "#### Out of Order"
   ]
  },
  {
   "cell_type": "markdown",
   "metadata": {},
   "source": [
    "<img src=\"images/vps_4.PNG\"/>"
   ]
  },
  {
   "cell_type": "markdown",
   "metadata": {},
   "source": [
    "#### Total Types of Songs from Albums Before the Insecure Diss Track"
   ]
  },
  {
   "cell_type": "markdown",
   "metadata": {},
   "source": [
    "<img src=\"images/vps_5.PNG\"/>"
   ]
  },
  {
   "cell_type": "markdown",
   "metadata": {},
   "source": [
    "#### Overall Observations of Songs from Albums Before the Insecure Diss Track\n",
    "According to the vader polarity scores, there are a total of 28 positive songs, 26 negative songs, and 0 neutral songs. From this information, I would assume that the overall sentiment from the albums before the Insecure diss track would be neutral to slightly more positive due to there being more positive songs than there are negative songs."
   ]
  },
  {
   "cell_type": "markdown",
   "metadata": {},
   "source": [
    "### Albus After the Insecure Diss Track"
   ]
  },
  {
   "cell_type": "markdown",
   "metadata": {},
   "source": [
    "#### Voice Memos"
   ]
  },
  {
   "cell_type": "markdown",
   "metadata": {},
   "source": [
    "<img src=\"images/vps_6.PNG\"/>"
   ]
  },
  {
   "cell_type": "markdown",
   "metadata": {},
   "source": [
    "#### From Me To You"
   ]
  },
  {
   "cell_type": "markdown",
   "metadata": {},
   "source": [
    "<img src=\"images/vps_8.PNG\"/>"
   ]
  },
  {
   "cell_type": "markdown",
   "metadata": {},
   "source": [
    "#### Total Types of Songs from Albums After the Insecure Diss Track"
   ]
  },
  {
   "cell_type": "markdown",
   "metadata": {},
   "source": [
    "<img src=\"images/vps_10.PNG\"/>"
   ]
  },
  {
   "cell_type": "markdown",
   "metadata": {},
   "source": [
    "#### Overall Observations of Songs from Albums After the Insecure Diss Track\n",
    "According to the vader polarity scores, there are a total of 19 positive songs, 12 negative songs, and 0 neutral songs. From this information, I would assume that the overall sentiment from the albums after the Insecure diss track would be more positive because there are more positive songs than there are negative songs in the after period."
   ]
  },
  {
   "cell_type": "markdown",
   "metadata": {},
   "source": [
    "### Conclusion of Sentiment Analysis For Songs Within Each Album\n",
    "After reviewing the information of the total amount of positive, negative, and neutral songs, I'm surprised to see that there are more positive songs than there are negative songs. In the before corpus, there are a total of 51.85% positive songs and 48.15% negative songs. In the after corpus, there are 61.29% positive songs and 38.71% negative songs. Just judging from the percentages, there seems to be an increase in positive songs and decrease in negative songs in the after corpus compared to the before corpus. The next step will be to investigate the average sentiment for each album and then figure out the average sentiment for the time period and see if the same results are found."
   ]
  },
  {
   "cell_type": "markdown",
   "metadata": {},
   "source": [
    "## Sentiment Analysis For Each Album"
   ]
  },
  {
   "cell_type": "markdown",
   "metadata": {},
   "source": [
    "### Albus Before the Insecure Diss Track "
   ]
  },
  {
   "cell_type": "markdown",
   "metadata": {},
   "source": [
    "#### Work in Progress"
   ]
  },
  {
   "cell_type": "markdown",
   "metadata": {},
   "source": [
    "<img src=\"images/avps_1.PNG\"/>"
   ]
  },
  {
   "cell_type": "markdown",
   "metadata": {},
   "source": [
    "#### Nostalgia for the Now"
   ]
  },
  {
   "cell_type": "markdown",
   "metadata": {},
   "source": [
    "<img src=\"images/avps_2.PNG\"/>"
   ]
  },
  {
   "cell_type": "markdown",
   "metadata": {},
   "source": [
    "#### Bad Internet Rapper"
   ]
  },
  {
   "cell_type": "markdown",
   "metadata": {},
   "source": [
    "<img src=\"images/avps_3.PNG\"/>"
   ]
  },
  {
   "cell_type": "markdown",
   "metadata": {},
   "source": [
    "#### Out of Order"
   ]
  },
  {
   "cell_type": "markdown",
   "metadata": {},
   "source": [
    "<img src=\"images/avps_1.PNG\"/>"
   ]
  },
  {
   "cell_type": "markdown",
   "metadata": {},
   "source": [
    "#### Overall Sentiment Score for Albums Before the Insecure Diss Track"
   ]
  },
  {
   "cell_type": "markdown",
   "metadata": {},
   "source": [
    "<img src=\"images/avps_5.PNG\"/>"
   ]
  },
  {
   "cell_type": "markdown",
   "metadata": {},
   "source": [
    "#### Overall Observations for Albums Before the Insecure Diss Track\n",
    "According to the overall average vader polarity score, the albums before the Insecure diss track seem to have a vader polarity score of 0.053. Since this value is greater than or equal to 0.05, this means that the overall corpus has a positive sentiment. Therefore, the albums in the before period are generally positive sentiment albums."
   ]
  },
  {
   "cell_type": "markdown",
   "metadata": {},
   "source": [
    "### Albus After the Insecure Diss Track"
   ]
  },
  {
   "cell_type": "markdown",
   "metadata": {},
   "source": [
    "#### Voice Memos"
   ]
  },
  {
   "cell_type": "markdown",
   "metadata": {},
   "source": [
    "<img src=\"images/avps_6.PNG\"/>"
   ]
  },
  {
   "cell_type": "markdown",
   "metadata": {},
   "source": [
    "#### From Me To You"
   ]
  },
  {
   "cell_type": "markdown",
   "metadata": {},
   "source": [
    "<img src=\"images/avps_7.PNG\"/>"
   ]
  },
  {
   "cell_type": "markdown",
   "metadata": {},
   "source": [
    "#### Overall Sentiment Score for Albums After the Insecure Diss Track"
   ]
  },
  {
   "cell_type": "markdown",
   "metadata": {},
   "source": [
    "<img src=\"images/avps_8.PNG\"/>"
   ]
  },
  {
   "cell_type": "markdown",
   "metadata": {},
   "source": [
    "#### Overall Observations for Albums After the Insecure Diss Track\n",
    "According to the overall average vader polarity score, the albums after the Insecure diss track seem to have a vader score of 0.237. Since this value is greater than or equal to 0.05, this means that the overall corpus has a positive sentiment. Therefore, the albums in the after period are generally positive sentiment albums."
   ]
  },
  {
   "cell_type": "markdown",
   "metadata": {},
   "source": [
    "### Conclusion of Sentiment Analysis For Each Album\n",
    "After calculating the average polarity score for each time period, I was once again surprised to find that both time periods produced generally positive sentiment albums. The average polarity score for an album in the before period was 0.053 and the average polarity score for an album in the after period was 0.237. \n",
    "\n",
    "This result is significant for two main reasons:\n",
    "> In the earlier analysis, I found that there were some common themes that were talked about in both corpuses, such as struggling with depression, dealing with public expectations, and talking about past romantic relationships. As a result, I thought that the sentiment scores between the two corpuses would be more or less the same. However, there is a significant difference between the sentiment score of the before corpus and the sentiment score of the after corpus.\n",
    "\n",
    ">From those themes that I discovered that Quadeca was rapping about, I expected more albums to have an overall negative sentiment and that both corpuses would have an overall negative sentiment value. However, it appears that both corpuses had positive overall sentiment values. This could mean that Quadeca is talking about some of these more serious and negative topics and the vader polarity score is misinterpreting/overcorrecting the sentiment of the song. An example of this can be seen in the the after album Voice Memos (2019) song titled \"The Man on My Left Shoulder (a_album_one_lyrics[4]).\" This song is talking about Quadeca and how he's dealing with an inner voice that always points out the negativity in life. This song is definitely a negative sentiment song, yet the vader compound polarity score returns 0.9967, which makes it seem like an extremely happy song when it's not. Another possibility for this result is that the keyness analysis and the keyword in context concordance analysis that I did overestimated the themes that were suppose to be in the albums.\n"
   ]
  },
  {
   "cell_type": "markdown",
   "metadata": {},
   "source": [
    "---"
   ]
  },
  {
   "cell_type": "markdown",
   "metadata": {},
   "source": [
    "# Conclusion to Part 1"
   ]
  },
  {
   "cell_type": "markdown",
   "metadata": {},
   "source": []
  },
  {
   "cell_type": "markdown",
   "metadata": {},
   "source": [
    "---"
   ]
  },
  {
   "cell_type": "markdown",
   "metadata": {},
   "source": [
    "# Part 2a: Word Frequency and N-Gram Frequency Lists\n",
    "To start exploring the answer to my second question, I will first perform a word frequency and n-gram frequency lists analysis. Instead of doing the most common and most popular across multiple songs 1-/2-/3-grams separately, I decided to only show the intersection between two. So the word frequency and n-gram frequency lists that are shown are the intersection between the most common n-grams and the most popular n-grams across multiple songs. \n",
    "\n",
    "Additionally, I did another set difference analysis to see whether or not Quadeca and the Billboard Rap Music rappers use the same 1-/2-/3-grams. "
   ]
  },
  {
   "cell_type": "markdown",
   "metadata": {},
   "source": [
    "## A Side-by-Side Comparison of Quadeca's Music and the Billboard Rap Music"
   ]
  },
  {
   "cell_type": "markdown",
   "metadata": {},
   "source": [
    "### The Intersection Between Most Common and Most Popular Across Multiple Songs 1-/2-/3-grams for Each Party"
   ]
  },
  {
   "cell_type": "markdown",
   "metadata": {},
   "source": [
    "<img align=\"left\" src=\"images/quadeca_vs_mainstream_rap_grams.png\"/>"
   ]
  },
  {
   "cell_type": "markdown",
   "metadata": {},
   "source": [
    "## Differences Between the 1-/2-/3-grams used by Quadeca and the Billboard Rap Music"
   ]
  },
  {
   "cell_type": "markdown",
   "metadata": {},
   "source": [
    "<img src=\"images/diff_1.png\"/>"
   ]
  },
  {
   "cell_type": "markdown",
   "metadata": {},
   "source": [
    "<img src=\"images/diff_2.png\"/>"
   ]
  },
  {
   "cell_type": "markdown",
   "metadata": {},
   "source": [
    "<img src=\"images/diff_3.png\"/>"
   ]
  },
  {
   "cell_type": "markdown",
   "metadata": {},
   "source": [
    "## Overall Observations Between Quadeca's Music and the Billboard Rap Music\n",
    "Here are some of the notable 1-grams between both Quadeca's corpus and the Billboard Rap Music corpus:\n",
    ">* Quadeca: `i, you, me, all, my, im, your, dont, know`\n",
    ">* Billboard Rap Music: `i, me, you, my, im, dont, like`\n",
    "\n",
    ">It seems that the most common 1-grams between the two corpuses are very similar. They seem to be focusing on a 'me versus you' type of theme. I found that the word `i` was used in nearly every song from Quadeca's corpus and was used in every song in the Billboard Rap Music corpus. I think this was expected because rappers tend to talk about themselves a lot in their songs and they tend to compare themselves to other rappers.\n",
    "\n",
    "Here are some of the notable 2-grams between both Quadeca's corpus and the Billboard Rap Music corpus:\n",
    ">* Quadeca: `in the, in my, i got, on my, i just, yeah i, when i, that i, i think, i dont, im a, i cant, and i, i am`\n",
    ">* Billboard Rap Music: `in the, i got, i dont, on my, and i, got a, i aint, yeah i, in a, i was, when i, if i`\n",
    "\n",
    ">Again, I noticed the usage of the term `i` within the 2-grams. Once again, the 2-grams between these two corpuses are very similar. A lot of the 2-grams are referring to the rapper and what they're thinking of themselves and what materialistic wealth they have. This can be seen in the 2-grams: `i think, i am, im a, i got`\n",
    "\n",
    "Here are some of the notable 3-grams between both Quadeca's corpus and the Billboard Rap Music corpus:\n",
    ">* Quadeca: `i got a, i think i, i need to, i just wanna, i do not, i love you, im on my, i had to, just pulled up, i dont know`\n",
    ">* Billboard Rap Music: `yeah yeah yeah, i got a, i got the, i know that, i dont know, pull up in, i dont know`\n",
    "\n",
    ">Once again, the 3-grams between these two corpuses are similar and they both tend to talk about the rapper themselves. In both corpuses we see the rapper talking about having something over some else (`i got a, i got the`) or arriving in a what I assume would be a fancy car (`just pulled up, pull up in`). In Quadeca's corpus, we see that there are 3-grams that refer to feeling and love in the upper top 25, whereas in the Billboard Rap Music corpus, we don't see 3-grams that refer to feelings and love until the bottom 25 3-grams.\n",
    "\n",
    "Other things that I've noticed where that even though the n-grams were fairly the same across the board, there are still differences in the n-grams that Quadeca uses and that the Billboard Rap Music uses. In fact, there are 832 unique 1-grams that are used by Quadeca that aren't used by Billboard Rap Music artist. When it comes to 2-grams, there are 5,815 unique bigrams that are used by Quadeca that aren't used by Billboard Rap Music artist. Finally, for the 3-grams, there are 10,882 unique trigrams that are used by Quadeca that aren't used by Billboard Rap Music artist."
   ]
  },
  {
   "cell_type": "markdown",
   "metadata": {},
   "source": [
    "## Conclusion"
   ]
  },
  {
   "cell_type": "markdown",
   "metadata": {},
   "source": [
    "After looking through the intersections of the most common and most popular n-grams, as well as the set difference between the two corpuses, I found that even though Quadeca's most common 1-/2-/3-grams are very similar to the Billboard Rap Music 1-/2-/3-grams, there are still quite a lot of unique tokens, bigrams, and trigrams that Quadeca uses that aren't found in the Billboard Rap Music corpus. In the case of 1-grams, Quadeca has 38.32% unique tokens. In the case of 2-grams, Quadeca has 68.10% unique bigrams. In the case of 3-grams, Quadeca has 91.38% unique trigrams. Although the 1-grams have a fairly low unique percentage, there are only so many words you can use that make sense in a rap. However, with the bigrams and trigrams having 68.10% uniqueness and 91.38% uniqueness respectively, I think it is safe to say that Quadeca's lyrics are fairly different from the lyrics of the Billboard Rap Music. "
   ]
  },
  {
   "cell_type": "markdown",
   "metadata": {},
   "source": [
    "# Part 2b: Keyness Analysis\n",
    "The next step will be to perform a keyness analysis to get the most prominent keywords in both corpuses. From these keywords, I will then proceed to do a keyword in context analysis to get the topics that both corpuses are rapping about and analyze if they are similar or different."
   ]
  },
  {
   "cell_type": "markdown",
   "metadata": {},
   "source": [
    "## Creating the Token List"
   ]
  },
  {
   "cell_type": "markdown",
   "metadata": {},
   "source": [
    "<img src=\"images/tokenized_list_keyness.PNG\"/>"
   ]
  },
  {
   "cell_type": "markdown",
   "metadata": {},
   "source": [
    "## Keyness of Quadeca's Music Compared to Billboard Rap Music"
   ]
  },
  {
   "cell_type": "markdown",
   "metadata": {},
   "source": [
    "<img src=\"images/keyness_quad.PNG\"/>"
   ]
  },
  {
   "cell_type": "markdown",
   "metadata": {},
   "source": [
    "### Observations from Keyness of Quadeca's Music Compared to Billboard Rap Music"
   ]
  },
  {
   "cell_type": "markdown",
   "metadata": {},
   "source": [
    "Words that are more likely to occur in Quadeca's Corpus than the Billboard Rap Music Corpus are:\n",
    "* `huh, uh, they, until, work, think, nothing, myself, usual, uhhuh, but, looking, again, woke, away, fuckin, matter, kid, days, been, ive, life, hahaha, motherfuckin, i, okay, wrong, were, to, feelin, same, yeah, feel, own, still, dream, true, when, thank, all, line, youre, long, left, lookin, music, so, never, if, alone.` \n",
    "* There were more keywords that showed up in this corpus, but I decided to limit it at 50 because the list was pretty long.\n",
    "\n",
    "It appears that these keywords that seem to appear more frequently in this corpus are keywords that deal with life (`looking, life, feelin, feel, dream, lookin, alone, nothing`)"
   ]
  },
  {
   "cell_type": "markdown",
   "metadata": {},
   "source": [
    "## Keyness of Billboard Rap Music Compared to Quadeca's Music"
   ]
  },
  {
   "cell_type": "markdown",
   "metadata": {},
   "source": [
    "<img src=\"images/keyness_rap.PNG\"/>"
   ]
  },
  {
   "cell_type": "markdown",
   "metadata": {},
   "source": [
    "### Observations from Keyness of Billboard Rap Music Compared to Quadeca's Music"
   ]
  },
  {
   "cell_type": "markdown",
   "metadata": {},
   "source": [
    "Words that are more likely to occur in the Billboard Rap Music Corpus are:\n",
    "* `she, her, with, the n word, bitch, woo, down, money, got, walk, we, ass, you, bad, on, get, fuck, it, talk, give, ayy, big, him, around, let, gave, your, lot, he, good`.\n",
    "\n",
    "It appears that these keywords that seem to appear more frequently in this corpus are keywords that deal with materialistic items (`money, give, big`) and romantic/sexual relationships with females (`she, her, bitch, ass, bad, fuck`)."
   ]
  },
  {
   "cell_type": "markdown",
   "metadata": {},
   "source": [
    "## Conclusion from Keyness Analysis"
   ]
  },
  {
   "cell_type": "markdown",
   "metadata": {},
   "source": [
    "One thing to note is that the amount of keywords that are more likely to occur in Quadeca's corpus over the Billboard Rap Music corpus is much larger than it seems. I limited the size to 50, but the true size is about 100 keywords. This suggests that Quadeca's corpus is significantly more different than the Billboard Rap Music corpus. Once again, this also supports the previous findings that Quadeca uses a decent amount of unique 1-/2-/3-grams compared to those 1-/2-/3-grams that the Billboard Rap Music rappers tend to use. \n",
    "\n",
    "From the Quadeca Music corpus, I will select the following words to do further analysis:\n",
    "* `all, myself, woke, life, if` \n",
    "\n",
    "From the Billboard Rap Music corpus, I will select the following words to do further analysis:\n",
    "* `bitch, down, got, walk, you`"
   ]
  },
  {
   "cell_type": "markdown",
   "metadata": {},
   "source": [
    "---"
   ]
  },
  {
   "cell_type": "markdown",
   "metadata": {},
   "source": [
    "# Part 2c: KWIC Concordance Analysis\n",
    "Next, I will perform a keyword in context analysis to learn more about the context behind these keywords. The contexts will me determine what each corpus is rapping about and will give me insight to the similarities and differences."
   ]
  },
  {
   "cell_type": "markdown",
   "metadata": {},
   "source": [
    "## Quadeca's Music"
   ]
  },
  {
   "cell_type": "markdown",
   "metadata": {},
   "source": [
    "### Keyword: All"
   ]
  },
  {
   "cell_type": "markdown",
   "metadata": {},
   "source": [
    "<img src=\"images/kwic_con_all.PNG\"/>"
   ]
  },
  {
   "cell_type": "markdown",
   "metadata": {},
   "source": [
    "### Observation on: All\n",
    "The term `all` is being used to describe:\n",
    ">* a lot of events at once (ex: 1, 2)\n",
    ">* a lot of something or someone (ex: 8, 11)\n",
    "\n",
    "> From this random sample of the term `all`, it seems like Quadeca is going through a hard time. This can be seen in the lines `i feel i need to scream it all all cant even fall i cant leave it all` and `dont think i can cry no more no all of this red on my eyes looking like`. From these lines, it seems like Quadeca needs an escape, but there is nothing he can do. There are also references to a past relationship in the line `its you and me do you love me all you do you love me all you can`. In other uses of the word `all`, we see Quadeca noticing and address critics. We see this in the lines `me thats why i stay fire see huh all of these rappers they wanna be friends but`, `they knowin me so well i been catchin all the shade theyve been throwin im odell uh`, and `feel funny to me its all a game all these people just a number to me and`. Finally, Quadeca also uses the term `all` to brag about how much wealth he as such as in the line `from money huh ah ha i got it all in my bank huh i treat that shit`."
   ]
  },
  {
   "cell_type": "markdown",
   "metadata": {},
   "source": [
    "### Keyword: Myself"
   ]
  },
  {
   "cell_type": "markdown",
   "metadata": {},
   "source": [
    "<img src=\"images/kwic_con_myself.PNG\"/>"
   ]
  },
  {
   "cell_type": "markdown",
   "metadata": {},
   "source": [
    "### Observation on: Myself\n",
    "The term `myself` is being used to describe:\n",
    ">* talking about one's self, aka referring to the rapper (Quadeca) themself\n",
    "\n",
    ">From this random sample of the term `myself`, it seems like Quadeca is dealing with being in the public eye and the expectation of others. This can be seen in the lines `into mirros for hours until i cant recognize myself a dissonant reflection both a sober and a` and `at least fivethousand said that i should kill myself im a freak im too weak im a`. \n",
    "\n",
    ">In some instances of the term `myself`, we see Quadeca isolating himself from other people. In the lines `unimpressed uhhuh ooh i trust no one but myself he the only one that hasnt fuckin left` and `dont need no other people in my trio myself i and me though we know we dont`, it seems like the only person that Quadeca needs and the only person that will always be there for Quadeca is himself. This is emphasized in the line `league so fuck an industry plant ill plant myself in the industry in my own shoes i`. Here Quadeca states that he doesn't need a label to break into the industry and that he'll do it by himself, with his own resources. \n",
    "\n",
    ">Yet, there are also references where Quadeca doesn't even trust himself. In the line `in myself yeah shit i dont believe in myself so ill just keep to myself huh if` and `believe in god when i dont believe in myself yeah shit i dont believe in myself so`, we see Quadeca doubts himself sometimes. "
   ]
  },
  {
   "cell_type": "markdown",
   "metadata": {},
   "source": [
    "### Keyword: Woke"
   ]
  },
  {
   "cell_type": "markdown",
   "metadata": {},
   "source": [
    "<img src=\"images/kwic_con_woke.PNG\"/>"
   ]
  },
  {
   "cell_type": "markdown",
   "metadata": {},
   "source": [
    "### Observation on: Woke\n",
    "The term `woke` is being used to describe:\n",
    ">* to wake up from sleep\n",
    "\n",
    ">From this random sample of the term `woke`, it seems like Quadeca is dealing with going from the motions and potentially depression. This can be seen in the lines `ima hit you back another day yeah i woke up this mornin or should i say afternoon` and `is borin ima fuck up my attitude i woke up this evenin ima have to get back`. These lines can be interpreted either as Quadeca doesn't want to get up from bed as he has no motivation to go on with his day or that every part of the day (morning, afternoon, evening) are the same to him and as a result, he's burnt out from going through the motions. In other uses of the term `woke`, we see Quadeca reminiscing over a past relationship. This can be seen in the line `were just shades of us shades of us woke up on your side of the bed its`. Here Quadeca notes that towards the tail end of his relationship, they were just shades of their original love and now he's waking up on her side of the bed because she is no longer there to occupy it. "
   ]
  },
  {
   "cell_type": "markdown",
   "metadata": {},
   "source": [
    "### Keyword: Life"
   ]
  },
  {
   "cell_type": "markdown",
   "metadata": {},
   "source": [
    "<img src=\"images/kwic_con_life.PNG\"/>"
   ]
  },
  {
   "cell_type": "markdown",
   "metadata": {},
   "source": [
    "### Observation on: Life\n",
    "The term `life` is being used to describe:\n",
    ">* the condition of being alive and experiencing the world\n",
    "\n",
    "> From this random sample of the term `life`, it seems that Quadeca is talking about adapting to his new life due to his growth in popularity and the consequences that comes with it. This can be seen in the lines `my life is a highlight reel swear my life is a movie red dot on my forehead`, `for a new car looking for a new life new life looking out a new lens uh`, and `in you mm uh everything changed in my life now i got some adjustin to do uh`. In these lines, we can see that Quadeca compares his new life to a movie and as a result, he has a target on his head. This growth in popularity could be a double edge sword because now this perpetuates the need for him to prove himself yet again to the critics and he has to adjust to his new life through a new point of view.\n",
    "\n",
    ">In other uses of the word `life`, we can see more references to a past relationship. This can be seen in the lines `prove ayy ayy yeah oh we got different life plans i know oh tryna do what i`, `it work until it oh we got different life plans i know tryna do what i can`, and `falls through i want you back here of life will never be the same as last year`. We can see in these lines that Quadeca tried to make a relationship work, but in the end the two just had different life goals. It seems like Quadeca misses his ex-lover and wants her back, but the possibility of her coming back does not seem very likely.\n",
    "\n",
    ">Finally, some other uses of the term `life` are when Quadeca compares himself to other rappers. We can see this in the line `the wrong wrong life you in the wrong life bitch media painted the wrong light huh hard` and `life like a movie huh your life like a clip huh yeah hahahaha i do`. The first line can be interpreted as Quadeca saying that his life is superior and he's a better rapper and that other rappers who are worse than him made the wrong decision to be a rapper. The second line can be interpreted as Quadeca's career will be as long as a movie whereas other rappers' careers will be as long as a clip. In context, the length of a movie is significantly longer than the length of a clip, so Quadeca is saying that he'll have a long lasting career compared to some of these other rappers."
   ]
  },
  {
   "cell_type": "markdown",
   "metadata": {},
   "source": [
    "### Keyword: If"
   ]
  },
  {
   "cell_type": "markdown",
   "metadata": {},
   "source": [
    "<img src=\"images/kwic_con_if.PNG\"/>"
   ]
  },
  {
   "cell_type": "markdown",
   "metadata": {},
   "source": [
    "### Observation on: If\n",
    "The term `if` is being used to describe:\n",
    ">* an event or goal that could happen, but has not happened yet\n",
    ">* a part of a conditional clause \n",
    "\n",
    ">From this random sample of the term `if`, it seems that Quadeca is reflecting a lot about his current self and his past self. This can be seen in the lines `million sheep ill never be really complete even if i fill up an areana wit a million` and `these days something must be on my side if i lose at least ill tell them that i`. In the first line, we see that Quadeca says that he still wouldn't be happy even if he about to fill up arenas and perform for a million people. This just goes to show that fame and success is not the solution to everything. In the second line, it seems like Quadeca is noticing that he needs someone by his side. This could be in reference to a girlfriend or maybe just friends in general.\n",
    "\n",
    "> There are also other references to this existing theme of a past relationship. We can see this in the lines `exist if you remember me ill only exist if you remember me you are not in love` and `drift away youre a memory ill only exist if you remember me you remember me ill only exist if you`. Here, we can see that Quadeca's relationship is nothing but a memory and it seems like the relationship ended so poorly, that the two people don't exist to each other unless they are forced to remember the relationship. Another interpretation of this could be that Quadeca was so reliant on the relationship that since the relationship is over, his own existence and self-worth is in jeopardy."
   ]
  },
  {
   "cell_type": "markdown",
   "metadata": {},
   "source": [
    "### Overall Observation on Quadeca's Music"
   ]
  },
  {
   "cell_type": "markdown",
   "metadata": {},
   "source": [
    "After analyzing all the keywords in context concordances, it seems like the topics that Quadeca raps about in his later albums are:\n",
    "* depression\n",
    "* addressing critics and other rappers\n",
    "* dealing with being in the public eye, expectations, and growth\n",
    "* past relationship and love\n",
    "\n",
    "These topics are more or less the same from the first time that I did the KWIC with a different set of keywords. "
   ]
  },
  {
   "cell_type": "markdown",
   "metadata": {},
   "source": [
    "## Billboard Rap Music"
   ]
  },
  {
   "cell_type": "markdown",
   "metadata": {},
   "source": [
    "### Keyword: Bitch"
   ]
  },
  {
   "cell_type": "markdown",
   "metadata": {},
   "source": [
    "<img src=\"images/kwic_con_bitch.PNG\"/>"
   ]
  },
  {
   "cell_type": "markdown",
   "metadata": {},
   "source": [
    "### Observation on: Bitch\n",
    "The term `bitch` is being used to describe:\n",
    ">* a derogatory term used to describe a woman who the rapper may have a romantic and/or sexual relationship with (ex: 1, 2, 6)\n",
    ">* people who the rapper does not like (ex: 9, 15)\n",
    ">* a party setting (ex: 4)\n",
    "\n",
    "> From this random sample of the term `bitch`, it seems like mainstream rappers tend to talk about having sexual relationships with attractive women. This can be seen in the lines `ang or youre suwoop got a new orleans bitch and man that pussy voodoo and im that`, `big bands im thumbin shit ayy one bad bitch and she do what i say so yeah`, and `had a cop in it woo okay my bitch got good pussy fly her cross the country`. \n",
    "\n",
    "> In other uses of the term `bitch`, the mainstream rappers are usually calling out other rappers. This can be seen in the lines `i will pop on your pops your pops bitch i will pop on whoever brrr you know`, `for clout anything do anything for clout hey  bitch  watch your mouth watch it bitch stay in` and `my body cardi got your bitch on molly bitch you aint gang you lame bentley truck lane`"
   ]
  },
  {
   "cell_type": "markdown",
   "metadata": {},
   "source": [
    "### Keyword: Down"
   ]
  },
  {
   "cell_type": "markdown",
   "metadata": {},
   "source": [
    "<img src=\"images/kwic_con_down.PNG\"/>"
   ]
  },
  {
   "cell_type": "markdown",
   "metadata": {},
   "source": [
    "### Observation on: Down\n",
    "The term `down` is being used to describe:\n",
    ">* lowering the volume (ex: 1)\n",
    ">* disappointed someone (ex: 2)\n",
    ">* to stay in place (ex: 3, 4)\n",
    ">* adding valuable jewelery (ex: 5)\n",
    ">* in love (ex: 6)\n",
    ">* to destroy or to wear down (ex: 10)\n",
    ">* a hail of bullets (ex: 11)\n",
    ">* dressed (ex: 14)\n",
    ">* to release (ex: 15)\n",
    "\n",
    "> From this random sample of the term `down`, it seems like the mainstream rappers are talking about being in love with a woman. This can be seen in the lines `on mute woowoo hey ima bust her wrist down cause she cute ice ice fuck her on` and `want ya and i need ya and im down for you always kb do you love me`. \n",
    "\n",
    "> There also seems to be references where the mainstream rapper is talking about feeling sorry for disappoint someone. This can be seen in the lines `sorry that i let you down let you down all these voices in my head get lead`, `them out im sorry that i let you down lelelet you down yeah i guess im a`, and `never meant to let you down let you down woulda gave you anything woulda gave you everything`.\n",
    "\n",
    ">Finally, there also seemed to be references of mainstream rappers bragging about how much money they have based on their expensive designer clothes. This can be seen in the line `harleys and shit for real i be guccid down you wearing lacoste and shit ooh moncler yuh`."
   ]
  },
  {
   "cell_type": "markdown",
   "metadata": {},
   "source": [
    "### Keyword: Got"
   ]
  },
  {
   "cell_type": "markdown",
   "metadata": {},
   "source": [
    "<img src=\"images/kwic_con_got.PNG\"/>"
   ]
  },
  {
   "cell_type": "markdown",
   "metadata": {},
   "source": [
    "### Observation on: Got\n",
    "The term `got` is being used to describe:\n",
    ">* having or owning something (ex: 1)\n",
    ">* thinking about something (ex: 9)\n",
    "\n",
    ">From this random sample of the term `got`, it seems that mainstream rappers are talking about how much wealth they have. This can be seen in the lines `got big packs comin on the way i got big stacks comin out the safe i got`, ` ohoh i just bought a pair of rollies got one for my baby lil baby ohohh lil ` and `good day i feel like a child i got boogers in the face diamonds dancin in the`. There are also a lot of references to partying and getting 'lit'. These can be seen in the line `cop it all sippin my favorite alcohol alcohol got me so lit i need tylenol tylenol all`. Other references point to sexual references such as `got that wet wet got that drip drip got that super soaker hit that she a fefe` and `she wanna fuck with me but i dont got the time mmh mmh i just hopped off`. "
   ]
  },
  {
   "cell_type": "markdown",
   "metadata": {},
   "source": [
    "### Keyword: Walk"
   ]
  },
  {
   "cell_type": "markdown",
   "metadata": {},
   "source": [
    "<img src=\"images/kwic_con_walk.PNG\"/>"
   ]
  },
  {
   "cell_type": "markdown",
   "metadata": {},
   "source": [
    "### Observation on: Walk\n",
    "The term `walk` is being used to describe:\n",
    ">* to go around or to present one's self (ex: 1)\n",
    ">* to have a shoot out (ex: 3)\n",
    ">* to be capable of doing things that you say (ex: 6)\n",
    "\n",
    ">From this random sample of the term `walk`, we see that mainstream rappers are talking about being about to back up their claims via their accomplishments. This can be seen in the line `walk it like i talk it walk it  walk  it like i talk it hey walk it`. Also, we see that if some people cross the line with some of these mainstream rappers, then these rappers aren't afraid of getting personal and are will to have a gunfire with each other to settle beef. This can be seen in the line `em down walk em down walk em down  walk  em down walk em down walk em down` and `up yeah still doing drivebys but i wanna walk  em i wanna if i cant find em`."
   ]
  },
  {
   "cell_type": "markdown",
   "metadata": {},
   "source": [
    "### Keyword: You"
   ]
  },
  {
   "cell_type": "markdown",
   "metadata": {},
   "source": [
    "<img src=\"images/kwic_con_you.PNG\"/>"
   ]
  },
  {
   "cell_type": "markdown",
   "metadata": {},
   "source": [
    "### Observation on: You\n",
    "The term `you` is being used to describe:\n",
    ">* someone who you were in a romantic relationship with (ex: 1)\n",
    ">* the person listening to the track (ex: 3)\n",
    ">* other rappers (ex: 5)\n",
    "\n",
    "> From this random sample of the term `you`, it seems that mainstream rappers are talking about love and past relationships. This can be seen in the lines `my soul from me no way i gave you all my ecstasy i thought that you were` and `i guess you came through im running from  you  is your love for real for real for`. Other references to seem like mainstream rappers are referring to sexual acts. This can be seen in the line `was goin up and down like yoyo down you can say im greedy cause i always want` and `put you in the blender i could get you slushed haha i see the comments but really`. Here, rappers are comparing women performing sexual acts to yo-yos and rappers performing sexual acts to a blender and making things wet and slurry. Finally, it also seems like mainstream rappers are warning others not to mess with them or else they're going to retort. This can be seen in the line `not just a rapper you play with me you gon get stretched oohoh bring drake to the`. Here the rapper is saying that if you miss with him/her, then you'll hurt."
   ]
  },
  {
   "cell_type": "markdown",
   "metadata": {},
   "source": [
    "### Overall Observation on Billboard Rap Music\n",
    "After analyzing all the keywords in context concordances, it seems like the topics that mainstream rappers on the Billboard Top 50 Rap songs rap about are:\n",
    "* sexual relationships with females\n",
    "* calling out/warning other rappers to stay in their lane\n",
    "* love and romantic relationships\n",
    "* bragging about their wealth\n",
    "* violence\n",
    "* partying"
   ]
  },
  {
   "cell_type": "markdown",
   "metadata": {},
   "source": [
    "## Conclusion from KWIC Concordance Analysis "
   ]
  },
  {
   "cell_type": "markdown",
   "metadata": {},
   "source": [
    "After doing the keyness analysis and keyword in context concordance analysis for both Quadeca's later music and the Billboard Top 50 Rap Songs for 2018, 2019, and 2020, I found that there are very few overlappings themes between the two types of music.\n",
    "\n",
    "The themes that both corpuses share are the following:\n",
    "* love and romantic relationships\n",
    "\n",
    "There are a lot of differences in the topics that these two corpuses talk about:\n",
    "* Quadeca's music seems to deal with more personal and relatable issues such as dealing with depression, dealing with expectations, and dealing with criticism.\n",
    "* Mainstream rappers seem to be more out of touch and like to rap about their success and how they're better than you. They tend to rap about their wealth, having sexual relationships with females, violence, and partying. \n",
    "\n",
    "From this KWIC analysis, I think it is pretty clear that lyrics were not influenced by mainstream rap lyrics and topics nor does his lyrics reflect mainstream rap lyrics."
   ]
  },
  {
   "cell_type": "markdown",
   "metadata": {},
   "source": [
    "# Part 2d: Sentiment Analysis\n",
    "The last step to my analysis will be to perform a sentiment analysis. This will help me determine who negative or positive Quadeca's music is compared to the Billboard Rap Music."
   ]
  },
  {
   "cell_type": "markdown",
   "metadata": {},
   "source": [
    "## Sentiment Analysis of Both Corpuses"
   ]
  },
  {
   "cell_type": "markdown",
   "metadata": {},
   "source": [
    "### Quadeca's Music"
   ]
  },
  {
   "cell_type": "markdown",
   "metadata": {},
   "source": [
    "<img src=\"images/quad_vps.PNG\"/>"
   ]
  },
  {
   "cell_type": "markdown",
   "metadata": {},
   "source": [
    "### Overall Observations from Quadeca's Music"
   ]
  },
  {
   "cell_type": "markdown",
   "metadata": {},
   "source": [
    "According to the vader polarity scores, there are a total of 19 positive songs, 12 negative songs, and 0 neutral songs. This means that there are 61.29% positive songs, 38.71% negative songs, and 0.00% neutral songs. The overall corpus has a vader polarity score of 0.200 and since this is greater than or equal to 0.05, that means that the overall corpus is a positive corpus. However, since this number is closer to 0.00, that means that the corpus is only slightly positive.\n",
    "\n",
    "Another thing to note is that this polarity score dropped from the previous calculate polarity score to 0.237 to the new polarity score of 0.200. This is probably due to the fact that the new polarity score is calculated across the entirety of Quadeca's later albums rather than doing each album individually. Although there is a drop in polarity score, the polarity score is still in the same range. "
   ]
  },
  {
   "cell_type": "markdown",
   "metadata": {},
   "source": [
    "### Billboard Rap Music"
   ]
  },
  {
   "cell_type": "markdown",
   "metadata": {},
   "source": [
    "<img src=\"images/rap_vps.PNG\"/>"
   ]
  },
  {
   "cell_type": "markdown",
   "metadata": {},
   "source": [
    "### Overall Observations from Billboard Rap Music"
   ]
  },
  {
   "cell_type": "markdown",
   "metadata": {},
   "source": [
    "According to the vader polarity scores, there are a total of 60 positive songs, 89 negative songs, and 1 neutral song. This means that there are 40.00% positive songs, 59.33% negative songs, and 0.66% neutral songs. The overall corpus has a vader polarity score of -0.226 and since this is less than or equal to -0.05, this means that the overall corpus is a negative corpus. However, since the number is closer to 0.00, this means that the corpus is only slightly negative."
   ]
  },
  {
   "cell_type": "markdown",
   "metadata": {},
   "source": [
    "## Conclusion from Sentiment Analysis"
   ]
  },
  {
   "cell_type": "markdown",
   "metadata": {},
   "source": [
    "After conducting a sentiment analysis across both corpuses, I found that the sentiment scores between Quadeca's music and the Billboard Rap music is fairly different. In fact, the sentiment scores of the two corpuses are nearly an absolute value away from each other. Quadeca's music was found to have a slightly positive sentiment with an average polarity score of 0.200, while the Billboard Rap music was found to have a slightly negative sentiment with an average polarity score of -0.226.\n",
    "\n",
    "This further shows that Quadeca's music was not influenced by the mainstream rap music nor does it reflect the same sentiment as the mainstream rap music.\n",
    "\n",
    "Although, I am surprised to see that the overall sentiment score of the mainstream rap music was negative. From the topics that I discovered through the KWIC analysis, I thought that the mainstream rap music would have a more positive trend and ironically, I originally thought that Quadeca's music was going to have a more negative trend."
   ]
  },
  {
   "cell_type": "markdown",
   "metadata": {},
   "source": [
    "# Conclusion to Part 2"
   ]
  },
  {
   "cell_type": "markdown",
   "metadata": {},
   "source": []
  },
  {
   "cell_type": "markdown",
   "metadata": {},
   "source": [
    "# Final Conclusion and Overall Findings"
   ]
  },
  {
   "cell_type": "code",
   "execution_count": null,
   "metadata": {},
   "outputs": [],
   "source": []
  }
 ],
 "metadata": {
  "kernelspec": {
   "display_name": "Python 3",
   "language": "python",
   "name": "python3"
  },
  "language_info": {
   "codemirror_mode": {
    "name": "ipython",
    "version": 3
   },
   "file_extension": ".py",
   "mimetype": "text/x-python",
   "name": "python",
   "nbconvert_exporter": "python",
   "pygments_lexer": "ipython3",
   "version": "3.7.3"
  }
 },
 "nbformat": 4,
 "nbformat_minor": 2
}

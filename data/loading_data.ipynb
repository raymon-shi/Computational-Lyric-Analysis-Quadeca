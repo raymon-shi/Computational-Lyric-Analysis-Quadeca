{
 "cells": [
  {
   "cell_type": "markdown",
   "metadata": {},
   "source": [
    "# Loading Data"
   ]
  },
  {
   "cell_type": "markdown",
   "metadata": {},
   "source": [
    "## Setup"
   ]
  },
  {
   "cell_type": "code",
   "execution_count": 1,
   "metadata": {},
   "outputs": [],
   "source": [
    "import os\n",
    "import json\n",
    "import lyricsgenius\n",
    "import requests\n",
    "from bs4 import BeautifulSoup\n",
    "import datetime"
   ]
  },
  {
   "cell_type": "code",
   "execution_count": 18,
   "metadata": {},
   "outputs": [],
   "source": [
    "#other notebooks to be ran\n",
    "%run ../data_analysis/functions.ipynb"
   ]
  },
  {
   "cell_type": "code",
   "execution_count": 19,
   "metadata": {},
   "outputs": [
    {
     "name": "stdout",
     "output_type": "stream",
     "text": [
      "/Commjhub/jupyterhub/comm318_fall2019/raymon-shi/comm313_S21/comm313_S21_Final_Project/data\n",
      "folders already exists\n"
     ]
    }
   ],
   "source": [
    "original_directory = os.getcwd()\n",
    "print(original_directory)\n",
    "\n",
    "if not os.path.exists('data'):\n",
    "    os.makedirs('data')\n",
    "    os.makedirs('data/before_insecure_albs')\n",
    "    os.makedirs('data/after_insecure_albs')\n",
    "    os.makedirs('data/mainstream_rap_bbt50')\n",
    "    print('folders were made')\n",
    "else:\n",
    "    print('folders already exists')"
   ]
  },
  {
   "cell_type": "code",
   "execution_count": 16,
   "metadata": {},
   "outputs": [],
   "source": [
    "MY_CLIENT_ACCESS_TOKEN='S42x6yFs8zdwY7Jm8IUHJX1IVyIuCOJQHWe8k1v79wFSTOczdI1-wuljgCv_dloj'\n",
    "genius = lyricsgenius.Genius(MY_CLIENT_ACCESS_TOKEN, timeout=15, remove_section_headers=True)\n",
    "\n",
    "before_insecure_albs = [\"Work in Progress\", \"Nostalgia for the Now\", \"Bad Internet Rapper\", \"Out of Order\"]\n",
    "after_insecure_albs = [\"Voice Memos\", \"From Me To You\"]"
   ]
  },
  {
   "cell_type": "code",
   "execution_count": 5,
   "metadata": {},
   "outputs": [
    {
     "name": "stdout",
     "output_type": "stream",
     "text": [
      "Searching for \"Work in Progress\" by Quadeca...\n",
      "Wrote 2015 9 16 Work in Progress.json.\n",
      "This album has been successfully loaded: Work in Progress\n",
      "Searching for \"Nostalgia for the Now\" by Quadeca...\n",
      "Wrote 2016 5 11 Nostalgia for the Now.json.\n",
      "This album has been successfully loaded: Nostalgia for the Now\n",
      "Searching for \"Bad Internet Rapper\" by Quadeca...\n",
      "Wrote 2017 1 31 Bad Internet Rapper.json.\n",
      "This album has been successfully loaded: Bad Internet Rapper\n",
      "Searching for \"Out of Order\" by Quadeca...\n",
      "Wrote 2017 11 10 Out of Order.json.\n",
      "This album has been successfully loaded: Out of Order\n",
      "Searching for \"Voice Memos\" by Quadeca...\n",
      "Wrote 2019 3 8 Voice Memos.json.\n",
      "This album has been successfully loaded: Voice Memos\n",
      "Searching for \"From Me To You\" by Quadeca...\n",
      "Wrote 2021 3 30 From Me To You.json.\n",
      "This album has been successfully loaded: From Me To You\n"
     ]
    }
   ],
   "source": [
    "# created json files for all albums\n",
    "load_album_json(before_insecure_albs, \"Quadeca\", 'data/before_insecure_albs', original_directory)\n",
    "load_album_json(after_insecure_albs, \"Quadeca\", 'data/after_insecure_albs', original_directory)"
   ]
  },
  {
   "cell_type": "code",
   "execution_count": 9,
   "metadata": {},
   "outputs": [
    {
     "name": "stdout",
     "output_type": "stream",
     "text": [
      "This function is done! 2018_top50_chart_data.json was made\n",
      "This function is done! 2019_top50_chart_data.json was made\n",
      "This function is done! 2020_top50_chart_data.json was made\n"
     ]
    }
   ],
   "source": [
    "# create json files for all charts from 2018 to 2020\n",
    "load_rap_bbt50_json('2018')\n",
    "load_rap_bbt50_json('2019')\n",
    "load_rap_bbt50_json('2020')"
   ]
  },
  {
   "cell_type": "code",
   "execution_count": 10,
   "metadata": {},
   "outputs": [
    {
     "name": "stdout",
     "output_type": "stream",
     "text": [
      "['2015 9 16 Work in Progress.json', '2016 5 11 Nostalgia for the Now.json', '2017 1 31 Bad Internet Rapper.json', '2017 11 10 Out of Order.json'] \n",
      "\n",
      "This is the name of the file in before: 2015 9 16 Work in Progress.json\n",
      "This is the name of the file in before: 2016 5 11 Nostalgia for the Now.json\n",
      "This is the name of the file in before: 2017 1 31 Bad Internet Rapper.json\n",
      "This is the name of the file in before: 2017 11 10 Out of Order.json\n"
     ]
    }
   ],
   "source": [
    "# the list of directories under the before_insecure_albs folder\n",
    "print(os.listdir('data/before_insecure_albs'), '\\n')\n",
    "\n",
    "for album_json in os.listdir('data/before_insecure_albs'):\n",
    "    print(\"This is the name of the file in before:\", album_json)\n",
    "    "
   ]
  },
  {
   "cell_type": "code",
   "execution_count": 11,
   "metadata": {},
   "outputs": [
    {
     "name": "stdout",
     "output_type": "stream",
     "text": [
      "['2019 3 8 Voice Memos.json', '2021 3 30 From Me To You.json'] \n",
      "\n",
      "This is the name of the file in after: 2019 3 8 Voice Memos.json\n",
      "This is the name of the file in after: 2021 3 30 From Me To You.json\n"
     ]
    }
   ],
   "source": [
    "# the list of directories under the after_insecure_albs_folder\n",
    "print(os.listdir('data/after_insecure_albs'), '\\n')\n",
    "\n",
    "for album_json in os.listdir('data/after_insecure_albs'):\n",
    "    print(\"This is the name of the file in after:\", album_json)"
   ]
  },
  {
   "cell_type": "code",
   "execution_count": 13,
   "metadata": {},
   "outputs": [
    {
     "name": "stdout",
     "output_type": "stream",
     "text": [
      "['2018_top50_chart_data.json', '2019_top50_chart_data.json', '2020_top50_chart_data.json'] \n",
      "\n",
      "This is the name of the file in after: 2018_top50_chart_data.json\n",
      "This is the name of the file in after: 2019_top50_chart_data.json\n",
      "This is the name of the file in after: 2020_top50_chart_data.json\n"
     ]
    }
   ],
   "source": [
    "# the list of directories under the mainstream_music_bbt100\n",
    "print(os.listdir('data/mainstream_rap_bbt50'), '\\n')\n",
    "\n",
    "for chart_json in os.listdir('data/mainstream_rap_bbt50'):\n",
    "    print(\"This is the name of the file in after:\", chart_json)"
   ]
  },
  {
   "cell_type": "code",
   "execution_count": null,
   "metadata": {},
   "outputs": [],
   "source": []
  }
 ],
 "metadata": {
  "kernelspec": {
   "display_name": "Python 3",
   "language": "python",
   "name": "python3"
  },
  "language_info": {
   "codemirror_mode": {
    "name": "ipython",
    "version": 3
   },
   "file_extension": ".py",
   "mimetype": "text/x-python",
   "name": "python",
   "nbconvert_exporter": "python",
   "pygments_lexer": "ipython3",
   "version": "3.7.3"
  }
 },
 "nbformat": 4,
 "nbformat_minor": 2
}

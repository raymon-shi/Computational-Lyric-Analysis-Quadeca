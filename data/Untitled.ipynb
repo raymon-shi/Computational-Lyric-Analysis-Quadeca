{
 "cells": [
  {
   "cell_type": "code",
   "execution_count": 33,
   "metadata": {},
   "outputs": [],
   "source": [
    "import requests\n",
    "from bs4 import BeautifulSoup\n",
    "import json"
   ]
  },
  {
   "cell_type": "code",
   "execution_count": 34,
   "metadata": {},
   "outputs": [],
   "source": [
    "def get_song_details(song_item):\n",
    "    \n",
    "    song = {}\n",
    "    \n",
    "    song['rank'] = song_item.find('div', class_=\"ye-chart-item__rank\").text.strip()\n",
    "    song['artist'] = song_item.find('div', class_=\"ye-chart-item__artist\").text.strip()\n",
    "    song['title'] = song_item.find('div', class_=\"ye-chart-item__title\").text.strip()\n",
    "    \n",
    "    return song"
   ]
  },
  {
   "cell_type": "code",
   "execution_count": 35,
   "metadata": {},
   "outputs": [],
   "source": [
    "url = 'https://www.billboard.com/charts/year-end/' + '2020' + '/hot-rap-songs'\n",
    "resp = requests.get(url)\n",
    "doc = BeautifulSoup(resp.text, 'html.parser')\n",
    "articles = doc.find_all('article', class_=\"ye-chart-item\")"
   ]
  },
  {
   "cell_type": "code",
   "execution_count": 36,
   "metadata": {},
   "outputs": [
    {
     "data": {
      "text/plain": [
       "50"
      ]
     },
     "execution_count": 36,
     "metadata": {},
     "output_type": "execute_result"
    }
   ],
   "source": [
    "len(articles)"
   ]
  },
  {
   "cell_type": "code",
   "execution_count": 37,
   "metadata": {},
   "outputs": [],
   "source": [
    "chart_list = list()\n",
    "for song in articles:\n",
    "    chart_list.append(get_song_details(song))"
   ]
  },
  {
   "cell_type": "code",
   "execution_count": 38,
   "metadata": {},
   "outputs": [],
   "source": [
    "year = '2020'\n",
    "int_year = int(year)\n",
    "fname = 'data/{}_top50_chart_data.json'.format(int_year)\n",
    "with open(fname, 'w', encoding='utf-8') as out:\n",
    "    out.write(json.dumps(chart_list, indent=4))"
   ]
  },
  {
   "cell_type": "code",
   "execution_count": null,
   "metadata": {},
   "outputs": [],
   "source": []
  },
  {
   "cell_type": "code",
   "execution_count": null,
   "metadata": {},
   "outputs": [],
   "source": []
  }
 ],
 "metadata": {
  "kernelspec": {
   "display_name": "Python 3",
   "language": "python",
   "name": "python3"
  },
  "language_info": {
   "codemirror_mode": {
    "name": "ipython",
    "version": 3
   },
   "file_extension": ".py",
   "mimetype": "text/x-python",
   "name": "python",
   "nbconvert_exporter": "python",
   "pygments_lexer": "ipython3",
   "version": "3.7.3"
  }
 },
 "nbformat": 4,
 "nbformat_minor": 2
}
